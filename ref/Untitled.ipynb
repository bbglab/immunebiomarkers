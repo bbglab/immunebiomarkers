{
 "cells": [
  {
   "cell_type": "code",
   "execution_count": null,
   "id": "0",
   "metadata": {},
   "outputs": [],
   "source": [
    "library(tidyverse)\n",
    "library(data.table)"
   ]
  },
  {
   "cell_type": "code",
   "execution_count": null,
   "id": "1",
   "metadata": {},
   "outputs": [],
   "source": [
    "wd <- dirname(getwd())"
   ]
  },
  {
   "cell_type": "code",
   "execution_count": null,
   "id": "2",
   "metadata": {},
   "outputs": [],
   "source": [
    "source(paste0(wd,\"/mission_control/treasure_map.R\"))"
   ]
  },
  {
   "cell_type": "code",
   "execution_count": null,
   "id": "3",
   "metadata": {},
   "outputs": [],
   "source": [
    "ls()"
   ]
  },
  {
   "cell_type": "markdown",
   "id": "4",
   "metadata": {},
   "source": [
    "### Table S2 255 genesets "
   ]
  },
  {
   "cell_type": "code",
   "execution_count": null,
   "id": "5",
   "metadata": {},
   "outputs": [],
   "source": [
    "#1_figures/figure2/figure2.ipynb:    \"geneset_filtered_filtered = data.table::fread(\\\"ref/Table_S2_255_genesets.csv\\\")\"\n",
    "#1_figures/figure3/figure3.ipynb:    \"geneset_filtered = data.table::fread(\\\"ref/Table_S2_255_genesets.csv\\\")  %>% \\n\",\n",
    "#1_figures/supplement/3_supplement_heatmaps.ipynb:    \"genesets = fread(\\\"ref/Table_S2_255_genesets.csv\\\")\"\n",
    "#1_figures/supplement/3e_supplement_scatter.ipynb:    \"geneset_filtered = data.table::fread(\\\"ref/Table_S2_255_genesets.csv\\\")\\n\","
   ]
  },
  {
   "cell_type": "code",
   "execution_count": null,
   "id": "6",
   "metadata": {},
   "outputs": [],
   "source": [
    "table_S2 <- data.table::fread(paste0(REF_DIR, \"Table_S2_255_genesets.csv\"))#[[1]] #%>% as.character()"
   ]
  },
  {
   "cell_type": "code",
   "execution_count": null,
   "id": "7",
   "metadata": {},
   "outputs": [],
   "source": [
    "tail(table_S2)"
   ]
  },
  {
   "cell_type": "markdown",
   "id": "8",
   "metadata": {},
   "source": [
    "#### Gene Sets Names only"
   ]
  },
  {
   "cell_type": "code",
   "execution_count": null,
   "id": "9",
   "metadata": {},
   "outputs": [],
   "source": [
    "#1_figures/supplement/3_supplement_heatmaps.ipynb:    \"geneset_names = fread(paste0(REF_DIR, \\\"CPI_genesets_namesonly.txt\\\"))\\n\","
   ]
  },
  {
   "cell_type": "code",
   "execution_count": null,
   "id": "10",
   "metadata": {},
   "outputs": [],
   "source": [
    "geneset_names = fread(paste0(REF_DIR, \"CPI_genesets_namesonly.txt\"))"
   ]
  },
  {
   "cell_type": "code",
   "execution_count": null,
   "id": "11",
   "metadata": {},
   "outputs": [],
   "source": [
    "dim(geneset_names)"
   ]
  },
  {
   "cell_type": "code",
   "execution_count": null,
   "id": "12",
   "metadata": {},
   "outputs": [],
   "source": [
    "table_S2 %>% inner_"
   ]
  },
  {
   "cell_type": "code",
   "execution_count": null,
   "id": "13",
   "metadata": {},
   "outputs": [],
   "source": [
    "geneset_names"
   ]
  },
  {
   "cell_type": "markdown",
   "id": "14",
   "metadata": {},
   "source": [
    "#### Gene Sets"
   ]
  },
  {
   "cell_type": "code",
   "execution_count": null,
   "id": "15",
   "metadata": {},
   "outputs": [],
   "source": [
    "#0_analyses/0_exhaustive/0_filters.ipynb:    \"vhio_keep <- c(unique(paste(\\\"isofox_\\\",unname(unlist(readRDS(paste0(REF_DIR, \\\"gene_sets.Rds\\\"))$vhio)))),'isofox_gene_set_vhio_prolif')\\n\",\n",
    "#1_figures/figure2/figure2.ipynb:    \"gsea_sets <- readRDS(paste0(REF_DIR,\\\"gene_sets.Rds\\\"))$gsea\\n\",\n",
    "#1_figures/figure2/figure2.ipynb:    \"cpi_gene_sets <- readRDS(paste0(REF_DIR,\\\"gene_sets.Rds\\\"))$cpi\\n\",\n",
    "#1_figures/figure3/figure3.ipynb:    \"gsea_sets <- readRDS(paste0(REF_DIR,\\\"gene_sets.Rds\\\"))$gsea\\n\",\n",
    "#1_figures/figure3/figure3.ipynb:    \"cpi_gene_sets <- readRDS(paste0(REF_DIR,\\\"gene_sets.Rds\\\"))$cpi\\n\",\n",
    "#1_figures/supplement/3e_supplement_scatter.ipynb:    \"gsea_sets <- readRDS(paste0(REF_DIR,\\\"gene_sets.Rds\\\"))$gsea\\n\",\n",
    "#1_figures/supplement/3e_supplement_scatter.ipynb:    \"cpi_gene_sets <- readRDS(paste0(REF_DIR,\\\"gene_sets.Rds\\\"))$cpi\"\n",
    "#1_figures/supplement/3e_supplement_scatter.ipynb:    \"gsea_sets <- readRDS(paste0(REF_DIR,\\\"gene_sets.Rds\\\"))$gsea\\n\",\n",
    "#1_figures/supplement/3e_supplement_scatter.ipynb:    \"cpi_gene_sets <- readRDS(paste0(REF_DIR,\\\"gene_sets.Rds\\\"))$cpi\\n\","
   ]
  },
  {
   "cell_type": "code",
   "execution_count": null,
   "id": "16",
   "metadata": {},
   "outputs": [],
   "source": [
    "genesets = readRDS(paste0(REF_DIR, \"gene_sets.Rds\"))"
   ]
  },
  {
   "cell_type": "code",
   "execution_count": null,
   "id": "17",
   "metadata": {},
   "outputs": [],
   "source": [
    "names(genesets)"
   ]
  },
  {
   "cell_type": "code",
   "execution_count": null,
   "id": "18",
   "metadata": {},
   "outputs": [],
   "source": [
    "#genesets$cpi"
   ]
  },
  {
   "cell_type": "code",
   "execution_count": null,
   "id": "19",
   "metadata": {},
   "outputs": [],
   "source": [
    "length(genesets$cpi)\n",
    "length(genesets$gsea)\n",
    "length(genesets$vhio)"
   ]
  },
  {
   "cell_type": "markdown",
   "id": "20",
   "metadata": {},
   "source": [
    "#### T-cell gene sets"
   ]
  },
  {
   "cell_type": "code",
   "execution_count": null,
   "id": "21",
   "metadata": {},
   "outputs": [],
   "source": [
    "### 1_figures/supplement/3e_supplement_scatter.ipynb:    \"tcell_sets = fread(\\\"ref/T_cell_genesets.csv\\\")\""
   ]
  },
  {
   "cell_type": "code",
   "execution_count": null,
   "id": "22",
   "metadata": {},
   "outputs": [],
   "source": [
    "T_cell_sets = data.table::fread(paste0(REF_DIR, \"T_cell_genesets.csv\"))[[1]] %>% as.character()"
   ]
  },
  {
   "cell_type": "code",
   "execution_count": null,
   "id": "23",
   "metadata": {},
   "outputs": [],
   "source": [
    "T_cell_sets"
   ]
  },
  {
   "cell_type": "markdown",
   "id": "24",
   "metadata": {},
   "source": [
    "#### T-cell features"
   ]
  },
  {
   "cell_type": "code",
   "execution_count": null,
   "id": "25",
   "metadata": {},
   "outputs": [],
   "source": [
    "# 1_figures/figure3/figure3.ipynb:    \"T_cell_features = data.table::fread(\\\"ref/features_Tcell.csv\\\")[[1]] %>% as.character()\"\n",
    "# 1_figures/supplement/3_supplement_heatmaps.ipynb:    \"tcell_genes = data.table::fread(\\\"ref//features_Tcell.csv\\\")[[1]]  %>% as.character()\\n\",\n",
    "# 1_figures/supplement/3e_supplement_scatter.ipynb:    \"T_cell_features = data.table::fread(\\\"ref/features_Tcell.csv\\\")[[1]] %>% as.character()\""
   ]
  },
  {
   "cell_type": "code",
   "execution_count": null,
   "id": "26",
   "metadata": {},
   "outputs": [],
   "source": [
    "T_cell_features = data.table::fread(paste0(REF_DIR, \"features_Tcell.csv\"))#[[1]] %>% as.character()"
   ]
  },
  {
   "cell_type": "code",
   "execution_count": null,
   "id": "27",
   "metadata": {},
   "outputs": [],
   "source": [
    "T_cell_features"
   ]
  }
 ],
 "metadata": {
  "kernelspec": {
   "display_name": "R",
   "language": "R",
   "name": "ir"
  },
  "language_info": {
   "codemirror_mode": "r",
   "file_extension": ".r",
   "mimetype": "text/x-r-source",
   "name": "R",
   "pygments_lexer": "r",
   "version": "3.6.1"
  }
 },
 "nbformat": 4,
 "nbformat_minor": 5
}
