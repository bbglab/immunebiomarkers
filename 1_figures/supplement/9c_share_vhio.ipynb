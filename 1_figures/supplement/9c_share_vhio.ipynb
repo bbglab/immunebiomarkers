{
 "cells": [
  {
   "cell_type": "code",
   "execution_count": 1,
   "id": "e494da1d",
   "metadata": {},
   "outputs": [],
   "source": [
    "wd <- dirname(dirname(getwd()))\n",
    "setwd(wd)"
   ]
  },
  {
   "cell_type": "code",
   "execution_count": 49,
   "id": "bd58dc33",
   "metadata": {},
   "outputs": [],
   "source": [
    "suppressMessages(library(tidyverse))\n",
    "suppressMessages(library(data.table))"
   ]
  },
  {
   "cell_type": "code",
   "execution_count": 3,
   "id": "520509a1",
   "metadata": {},
   "outputs": [],
   "source": [
    "source(paste0(wd,\"/mission_control/treasure_map.R\"))"
   ]
  },
  {
   "cell_type": "code",
   "execution_count": 8,
   "id": "07825a04",
   "metadata": {},
   "outputs": [],
   "source": [
    "VHIO_DATA <- \"/workspace/projects/immune_biomarkers/repo/immune_biomarkers/external_data/val_hebron/\""
   ]
  },
  {
   "cell_type": "markdown",
   "id": "0b4a536e",
   "metadata": {},
   "source": [
    "#### 0 - Read data sets for sharing"
   ]
  },
  {
   "cell_type": "code",
   "execution_count": 89,
   "id": "35f8bb2d",
   "metadata": {},
   "outputs": [],
   "source": [
    "clinical_ready <- readRDS(paste0(VHIO_DATA, \"clinical/clean/clinical_ready.Rds\")) "
   ]
  },
  {
   "cell_type": "code",
   "execution_count": 93,
   "id": "9ec18933",
   "metadata": {},
   "outputs": [],
   "source": [
    "extra_clinical <- clinical_ready %>% transmute(patient_id, clinical_age, clinical_sex = clinical_gender, clinical_biopsy_location, clinical_tumor_location, clinical_mechanism, clinical_recist)"
   ]
  },
  {
   "cell_type": "code",
   "execution_count": 66,
   "id": "8e9b6c46",
   "metadata": {},
   "outputs": [],
   "source": [
    "mini_share <- readRDS(paste0(VHIO_DATA, \"all_ready/vhio_ready.Rds\")) %>% select(-pdl1, -LAB.ID)"
   ]
  },
  {
   "cell_type": "code",
   "execution_count": 70,
   "id": "52d566ab",
   "metadata": {},
   "outputs": [],
   "source": [
    "rna_full <- \n",
    "readRDS(paste0(VHIO_DATA, \"rna/clean/rna_full.Rds\")) %>% \n",
    "  select(-LAB.ID, -Cohort, -BIOPSY, -Biopsy_date, -Comments)"
   ]
  },
  {
   "cell_type": "markdown",
   "id": "edb3b528",
   "metadata": {},
   "source": [
    "#### 1 - Share the data"
   ]
  },
  {
   "cell_type": "code",
   "execution_count": 94,
   "id": "26f90180",
   "metadata": {},
   "outputs": [],
   "source": [
    "full_share <- \n",
    "mini_share %>% \n",
    "  select(-tcell, -tgfb, -prolif) %>% \n",
    "  left_join(extra_clinical, by = \"patient_id\") %>% \n",
    "  left_join(rna_full, by = \"patient_id\")"
   ]
  },
  {
   "cell_type": "code",
   "execution_count": 95,
   "id": "1fa2ffab",
   "metadata": {},
   "outputs": [],
   "source": [
    "fwrite( full_share, paste0(VHIO_DATA, \"share/vhio_full_share.csv\" ))\n",
    "fwrite( mini_share, paste0(VHIO_DATA, \"share/vhio_mini_share.csv\" ))"
   ]
  }
 ],
 "metadata": {
  "kernelspec": {
   "display_name": "R",
   "language": "R",
   "name": "ir"
  },
  "language_info": {
   "codemirror_mode": "r",
   "file_extension": ".r",
   "mimetype": "text/x-r-source",
   "name": "R",
   "pygments_lexer": "r",
   "version": "3.6.1"
  }
 },
 "nbformat": 4,
 "nbformat_minor": 5
}
