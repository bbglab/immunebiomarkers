{
 "cells": [
  {
   "cell_type": "markdown",
   "id": "0",
   "metadata": {
    "tags": []
   },
   "source": [
    "# Potential supplementary Figure"
   ]
  },
  {
   "cell_type": "code",
   "execution_count": null,
   "id": "1",
   "metadata": {},
   "outputs": [],
   "source": [
    "wd = dirname(dirname(getwd()))\n",
    "#setwd(wd)"
   ]
  },
  {
   "cell_type": "code",
   "execution_count": null,
   "id": "2",
   "metadata": {},
   "outputs": [],
   "source": [
    "wd"
   ]
  },
  {
   "cell_type": "code",
   "execution_count": null,
   "id": "3",
   "metadata": {
    "tags": []
   },
   "outputs": [],
   "source": [
    "source(paste0(wd,\"/mission_control/treasure_map.R\"))\n",
    "source(paste0(wd,\"/mission_control/helpers/figures/exhaustive_plots.R\"))\n",
    "source(paste0(wd,\"/mission_control/helpers/figures/exhaustive_settings.R\"))\n",
    "source(paste0(wd,\"/mission_control/helpers/figures/themes.R\"))\n",
    "\n",
    "library(tidyverse)\n",
    "library(ggrepel)\n",
    "library(data.table)\n",
    "library(gridExtra)\n",
    "library(ggpubr)\n",
    "library(Hmisc)\n",
    "library(ggh4x)"
   ]
  },
  {
   "cell_type": "markdown",
   "id": "4",
   "metadata": {},
   "source": [
    "### Figure 2A"
   ]
  },
  {
   "cell_type": "code",
   "execution_count": null,
   "id": "5",
   "metadata": {
    "tags": []
   },
   "outputs": [],
   "source": [
    "ingredients <- readRDS(paste0(TMP_DIR,\"exhaustive-plots-base.Rds\"))\n",
    "threshold <- -log10(ingredients$by_05_fdr[1])"
   ]
  },
  {
   "cell_type": "code",
   "execution_count": null,
   "id": "6",
   "metadata": {},
   "outputs": [],
   "source": [
    "drop_features <- c(\"tcell\", \"tmb\", \"prolif\",\"tgfb\",\"pretreat\",\"pretreat_comp\",\"tissue\",\n",
    "                   \"tissue_full\",\"age\",\"biopsy\",\"purity\",\"pdl1\")"
   ]
  },
  {
   "cell_type": "code",
   "execution_count": null,
   "id": "7",
   "metadata": {
    "tags": []
   },
   "outputs": [],
   "source": [
    "# filter the systemic clinical composite part from the ingredients file\n",
    "ingredients = ingredients %>%\n",
    "    filter(!feature %in% drop_features)  %>% \n",
    "    filter(feature != \"clinical_systemic_composite\" & feature != \"pretreat\") %>% \n",
    "    filter(!grepl(\"cibersort\", feature)) %>% \n",
    "    mutate(big_group = case_when(big_group == \"CNV\" ~ \"CNV/SVs\",\n",
    "                                 big_group ==\"SVs\" ~ \"CNV/SVs\", .default = big_group))"
   ]
  },
  {
   "cell_type": "code",
   "execution_count": null,
   "id": "8",
   "metadata": {
    "tags": []
   },
   "outputs": [],
   "source": [
    "set.seed(12345) # set seed to keep the same 'random' order\n",
    "ingredients$pval_significance = ifelse(ingredients$p_val <= ingredients$by_05_fdr, \"sign\", \"non-sign\")\n",
    "ingredients =  ingredients[sample(nrow(ingredients)),]"
   ]
  },
  {
   "cell_type": "code",
   "execution_count": null,
   "id": "9",
   "metadata": {
    "tags": []
   },
   "outputs": [],
   "source": [
    "level = ingredients$big_group |> table() |> sort(decreasing = TRUE) |> names()\n",
    "order = order(factor(ingredients$big_group, levels = level)) # make a factor for ordering the data\n",
    "ingredients = ingredients[order, ]"
   ]
  },
  {
   "cell_type": "code",
   "execution_count": null,
   "id": "10",
   "metadata": {},
   "outputs": [],
   "source": [
    "# Read T-cell features\n",
    "T_cell_features = data.table::fread(\"ref/features_Tcell.csv\")[[1]] %>% as.character()"
   ]
  },
  {
   "cell_type": "code",
   "execution_count": null,
   "id": "11",
   "metadata": {},
   "outputs": [],
   "source": [
    "ingredients = ingredients  %>% \n",
    "    mutate(big_group2 = case_when(feature %in% T_cell_features ~ \"RNA: T-cell\",\n",
    "                                 .default = big_group))"
   ]
  },
  {
   "cell_type": "markdown",
   "id": "12",
   "metadata": {},
   "source": [
    "### Figure 2B\n",
    "Visualize clustering of co-correlating features using a correlation-heatmap"
   ]
  },
  {
   "cell_type": "code",
   "execution_count": null,
   "id": "13",
   "metadata": {
    "tags": []
   },
   "outputs": [],
   "source": [
    "ready <- readRDS(paste0(I_DIR, \"cpi_go.Rds\"))\n",
    "results <- readRDS(paste0(TMP_DIR,\"exhaustive-plots-base.Rds\"))\n",
    "cutoff <- results$by_05_fdr[1]"
   ]
  },
  {
   "cell_type": "code",
   "execution_count": null,
   "id": "14",
   "metadata": {
    "tags": []
   },
   "outputs": [],
   "source": [
    "# filter clinical features to have only a single result\n",
    "results = results %>% filter(feature != \"clinical_systemic_composite\")"
   ]
  },
  {
   "cell_type": "code",
   "execution_count": null,
   "id": "15",
   "metadata": {
    "tags": []
   },
   "outputs": [],
   "source": [
    "top_os_df <- results %>% \n",
    "    filter(model == \"os\", dataset == \"all\", covariates == \"age_biopsy_purity_tissue\") %>% \n",
    "    filter(!feature %in% drop_features) %>%\n",
    "    filter(!grepl(\"gene_set_\", feature)) %>%\n",
    "    filter(!grepl(\"cibersort\", feature)) %>%\n",
    "    filter(!grepl(\"clinical\", feature)) %>%\n",
    "    filter(!grepl(\"somatic\", feature)) %>%\n",
    "    filter(!feature %in% T_cell_features)  %>% \n",
    "    filter(p_val < cutoff)\n",
    "top_os_features = top_os_df  %>%  pull(feature)"
   ]
  },
  {
   "cell_type": "code",
   "execution_count": null,
   "id": "16",
   "metadata": {
    "tags": []
   },
   "outputs": [],
   "source": [
    "top_os_go <- ready %>% select(all_of(top_os_features)) %>% drop_na() \n",
    "cor_os_pval <- rcorr(as.matrix(top_os_go))\n",
    "cor_RNA = cor(as.matrix(top_os_go), use = \"pairwise.complete.obs\")\n",
    "colnames(cor_RNA) <- colnames(top_os_go)\n",
    "rownames(cor_RNA) <- colnames(top_os_go)"
   ]
  },
  {
   "cell_type": "code",
   "execution_count": null,
   "id": "17",
   "metadata": {},
   "outputs": [],
   "source": [
    "# Cluster RNA values to be able to split RNA features into a T-cell matrix and two outliers\n",
    "cor_tree = hclust(dist(1-abs(cor_RNA)), method = \"ward.D2\")\n",
    "# set names for the tree-clustering method:\n",
    "clusters = cutree(cor_tree, 3)\n",
    "clust = cor_tree"
   ]
  },
  {
   "cell_type": "code",
   "execution_count": null,
   "id": "18",
   "metadata": {},
   "outputs": [],
   "source": [
    "plot_data = cor_RNA %>% as.data.frame()  %>% \n",
    "    rownames_to_column(\"feature_x\")  %>% \n",
    "    pivot_longer(-feature_x, names_to = \"feature_y\")  %>% \n",
    "    mutate(feature_x = factor(feature_x, levels = colnames(cor_RNA)[rev(clust$order)]),\n",
    "           feature_y = factor(feature_y, levels = colnames(cor_RNA)[clust$order]))"
   ]
  },
  {
   "cell_type": "code",
   "execution_count": null,
   "id": "19",
   "metadata": {},
   "outputs": [],
   "source": [
    "# check the clustering of the different genes \n",
    "clusters2 = cutree(cor_tree, 2)\n",
    "clusters3 = cutree(cor_tree, 3)\n",
    "# cluster 2, remains stable when using either 2 or 3 subclusters\n",
    "\n",
    "# since the main cluster, split into 2 clusters: The main cluster and the smaller one\n",
    "cluster1_os = names(clusters2)[clusters2 == 1]\n",
    "cluster2_os = names(clusters2)[clusters2 == 2]"
   ]
  },
  {
   "cell_type": "markdown",
   "id": "20",
   "metadata": {},
   "source": [
    "### Figure 3C\n"
   ]
  },
  {
   "cell_type": "code",
   "execution_count": null,
   "id": "21",
   "metadata": {},
   "outputs": [],
   "source": [
    "gsea_sets <- readRDS(paste0(REF_DIR,\"gene_sets.Rds\"))$gsea\n",
    "cpi_gene_sets <- readRDS(paste0(REF_DIR,\"gene_sets.Rds\"))$cpi"
   ]
  },
  {
   "cell_type": "code",
   "execution_count": null,
   "id": "22",
   "metadata": {},
   "outputs": [],
   "source": [
    "# load gene sets\n",
    "gsea_sets <- readRDS(paste0(REF_DIR,\"gene_sets.Rds\"))$gsea\n",
    "cpi_gene_sets <- readRDS(paste0(REF_DIR,\"gene_sets.Rds\"))$cpi\n",
    "gsea_sets = gsea_sets[setdiff(names(gsea_sets), names(cpi_gene_sets))]\n",
    "gene_sets = c(gsea_sets, cpi_gene_sets) # combine the two geneset lists\n",
    "names(gene_sets) = gsub(\"gene_set_\", \"\", names(gene_sets))\n",
    "names(gene_sets) = gsub(\"gene_set_\", \"\", names(gene_sets))\n",
    "\n",
    "gene_sets = gene_sets[!grepl(\"battle_|tgfb_|vhio|08283|rand\", names(gene_sets))]\n",
    "\n",
    "geneset_filtered = data.table::fread(\"ref/Table_S2_255_genesets.csv\")\n",
    "\n",
    "# rename the geneset names\n",
    "names(gene_sets) = tolower(names(gene_sets))\n",
    "idx_mariathan = !names(gene_sets) %in% geneset_filtered$simplename\n",
    "names(gene_sets)[idx_mariathan] = paste0(\"m_\", names(gene_sets)[idx_mariathan])"
   ]
  },
  {
   "cell_type": "code",
   "execution_count": null,
   "id": "23",
   "metadata": {},
   "outputs": [],
   "source": [
    "top_genes <- ready %>% \n",
    "    select(all_of(cluster1_os))\n",
    "\n",
    "top_genes$cluster_mean = rowMeans(top_genes)\n",
    "cor_genes<-cor(top_genes, use=\"pairwise.complete.obs\")"
   ]
  },
  {
   "cell_type": "code",
   "execution_count": null,
   "id": "24",
   "metadata": {},
   "outputs": [],
   "source": [
    "gene_sets_expr <- ready %>% select(contains(\"gene_set_\"))\n",
    "colnames(gene_sets_expr) <- gsub(\"isofox_|gene_set_\", \"\", colnames(gene_sets_expr))\n",
    "colnames(gene_sets_expr) = gsub(\"mariathan_\", \"m_\", colnames(gene_sets_expr))\n",
    "colnames(gene_sets_expr) = tolower(colnames(gene_sets_expr))"
   ]
  },
  {
   "cell_type": "code",
   "execution_count": null,
   "id": "25",
   "metadata": {},
   "outputs": [],
   "source": [
    "top_genes_with_genesets = cbind(top_genes$cluster_mean, gene_sets_expr)\n",
    "colnames(top_genes_with_genesets)[1]<-\"Cluster_mean\""
   ]
  },
  {
   "cell_type": "code",
   "execution_count": null,
   "id": "26",
   "metadata": {},
   "outputs": [],
   "source": [
    "cor_to_cluster_mean <- data.frame(\"feature\" = colnames(top_genes_with_genesets), \n",
    "                                  \"Cor_with_cluster\" = cor(top_genes_with_genesets,top_genes_with_genesets$Cluster_mean,use=\"pairwise.complete.obs\")[,1])\n",
    "cor_to_cluster_mean = cor_to_cluster_mean |> mutate(feature = sub(\"isofox_|gene_set_\", \"\", feature))"
   ]
  },
  {
   "cell_type": "code",
   "execution_count": null,
   "id": "27",
   "metadata": {},
   "outputs": [],
   "source": [
    "os_set_result_geneset = results  %>% \n",
    "    filter(model == \"os\", dataset == \"all\", covariates == \"age_biopsy_purity_tissue\") %>%\n",
    "    filter(Group == \"Gene Set\") \n",
    "os_set_result_geneset$feature = gsub(\"isofox_|gene_set_\", \"\", os_set_result_geneset$feature)  %>% tolower()\n",
    "os_set_result_geneset$feature = gsub(\"mariathan_\", \"m_\", os_set_result_geneset$feature)"
   ]
  },
  {
   "cell_type": "code",
   "execution_count": null,
   "id": "28",
   "metadata": {},
   "outputs": [],
   "source": [
    "tcell_sets = fread(\"ref/T_cell_genesets.csv\")"
   ]
  },
  {
   "cell_type": "code",
   "execution_count": null,
   "id": "29",
   "metadata": {},
   "outputs": [],
   "source": [
    "result2 <- merge(cor_to_cluster_mean, os_set_result_geneset, by=\"feature\")  %>% \n",
    "    mutate(selected = case_when(Cor_with_cluster > 0.5 & log10_p > threshold ~ \"TGFB-correlated\",\n",
    "                                feature %in% tcell_sets$feature & log10_p > threshold ~ \"T-cell correlated\", \n",
    "                               .default = \"gene set\"))"
   ]
  },
  {
   "cell_type": "code",
   "execution_count": null,
   "id": "30",
   "metadata": {},
   "outputs": [],
   "source": [
    "result2$Short_name = geneset_filtered$Alias[match(result2$feature, geneset_filtered$simplename)]\n",
    "result2 = result2  %>% filter(!is.na(Short_name))"
   ]
  },
  {
   "cell_type": "code",
   "execution_count": null,
   "id": "31",
   "metadata": {},
   "outputs": [],
   "source": [
    "result_save = result2  %>% arrange(desc(Cor_with_cluster))  %>% \n",
    "    select(feature, contains(\"group\"), selected, Short_name, Cor_with_cluster, log10_p,  starts_with(\"cor\"))\n",
    "#readr::write_excel_csv(result_save, \"1_figures/revised_plots_Axel/Surival_all_cluster1.csv\")"
   ]
  },
  {
   "cell_type": "code",
   "execution_count": null,
   "id": "32",
   "metadata": {},
   "outputs": [],
   "source": [
    "fig3e <- ggplot(result2, aes(x = Cor_with_cluster, y = log10_p, fill = selected)) +\n",
    "    geom_point(size = 4, shape = 21, color = \"white\") +\n",
    "    theme_bw() +\n",
    "    scale_fill_manual(values=c(\"darkgrey\",\"#FB8072\", \"#BEBADA\")) +\n",
    "    geom_vline(xintercept = 0.5, linetype=\"dashed\", color = \"grey50\", linewidth =.7) +\n",
    "    geom_hline(yintercept = threshold, linetype=\"dashed\", color = \"grey50\", linewidth =.7) +\n",
    "    geom_text_repel(aes(label = if_else((Cor_with_cluster > 0.8 & log10_p > threshold), Short_name, \"\")), \n",
    "                    segment.alpha = 0.6, nudge_y = 1, nudge_x =-1,force = 30,\n",
    "                    min.segment.length = 0.3, box.padding = 0.2,\n",
    "                  size=3, col=\"grey20\" ,max.overlaps= Inf )+\n",
    "    cowplot::theme_cowplot() + \n",
    "    theme(legend.position=c(0.15, 0.2)) +\n",
    "    theme(axis.title=element_text(size=16), axis.text = element_text(size = 16)) +\n",
    "    scale_y_continuous(breaks = c(2,4,6,8), lim = c(0,10)) +\n",
    "    labs(x = \"Correlation gene sets with cluster Survival\", y =\"-Log10 (p-value) Overall Survival\", \n",
    "        title = paste0(\"N = \",nrow(result2), \"  genesets\"), fill = \"gene set\")\n",
    "\n",
    "fig3e\n",
    "ggsave(\"../../final_figures/3e_supplement_scatterplot.pdf\", fig3e, width = 5, height = 5)"
   ]
  }
 ],
 "metadata": {
  "kernelspec": {
   "display_name": "R",
   "language": "R",
   "name": "ir"
  },
  "toc-autonumbering": false,
  "toc-showcode": false,
  "toc-showmarkdowntxt": false
 },
 "nbformat": 4,
 "nbformat_minor": 5
}
