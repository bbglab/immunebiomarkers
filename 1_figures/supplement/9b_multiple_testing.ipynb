{
 "cells": [
  {
   "cell_type": "code",
   "execution_count": 1,
   "id": "e80d61d8",
   "metadata": {},
   "outputs": [
    {
     "name": "stderr",
     "output_type": "stream",
     "text": [
      "Registered S3 method overwritten by 'rvest':\n",
      "  method            from\n",
      "  read_xml.response xml2\n",
      "── Attaching packages ──────────────────────────────────────────────────────────────────────────────────────────────────────────────────────────────────────────────── tidyverse 1.2.1 ──\n",
      "✔ ggplot2 3.3.6     ✔ purrr   0.3.4\n",
      "✔ tibble  3.1.2     ✔ dplyr   1.0.6\n",
      "✔ tidyr   1.1.3     ✔ stringr 1.4.0\n",
      "✔ readr   1.3.1     ✔ forcats 0.5.1\n",
      "Warning message:\n",
      "“package ‘tibble’ was built under R version 3.6.3”Warning message:\n",
      "“package ‘tidyr’ was built under R version 3.6.3”Warning message:\n",
      "“package ‘purrr’ was built under R version 3.6.3”Warning message:\n",
      "“package ‘dplyr’ was built under R version 3.6.3”Warning message:\n",
      "“package ‘forcats’ was built under R version 3.6.3”── Conflicts ─────────────────────────────────────────────────────────────────────────────────────────────────────────────────────────────────────────────────── tidyverse_conflicts() ──\n",
      "✖ dplyr::filter() masks stats::filter()\n",
      "✖ dplyr::lag()    masks stats::lag()\n"
     ]
    }
   ],
   "source": [
    "wd <- dirname(dirname(getwd()))\n",
    "source(paste0(wd,\"/mission_control/treasure_map.R\"))\n",
    "library(tidyverse)"
   ]
  },
  {
   "cell_type": "markdown",
   "id": "5c6ed86a",
   "metadata": {},
   "source": [
    "### 0 - Read individual studies "
   ]
  },
  {
   "cell_type": "code",
   "execution_count": 55,
   "id": "382ff6a7",
   "metadata": {},
   "outputs": [],
   "source": [
    "ready <- readRDS(paste0(TMP_DIR,'exhaustive-plots-base.Rds'))"
   ]
  },
  {
   "cell_type": "markdown",
   "id": "dbff719f",
   "metadata": {},
   "source": [
    "### 1 - Summarise"
   ]
  },
  {
   "cell_type": "code",
   "execution_count": 79,
   "id": "327cc50c",
   "metadata": {},
   "outputs": [],
   "source": [
    "k <- .3"
   ]
  },
  {
   "cell_type": "code",
   "execution_count": 80,
   "id": "29102c24",
   "metadata": {},
   "outputs": [
    {
     "data": {
      "text/html": [
       "<table>\n",
       "<thead><tr><th scope=col>feature</th><th scope=col>est</th><th scope=col>p_val</th><th scope=col>cor_pretreat</th><th scope=col>cor_tmb</th><th scope=col>cor_tcell</th><th scope=col>cor_prolif</th><th scope=col>cor_tgfb</th><th scope=col>cor_purity</th><th scope=col>by_05_fdr</th></tr></thead>\n",
       "<tbody>\n",
       "\t<tr><td>isofox_BAIAP2         </td><td>-0.5402634            </td><td>3.848490e-05          </td><td>-0.07072406           </td><td>-0.002574333          </td><td>-0.15063613           </td><td>-0.05134054           </td><td>-0.11047526           </td><td> 0.07285417           </td><td>5.534163e-05          </td></tr>\n",
       "\t<tr><td>isofox_LATS2          </td><td>-0.6313075            </td><td>1.468607e-05          </td><td>-0.15024418           </td><td> 0.030620150          </td><td> 0.05548550           </td><td>-0.10944140           </td><td> 0.26614789           </td><td>-0.08569350           </td><td>5.534163e-05          </td></tr>\n",
       "\t<tr><td>somatic.gene_FCGR2B.mb</td><td> 0.4663670            </td><td>3.376074e-05          </td><td> 0.04563883           </td><td> 0.265085141          </td><td> 0.07489015           </td><td> 0.11523019           </td><td> 0.04141224           </td><td>-0.03183556           </td><td>5.534163e-05          </td></tr>\n",
       "</tbody>\n",
       "</table>\n"
      ],
      "text/latex": [
       "\\begin{tabular}{r|llllllllll}\n",
       " feature & est & p\\_val & cor\\_pretreat & cor\\_tmb & cor\\_tcell & cor\\_prolif & cor\\_tgfb & cor\\_purity & by\\_05\\_fdr\\\\\n",
       "\\hline\n",
       "\t isofox\\_BAIAP2          & -0.5402634               & 3.848490e-05             & -0.07072406              & -0.002574333             & -0.15063613              & -0.05134054              & -0.11047526              &  0.07285417              & 5.534163e-05            \\\\\n",
       "\t isofox\\_LATS2           & -0.6313075               & 1.468607e-05             & -0.15024418              &  0.030620150             &  0.05548550              & -0.10944140              &  0.26614789              & -0.08569350              & 5.534163e-05            \\\\\n",
       "\t somatic.gene\\_FCGR2B.mb &  0.4663670               & 3.376074e-05             &  0.04563883              &  0.265085141             &  0.07489015              &  0.11523019              &  0.04141224              & -0.03183556              & 5.534163e-05            \\\\\n",
       "\\end{tabular}\n"
      ],
      "text/markdown": [
       "\n",
       "| feature | est | p_val | cor_pretreat | cor_tmb | cor_tcell | cor_prolif | cor_tgfb | cor_purity | by_05_fdr |\n",
       "|---|---|---|---|---|---|---|---|---|---|\n",
       "| isofox_BAIAP2          | -0.5402634             | 3.848490e-05           | -0.07072406            | -0.002574333           | -0.15063613            | -0.05134054            | -0.11047526            |  0.07285417            | 5.534163e-05           |\n",
       "| isofox_LATS2           | -0.6313075             | 1.468607e-05           | -0.15024418            |  0.030620150           |  0.05548550            | -0.10944140            |  0.26614789            | -0.08569350            | 5.534163e-05           |\n",
       "| somatic.gene_FCGR2B.mb |  0.4663670             | 3.376074e-05           |  0.04563883            |  0.265085141           |  0.07489015            |  0.11523019            |  0.04141224            | -0.03183556            | 5.534163e-05           |\n",
       "\n"
      ],
      "text/plain": [
       "  feature                est        p_val        cor_pretreat cor_tmb     \n",
       "1 isofox_BAIAP2          -0.5402634 3.848490e-05 -0.07072406  -0.002574333\n",
       "2 isofox_LATS2           -0.6313075 1.468607e-05 -0.15024418   0.030620150\n",
       "3 somatic.gene_FCGR2B.mb  0.4663670 3.376074e-05  0.04563883   0.265085141\n",
       "  cor_tcell   cor_prolif  cor_tgfb    cor_purity  by_05_fdr   \n",
       "1 -0.15063613 -0.05134054 -0.11047526  0.07285417 5.534163e-05\n",
       "2  0.05548550 -0.10944140  0.26614789 -0.08569350 5.534163e-05\n",
       "3  0.07489015  0.11523019  0.04141224 -0.03183556 5.534163e-05"
      ]
     },
     "metadata": {},
     "output_type": "display_data"
    }
   ],
   "source": [
    "(ready %>% filter(model == \"bor\", covariates == \"age_biopsy_purity_tissue\", p_val < by_05_fdr, \n",
    "                 abs(cor_tcell) < k, abs(cor_tmb) < k, abs(cor_tgfb) < k, abs(cor_prolif) < k, abs(cor_pretreat) < k)\n",
    "      %>% select(feature, est, p_val, contains(\"cor\"), by_05_fdr))"
   ]
  },
  {
   "cell_type": "code",
   "execution_count": 56,
   "id": "2d5f5fdf",
   "metadata": {},
   "outputs": [],
   "source": [
    "go <- ready %>% select(dataset, Type, feature, covariates, model, p_val, contains(\"_05_\"))"
   ]
  },
  {
   "cell_type": "markdown",
   "id": "d2f43133",
   "metadata": {},
   "source": [
    "- Total counts"
   ]
  },
  {
   "cell_type": "code",
   "execution_count": 57,
   "id": "0f48f0b5",
   "metadata": {},
   "outputs": [],
   "source": [
    "see <- go %>% mutate(model2 = ifelse( model == \"os\" & covariates == \"residuals\", \"os_resid\", model))"
   ]
  },
  {
   "cell_type": "code",
   "execution_count": 37,
   "id": "1e22dcfd",
   "metadata": {},
   "outputs": [],
   "source": [
    "#head(go)"
   ]
  },
  {
   "cell_type": "code",
   "execution_count": 45,
   "id": "4cf7b577",
   "metadata": {},
   "outputs": [],
   "source": [
    "(\n",
    " go \n",
    "   %>% mutate(model = ifelse( model == \"os\" & covariates == \"residuals\", \"os_resid\", model))\n",
    "   %>% mutate(covariates = ifelse( model == \"os_resid\" & covariates == \"residuals\", \"age_biopsy_purity_tissue\", as.character(covariates)))\n",
    "   %>% filter(dataset == \"all\", covariates == \"age_biopsy_purity_tissue\")\n",
    "   %>% group_by(Type, model)\n",
    "   %>% mutate(ct = n(), \n",
    "                 bh = p_val < bh_05_fdr,\n",
    "                 by = p_val < by_05_fdr,\n",
    "                 bf = p_val < bf_05_fwe)\n",
    "   %>% group_by(Type, feature)\n",
    "   %>% summarise( bh = sum(bh) > 0, by = sum(by) > 0, bf = sum(bf) > 0)\n",
    "   %>% group_by(Type)\n",
    "   %>% summarise(ct = n(), \n",
    "                 bh = sum(bh), \n",
    "                 p_bh = round(100*sum(bh)/ct,1),\n",
    "                 by = sum(by), \n",
    "                 p_by = round(100*sum(by)/ct,1),\n",
    "                 bf = sum(bf),\n",
    "                 p_bf = round(100*sum(bf)/ct,1)) \n",
    ")"
   ]
  },
  {
   "cell_type": "code",
   "execution_count": 54,
   "id": "38166c97",
   "metadata": {},
   "outputs": [
    {
     "name": "stderr",
     "output_type": "stream",
     "text": [
      "`summarise()` has grouped output by 'Type'. You can override using the `.groups` argument.\n"
     ]
    },
    {
     "data": {
      "text/html": [
       "<table>\n",
       "<thead><tr><th scope=col>Type</th><th scope=col>ct</th><th scope=col>bh</th><th scope=col>p_bh</th><th scope=col>by</th><th scope=col>p_by</th><th scope=col>bf</th><th scope=col>p_bf</th></tr></thead>\n",
       "<tbody>\n",
       "\t<tr><td>Somatic           </td><td>16176             </td><td>9188              </td><td>56.8              </td><td>1932              </td><td>11.9              </td><td>16                </td><td>0.1               </td></tr>\n",
       "\t<tr><td>RNA: T-cell       </td><td>  519             </td><td> 297              </td><td>57.2              </td><td> 126              </td><td>24.3              </td><td>13                </td><td>2.5               </td></tr>\n",
       "\t<tr><td>RNA: TGFB         </td><td>  415             </td><td> 290              </td><td>69.9              </td><td>  97              </td><td>23.4              </td><td> 7                </td><td>1.7               </td></tr>\n",
       "\t<tr><td>RNA: Proliferation</td><td>  281             </td><td> 169              </td><td>60.1              </td><td>  34              </td><td>12.1              </td><td> 0                </td><td>0.0               </td></tr>\n",
       "\t<tr><td>RNA: Remaining    </td><td> 7972             </td><td> 563              </td><td> 7.1              </td><td>  36              </td><td> 0.5              </td><td> 1                </td><td>0.0               </td></tr>\n",
       "\t<tr><td>CNV/SVs           </td><td> 2500             </td><td>  28              </td><td> 1.1              </td><td>   0              </td><td> 0.0              </td><td> 0                </td><td>0.0               </td></tr>\n",
       "\t<tr><td>Clinical          </td><td>   38             </td><td>   9              </td><td>23.7              </td><td>   3              </td><td> 7.9              </td><td> 0                </td><td>0.0               </td></tr>\n",
       "\t<tr><td>HLA               </td><td>   22             </td><td>   2              </td><td> 9.1              </td><td>   0              </td><td> 0.0              </td><td> 0                </td><td>0.0               </td></tr>\n",
       "</tbody>\n",
       "</table>\n"
      ],
      "text/latex": [
       "\\begin{tabular}{r|llllllll}\n",
       " Type & ct & bh & p\\_bh & by & p\\_by & bf & p\\_bf\\\\\n",
       "\\hline\n",
       "\t Somatic            & 16176              & 9188               & 56.8               & 1932               & 11.9               & 16                 & 0.1               \\\\\n",
       "\t RNA: T-cell        &   519              &  297               & 57.2               &  126               & 24.3               & 13                 & 2.5               \\\\\n",
       "\t RNA: TGFB          &   415              &  290               & 69.9               &   97               & 23.4               &  7                 & 1.7               \\\\\n",
       "\t RNA: Proliferation &   281              &  169               & 60.1               &   34               & 12.1               &  0                 & 0.0               \\\\\n",
       "\t RNA: Remaining     &  7972              &  563               &  7.1               &   36               &  0.5               &  1                 & 0.0               \\\\\n",
       "\t CNV/SVs            &  2500              &   28               &  1.1               &    0               &  0.0               &  0                 & 0.0               \\\\\n",
       "\t Clinical           &    38              &    9               & 23.7               &    3               &  7.9               &  0                 & 0.0               \\\\\n",
       "\t HLA                &    22              &    2               &  9.1               &    0               &  0.0               &  0                 & 0.0               \\\\\n",
       "\\end{tabular}\n"
      ],
      "text/markdown": [
       "\n",
       "| Type | ct | bh | p_bh | by | p_by | bf | p_bf |\n",
       "|---|---|---|---|---|---|---|---|\n",
       "| Somatic            | 16176              | 9188               | 56.8               | 1932               | 11.9               | 16                 | 0.1                |\n",
       "| RNA: T-cell        |   519              |  297               | 57.2               |  126               | 24.3               | 13                 | 2.5                |\n",
       "| RNA: TGFB          |   415              |  290               | 69.9               |   97               | 23.4               |  7                 | 1.7                |\n",
       "| RNA: Proliferation |   281              |  169               | 60.1               |   34               | 12.1               |  0                 | 0.0                |\n",
       "| RNA: Remaining     |  7972              |  563               |  7.1               |   36               |  0.5               |  1                 | 0.0                |\n",
       "| CNV/SVs            |  2500              |   28               |  1.1               |    0               |  0.0               |  0                 | 0.0                |\n",
       "| Clinical           |    38              |    9               | 23.7               |    3               |  7.9               |  0                 | 0.0                |\n",
       "| HLA                |    22              |    2               |  9.1               |    0               |  0.0               |  0                 | 0.0                |\n",
       "\n"
      ],
      "text/plain": [
       "  Type               ct    bh   p_bh by   p_by bf p_bf\n",
       "1 Somatic            16176 9188 56.8 1932 11.9 16 0.1 \n",
       "2 RNA: T-cell          519  297 57.2  126 24.3 13 2.5 \n",
       "3 RNA: TGFB            415  290 69.9   97 23.4  7 1.7 \n",
       "4 RNA: Proliferation   281  169 60.1   34 12.1  0 0.0 \n",
       "5 RNA: Remaining      7972  563  7.1   36  0.5  1 0.0 \n",
       "6 CNV/SVs             2500   28  1.1    0  0.0  0 0.0 \n",
       "7 Clinical              38    9 23.7    3  7.9  0 0.0 \n",
       "8 HLA                   22    2  9.1    0  0.0  0 0.0 "
      ]
     },
     "metadata": {},
     "output_type": "display_data"
    }
   ],
   "source": [
    "(step1 \n",
    "    %>% group_by(Type, feature)\n",
    "    %>% summarise( bh = sum(bh) > 0, by = sum(by) > 0, bf = sum(bf) > 0)\n",
    "    %>% group_by(Type)\n",
    "    %>% summarise(ct = n(), \n",
    "                  bh = sum(bh), \n",
    "                  p_bh = round(100*sum(bh)/ct,1),\n",
    "                  by = sum(by), \n",
    "                  p_by = round(100*sum(by)/ct,1),\n",
    "                  bf = sum(bf),\n",
    "                  p_bf = round(100*sum(bf)/ct,1))\n",
    ")"
   ]
  }
 ],
 "metadata": {
  "kernelspec": {
   "display_name": "R",
   "language": "R",
   "name": "ir"
  },
  "language_info": {
   "codemirror_mode": "r",
   "file_extension": ".r",
   "mimetype": "text/x-r-source",
   "name": "R",
   "pygments_lexer": "r",
   "version": "3.6.1"
  }
 },
 "nbformat": 4,
 "nbformat_minor": 5
}
