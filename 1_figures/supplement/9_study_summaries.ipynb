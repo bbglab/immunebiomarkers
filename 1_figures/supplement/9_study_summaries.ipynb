{
 "cells": [
  {
   "cell_type": "code",
   "execution_count": 1,
   "id": "e80d61d8",
   "metadata": {},
   "outputs": [
    {
     "name": "stderr",
     "output_type": "stream",
     "text": [
      "Registered S3 method overwritten by 'rvest':\n",
      "  method            from\n",
      "  read_xml.response xml2\n",
      "── Attaching packages ──────────────────────────────────────────────────────────────────── tidyverse 1.2.1 ──\n",
      "✔ ggplot2 3.3.6     ✔ purrr   0.3.4\n",
      "✔ tibble  3.1.2     ✔ dplyr   1.0.6\n",
      "✔ tidyr   1.1.3     ✔ stringr 1.4.0\n",
      "✔ readr   1.3.1     ✔ forcats 0.5.1\n",
      "Warning message:\n",
      "“package ‘tibble’ was built under R version 3.6.3”Warning message:\n",
      "“package ‘tidyr’ was built under R version 3.6.3”Warning message:\n",
      "“package ‘purrr’ was built under R version 3.6.3”Warning message:\n",
      "“package ‘dplyr’ was built under R version 3.6.3”Warning message:\n",
      "“package ‘forcats’ was built under R version 3.6.3”── Conflicts ─────────────────────────────────────────────────────────────────────── tidyverse_conflicts() ──\n",
      "✖ dplyr::filter() masks stats::filter()\n",
      "✖ dplyr::lag()    masks stats::lag()\n"
     ]
    }
   ],
   "source": [
    "wd <- dirname(dirname(getwd()))\n",
    "source(paste0(wd,\"/mission_control/treasure_map.R\"))\n",
    "library(tidyverse)"
   ]
  },
  {
   "cell_type": "markdown",
   "id": "5c6ed86a",
   "metadata": {},
   "source": [
    "### 0 - Read individual studies "
   ]
  },
  {
   "cell_type": "code",
   "execution_count": 2,
   "id": "382ff6a7",
   "metadata": {},
   "outputs": [],
   "source": [
    "ready <- readRDS(paste0(TMP_DIR, \"validation-ready.Rds\"))"
   ]
  },
  {
   "cell_type": "markdown",
   "id": "dbff719f",
   "metadata": {},
   "source": [
    "### 1 - Summarise"
   ]
  },
  {
   "cell_type": "code",
   "execution_count": 4,
   "id": "8fcf10bc",
   "metadata": {},
   "outputs": [
    {
     "name": "stderr",
     "output_type": "stream",
     "text": [
      "Warning message in mean(as.numeric(age), na.rm = TRUE):\n",
      "“NAs introduced by coercion”Warning message in mean(as.numeric(age), na.rm = TRUE):\n",
      "“NAs introduced by coercion”Warning message in is.data.frame(x):\n",
      "“NAs introduced by coercion”Warning message in is.data.frame(x):\n",
      "“NAs introduced by coercion”`summarise()` has grouped output by 'Study', 'cohort'. You can override using the `.groups` argument.\n"
     ]
    }
   ],
   "source": [
    "summary_table_1 <- (\n",
    "  ready\n",
    "    %>% group_by(Study, cohort, tissue)\n",
    "    %>% summarise( tot = n(), \n",
    "                   age_mn = round(mean( as.numeric(age), na.rm = TRUE)),\n",
    "                   age_me = round(1.96*round(sd(as.numeric(age), na.rm = TRUE))/sqrt(tot), 1),\n",
    "                 bor_ct = sum(!is.na(bor)),\n",
    "                 responders_ct = sum(bor, na.rm = TRUE),\n",
    "                 non_responders_ct = bor_ct - responders_ct,\n",
    "                 os_ct = sum(!is.na(os) & os!= 0),\n",
    "                 tmb_ct = sum(!is.na(tmb)), \n",
    "                 rna_ct = sum(!is.na(tcell)), \n",
    "                 pretrt_ct = sum(!is.na(pretreat)),\n",
    "                 complete_genomic_data_ct = sum(!is.na(tmb) & !is.na(tcell) & !is.na(pretreat)),\n",
    "                 complete_data_ct = sum(!is.na(tmb) & !is.na(tcell) & !is.na(pretreat) & !is.na(bor)  & !is.na(os) & os != 0)\n",
    "))"
   ]
  },
  {
   "cell_type": "code",
   "execution_count": 11,
   "id": "925837d8",
   "metadata": {},
   "outputs": [
    {
     "data": {
      "text/html": [
       "1152"
      ],
      "text/latex": [
       "1152"
      ],
      "text/markdown": [
       "1152"
      ],
      "text/plain": [
       "[1] 1152"
      ]
     },
     "metadata": {},
     "output_type": "display_data"
    }
   ],
   "source": [
    "1491 - 339"
   ]
  },
  {
   "cell_type": "code",
   "execution_count": 12,
   "id": "bc1a1277",
   "metadata": {},
   "outputs": [
    {
     "data": {
      "text/html": [
       "<table>\n",
       "<thead><tr><th scope=col>Study == \"HMF-CPCT\"</th><th scope=col>sum(tot)</th><th scope=col>sum(bor_ct)</th><th scope=col>sum(os_ct)</th><th scope=col>sum(complete_genomic_data_ct)</th><th scope=col>sum(complete_data_ct)</th></tr></thead>\n",
       "<tbody>\n",
       "\t<tr><td>FALSE</td><td>1491 </td><td>1294 </td><td>1165 </td><td>339  </td><td>179  </td></tr>\n",
       "\t<tr><td> TRUE</td><td> 479 </td><td> 467 </td><td> 479 </td><td>396  </td><td>385  </td></tr>\n",
       "</tbody>\n",
       "</table>\n"
      ],
      "text/latex": [
       "\\begin{tabular}{r|llllll}\n",
       " Study == \"HMF-CPCT\" & sum(tot) & sum(bor\\_ct) & sum(os\\_ct) & sum(complete\\_genomic\\_data\\_ct) & sum(complete\\_data\\_ct)\\\\\n",
       "\\hline\n",
       "\t FALSE & 1491  & 1294  & 1165  & 339   & 179  \\\\\n",
       "\t  TRUE &  479  &  467  &  479  & 396   & 385  \\\\\n",
       "\\end{tabular}\n"
      ],
      "text/markdown": [
       "\n",
       "| Study == \"HMF-CPCT\" | sum(tot) | sum(bor_ct) | sum(os_ct) | sum(complete_genomic_data_ct) | sum(complete_data_ct) |\n",
       "|---|---|---|---|---|---|\n",
       "| FALSE | 1491  | 1294  | 1165  | 339   | 179   |\n",
       "|  TRUE |  479  |  467  |  479  | 396   | 385   |\n",
       "\n"
      ],
      "text/plain": [
       "  Study == \"HMF-CPCT\" sum(tot) sum(bor_ct) sum(os_ct)\n",
       "1 FALSE               1491     1294        1165      \n",
       "2  TRUE                479      467         479      \n",
       "  sum(complete_genomic_data_ct) sum(complete_data_ct)\n",
       "1 339                           179                  \n",
       "2 396                           385                  "
      ]
     },
     "metadata": {},
     "output_type": "display_data"
    }
   ],
   "source": [
    "summary_table_1 %>% group_by(Study == \"HMF-CPCT\") %>% summarise(sum(tot),\n",
    "                                                                sum(bor_ct),\n",
    "                                                                sum(os_ct),\n",
    "                                                                sum(complete_genomic_data_ct),\n",
    "                                                                sum(complete_data_ct)\n",
    "                                                               )"
   ]
  },
  {
   "cell_type": "code",
   "execution_count": 5,
   "id": "ed0540fb",
   "metadata": {},
   "outputs": [
    {
     "name": "stderr",
     "output_type": "stream",
     "text": [
      "Warning message in mean(as.numeric(age), na.rm = TRUE):\n",
      "“NAs introduced by coercion”Warning message in mean(as.numeric(age), na.rm = TRUE):\n",
      "“NAs introduced by coercion”Warning message in is.data.frame(x):\n",
      "“NAs introduced by coercion”Warning message in is.data.frame(x):\n",
      "“NAs introduced by coercion”`summarise()` has grouped output by 'Study'. You can override using the `.groups` argument.\n"
     ]
    }
   ],
   "source": [
    "summary_table_2 <- (\n",
    "  ready\n",
    "    %>% group_by(Study, cohort)\n",
    "    %>% summarise( tot = n(), \n",
    "                   age_mn = round(mean( as.numeric(age), na.rm = TRUE)),\n",
    "                   age_me = round(1.96*round(sd(as.numeric(age), na.rm = TRUE))/sqrt(tot), 1),\n",
    "                   bor_ct = sum(!is.na(bor)),\n",
    "                   responders_ct = sum(bor, na.rm = TRUE),\n",
    "                   non_responders_ct = bor_ct - responders_ct,\n",
    "                   os_ct = sum(!is.na(os) & os!= 0),\n",
    "                   tmb_ct = sum(!is.na(tmb)), \n",
    "                   rna_ct = sum(!is.na(tcell)), \n",
    "                   pretrt_ct = sum(!is.na(pretreat)),\n",
    "                   complete_data_ct = sum(!is.na(tmb) & !is.na(tcell) & !is.na(pretreat) & !is.na(bor)  & !is.na(os) & os != 0)\n",
    "))"
   ]
  },
  {
   "cell_type": "markdown",
   "id": "c8b2aa53",
   "metadata": {},
   "source": [
    "### 2 - Send them!"
   ]
  },
  {
   "cell_type": "code",
   "execution_count": 29,
   "id": "0b49c55a",
   "metadata": {},
   "outputs": [],
   "source": [
    "write.csv(summary_table_1, paste0(FIG_FINAL_DIR, \"9_study_summaries_table1.csv\"))\n",
    "write.csv(summary_table_2, paste0(FIG_FINAL_DIR, \"9_study_summaries_table2.csv\"))"
   ]
  }
 ],
 "metadata": {
  "kernelspec": {
   "display_name": "R",
   "language": "R",
   "name": "ir"
  },
  "language_info": {
   "codemirror_mode": "r",
   "file_extension": ".r",
   "mimetype": "text/x-r-source",
   "name": "R",
   "pygments_lexer": "r",
   "version": "3.6.1"
  }
 },
 "nbformat": 4,
 "nbformat_minor": 5
}
