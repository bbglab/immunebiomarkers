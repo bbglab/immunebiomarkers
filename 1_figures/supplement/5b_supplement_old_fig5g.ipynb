{
 "cells": [
  {
   "cell_type": "code",
   "execution_count": 1,
   "id": "f2065753",
   "metadata": {},
   "outputs": [
    {
     "name": "stderr",
     "output_type": "stream",
     "text": [
      "Registered S3 method overwritten by 'rvest':\n",
      "  method            from\n",
      "  read_xml.response xml2\n",
      "── Attaching packages ─────────────────────────────────────────────────────────────────────────────────────────────────────────────── tidyverse 1.2.1 ──\n",
      "✔ ggplot2 3.3.6     ✔ purrr   0.3.4\n",
      "✔ tibble  3.1.2     ✔ dplyr   1.0.6\n",
      "✔ tidyr   1.1.3     ✔ stringr 1.4.0\n",
      "✔ readr   1.3.1     ✔ forcats 0.5.1\n",
      "Warning message:\n",
      "“package ‘tibble’ was built under R version 3.6.3”Warning message:\n",
      "“package ‘tidyr’ was built under R version 3.6.3”Warning message:\n",
      "“package ‘purrr’ was built under R version 3.6.3”Warning message:\n",
      "“package ‘dplyr’ was built under R version 3.6.3”Warning message:\n",
      "“package ‘forcats’ was built under R version 3.6.3”── Conflicts ────────────────────────────────────────────────────────────────────────────────────────────────────────────────── tidyverse_conflicts() ──\n",
      "✖ dplyr::filter() masks stats::filter()\n",
      "✖ dplyr::lag()    masks stats::lag()\n",
      "\n",
      "Attaching package: ‘gridExtra’\n",
      "\n",
      "The following object is masked from ‘package:dplyr’:\n",
      "\n",
      "    combine\n",
      "\n"
     ]
    }
   ],
   "source": [
    "library(tidyverse)\n",
    "library(RColorBrewer)\n",
    "library(gridExtra)\n",
    "library(ggpubr)\n",
    "\n",
    "wd <- dirname(dirname(getwd()))\n",
    "source(paste0(wd,\"/mission_control/treasure_map.R\"))\n",
    "source(paste0(wd,\"/mission_control/helpers/xgboost/shapley_example.R\"))\n",
    "source(paste0(wd,\"/mission_control/helpers/figures/figure5_themes.R\"))"
   ]
  },
  {
   "cell_type": "markdown",
   "id": "e33eae47",
   "metadata": {},
   "source": [
    "### 0 - Read prepped validation data"
   ]
  },
  {
   "cell_type": "code",
   "execution_count": 2,
   "id": "a1284366",
   "metadata": {},
   "outputs": [],
   "source": [
    "validation_ready <- readRDS(paste0(TMP_DIR, \"validation-hmf-go.Rds\"))\n",
    "hmf_loo <- readRDS(paste0(TMP_DIR, \"validation-loo-cv.Rds\")) #%>% drop_na(tcell)\n",
    "start <- validation_ready %>% left_join(hmf_loo, by = \"patient_id\") %>% drop_na(pred_lr) %>% drop_na(tcell)"
   ]
  },
  {
   "cell_type": "markdown",
   "id": "6022b51f",
   "metadata": {},
   "source": [
    "#### Settings"
   ]
  },
  {
   "cell_type": "code",
   "execution_count": 3,
   "id": "d811a3f3",
   "metadata": {},
   "outputs": [],
   "source": [
    "color_map <- list(\n",
    "    \"Prior Systemic Therapy\" = '#FFFFB3',\n",
    "    \"TGFB\" = \"#BEBADA\",\n",
    "    \"Proliferation\" = \"#8DD3C7\",\n",
    "    \"T-cell\" = '#FB8072',\n",
    "    \"TMB\" = '#80B1D3'\n",
    ")\n",
    "base_theme <- theme_classic(base_size = 22) \n",
    "\n",
    "theme_shaps <- (\n",
    "   base_theme + \n",
    "   theme(axis.title.y=element_blank(), \n",
    "         legend.position = \"none\",\n",
    "         axis.text.y=element_blank(), \n",
    "         axis.ticks.y=element_blank(),\n",
    "         plot.title = element_text(hjust = 0.5, size = 22),\n",
    "         axis.text.x = element_text(size = 22), \n",
    "         plot.margin = unit(c(.5,.5,.5,.5), \"cm\")\n",
    "        )\n",
    ")\n",
    "theme_patient <- (\n",
    "    theme_shaps + \n",
    "    theme(plot.margin = unit(c(0,.5,0,.5), \"cm\"),\n",
    "          axis.title.x=element_blank())\n",
    ")\n",
    "\n",
    "theme_main <- (\n",
    "    base_theme + \n",
    "    theme( legend.position = \"none\", \n",
    "           plot.title = element_text(hjust = 0.5, size = 16),\n",
    "           plot.margin = unit(rep(.2,4), \"cm\"),\n",
    "           axis.ticks.x=element_blank()#,axis.title.x=element_blank()\n",
    ")\n",
    ")\n",
    "\n",
    "my_palette<-brewer.pal(6,\"RdYlGn\")[c(1,3,6)]"
   ]
  },
  {
   "cell_type": "markdown",
   "id": "778a4b1e",
   "metadata": {},
   "source": [
    "### 2 - curate data sets"
   ]
  },
  {
   "cell_type": "markdown",
   "id": "56d0a92e",
   "metadata": {},
   "source": [
    "- LR"
   ]
  },
  {
   "cell_type": "code",
   "execution_count": 4,
   "id": "35e993c7",
   "metadata": {},
   "outputs": [],
   "source": [
    "lr <- (\n",
    "    start\n",
    "        %>% rename( pred = pred_lr, dataset = tissue, tissue = tissue_full )\n",
    "        %>% select(\n",
    "                patient_id, \n",
    "                dataset,\n",
    "                tissue,\n",
    "                age, \n",
    "                gender, \n",
    "                contains(\"shap_lr\"),\n",
    "                #-shap_lr_pretreat,\n",
    "                -shap_lr_BIAS, \n",
    "                #-shap_lr_pdl1,\n",
    "                -shap_lr_purity, \n",
    "                pred, \n",
    "                bor,\n",
    "                os\n",
    "        )\n",
    "        %>% rename( \"T-cell\" = shap_lr_tcell, \"TMB\" = shap_lr_tmb, \"TGFB\" = shap_lr_tgfb, \n",
    "                    \"Proliferation\" = shap_lr_prolif, \"Prior Systemic Therapy\" = shap_lr_pretreat)\n",
    ")\n",
    "lr$model <- \"lr\"\n",
    "ready_lr <- (\n",
    "    lr \n",
    "        %>% gather(\"feature\", \n",
    "                   \"shap_feature\", \n",
    "                   \"TMB\", \n",
    "                   'T-cell', \n",
    "                   \"Proliferation\", \n",
    "                   'TGFB', \n",
    "                   'Prior Systemic Therapy'\n",
    "                  )\n",
    ")"
   ]
  },
  {
   "cell_type": "markdown",
   "id": "cf1ab4a9",
   "metadata": {},
   "source": [
    "- OS"
   ]
  },
  {
   "cell_type": "code",
   "execution_count": 5,
   "id": "fede9ea1",
   "metadata": {},
   "outputs": [],
   "source": [
    "os <- (\n",
    "    start\n",
    "        %>% rename( pred = pred_os, dataset = tissue, tissue = tissue_full )\n",
    "        %>% select(\n",
    "                patient_id, \n",
    "                dataset,\n",
    "                tissue,\n",
    "                age, \n",
    "                gender, \n",
    "                contains(\"shap_os\"), \n",
    "                #-shap_os_pretreat,\n",
    "                -shap_os_BIAS, \n",
    "                #-shap_os_pdl1,\n",
    "                -shap_os_purity,\n",
    "                pred, \n",
    "                bor,\n",
    "                os\n",
    "        )\n",
    "        %>% rename( \"T-cell\" = shap_os_tcell, \"TMB\" = shap_os_tmb, \"TGFB\" = shap_os_tgfb, \n",
    "                    \"Proliferation\" = shap_os_prolif, \"Prior Systemic Therapy\" = shap_os_pretreat)\n",
    ")\n",
    "os$model <- \"os\"\n",
    "ready_os <- (\n",
    "    os \n",
    "        %>% gather(\"feature\", \n",
    "                   \"shap_feature\", \n",
    "                   \"TMB\", \n",
    "                   'T-cell', \n",
    "                   \"Proliferation\", \n",
    "                   'TGFB', \n",
    "                   'Prior Systemic Therapy'\n",
    "                  )\n",
    ")"
   ]
  },
  {
   "cell_type": "code",
   "execution_count": 6,
   "id": "55bba7a7",
   "metadata": {},
   "outputs": [],
   "source": [
    "ready <- rbind(ready_lr, ready_os)\n",
    "\n",
    "ready$feature <- factor(\n",
    "    ready$feature,\n",
    "    levels = rev(c(\"T-cell\", \"TMB\", \"Prior Systemic Therapy\", \"TGFB\", \"Proliferation\"))\n",
    ")\n",
    "\n",
    "ready$col <- \"Medium\"\n",
    "ready$col <- ifelse(ready$pred < .1 & ready$model == \"lr\", \"Low\", ready$col)\n",
    "ready$col <- ifelse(ready$pred > .5 & ready$model == \"lr\", \"High\", ready$col)\n",
    "\n",
    "ready$col2 <- \"Medium\"\n",
    "ready$col2 <- ifelse(ready$pred < .5 & ready$model == \"os\", \"Low\", ready$col2)\n",
    "ready$col2 <- ifelse(ready$pred > 1.5 & ready$model == \"os\", \"High\", ready$col2)\n",
    "\n",
    "ready$more <- \"all\""
   ]
  },
  {
   "cell_type": "markdown",
   "id": "78928234",
   "metadata": {},
   "source": [
    "### 3 - Make plots\n",
    "- Shapley Values for Patient"
   ]
  },
  {
   "cell_type": "markdown",
   "id": "9d9369f8",
   "metadata": {},
   "source": [
    "#### Select Examples"
   ]
  },
  {
   "cell_type": "code",
   "execution_count": 7,
   "id": "01f0c3c4",
   "metadata": {},
   "outputs": [],
   "source": [
    "get_examples <- function( lr_low, lr_high, os_low, os_high){\n",
    "    (ready \n",
    "    %>% filter(model == \"os\", \n",
    "               patient_id %in% (\n",
    "                   ready \n",
    "                       %>% filter(model == \"lr\", feature == \"TMB\", pred > lr_low, pred < lr_high) \n",
    "                       %>% pull(patient_id)\n",
    "                ))\n",
    "    %>% filter( pred > os_low, pred < os_high, feature == \"TMB\" )\n",
    "    %>% arrange(pred)\n",
    "    )\n",
    "}"
   ]
  },
  {
   "cell_type": "code",
   "execution_count": 8,
   "id": "9f056593",
   "metadata": {},
   "outputs": [],
   "source": [
    "ll <- get_examples( lr_low = 0,lr_high = .1, os_low = 0, os_high = .5)\n",
    "lh <- get_examples( lr_low = 0,lr_high = .1, os_low = 3, os_high = 6)\n",
    "hh <- get_examples( lr_low = .65,lr_high = 1, os_low = 0, os_high = .5)\n",
    "mm <- get_examples( lr_low = .2,lr_high = .3, os_low = .7, os_high = 1)"
   ]
  },
  {
   "cell_type": "code",
   "execution_count": 9,
   "id": "9a6e8042",
   "metadata": {},
   "outputs": [],
   "source": [
    "#mm"
   ]
  },
  {
   "cell_type": "markdown",
   "id": "5d78cfbb",
   "metadata": {},
   "source": [
    "#### Shapley Example Plots"
   ]
  },
  {
   "cell_type": "code",
   "execution_count": 10,
   "id": "b47e3379",
   "metadata": {},
   "outputs": [],
   "source": [
    "examples <- list( \"ll\" = \"CPCT02140093\", \"lh\" = \"CPCT02010333\", \"hh\" = \"CPCT02020853\", \"mm\" = \"CPCT02020894\")"
   ]
  },
  {
   "cell_type": "markdown",
   "id": "510e1080",
   "metadata": {},
   "source": [
    "##### Main examples"
   ]
  },
  {
   "cell_type": "code",
   "execution_count": 11,
   "id": "79d40d4c",
   "metadata": {},
   "outputs": [
    {
     "name": "stdout",
     "output_type": "stream",
     "text": [
      "  dataset age gender bor  os\n",
      "1   other  68      0   0 266\n",
      "  dataset age gender bor os\n",
      "1    lung  48      1   0 49\n",
      "  dataset age gender bor   os\n",
      "1    skin  67      0   1 -655\n",
      "  dataset age gender bor  os\n",
      "1 bladder  58      1   0 274\n"
     ]
    }
   ],
   "source": [
    "pps <- list()\n",
    "for( i in names(examples)){\n",
    "    pps[[i]] <- as_ggplot(patient_plots( ready, examples[[i]] )) + theme(plot.margin = unit(c(8,0,0,0), \"cm\"))\n",
    "}"
   ]
  },
  {
   "cell_type": "markdown",
   "id": "de99ffe5",
   "metadata": {},
   "source": [
    "##### Main Plots"
   ]
  },
  {
   "cell_type": "code",
   "execution_count": 12,
   "id": "4439c979",
   "metadata": {},
   "outputs": [],
   "source": [
    "start$highlight <- ifelse( start$patient_id %in% unname(unlist(examples)), \"yes\", \"no\")"
   ]
  },
  {
   "cell_type": "code",
   "execution_count": 13,
   "id": "1e96e7a4",
   "metadata": {},
   "outputs": [],
   "source": [
    "main <- (\n",
    "    ggplot(data=start, aes(x=pred_lr, y=pred_os, fill = lr_gp, shape = os_gp, size = highlight, alpha = highlight)) \n",
    "    + geom_point(color = \"black\") \n",
    "    + theme_main\n",
    "    + scale_fill_manual(values = c('Low' = my_palette[1], 'Medium' = my_palette[2],'High' = my_palette[3]))\n",
    "    + scale_shape_manual(values = c(21,21,21))\n",
    "    + scale_size_manual(values = c(3,13))\n",
    "    + scale_alpha_manual(values = c(.4,1))\n",
    "    + labs( x = \"Probability of Response\", y = \"OS Hazard\", title = \"OS Hazard vs Probability of Response\")\n",
    "    + geom_vline(xintercept = .1,linetype = \"dotted\")\n",
    "    + geom_vline(xintercept = .5,linetype = \"dotted\")\n",
    "    + geom_hline(yintercept = .5,linetype = \"dotted\")\n",
    "    + geom_hline(yintercept = 1.5, linetype = \"dotted\")\n",
    "    + scale_x_continuous(breaks=c(.1,.5,1), lim = c(0,1.05), labels = scales::percent_format(scale = 100))\n",
    "    + scale_y_continuous(breaks=c(.5,1.5,3, 4.5,6,10), lim = c(0,6.5))\n",
    ")"
   ]
  },
  {
   "cell_type": "code",
   "execution_count": 14,
   "id": "12496155",
   "metadata": {},
   "outputs": [],
   "source": [
    "saveRDS( list(\"main\" = main, \"exs\" = pps), file = paste0(FIG_DIR, \"figure5_g.Rds\"))"
   ]
  }
 ],
 "metadata": {
  "kernelspec": {
   "display_name": "R",
   "language": "R",
   "name": "ir"
  },
  "language_info": {
   "codemirror_mode": "r",
   "file_extension": ".r",
   "mimetype": "text/x-r-source",
   "name": "R",
   "pygments_lexer": "r",
   "version": "3.6.1"
  }
 },
 "nbformat": 4,
 "nbformat_minor": 5
}
