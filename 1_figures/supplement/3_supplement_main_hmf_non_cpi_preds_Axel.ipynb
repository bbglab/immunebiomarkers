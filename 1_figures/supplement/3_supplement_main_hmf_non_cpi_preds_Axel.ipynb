{
 "cells": [
  {
   "cell_type": "code",
   "execution_count": 1,
   "id": "d97f160b",
   "metadata": {},
   "outputs": [],
   "source": [
    "options(repr.matrix.max.cols=50)"
   ]
  },
  {
   "cell_type": "code",
   "execution_count": 2,
   "id": "60bee4b2",
   "metadata": {},
   "outputs": [
    {
     "name": "stderr",
     "output_type": "stream",
     "text": [
      "Registered S3 method overwritten by 'rvest':\n",
      "  method            from\n",
      "  read_xml.response xml2\n",
      "── Attaching packages ────────────────────────────────────────────────────────────────────────────────────────────────────────────────────────────────── tidyverse 1.2.1 ──\n",
      "✔ tibble  3.1.2     ✔ purrr   0.3.4\n",
      "✔ tidyr   1.1.3     ✔ dplyr   1.0.6\n",
      "✔ readr   1.3.1     ✔ stringr 1.4.0\n",
      "✔ tibble  3.1.2     ✔ forcats 0.5.1\n",
      "Warning message:\n",
      "“package ‘tibble’ was built under R version 3.6.3”Warning message:\n",
      "“package ‘tidyr’ was built under R version 3.6.3”Warning message:\n",
      "“package ‘purrr’ was built under R version 3.6.3”Warning message:\n",
      "“package ‘dplyr’ was built under R version 3.6.3”Warning message:\n",
      "“package ‘forcats’ was built under R version 3.6.3”── Conflicts ───────────────────────────────────────────────────────────────────────────────────────────────────────────────────────────────────── tidyverse_conflicts() ──\n",
      "✖ dplyr::filter() masks stats::filter()\n",
      "✖ dplyr::lag()    masks stats::lag()\n",
      "\n",
      "Attaching package: ‘gridExtra’\n",
      "\n",
      "The following object is masked from ‘package:dplyr’:\n",
      "\n",
      "    combine\n",
      "\n"
     ]
    }
   ],
   "source": [
    "wd <- dirname(dirname(getwd()))\n",
    "source(paste0(wd,\"/mission_control/treasure_map.R\"))\n",
    "source(paste0(wd,\"/mission_control/helpers/figures/figure5_themes.R\"))\n",
    "\n",
    "library(tidyverse)\n",
    "library(gridExtra)\n",
    "library(ggpubr)\n",
    "library(patchwork)"
   ]
  },
  {
   "cell_type": "markdown",
   "id": "c5d117af",
   "metadata": {},
   "source": [
    "- Read the data"
   ]
  },
  {
   "cell_type": "code",
   "execution_count": 3,
   "id": "0f0e8589",
   "metadata": {},
   "outputs": [],
   "source": [
    "meta <- readRDS(paste0(TMP_DIR, \"validation-hmf-go.Rds\")) %>% drop_na(tcell) %>% select(patient_id, tissue_full) \n",
    "hmf <- readRDS(paste0(TMP_DIR, \"validation-loo-cv.Rds\"))\n",
    "non_hmf <- readRDS(paste0(TMP_DIR, \"validation-non-cpi.Rds\"))"
   ]
  },
  {
   "cell_type": "markdown",
   "id": "7cb4c5a8",
   "metadata": {},
   "source": [
    "- Let's go!"
   ]
  },
  {
   "cell_type": "code",
   "execution_count": 4,
   "id": "ae252ff2",
   "metadata": {},
   "outputs": [],
   "source": [
    "hmf_go <- ( meta \n",
    "      %>% inner_join( hmf, by = \"patient_id\")\n",
    "      %>% transmute( cpi = TRUE, lr_gp, tissue_full))\n",
    "go <- rbind( hmf_go, non_hmf %>% transmute(cpi, lr_gp, tissue_full))\n",
    "go <- go  %>% filter(tissue_full != \"lymphoid_tissue\")"
   ]
  },
  {
   "cell_type": "code",
   "execution_count": 5,
   "id": "e5fc7eac",
   "metadata": {},
   "outputs": [],
   "source": [
    "o_dir <- paste0(FIG_DIR ,\"supplement_main/\")"
   ]
  },
  {
   "cell_type": "code",
   "execution_count": 6,
   "id": "a9db7680",
   "metadata": {},
   "outputs": [],
   "source": [
    "namer <- function(i){str_to_title(paste0(strsplit(i, \"_\")[[1]], collapse = \" \"))}\n",
    "go$tissue_full <- unlist(lapply(as.character(go$tissue_full), function(i) namer(i)))\n",
    "go$tissue_full <- ifelse(go$cpi, paste0(\" \", go$tissue_full), go$tissue_full)"
   ]
  },
  {
   "cell_type": "code",
   "execution_count": 7,
   "id": "110db7b5",
   "metadata": {},
   "outputs": [],
   "source": [
    "base <- ( go \n",
    "    %>% group_by(tissue_full, cpi) \n",
    "    %>% mutate(ct = n())\n",
    "    %>% ungroup()\n",
    "    %>% mutate(tissue_gp = ifelse(ct < 15, \"Other\", tissue_full))\n",
    ")"
   ]
  },
  {
   "cell_type": "code",
   "execution_count": 8,
   "id": "e3a86047",
   "metadata": {},
   "outputs": [
    {
     "name": "stderr",
     "output_type": "stream",
     "text": [
      "`summarise()` has grouped output by 'tissue_gp', 'lr_gp'. You can override using the `.groups` argument.\n",
      "`summarise()` has grouped output by 'tissue_full', 'lr_gp'. You can override using the `.groups` argument.\n"
     ]
    }
   ],
   "source": [
    "top <- base %>%\n",
    "    group_by(tissue_gp, lr_gp, cpi) %>% \n",
    "    summarize(tot = n())\n",
    "bottom <- base %>% \n",
    "    filter(tissue_gp == \"Other\") %>%\n",
    "    group_by(tissue_full, lr_gp, cpi) %>% \n",
    "    summarize(tot = n())"
   ]
  },
  {
   "cell_type": "code",
   "execution_count": 9,
   "id": "4dfe6027",
   "metadata": {},
   "outputs": [],
   "source": [
    "top_counts = base  %>% group_by(tissue_gp)  %>% count(name = \"n_samples\")\n",
    "bottom_counts = base  %>% group_by(tissue_full)  %>% count(name = \"n_samples\")"
   ]
  },
  {
   "cell_type": "code",
   "execution_count": 10,
   "id": "9e4a8b04",
   "metadata": {},
   "outputs": [],
   "source": [
    "top = left_join(top, top_counts, by = \"tissue_gp\")\n",
    "bottom = left_join(bottom, bottom_counts, by = \"tissue_full\")"
   ]
  },
  {
   "cell_type": "markdown",
   "id": "081e078f",
   "metadata": {},
   "source": [
    "### Plots go"
   ]
  },
  {
   "cell_type": "code",
   "execution_count": 11,
   "id": "3c41782b",
   "metadata": {},
   "outputs": [],
   "source": [
    "top  = top  %>% \n",
    "    mutate(cpi_go = case_when(cpi ~ \"CPI\",\n",
    "                             !cpi & n_samples > 50 ~ \"Non-CPI (>50 samples)\", \n",
    "                             !cpi & n_samples < 50 ~ \"Non-CPI (<50 samples)\"))  %>% \n",
    "    mutate(cpi_go = factor(cpi_go, levels = c(\"CPI\", \"Non-CPI (>50 samples)\", \"Non-CPI (<50 samples)\")))\n",
    "top <- top %>% group_by(cpi) %>% arrange(tot)\n",
    "\n",
    "bottom$cpi_go <- ifelse(bottom$cpi, \"CPI\", \"Non-CPI\")\n",
    "bottom <- bottom %>% group_by(cpi) %>% arrange(tot)"
   ]
  },
  {
   "cell_type": "code",
   "execution_count": 12,
   "id": "cfb135e3",
   "metadata": {},
   "outputs": [],
   "source": [
    "idx_top <- top %>% arrange(tissue_gp) %>% group_by(tissue_gp) %>% summarise(ct = sum(tot)) %>% arrange(ct) %>% pull(tissue_gp)\n",
    "idx_bottom <- bottom %>% arrange(tissue_full) %>% group_by(tissue_full) %>% summarise(ct = sum(tot)) %>% arrange(ct) %>% pull(tissue_full)"
   ]
  },
  {
   "cell_type": "code",
   "execution_count": 13,
   "id": "a73bf549",
   "metadata": {},
   "outputs": [],
   "source": [
    "idx_top <- c(\"Other\", idx_top[-which(idx_top == \"Other\")])"
   ]
  },
  {
   "cell_type": "code",
   "execution_count": 14,
   "id": "72e49d96",
   "metadata": {},
   "outputs": [],
   "source": [
    "top <- top %>% \n",
    "    mutate(tissue_gp = factor(tissue_gp, levels = idx_top), tot_rnd = tot)"
   ]
  },
  {
   "cell_type": "code",
   "execution_count": 15,
   "id": "a9940863",
   "metadata": {},
   "outputs": [],
   "source": [
    "dist_plotter <- function(df, gp = \"tissue_gp\", title = \"Predicted CPI Response Groups\\nNumber of patients\") {\n",
    "    (\n",
    "    ggplot(data = df, aes_string(y= gp, x=\"tot\", fill = \"lr_gp\", label = \"tot_rnd\"), colour=\"black\", stat=\"identity\") \n",
    "    + geom_bar(stat=\"identity\", width=.9, position = 'stack', colour = \"black\", size = .1, alpha = 0.9) \n",
    "    + scale_fill_manual(values = c('Low' = my_palette[1],'Medium' = my_palette[2],'High' = my_palette[3]))    \n",
    "    + geom_text(size = 3.5, position = position_stack(vjust = .5))\n",
    "    + theme_classic()\n",
    "    + ggh4x::facet_grid2(cpi_go ~ ., scales = \"free\",  independent = \"x\", space = \"free_y\")\n",
    "    + labs(y = \"Primary Tissue\\n\", xlab = NULL) \n",
    "    + theme(plot.title = element_text(hjust = 0.5))\n",
    "    + ggtitle(title)\n",
    "    )\n",
    "}"
   ]
  },
  {
   "cell_type": "code",
   "execution_count": 16,
   "id": "a3a5829b",
   "metadata": {},
   "outputs": [],
   "source": [
    "top = top  %>%  mutate(tot_rnd = tot)\n",
    "bottom = bottom  %>%  mutate(tot_rnd = tot)\n",
    "top_rel = top  %>% group_by(tissue_gp,  cpi_go)  %>% \n",
    "    mutate(tot = tot/sum(tot)*100, \n",
    "          tot_rnd = round(tot/sum(tot),2)*100)"
   ]
  },
  {
   "cell_type": "code",
   "execution_count": 17,
   "id": "87f7cc40",
   "metadata": {},
   "outputs": [
    {
     "ename": "ERROR",
     "evalue": "Error in loadNamespace(name): there is no package called ‘ggh4x’\n",
     "output_type": "error",
     "traceback": [
      "Error in loadNamespace(name): there is no package called ‘ggh4x’\nTraceback:\n",
      "1. dist_plotter(top, gp = \"tissue_gp\")",
      "2. ggh4x::facet_grid2   # at line 2-12 of file <text>",
      "3. getExportedValue(pkg, name)",
      "4. asNamespace(ns)",
      "5. getNamespace(ns)",
      "6. loadNamespace(name)",
      "7. withRestarts(stop(cond), retry_loadNamespace = function() NULL)",
      "8. withOneRestart(expr, restarts[[1L]])",
      "9. doWithOneRestart(return(expr), restart)"
     ]
    }
   ],
   "source": [
    "go_top <- dist_plotter(top, gp = \"tissue_gp\") +  xlab(\"Number of patients\") + \n",
    " theme(strip.background = element_blank(),\n",
    "       strip.text.y = element_blank())"
   ]
  },
  {
   "cell_type": "code",
   "execution_count": null,
   "id": "6ca3eae2",
   "metadata": {},
   "outputs": [],
   "source": [
    "# bottom plot: \n",
    "bottom = bottom  %>% mutate(cpi_label = ifelse(cpi, \"CPI (<15 samples)\", \"Non-CPI (<15 samples)\"))\n",
    "plt_bottom = ggplot(data = bottom, aes(y= tissue_full, x=tot, fill = lr_gp), \n",
    "                colour=\"black\") +\n",
    "    geom_bar(stat=\"identity\", width=.9, position = 'stack', colour = \"black\", size = .1,  alpha = 0.9)  + \n",
    "    geom_text(aes(label = tot_rnd),size = 3.5, position = position_stack(vjust = .5)) +\n",
    "    lemon::facet_rep_grid(cpi_label ~ ., space = \"free_y\", scale = \"free\", repeat.tick.labels = TRUE) + \n",
    "    theme_classic() + \n",
    "    scale_x_continuous(limits = c(0, 15)) + \n",
    "    scale_fill_manual(values = c('Low' = my_palette[1],'Medium' = my_palette[2],'High' = my_palette[3]))  + \n",
    "    theme(strip.background = element_rect(fill = \"grey80\", color = \"white\")) + \n",
    "    labs(y = \"Primary Tissue\\n\", x = \"Number of patients\") + \n",
    "    ggtitle(\"\")"
   ]
  },
  {
   "cell_type": "code",
   "execution_count": null,
   "id": "ad2cf688",
   "metadata": {},
   "outputs": [],
   "source": [
    "top_rel_plt = dist_plotter(top_rel, gp = \"tissue_gp\", title = \"Predicted CPI Response Groups\\nPercentage\") + \n",
    "    xlab(\"Percentage of patients\") + ylab(NULL) + \n",
    "    theme(axis.text.y = element_blank(), legend.position = \"none\", strip.background = element_rect(fill = \"grey80\", color = \"white\"))"
   ]
  },
  {
   "cell_type": "code",
   "execution_count": null,
   "id": "e435134c",
   "metadata": {},
   "outputs": [],
   "source": [
    "options(repr.plot.width = 12, repr.plot.height = 12)\n",
    "total_plot = wrap_plots(go_top, top_rel_plt, plt_bottom, guide_area()) + plot_layout(guides = \"collect\", widths = c(1,0.6), heights = c(1.25,1))"
   ]
  },
  {
   "cell_type": "code",
   "execution_count": null,
   "id": "d6ad1daa",
   "metadata": {},
   "outputs": [],
   "source": [
    "total_plot & labs(fill = \"Probability of Response\")"
   ]
  },
  {
   "cell_type": "code",
   "execution_count": null,
   "id": "b407cadb",
   "metadata": {},
   "outputs": [],
   "source": [
    "ggsave(paste0(FIG_FINAL_DIR, \"3_supplement_main_hmf_non_cpi_preds_Axel.png\"), width = 10, height = 10, dpi = 500)"
   ]
  }
 ],
 "metadata": {
  "kernelspec": {
   "display_name": "R",
   "language": "R",
   "name": "ir"
  },
  "language_info": {
   "codemirror_mode": "r",
   "file_extension": ".r",
   "mimetype": "text/x-r-source",
   "name": "R",
   "pygments_lexer": "r",
   "version": "3.6.1"
  }
 },
 "nbformat": 4,
 "nbformat_minor": 5
}
