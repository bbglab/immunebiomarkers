{
 "cells": [
  {
   "cell_type": "markdown",
   "id": "0",
   "metadata": {},
   "source": [
    "### Plotting of Immune biomarkers Figure 3 - new version"
   ]
  },
  {
   "cell_type": "code",
   "execution_count": null,
   "id": "1",
   "metadata": {},
   "outputs": [],
   "source": [
    "wd = dirname(dirname(getwd()))\n",
    "setwd(wd)"
   ]
  },
  {
   "cell_type": "code",
   "execution_count": null,
   "id": "2",
   "metadata": {
    "slideshow": {
     "slide_type": ""
    },
    "tags": []
   },
   "outputs": [],
   "source": [
    "source(paste0(wd,\"/mission_control/treasure_map.R\"))\n",
    "source(paste0(wd,\"/mission_control/helpers/figures/exhaustive_plots.R\"))\n",
    "source(paste0(wd,\"/mission_control/helpers/figures/exhaustive_settings.R\"))\n",
    "source(paste0(wd,\"/mission_control/helpers/figures/themes.R\"))\n",
    "\n",
    "library(tidyverse)\n",
    "library(data.table)\n",
    "library(ggrepel)\n",
    "library(RColorBrewer)\n",
    "library(gridExtra)\n",
    "library(ggpubr)\n",
    "library(ggh4x)\n",
    "library(cowplot)\n",
    "# library(grImport2)\n",
    "# library(rsvg)"
   ]
  },
  {
   "cell_type": "markdown",
   "id": "3",
   "metadata": {},
   "source": [
    "### Figure 3A"
   ]
  },
  {
   "cell_type": "code",
   "execution_count": null,
   "id": "4",
   "metadata": {
    "tags": []
   },
   "outputs": [],
   "source": [
    "ingredients <- readRDS(paste0(TMP_DIR,\"exhaustive-plots-base.Rds\"))\n",
    "labels <- readRDS(paste0(TMP_DIR,\"exhaustive-plots-labels.Rds\"))\n",
    "threshold <- -log10(ingredients$by_05_fdr)[1]"
   ]
  },
  {
   "cell_type": "code",
   "execution_count": null,
   "id": "5",
   "metadata": {},
   "outputs": [],
   "source": [
    "drop_features <- c(\"tcell\", \"tmb\", \"prolif\",\"tgfb\",\"pretreat\",\"pretreat_comp\",\"tissue\",\n",
    "                   \"tissue_full\",\"age\",\"biopsy\",\"purity\",\"pdl1\")"
   ]
  },
  {
   "cell_type": "code",
   "execution_count": null,
   "id": "6",
   "metadata": {
    "tags": []
   },
   "outputs": [],
   "source": [
    "# pool CNVs and SV's in the same category (they are not very important in this context)\n",
    "ingredients = ingredients %>% \n",
    "    filter(!feature %in% drop_features)  %>% \n",
    "    filter(!grepl(\"cibersort\", feature)) %>% \n",
    "    mutate(big_group = case_when(big_group == \"CNV\" ~ \"CNV/SVs\", \n",
    "                                 big_group ==\"SVs\" ~ \"CNV/SVs\", \n",
    "                                 .default = big_group))\n",
    "\n",
    "ingredients3 = ingredients %>%\n",
    "    filter(model == \"os\" & dataset == \"all\" & covariates == \"residuals\") %>% \n",
    "    filter(!feature %in% c(\"isofox_gene_set_t_cell_effector\", \"tcell\", \"isofox_gene_set_tcell_cluster\"))  %>% \n",
    "    filter(!grepl(\"tgfb_cluster|prolif_cluster|tcell_cluster\", feature))  %>% \n",
    "    filter(!feature %in% c(\"prolif\", \"tgfb\"))"
   ]
  },
  {
   "cell_type": "code",
   "execution_count": null,
   "id": "7",
   "metadata": {
    "tags": []
   },
   "outputs": [],
   "source": [
    "ingredients3$pval_significance = ifelse(ingredients3$p_val <= ingredients3$by_05_fdr, \"sign\", \"non-sign\")"
   ]
  },
  {
   "cell_type": "code",
   "execution_count": null,
   "id": "8",
   "metadata": {
    "tags": []
   },
   "outputs": [],
   "source": [
    "color_map$RNA = \"#e0ba92\" # change the RNA feature value to a more direct value. Original color: \"#FC913A\"\n",
    "color_map$`CNV/SVs` = \"#B3DE69\"\n",
    "color_map$Somatic = \"#80B1D3\"\n",
    "color_map$CNV = color_map$SVs = NULL\n",
    "set.seed(12345) # set seed to keep random order\n",
    "ingredients3$pval_significance = ifelse(ingredients3$p_val <= ingredients3$by_05_fdr, \"sign\", \"non-sign\")"
   ]
  },
  {
   "cell_type": "code",
   "execution_count": null,
   "id": "9",
   "metadata": {},
   "outputs": [],
   "source": [
    "exhaustive_theme_left_legend = exhaustive_theme_left + theme(legend.position = \"right\")"
   ]
  },
  {
   "cell_type": "code",
   "execution_count": null,
   "id": "10",
   "metadata": {},
   "outputs": [],
   "source": [
    "ingredients_plot = ingredients3 %>%\n",
    "    filter(dataset == \"all\",\n",
    "           model == \"os\" ,\n",
    "           covariates == \"residuals\",\n",
    "           Group != \"Gene Set\") # check with Joe if we want to keep this last part in\n",
    "\n",
    "fig3a = ggplot(ingredients_plot, aes(x = plot_est, y = log10_p,\n",
    "                           size = log10_p > threshold, \n",
    "                           alpha = log10_p > threshold)) + \n",
    "    geom_point(aes(fill = big_group), shape = 21, stroke = 0.3, color = \"white\") + \n",
    "    scale_fill_manual(values = c(\"#9E7788\", \"#B3DE69\",\"#FFFF99\", \"#e0ba92\" ,\"#80B1D3\") ) +  # original color \"#FC913A\"\n",
    "    geom_vline(xintercept = 1, linetype=\"dashed\", color = \"grey50\", linewidth=0.7) + \n",
    "    geom_hline(yintercept = threshold, linetype=\"dashed\", color = \"grey50\", linewidth=0.7) + \n",
    "    scale_y_continuous(breaks = c(seq(0,8,2)), limits = c(0,8)) + \n",
    "    scale_x_continuous(breaks = c(1,2), limits = c(.37,2))  +\n",
    "    scale_size_manual(values = c(2, 3))  +\n",
    "    scale_alpha_manual(values = c(0.4, 1)) + \n",
    "    cowplot::theme_cowplot() + \n",
    "    theme(legend.position = c(0.8, 0.85),\n",
    "          legend.background = element_blank()) + \n",
    "    guides(alpha = \"none\", size = \"none\", # remove the 'pval size'\n",
    "           fill = guide_legend(title = \"\", override.aes = list(size=4)),\n",
    "           color = guide_legend(title = \"\")) +\n",
    "    labs(title = \"\", x = \"1/Hazard Estimate\", y = \"\\n-Log10 (p-value) Surival residuals\")    \n",
    "\n",
    "fig3a <- annotate_figure(fig3a, fig.lab = \"A\", fig.lab.size = 20, fig.lab.face = \"bold\")\n",
    "fig3a"
   ]
  },
  {
   "cell_type": "markdown",
   "id": "11",
   "metadata": {},
   "source": [
    "### Figure 3B"
   ]
  },
  {
   "cell_type": "code",
   "execution_count": null,
   "id": "12",
   "metadata": {
    "tags": []
   },
   "outputs": [],
   "source": [
    "ready <- readRDS(paste0(I_DIR, \"cpi_go.Rds\"))\n",
    "results <-readRDS(paste0(TMP_DIR,\"exhaustive-plots-base.Rds\"))  %>% \n",
    "    filter(!grepl(\"tgfb_cluster|prolif_cluster|tcell_cluster\", feature))  %>% \n",
    "    filter(!feature %in% drop_features)\n",
    "cutoff <- results$by_05_fdr[1]"
   ]
  },
  {
   "cell_type": "code",
   "execution_count": null,
   "id": "13",
   "metadata": {
    "tags": []
   },
   "outputs": [],
   "source": [
    "one_set_result <- results %>% filter(model == \"os\" & dataset == \"all\" & covariates == \"age_biopsy_purity_tissue\") \n",
    "os_resid_set_result<- results %>% filter(model == \"os\" & dataset == \"all\" & covariates == \"residuals\") "
   ]
  },
  {
   "cell_type": "code",
   "execution_count": null,
   "id": "14",
   "metadata": {
    "tags": []
   },
   "outputs": [],
   "source": [
    "# drop features are duplicated features\n",
    "drop_features <- c(\"tcell\", \"tmb\", \"prolif\",\"tgfb\",\"pretreat\",\"pretreat_comp\",\"tissue\",\"tissue_full\",\"age\",\"biopsy\",\"purity\",\"pdl1\")\n",
    "#There 2 significant features not expression - check!!! For now they are excluded\n",
    "weird_features <- c(\"cnv.region_loh_chr11.q23.3\",\"somatic.gene_MATN2.mb\")\n",
    "top_os_resid <- results %>%\n",
    "    filter(model == \"os\", dataset == \"all\", covariates == \"residuals\") %>%\n",
    "    filter(!feature %in% drop_features) %>%\n",
    "    filter(!feature %in% weird_features) %>%\n",
    "    filter(!grepl(\"gene_set_\", feature)) %>%\n",
    "    filter(!grepl(\"cibersort\", feature)) %>%\n",
    "    filter(!grepl(\"somatic\", feature))  %>% \n",
    "    filter(p_val < cutoff) %>%\n",
    "    pull(feature)"
   ]
  },
  {
   "cell_type": "code",
   "execution_count": null,
   "id": "15",
   "metadata": {
    "tags": []
   },
   "outputs": [],
   "source": [
    "os_resid_cor_go <- ready %>% select(all_of(top_os_resid))  %>% drop_na() \n",
    "cor_matrix_os_resid = cor(as.matrix(os_resid_cor_go))"
   ]
  },
  {
   "cell_type": "code",
   "execution_count": null,
   "id": "16",
   "metadata": {
    "tags": []
   },
   "outputs": [],
   "source": [
    "# Generate clusters\n",
    "tree <- hclust(as.dist(1-abs(cor_matrix_os_resid)),method = \"ward.D2\")\n",
    "tree_clust = cutree(as.hclust(tree), k = 3)\n",
    "cluster1 = tree_clust[tree_clust == 1]\n",
    "cluster2.1 = tree_clust[tree_clust == 3]\n",
    "cluster2.2 = tree_clust[tree_clust == 2]\n",
    "clusters = c(cluster1, cluster2.1, cluster2.2)"
   ]
  },
  {
   "cell_type": "code",
   "execution_count": null,
   "id": "17",
   "metadata": {},
   "outputs": [],
   "source": [
    "# save the names of the genes in the cluster\n",
    "df1 = data.frame(T_cell = names(cluster1))\n",
    "#write.table(df1, \"1_figures/figure3/Prolif_cluster_genes.txt\", col.names = FALSE, row.names = FALSE, quote = FALSE)\n",
    "\n",
    "df2 = data.frame(T_cell = names(cluster2.1))\n",
    "#write.table(df2, \"1_figures/figure3/TGBF_cluster_genes.txt\", col.names = FALSE, row.names = FALSE, quote = FALSE)       "
   ]
  },
  {
   "cell_type": "code",
   "execution_count": null,
   "id": "18",
   "metadata": {
    "tags": []
   },
   "outputs": [],
   "source": [
    "wdf <- one_set_result[,c(\"feature\", \"big_group\")] %>% filter(feature %in% top_os_resid)\n",
    "wdf$w = 3\n",
    "# TODO match order of the figures with the order of the clusters!!!!!\n",
    "ord = match(names(clusters), wdf$feature)\n",
    "wdf = wdf[tree$order,]\n",
    "wdf$clustord = 1:nrow(wdf)\n",
    "wdf = wdf %>% arrange(clustord)\n",
    "breaks <- wdf %>% \n",
    "  mutate(cumw = cumsum(w),\n",
    "         pos = .5 * (cumw + lag(cumw, default = 0))) %>% \n",
    "  select(feature, pos)"
   ]
  },
  {
   "cell_type": "code",
   "execution_count": null,
   "id": "19",
   "metadata": {
    "tags": []
   },
   "outputs": [],
   "source": [
    "os_resid_cor_go = os_resid_cor_go[match(wdf$feature, names(clusters)),]\n",
    "pd <- as.data.frame(cor_matrix_os_resid)\n",
    "pd$feature <- rownames(pd)\n",
    "pd.m <- pivot_longer(pd, -feature, names_to = \"variable\")"
   ]
  },
  {
   "cell_type": "code",
   "execution_count": null,
   "id": "20",
   "metadata": {
    "tags": []
   },
   "outputs": [],
   "source": [
    "pd.m <- pd.m %>% \n",
    "  left_join(breaks, by = c(\"variable\" = \"feature\")) %>% \n",
    "  rename(y = pos) %>% \n",
    "  left_join(breaks, by = c(\"feature\" = \"feature\")) %>% \n",
    "  rename(x = pos)"
   ]
  },
  {
   "cell_type": "code",
   "execution_count": null,
   "id": "21",
   "metadata": {
    "tags": []
   },
   "outputs": [],
   "source": [
    "pd.m <- pd.m %>% \n",
    "  left_join(wdf, by = c(\"feature\" = \"feature\")) "
   ]
  },
  {
   "cell_type": "code",
   "execution_count": null,
   "id": "22",
   "metadata": {
    "tags": []
   },
   "outputs": [],
   "source": [
    "pd.m <- pd.m %>% \n",
    "  left_join(wdf[,c(1,2)], by = c(\"variable\" = \"feature\")) "
   ]
  },
  {
   "cell_type": "code",
   "execution_count": null,
   "id": "23",
   "metadata": {
    "tags": []
   },
   "outputs": [],
   "source": [
    "RNA_features = wdf[wdf$big_group == \"RNA\",]$feature"
   ]
  },
  {
   "cell_type": "code",
   "execution_count": null,
   "id": "24",
   "metadata": {
    "tags": []
   },
   "outputs": [],
   "source": [
    "pd.m$feature <- factor( pd.m$feature, levels = colnames(os_resid_cor_go)[ord] )\n",
    "pd.m$variable <- factor(pd.m$variable, levels = colnames(os_resid_cor_go)[ord] )\n",
    "pd.m$height = 3\n",
    "pd.m$width =  3"
   ]
  },
  {
   "cell_type": "code",
   "execution_count": null,
   "id": "25",
   "metadata": {
    "tags": []
   },
   "outputs": [],
   "source": [
    "pd.m$Type = ifelse(pd.m$big_group.x == \"RNA\", \"Expression\", ifelse(pd.m$big_group.x == \"Somatic\", \"SNVs/Indels\", \"Clinical\"))\n",
    "pd.m$Type2 = ifelse(pd.m$big_group.y == \"RNA\", \"Expression\", ifelse(pd.m$big_group.y == \"Somatic\", \"SNVs/Indels\", \"Clinical\"))"
   ]
  },
  {
   "cell_type": "code",
   "execution_count": null,
   "id": "26",
   "metadata": {},
   "outputs": [],
   "source": [
    "# Add the 'n value' to each column name in the plot\n",
    "cl1 = paste0(\"Cluster S1\\n(n = \", length(cluster1), \")\")\n",
    "cl2.1 = paste0(\"Cluster S2.1\\n(n = \", length(cluster2.1), \")\")\n",
    "cl2.2 = paste0(\"Cluster S2.2\\n(n = \", length(cluster2.2), \")\")"
   ]
  },
  {
   "cell_type": "code",
   "execution_count": null,
   "id": "27",
   "metadata": {},
   "outputs": [],
   "source": [
    "pd.m = pd.m %>% \n",
    "    mutate(Type = case_when(variable %in% names(cluster1) ~ cl1,\n",
    "                          variable %in% names(cluster2.1) ~ cl2.1,\n",
    "                            variable %in% names(cluster2.2) ~ cl2.2,\n",
    "                            .default = Type)) \n",
    "\n",
    "pd.m = pd.m %>% \n",
    "    mutate(Type2 = case_when(feature %in% names(cluster1) ~ cl1,\n",
    "                          feature %in% names(cluster2.1) ~ cl2.1,\n",
    "                          feature %in% names(cluster2.2) ~ cl2.2,\n",
    "                             .default = Type2))"
   ]
  },
  {
   "cell_type": "code",
   "execution_count": null,
   "id": "28",
   "metadata": {
    "tags": []
   },
   "outputs": [],
   "source": [
    "fig3b <- ggplot(pd.m, aes(x = x, y = y)) +\n",
    "  geom_tile(aes(width = width,  height = height, fill = value)) +\n",
    "  scale_x_reverse(breaks = breaks$pos, labels = breaks$feature, expand = c(0, 0.1)) +\n",
    "  scale_y_continuous(breaks = breaks$pos, labels = breaks$feature, expand = c(0, 0.1))+\n",
    "  scale_fill_gradientn(limits = c(-1, 1), colours = c(\"blue\", \"white\", \"white\",  \"red\"), values = c(0, 0.46, 0.54, 1)) +\n",
    "  theme(panel.border=element_rect(fill = NA, colour=\"black\",linewidth=1))+\n",
    "  theme_bw(base_size = 14) +\n",
    "  facet_grid2(Type ~ Type2, scales = \"free\", space = \"free\", switch = \"both\",\n",
    "              strip = strip_themed(background_x = elem_list_rect(fill = c(\"#8DD3C7\",\"#BEBADA\",\"#e8e6f2\"), size= 1),\n",
    "                                    background_y = elem_list_rect(fill = c(\"#8DD3C7\",\"#BEBADA\", \"#e8e6f2\"), size= 1)))+\n",
    "  theme(axis.ticks.x = element_blank(),\n",
    "        axis.text.x = element_blank(),\n",
    "        axis.title.y = element_text(size=14),\n",
    "        axis.title.x = element_text(size=14),\n",
    "        strip.text.x = element_text(size = 10),\n",
    "        strip.text.y = element_text(size = 10),\n",
    "        panel.spacing.x = unit(0, \"mm\"),\n",
    "        panel.spacing.y = unit(0, \"mm\"),\n",
    "        axis.text.y = element_blank(),\n",
    "        axis.ticks.y = element_blank(),\n",
    "       # panel.background = element_rect(fill = NA, color = \"black\", linewidth = 10),\n",
    "        panel.grid = element_blank(),\n",
    "        legend.position=\"right\") + \n",
    "    xlab(\"\") + ylab(\"\") + \n",
    "    labs(fill = \"correlation\")\n",
    "\n",
    "fig3b <- annotate_figure(fig3b, fig.lab = \"B\", fig.lab.size = 20, fig.lab.face = \"bold\")\n",
    "fig3b"
   ]
  },
  {
   "cell_type": "markdown",
   "id": "29",
   "metadata": {},
   "source": [
    "### Figure 2C\n",
    "Intermediate correlation plots\n",
    "- Datapoints: HMF patients\n",
    "- y = expression 'heatmap cluster' mean \n",
    "- x = expression geneset mean\n",
    "- Take two genesets and display the correlation, to show how we get to point 2C "
   ]
  },
  {
   "cell_type": "code",
   "execution_count": null,
   "id": "30",
   "metadata": {},
   "outputs": [],
   "source": [
    "ready <- readRDS(paste0(I_DIR, \"cpi_go.Rds\"))"
   ]
  },
  {
   "cell_type": "code",
   "execution_count": null,
   "id": "31",
   "metadata": {},
   "outputs": [],
   "source": [
    "# load gene sets\n",
    "gsea_sets <- readRDS(paste0(REF_DIR,\"gene_sets.Rds\"))$gsea\n",
    "cpi_gene_sets <- readRDS(paste0(REF_DIR,\"gene_sets.Rds\"))$cpi\n",
    "gsea_sets = gsea_sets[setdiff(names(gsea_sets), names(cpi_gene_sets))]\n",
    "gene_sets = c(gsea_sets, cpi_gene_sets) # combine the two geneset lists\n",
    "names(gene_sets) = gsub(\"gene_set_\", \"\", names(gene_sets))\n",
    "names(gene_sets) = gsub(\"gene_set_\", \"\", names(gene_sets))\n",
    "\n",
    "gene_sets = gene_sets[!grepl(\"battle_|tgfb_|vhio|08283|rand\", names(gene_sets))]\n",
    "\n",
    "# load the filtered gene set list \n",
    "geneset_filtered = data.table::fread(\"ref/Table_S2_255_genesets.csv\")  %>% \n",
    "    mutate(simplename = case_when(Source ==\"Used in Mariathasan TGFB Paper\" ~ paste0(\"m_\", simplename), \n",
    "                                  .default = simplename))  %>% \n",
    "    mutate(simplename = gsub(\"cd_8\", \"cd8\", simplename))\n",
    "\n",
    "# rename the geneset names\n",
    "names(gene_sets) = tolower(names(gene_sets))\n",
    "idx_mariathan = !names(gene_sets) %in% geneset_filtered$simplename\n",
    "names(gene_sets)[idx_mariathan] = paste0(\"m_\", names(gene_sets)[idx_mariathan])"
   ]
  },
  {
   "cell_type": "code",
   "execution_count": null,
   "id": "32",
   "metadata": {
    "tags": []
   },
   "outputs": [],
   "source": [
    "# Select T-cell effector geneset as an example to show the correlation\n",
    "select_sets = gene_sets[c(\"t_cell_effector\", \"pan_tbrs\", \"prolif\")]\n",
    "select_sets = lapply(select_sets, \\(x) paste0(\"isofox_\", x)) # add isofox to identify genes\n",
    "cluster_list = list(`cluster 1` =  names(cluster1), \n",
    "                    `cluster 2.1` = names(cluster2.1), \n",
    "                    `cluster 2.2` = names(cluster2.2))\n",
    "total_sets = c(select_sets, cluster_list)\n",
    "total_sets = sapply(total_sets, \\(x) x[(x %in% colnames(ready))]) # select the number of genes not in the data"
   ]
  },
  {
   "cell_type": "code",
   "execution_count": null,
   "id": "33",
   "metadata": {
    "tags": []
   },
   "outputs": [],
   "source": [
    "# generate cluster means: \n",
    "ready_m = ready |> select(starts_with(\"isofox\")) |> as.matrix()# make matrix to allow for looping\n",
    "patient_means = sapply(total_sets, \\(x) rowMeans(ready_m[,x]))"
   ]
  },
  {
   "cell_type": "code",
   "execution_count": null,
   "id": "34",
   "metadata": {},
   "outputs": [],
   "source": [
    "colnames(patient_means)[1:3] = c(\"T-Cell effector\", \"TGF-beta fibroblasts\", \"Proliferation potential\")"
   ]
  },
  {
   "cell_type": "code",
   "execution_count": null,
   "id": "35",
   "metadata": {
    "tags": []
   },
   "outputs": [],
   "source": [
    "# generate the plotting dataframe - make it possible that the individual patient expression of the T-cell cluster, and cluster 3 are clearly visible.\n",
    "pm = patient_means  %>% \n",
    "    as.data.frame() %>% \n",
    "    mutate(patient = 1:nrow(patient_means))  %>% \n",
    "    drop_na()"
   ]
  },
  {
   "cell_type": "code",
   "execution_count": null,
   "id": "36",
   "metadata": {},
   "outputs": [],
   "source": [
    "# plot for the figure: \n",
    "fig3c = ggplot(pm, aes(x = `cluster 1`, y = `Proliferation potential`, fill = \"Individual\\nPatient\")) + \n",
    "    geom_point(shape = 21, color = \"grey90\", size = 2) + \n",
    "  scale_fill_manual(values = \"grey20\") +\n",
    "  cowplot::theme_half_open() +\n",
    "  ggpubr::stat_cor(aes(label = ..r.label..), method = \"pearson\", size = 6, label.y.npc = 0.9,  digits = 3) + \n",
    "  scale_y_continuous(limits = c(NA, 5.3)) + \n",
    "  theme(strip.background = element_blank(), strip.text = element_text(face=\"bold\"), \n",
    "        plot.title = element_text(hjust = 0.5), \n",
    "        legend.position = \"none\")  + \n",
    "  labs(title = \"Proliferation potential\\nvs. Cluster S1\", \n",
    "       x = \"Mean expression Cluster S1\", \n",
    "       y = \"Mean expression\\nProliferation potential gene set\", \n",
    "       fill = NULL)\n",
    "fig3c <- annotate_figure(fig3c, fig.lab = \"C\", fig.lab.size = 20, fig.lab.face = \"bold\")\n",
    "fig3c\n",
    "\n",
    "\n",
    "# plot for the figure: \n",
    "fig3d = ggplot(pm, aes(x = `cluster 2.1`, y = `TGF-beta fibroblasts`, fill = \"Individual\\nPatient\")) + \n",
    "    geom_point(shape = 21, color = \"grey90\", size = 2) + \n",
    "  scale_fill_manual(values = \"grey20\") +\n",
    "  cowplot::theme_cowplot() +\n",
    "  ggpubr::stat_cor(aes(label = after_stat(r.label)),method = \"pearson\", size = 6, label.y.npc = 0.9,  digits = 3) + \n",
    "  theme(strip.background = element_blank(), strip.text = element_text(face=\"bold\"),\n",
    "        plot.title = element_text(hjust = 0.5), \n",
    "        legend.position = \"none\")  + \n",
    "  labs(title = \"TGF-beta fibroblasts\\nvs. Cluster S2.1\", \n",
    "       x = \"Mean expression Cluster S2.1\",\n",
    "       y = \"Mean expression\\nTGF-beta fibroblasts gene set\",\n",
    "       fill = NULL)\n",
    "\n",
    "\n",
    "fig3d <- annotate_figure(fig3d, fig.lab = \"D\", fig.lab.size = 20, fig.lab.face = \"bold\")\n",
    "fig3d"
   ]
  },
  {
   "cell_type": "markdown",
   "id": "37",
   "metadata": {},
   "source": [
    "# supplementary figure XX \n",
    "Plot the correlation of all the somatic mutation features against the mean of cluster 1: Somatic features\n",
    "When finalizing the scripts, this code could be part of the supplementary figure function for the genesets"
   ]
  },
  {
   "cell_type": "code",
   "execution_count": null,
   "id": "38",
   "metadata": {},
   "outputs": [],
   "source": [
    "read_features = ready %>% select(any_of(unique(ingredients3$feature)))"
   ]
  },
  {
   "cell_type": "code",
   "execution_count": null,
   "id": "39",
   "metadata": {},
   "outputs": [],
   "source": [
    "mean_cl1 = rowMeans(read_features %>% select(all_of(names(cluster1))))\n",
    "mean_cl2.1 = rowMeans(read_features %>% select(all_of(names(cluster2.1))))\n",
    "mean_cl2.2 = rowMeans(read_features %>% select(all_of(names(cluster2.2))))"
   ]
  },
  {
   "cell_type": "code",
   "execution_count": null,
   "id": "40",
   "metadata": {},
   "outputs": [],
   "source": [
    "# filter the features for the values for which we have observations \n",
    "na_values = which(is.na(mean_cl2.1))\n",
    "read_features_filtered = read_features  %>% slice(-na_values)\n",
    "mean_cl1_filtered = mean_cl1[-na_values]\n",
    "mean_cl2.1_filtered = mean_cl2.1[-na_values]\n",
    "mean_cl2.2_filtered = mean_cl2.2[-na_values]\n",
    "\n",
    "cluster_cors = tibble(feature = colnames(read_features_filtered),\n",
    "                   `Expression cluster S1 = Proliferation potential` = cor(mean_cl1_filtered, read_features_filtered, use = \"complete.obs\") %>% as.numeric(),\n",
    "                   `Expression cluster S2.1 = TGF-beta fibroblasts` = cor(mean_cl2.1_filtered, read_features_filtered, use = \"complete.obs\") %>% as.numeric(),\n",
    "                   `Expression cluster S2.2` = cor(mean_cl2.2_filtered, read_features_filtered,  use = \"complete.obs\") %>% as.numeric())"
   ]
  },
  {
   "cell_type": "code",
   "execution_count": null,
   "id": "41",
   "metadata": {},
   "outputs": [],
   "source": [
    "cluster_cors = cluster_cors %>% filter(feature %in% unique(ingredients3$feature))\n",
    "i_cors = left_join(ingredients3, cluster_cors,by = \"feature\" )"
   ]
  },
  {
   "cell_type": "code",
   "execution_count": null,
   "id": "42",
   "metadata": {},
   "outputs": [],
   "source": [
    "colnames(read_features_filtered)[grepl(\"effe\", colnames(read_features_filtered))]"
   ]
  },
  {
   "cell_type": "code",
   "execution_count": null,
   "id": "43",
   "metadata": {},
   "outputs": [],
   "source": [
    "# merge and filter the labels to match value: \n",
    "label_cors = left_join(ingredients3, cluster_cors,by = \"feature\" ) %>% \n",
    "    filter(log10_p > threshold)\n",
    "\n",
    "label_cors = label_cors %>% \n",
    "    mutate(big_group = case_when(\n",
    "        grepl(\"gene_set\", feature) & `Expression cluster S1 = Proliferation potential` > 0.8 & log10_p > threshold ~ \"high corr. Cluster S1\",\n",
    "        grepl(\"gene_set\", feature) & `Expression cluster S2.1 = TGF-beta fibroblasts` > 0.8 & log10_p > threshold ~ \"high corr. Cluster S2\",\n",
    "        .default = big_group))"
   ]
  },
  {
   "cell_type": "code",
   "execution_count": null,
   "id": "44",
   "metadata": {},
   "outputs": [],
   "source": [
    "label_cors = label_cors %>% \n",
    "    select(starts_with(\"Expr\"), big_group, log10_p, feature) %>% \n",
    "    pivot_longer(cols = starts_with(\"Expr\"), names_to = \"cluster\", values_to = \"correlation\") %>% \n",
    "    filter(correlation > 0.8) %>% \n",
    "    filter(grepl(\"gene_set\", feature)) %>% \n",
    "    filter(!grepl(\"rand|vhio\", feature))  %>% \n",
    "    mutate(feature2 = gsub(\"isofox_|gene_set_|mariathan_\", \"\", feature)  %>% tolower())"
   ]
  },
  {
   "cell_type": "code",
   "execution_count": null,
   "id": "45",
   "metadata": {},
   "outputs": [],
   "source": [
    "label_cors = label_cors  %>% \n",
    "    mutate(label = geneset_filtered$Alias[match(feature2, geneset_filtered$simplename)])"
   ]
  },
  {
   "cell_type": "code",
   "execution_count": null,
   "id": "46",
   "metadata": {},
   "outputs": [],
   "source": [
    "i_cors = i_cors %>% \n",
    "    mutate(big_group = case_when(\n",
    "        grepl(\"gene_set\", feature) & `Expression cluster S1 = Proliferation potential` > 0.8 & log10_p > threshold ~ \"high corr. Cluster S1\",\n",
    "        grepl(\"gene_set\", feature) & `Expression cluster S2.1 = TGF-beta fibroblasts` > 0.8 & log10_p > threshold ~ \"high corr. Cluster S2\",\n",
    "        .default = \"other\"))  %>% \n",
    "     mutate(big_group = factor(big_group, \n",
    "                              levels = c(\"RNA\", \"high corr. Cluster S1\",\n",
    "                                         \"high corr. Cluster S2\", \"other\"))) # set the levels for plotting\n",
    "    "
   ]
  },
  {
   "cell_type": "code",
   "execution_count": null,
   "id": "47",
   "metadata": {},
   "outputs": [],
   "source": [
    "input_cors = i_cors %>%  \n",
    "    filter(model == \"os\" & dataset == \"all\" & covariates == \"residuals\") %>% \n",
    "    select(starts_with(\"Expression\"), big_group, log10_p, feature) %>% \n",
    "    pivot_longer(cols = starts_with(\"Expression\"), names_to = \"cluster\", values_to = \"correlation\")"
   ]
  },
  {
   "cell_type": "code",
   "execution_count": null,
   "id": "48",
   "metadata": {},
   "outputs": [],
   "source": [
    "input_cors = input_cors  %>% filter(!grepl(\"rand1\", feature))  %>% \n",
    "    mutate(big_group = factor(big_group, levels = unique(big_group)))"
   ]
  },
  {
   "cell_type": "code",
   "execution_count": null,
   "id": "49",
   "metadata": {},
   "outputs": [],
   "source": [
    "for (clust in unique(input_cors$cluster)) {\n",
    "    features = input_cors  %>% \n",
    "        filter(cluster %in% clust & log10_p > threshold)  %>% \n",
    "        arrange(desc(correlation))  %>% \n",
    "        mutate(feature = gsub(\"isofox_\", \"\", feature))      \n",
    " #   readr::write_excel_csv(features, paste0(\"1_figures/figure3//\", clust, \"features.csv\"))\n",
    "}"
   ]
  },
  {
   "cell_type": "code",
   "execution_count": null,
   "id": "50",
   "metadata": {},
   "outputs": [],
   "source": [
    "cluster_1 = input_cors  %>% filter(cluster == \"Expression cluster S1 = Proliferation potential\", grepl(\"gene_set\", feature))\n",
    "#readr::write_excel_csv(cluster_1, \"1_figures/figure3/Figure3_geneset_correlation_ClusterS1.csv\")\n",
    "cluster_2.1 = input_cors  %>% filter(cluster == \"Expression cluster S2.1 = TGF-beta fibroblasts\", grepl(\"gene_set\", feature))\n",
    "#readr::write_excel_csv(cluster_2.1, \"1_figures/figure3/Figure3_geneset_correlation_ClusterS2.1.csv\")"
   ]
  },
  {
   "cell_type": "code",
   "execution_count": null,
   "id": "51",
   "metadata": {},
   "outputs": [],
   "source": [
    "# Better to rewrite the entire function again instead of working with ggplot facet grid options too much: \n",
    "input_cors2 =  input_cors  %>% \n",
    "    filter(grepl(\"gene_set\", feature))  %>% \n",
    "    filter(!grepl(\"S2.2\", cluster))  %>% \n",
    "    pivot_wider(names_from = \"cluster\", values_from = \"correlation\")  %>% \n",
    "    rename(cluster1 = 4, cluster2 = 5)  %>% \n",
    "    mutate(color1 = case_when(\n",
    "        cluster1 >= 0.5 & log10_p > threshold~ \"#BEBADA\", \n",
    "        cluster2 >= 0.5 & log10_p > threshold ~ \"#8DD3C7\", \n",
    "        log10_p < threshold ~ \"grey70\", .default = \"grey\"))    %>% \n",
    "    mutate(color2 = case_when(\n",
    "        cluster2 >= 0.5 & log10_p > threshold~ \"#8DD3C7\", \n",
    "        cluster1 >= 0.5 & log10_p > threshold~ \"#BEBADA\", \n",
    "        log10_p < threshold ~ \"grey70\", .default = \"grey\"))  "
   ]
  },
  {
   "cell_type": "code",
   "execution_count": null,
   "id": "52",
   "metadata": {},
   "outputs": [],
   "source": [
    "label_cors2 = label_cors  %>%  pivot_wider(names_from = \"cluster\", values_from = \"correlation\")  %>% \n",
    "    rename(cluster1 = 6, cluster2 = 7)  # %>%     filter(!is.na(label))"
   ]
  },
  {
   "cell_type": "code",
   "execution_count": null,
   "id": "53",
   "metadata": {},
   "outputs": [],
   "source": [
    "labels_cl1 = label_cors2  %>% filter(!is.na(cluster1))\n",
    "labels_cl2 = label_cors2  %>% filter(!is.na(cluster2))"
   ]
  },
  {
   "cell_type": "code",
   "execution_count": null,
   "id": "54",
   "metadata": {},
   "outputs": [],
   "source": [
    "input_cors2 = input_cors2  %>% \n",
    "    mutate(feature2 = gsub(\"isofox_|gene_set_|battle_\", \"\", feature), \n",
    "           feature2 = gsub(\"mariathan_\", \"m_\", feature2))"
   ]
  },
  {
   "cell_type": "code",
   "execution_count": null,
   "id": "55",
   "metadata": {},
   "outputs": [],
   "source": [
    "input_cors2 = input_cors2[!is.na(match(input_cors2$feature2  %>% tolower(), geneset_filtered$simplename)),]"
   ]
  },
  {
   "cell_type": "code",
   "execution_count": null,
   "id": "56",
   "metadata": {},
   "outputs": [],
   "source": [
    "plot_cluster1 = input_cors2  %>% \n",
    "    ggplot(aes(x = cluster1, y = log10_p)) + \n",
    "    geom_vline(xintercept = 0.5,linetype=\"dashed\", color = \"grey50\", linewidth = .3) +\n",
    "    geom_hline(yintercept = threshold, linetype=\"dashed\", color = \"grey50\", linewidth = .3) +\n",
    "    geom_point(aes(fill = color1), size = 2.5, shape = 21, color = \"white\") + \n",
    "      geom_text_repel(data = labels_cl1, aes(label = label, x = cluster1, y = log10_p), max.overlaps = Inf, box.padding = 0.2, \n",
    "                    segment.alpha = 0.3,direction = \"y\", hjust = 0, force = 5,force_pull = 0, xlim = 0.35,\n",
    "                    nudge_y = 3, min.segment.length =  0.2, alpha = 0.85, size = 3.2, show.legend = FALSE) +\n",
    "    scale_fill_identity() + \n",
    "    scale_y_continuous(lim = c(0,9.5), breaks = seq(0,8,2)) + \n",
    "    cowplot::theme_cowplot() + \n",
    "    labs(x = \"Correlation genesets with\\nexpression genes cluster S1\", y = \"-Log10 (p-value) Overall Survival\")\n",
    "\n",
    "plot_cluster2 = input_cors2  %>% \n",
    "    ggplot(aes(x = cluster2, y = log10_p)) + \n",
    "    geom_vline(xintercept = 0.5,linetype=\"dashed\", color = \"grey50\", linewidth = .3) +\n",
    "    geom_hline(yintercept = threshold, linetype=\"dashed\", color = \"grey50\", linewidth = .3) +\n",
    "    geom_point(aes(fill = color2), size = 2.5, shape = 21, color = \"white\") + \n",
    "      geom_text_repel(data = labels_cl2, aes(label = label), max.overlaps = Inf, box.padding = 0.1, \n",
    "                      nudge_y = 1,segment.alpha = 0.3, direction = \"y\", hjust = 0, force = 2,force_pull = 0,\n",
    "                      xlim = -0.3,\n",
    "                    min.segment.length =  0.2, alpha = 0.85, size = 3.2, show.legend = FALSE) +\n",
    "    scale_fill_identity() + \n",
    "    scale_y_continuous(lim = c(0,10), breaks = seq(0,8,2)) + \n",
    "    cowplot::theme_cowplot() + \n",
    "    labs(x = \"Correlation genesets with\\nexpression genes cluster S2.1\", y = \"\")\n",
    "\n",
    "total_plots = ggarrange(plot_cluster1 , plot_cluster2)\n",
    "total_plots\n",
    "#ggsave(\"1_figures/supplement/Extended_data_figure_3B.png\", total_plots, width = 7, height = 4, dpi = 600)\n",
    "#ggsave(\"1_figures/supplement/Extended_data_figure_3B.pdf\", total_plots, width = 7, height = 4)"
   ]
  },
  {
   "cell_type": "markdown",
   "id": "57",
   "metadata": {},
   "source": [
    "## New figure 3E"
   ]
  },
  {
   "cell_type": "code",
   "execution_count": null,
   "id": "58",
   "metadata": {
    "tags": []
   },
   "outputs": [],
   "source": [
    "ingredients <- readRDS(paste0(TMP_DIR,\"exhaustive-plots-base.Rds\"))\n",
    "threshold <- -log10(ingredients$by_05_fdr[1])"
   ]
  },
  {
   "cell_type": "code",
   "execution_count": null,
   "id": "59",
   "metadata": {},
   "outputs": [],
   "source": [
    "labels <- readRDS(paste0(TMP_DIR,\"exhaustive-plots-labels.Rds\"))"
   ]
  },
  {
   "cell_type": "code",
   "execution_count": null,
   "id": "60",
   "metadata": {
    "tags": []
   },
   "outputs": [],
   "source": [
    "# filter the systemic clinical composite part from the ingredients file\n",
    "ingredients = ingredients %>%\n",
    "    filter(!feature %in% drop_features)  %>% \n",
    "    filter(feature != \"clinical_systemic_composite\" & feature != \"pretreat\") %>% \n",
    "    filter(!grepl(\"cibersort\", feature)) %>% \n",
    "    mutate(big_group = case_when(big_group == \"CNV\" ~ \"CNV/SVs\",\n",
    "                                 big_group ==\"SVs\" ~ \"CNV/SVs\", .default = big_group))"
   ]
  },
  {
   "cell_type": "code",
   "execution_count": null,
   "id": "61",
   "metadata": {
    "tags": []
   },
   "outputs": [],
   "source": [
    "labels$clean_label <- ifelse(labels$feature %in% c(\"isofox_gene_set_t_cell_effector\"), \n",
    "                             \"T-cell effector gene set\", as.character(labels$clean_label))\n",
    "labels$clean_label <- ifelse(labels$feature %in% c(\"clinical_meta_hasSystemicPreTreatment2\"),\n",
    "                             \"Prior systemic therapy\", as.character(labels$clean_label))"
   ]
  },
  {
   "cell_type": "code",
   "execution_count": null,
   "id": "62",
   "metadata": {
    "tags": []
   },
   "outputs": [],
   "source": [
    "color_map$RNA = \"grey\" # change the RNA color to orange to make it a bit more visible. Original color: \"#FC913A\"\n",
    "color_map$`CNV/SVs` <- \"#B3DE69\"\n",
    "color_map$Somatic <- \"#80B1D3\"\n",
    "color_map$CNV <- color_map$SVs <- NULL\n",
    "set.seed(12345) # set seed to keep the same 'random' order\n",
    "ingredients$pval_significance = ifelse(ingredients$p_val <= ingredients$by_05_fdr, \"sign\", \"non-sign\")\n",
    "ingredients =  ingredients[sample(nrow(ingredients)),]"
   ]
  },
  {
   "cell_type": "code",
   "execution_count": null,
   "id": "63",
   "metadata": {
    "tags": []
   },
   "outputs": [],
   "source": [
    "level = ingredients$big_group |> table() |> sort(decreasing = TRUE) |> names()\n",
    "order = order(factor(ingredients$big_group, levels = level)) # make a factor for ordering the data\n",
    "ingredients = ingredients[order, ]"
   ]
  },
  {
   "cell_type": "code",
   "execution_count": null,
   "id": "64",
   "metadata": {},
   "outputs": [],
   "source": [
    "# Read T-cell features\n",
    "T_cell_features = data.table::fread(\"ref/features_Tcell.csv\")[[1]] %>% as.character()"
   ]
  },
  {
   "cell_type": "code",
   "execution_count": null,
   "id": "65",
   "metadata": {},
   "outputs": [],
   "source": [
    "input_cors_tgfb = input_cors  %>% filter(grepl(\"TGF\", cluster) & correlation > 0.5)"
   ]
  },
  {
   "cell_type": "code",
   "execution_count": null,
   "id": "66",
   "metadata": {},
   "outputs": [],
   "source": [
    "ingredients_plot = ingredients  %>% \n",
    "    mutate(big_group2 = case_when(feature %in% T_cell_features ~ \"RNA: T-cell\",\n",
    "                                  feature %in% input_cors_tgfb$feature ~ \"RNA: TGF-beta\",\n",
    "                                 .default = big_group))"
   ]
  },
  {
   "cell_type": "code",
   "execution_count": null,
   "id": "67",
   "metadata": {},
   "outputs": [],
   "source": [
    "tbl = ingredients_plot  %>% \n",
    "    filter(log10_p > threshold)   %>% \n",
    "    filter(group != \"Gene Set\")  %>% \n",
    "    filter(!grepl(\"somatic\", feature))  %>% \n",
    "    select(feature, big_group2, log10_p, plot_est, starts_with(\"cor\"))  %>% \n",
    "    rename(\"1/hazard_ratio\" = \"plot_est\", \"category\" = \"big_group2\")  %>% \n",
    "    arrange(log10_p)\n",
    "#readr::write_excel_csv(tbl, \"1_figures/figure3/Figure3e.csv\")"
   ]
  },
  {
   "cell_type": "code",
   "execution_count": null,
   "id": "68",
   "metadata": {},
   "outputs": [],
   "source": [
    "ingredients_plot = ingredients_plot %>%\n",
    "    filter(Group != \"Gene Set\",\n",
    "           dataset == \"all\",\n",
    "           model == \"os\" ,\n",
    "           covariates == \"age_biopsy_purity_tissue\")\n",
    "\n",
    "fig3e = ggplot(ingredients_plot, aes(x = plot_est, y = log10_p,\n",
    "                           size = log10_p > threshold, \n",
    "                           alpha = log10_p > threshold)) + \n",
    "    geom_point(aes(fill = big_group2), shape = 21, stroke = 0.3, color = \"white\") + \n",
    "    scale_y_continuous(breaks = c(seq(0,10,2)), limits = c(0,9.5)) + \n",
    "    scale_x_continuous(breaks = c(1, 2), limits = c(0.4,2))  +\n",
    "    scale_size_manual(values = c(2, 3))  +\n",
    "    scale_alpha_manual(values = c(0.4, 1)) + \n",
    "    cowplot::theme_cowplot() + \n",
    "    theme(legend.position = c(0.73, 0.25),\n",
    "          legend.background = element_blank(),\n",
    "          legend.box.background = element_blank()) + \n",
    "    scale_fill_manual(values = c(\"#9E7788\", \"#B3DE69\",\"#FFFF99\",\"#e0ba92\", \"#FB8072\",\"#BEBADA\",\"#80B1D3\") ) + \n",
    "    geom_vline(xintercept = 1, linetype=\"dashed\", color = \"grey50\", linewidth=0.7) + \n",
    "    geom_hline(yintercept = threshold, linetype=\"dashed\", color = \"grey50\", linewidth=0.7) + \n",
    "    guides(alpha = \"none\", size = \"none\", \n",
    "           fill = guide_legend(title = \"\", override.aes = list(size=4)),\n",
    "           color = guide_legend(title = \"\")) +\n",
    "    labs(title = \"\", x = \"1/Hazard Estimate\", y = \"-Log10 (p-value) Overall survival\")    \n",
    "fig3e <- annotate_figure(fig3e, fig.lab = \"E\", fig.lab.size = 20, fig.lab.face = \"bold\")\n",
    "fig3e"
   ]
  },
  {
   "cell_type": "markdown",
   "id": "69",
   "metadata": {},
   "source": [
    "# new figures E and F "
   ]
  },
  {
   "cell_type": "markdown",
   "id": "70",
   "metadata": {},
   "source": [
    "for E and F: Two plots where each dot is a gene RNA feature significant in survival correcte dby response\n",
    " - Y axis is log10 pvalue of survival corrected\n",
    " - X axis E is the correlation with the cluster S1 (and add dot for Proliferation potential)\n",
    " - X axis F is the correlation with cluster S2.1 (add one dot for the Pan TBRS geneset)"
   ]
  },
  {
   "cell_type": "code",
   "execution_count": null,
   "id": "71",
   "metadata": {},
   "outputs": [],
   "source": [
    "lead_sets = c(\"isofox_gene_set_prolif\", \"isofox_gene_set_Pan_TBRS\")\n",
    "input_cors_3EF = input_cors  %>% \n",
    "    filter(cluster != \"Expression cluster S2.2\")  %>% \n",
    "    filter(!grepl(\"gene_set\", feature) | feature %in% lead_sets) %>% \n",
    "    pivot_wider(names_from = \"cluster\", values_from = \"correlation\")  %>% \n",
    "    mutate(color = case_when(`Expression cluster S1 = Proliferation potential` > 0.5 ~ \"RNA: proliferation\",\n",
    "                             `Expression cluster S2.1 = TGF-beta fibroblasts` > 0.5 ~ \"RNA: TGF-beta\",\n",
    "                             .default = \"RNA\"))\n",
    "\n",
    "input_cors_3EF = input_cors_3EF  %>% \n",
    "    pivot_longer(names_to = \"cluster\", values_to = \"correlation\", cols = c(`Expression cluster S2.1 = TGF-beta fibroblasts`,\n",
    "                   `Expression cluster S1 = Proliferation potential`))  %>% \n",
    "    mutate(size = correlation > 0.5 & log10_p > threshold) "
   ]
  },
  {
   "cell_type": "code",
   "execution_count": null,
   "id": "72",
   "metadata": {},
   "outputs": [],
   "source": [
    "gene_list = c(\"CD248\", \"COL4A1\", \"COL4A2\", \"THY1\",  # TGFB-specific features\n",
    "             \"ANLN\", \"MKI67\", \"TOP2A\", \"KIF11\")\n",
    "genelist = paste0(\"isofox_\", gene_list)\n",
    "\n",
    "label_cors_3EF = input_cors_3EF %>%  \n",
    "    filter(correlation >0.5)  %>% \n",
    "    filter(feature %in% genelist)"
   ]
  },
  {
   "cell_type": "code",
   "execution_count": null,
   "id": "73",
   "metadata": {},
   "outputs": [],
   "source": [
    "label_cors_3EF = rbind(label_cors_3EF, input_cors_3EF  %>% \n",
    "                       filter(correlation > 0.7 & feature %in% lead_sets))  %>% \n",
    "    mutate(label = gsub(\"isofox_|gene_set_\", \"\", feature))  %>% \n",
    "    mutate(label = case_when(label == \"prolif\" ~ \"Proliferation\\npotential\", \n",
    "                             label == \"Pan_TBRS\" ~ \"TGF-beta fibroblasts\", \n",
    "                            .default = label))"
   ]
  },
  {
   "cell_type": "code",
   "execution_count": null,
   "id": "74",
   "metadata": {},
   "outputs": [],
   "source": [
    "fig3f = ggplot(input_cors_3EF %>% drop_na() ,\n",
    "               aes(x =correlation, y = log10_p)) + \n",
    "    geom_point(aes(fill = color, size = size, color = size, alpha = size), \n",
    "               shape = 21, color = \"white\", stroke = 0.3) + \n",
    "    facet_grid2( . ~ cluster, axes = \"y\",\n",
    "                strip = strip_themed(background_x = elem_list_rect(fill = c(\"#8DD3C7\",\"#BEBADA\"), size= 1))) + \n",
    "    geom_text_repel(data = label_cors_3EF, aes(label = label), max.overlaps = Inf, box.padding = 0.4,\n",
    "                   direction = \"y\",hjust = 0, xlim = -0.5, force = 1, size = 5, nudge_y = 1) +\n",
    "    cowplot::theme_cowplot() + \n",
    "    scale_y_continuous(breaks = seq(0,8,2), lim = c(0,10)) + \n",
    "    scale_alpha_manual(values = c(0.6, 1)) +\n",
    "    scale_size_manual(values = c(2.2,4)) +\n",
    "    scale_color_manual(values = c(\"black\", \"black\", \"white\")) + \n",
    "    scale_fill_manual(values = c(\"#e0ba92\", \"#8DD3C7\", \"#BEBADA\")) + # orginal colors: \"#B3DE69\",  \"#FC913A\"\n",
    "    geom_vline(xintercept = 0.5, linetype=\"dashed\", color = \"grey50\", linewidth = .7) +\n",
    "    geom_hline(yintercept = threshold, linetype=\"dashed\", color = \"grey50\", linewidth = .7) +\n",
    "    guides(alpha = \"none\", color = \"none\", size = \"none\", # remove the 'pval size'\n",
    "           fill = guide_legend(title = NULL, override.aes = list(size = 4))) +\n",
    "    theme(strip.background = element_rect(color = \"white\"), legend.justification = \"top\",\n",
    "          legend.box.spacing = margin(-15),\n",
    "          legend.background = element_blank(),\n",
    "          legend.box.background = element_blank(),\n",
    "          strip.text = element_text(color = \"white\", face = \"bold\", size = 10)) +\n",
    "    xlab(\"Correlation to cluster mean\") + ylab(\"\\n-Log10 (p-value) Survival Residuals\")\n",
    "\n",
    "fig3f = annotate_figure(fig3f, fig.lab = \"F\", fig.lab.size = 20, fig.lab.face = \"bold\")\n",
    "fig3f"
   ]
  },
  {
   "cell_type": "markdown",
   "id": "75",
   "metadata": {},
   "source": [
    "### Supplementary figure: Correlation of cluster 3 genes with cluster 2 (TGF-beta)"
   ]
  },
  {
   "cell_type": "code",
   "execution_count": null,
   "id": "76",
   "metadata": {},
   "outputs": [],
   "source": [
    "cl2.2_cors_to_meancl2.1 = input_cors  %>%\n",
    "    filter(feature %in% names(cluster2.2), cluster == \"Expression cluster S2.2\")  %>%\n",
    "    mutate(\"cluster origin\" = \"cluster S2.2\")\n",
    "\n",
    "cl2.1_cors_to_meancl2.2 = input_cors  %>%\n",
    "    filter(feature %in% names(cluster2.1),   \n",
    "           cluster == \"Expression cluster S2.1 = TGF-beta fibroblasts\")  %>%\n",
    "    mutate(\"cluster origin\" = \"cluster S2.1\")\n",
    "\n",
    "cors_cl2.1_2.2 = rbind(cl2.2_cors_to_meancl2.1, cl2.1_cors_to_meancl2.2)"
   ]
  },
  {
   "cell_type": "code",
   "execution_count": null,
   "id": "77",
   "metadata": {},
   "outputs": [],
   "source": [
    "cor_to_cl2 = ggplot(cors_cl2.1_2.2, aes(x = `cluster origin`, y = correlation, fill = `cluster origin`)) +\n",
    "    geom_boxplot(outlier.shape = NULL) +\n",
    "    geom_jitter(width = 0.3) + \n",
    "    theme_bw() + \n",
    "    scale_fill_manual(values = c(\"#BEBADA\", \"#e8e6f2\")) + \n",
    "    xlab(\"\") + ylab(\"Correlation genes to mean expression cluster S2\")\n",
    "cor_to_cl2\n",
    "#ggsave(\"1_figures/figure3/Supplementary_figureX.pdf\", cor_to_cl2, width = 4.5, height = 4.5)\n",
    "#ggsave(\"1_figures/figure3/Supplementary_figureX.png\", cor_to_cl2, width = 4.5, height = 4.5)"
   ]
  },
  {
   "cell_type": "markdown",
   "id": "78",
   "metadata": {},
   "source": [
    "### Figure 3I"
   ]
  },
  {
   "cell_type": "markdown",
   "id": "79",
   "metadata": {},
   "source": [
    "Plot to determine the absence of any other clear features after removing all the significant samples"
   ]
  },
  {
   "cell_type": "markdown",
   "id": "80",
   "metadata": {},
   "source": [
    "### Combining and saving plots"
   ]
  },
  {
   "cell_type": "code",
   "execution_count": null,
   "id": "81",
   "metadata": {},
   "outputs": [],
   "source": [
    "# rsvg_svg(\"/workspace/users/arosendahl/immune_biomarkers/ref/latent_factor_5_full.svg\", \"/workspace/users/arosendahl/immune_biomarkers/ref/latent_factor_5_cairo.svg\")\n",
    "\n",
    "# SVGlogo <- readPicture(\"/workspace/users/arosendahl/immune_biomarkers/ref/latent_factor_5_cairo.svg\")\n",
    "# svg_pic = pictureGrob(SVGlogo, ext=\"gridSVG\", delayContent=FALSE)\n",
    "# svg_pic = annotate_figure(svg_pic, fig.lab = \"G\", fig.lab.size = 20, fig.lab.face = \"bold\") +\n",
    "#     theme(plot.margin=margin(0,0,10,0, unit = \"mm\"))"
   ]
  },
  {
   "cell_type": "code",
   "execution_count": null,
   "id": "82",
   "metadata": {
    "tags": []
   },
   "outputs": [],
   "source": [
    "pl = list(fig3a, fig3b, fig3c, fig3d, fig3e, fig3f)\n",
    "pl = lapply(pl, \"+\", theme(plot.margin=margin(5,5,5,5, unit = \"mm\")))\n",
    "pl[[1]] = pl[[1]] + theme(plot.margin=margin(5,7,7,2, unit = \"mm\"))\n",
    "pl[[3]] = pl[[3]] + theme(plot.margin=margin(5,2,20,2, unit = \"mm\"))\n",
    "pl[[4]] = pl[[4]] + theme(plot.margin=margin(5,2,20,2, unit = \"mm\"))\n",
    "pl[[5]] = pl[[5]] + theme(plot.margin=margin(5,5,20,2, unit = \"mm\"))\n",
    "pl[[6]] = pl[[6]] + theme(plot.margin=margin(5,5,20,2, unit = \"mm\"))\n",
    "\n",
    "top = cowplot::plot_grid(pl[[1]], pl[[2]], ncol = 2)\n",
    "middle = cowplot::plot_grid(pl[[3]], pl[[4]],pl[[5]], ncol = 3, rel_widths = c(1,1,1.35))\n",
    "bottom = cowplot::plot_grid(pl[[6]], NULL, ncol = 2, rel_widths = c(1,0.5)) \n",
    "fig = arrangeGrob(top, middle, bottom, nrow = 3)  \n",
    "\n",
    "ggsave(\"../../final_figures/figure3.png\", fig, width = 16, height = 18, dpi = 1300)\n",
    "ggsave(\"../../final_figures/figure3.pdf\", fig, width = 16, height = 18, dpi = 1300)"
   ]
  },
  {
   "cell_type": "code",
   "execution_count": null,
   "id": "83",
   "metadata": {},
   "outputs": [],
   "source": [
    "options(repr.plot.width = 14, repr.plot.height = 18, repr.plot.res = 200)\n",
    "grid::grid.draw(fig)"
   ]
  }
 ],
 "metadata": {
  "kernelspec": {
   "display_name": "R",
   "language": "R",
   "name": "ir"
  },
  "language_info": {
   "codemirror_mode": "r",
   "file_extension": ".r",
   "mimetype": "text/x-r-source",
   "name": "R",
   "pygments_lexer": "r",
   "version": "3.6.1"
  }
 },
 "nbformat": 4,
 "nbformat_minor": 5
}
