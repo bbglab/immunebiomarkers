{
 "cells": [
  {
   "cell_type": "code",
   "execution_count": null,
   "id": "0",
   "metadata": {},
   "outputs": [],
   "source": [
    "wd <- dirname(dirname(getwd()))\n",
    "source(paste0(wd,\"/mission_control/treasure_map.R\"))\n",
    "\n",
    "library(survival)\n",
    "library(tidyverse)\n",
    "library(RColorBrewer)\n",
    "library(gridExtra)\n",
    "library(ggpubr)"
   ]
  },
  {
   "cell_type": "markdown",
   "id": "1",
   "metadata": {},
   "source": [
    "### 0 - Read in multivariate models output"
   ]
  },
  {
   "cell_type": "code",
   "execution_count": null,
   "id": "2",
   "metadata": {},
   "outputs": [],
   "source": [
    "go <- readRDS(paste0(TMP_DIR, \"forest-ready.Rds\"))  %>% filter(clean_feature != \"Purity\")"
   ]
  },
  {
   "cell_type": "markdown",
   "id": "3",
   "metadata": {},
   "source": [
    "### 1 - Plot Settings"
   ]
  },
  {
   "cell_type": "code",
   "execution_count": null,
   "id": "4",
   "metadata": {},
   "outputs": [],
   "source": [
    "base_theme <- theme_classic(base_size = 21) \n",
    "\n",
    "theme <- (\n",
    "    base_theme + \n",
    "    theme(\n",
    "        axis.title.y=element_blank(), \n",
    "        plot.title = element_text(hjust = 0.5, size =25),#, size = 21),\n",
    "        legend.position=\"none\"\n",
    "    )\n",
    ")"
   ]
  },
  {
   "cell_type": "code",
   "execution_count": null,
   "id": "5",
   "metadata": {},
   "outputs": [],
   "source": [
    "my_palette <- brewer.pal(6,\"RdYlGn\")[c(1,6)]"
   ]
  },
  {
   "cell_type": "code",
   "execution_count": null,
   "id": "6",
   "metadata": {},
   "outputs": [],
   "source": [
    "color_map <- list(\n",
    "    \"yes\" = my_palette[2],\n",
    "    \"no\" = my_palette[1],\n",
    "    \"non\" = \"grey\"\n",
    ")\n",
    "alpha_map <- list(\n",
    "    \"strong\" = 1,\n",
    "    \"moderate\" = 1,\n",
    "    \"weak\" = .4,\n",
    "    \"non\" = .8\n",
    ")\n",
    "feature_color_map <- list(\n",
    "    \"TMB\" = '#80B1D3',\n",
    "    \"T-cell\" = '#FB8072',\n",
    "    \"TGFB\" = \"#BEBADA\",\n",
    "    \"Proliferation\" = \"#8DD3C7\",\n",
    "    \"Pretreatment\" = \"#9E7788\"\n",
    ")"
   ]
  },
  {
   "cell_type": "markdown",
   "id": "7",
   "metadata": {},
   "source": [
    "### 2 - Make Forest plots"
   ]
  },
  {
   "cell_type": "code",
   "execution_count": null,
   "id": "8",
   "metadata": {},
   "outputs": [],
   "source": [
    "plot_maker <- function( df, title = \"HMF CPCT Study\", study = \"clean_study2\" ){\n",
    "    \n",
    "    if( study == \"clean_study\"){\n",
    "        df <- df %>% filter( sets == \"clusters\")\n",
    "    }\n",
    "    \n",
    "    ggplot( df,  \n",
    "        aes_string(x = study, \n",
    "            y= \"est\", \n",
    "            ymin= \"ci_low\", \n",
    "            ymax= \"ci_high\", \n",
    "            linetype = \"sets\",\n",
    "            color = \"better\", \n",
    "            alpha = \"z_group\")\n",
    "      ) +\n",
    "    geom_pointrange(lwd = 1.2) + \n",
    "    geom_hline(yintercept=0, lty=2, col = \"grey\") + \n",
    "    coord_flip() +  \n",
    "    facet_grid( rows = vars(clean_feature), cols = vars(clean_model), scales = \"free\") + \n",
    "    scale_color_manual(values = unlist(color_map)) +\n",
    "    scale_alpha_manual(values = unlist(alpha_map)) +\n",
    "    scale_y_continuous(n.breaks = 4 )  +\n",
    "    ggtitle(title) + \n",
    "    ylab(\"Coefficient Estimate (95% CI)\") + \n",
    "    theme  \n",
    "}"
   ]
  },
  {
   "cell_type": "markdown",
   "id": "9",
   "metadata": {},
   "source": [
    "- Make separate plots for CPCT and non-CPCT"
   ]
  },
  {
   "cell_type": "code",
   "execution_count": null,
   "id": "10",
   "metadata": {},
   "outputs": [],
   "source": [
    "save_the_forests <- list()"
   ]
  },
  {
   "cell_type": "code",
   "execution_count": null,
   "id": "11",
   "metadata": {},
   "outputs": [],
   "source": [
    "for (i in c(\"multi\", \"single\")){\n",
    "    ready <- if( i == \"multi\"){ go %>% filter(features == \"all\" )} else {go %>% filter(features != \"all\" )}\n",
    "    for( j in c(\"clean_study\", \"clean_study2\")){\n",
    "        save_the_forests[[i]][[j]][['cpct']] <- (\n",
    "            plot_maker( ready %>% filter( grepl(\"CPCT\", cohort) ),  title = \"HMF CPI\", study = j))\n",
    "        save_the_forests[[i]][[j]][['external']] <- (\n",
    "            plot_maker( ready %>% filter( ! grepl(\"CPCT\", cohort) ),  title = \"Validation Cohorts\", study = j))\n",
    "    }\n",
    "}"
   ]
  },
  {
   "cell_type": "code",
   "execution_count": null,
   "id": "12",
   "metadata": {},
   "outputs": [],
   "source": [
    "saveRDS( save_the_forests, paste0(FIG_DIR, \"figure4-and-supplement-forest-plots.Rds\"))"
   ]
  },
  {
   "cell_type": "markdown",
   "id": "13",
   "metadata": {},
   "source": [
    "##### Add color to strips"
   ]
  },
  {
   "cell_type": "code",
   "execution_count": null,
   "id": "14",
   "metadata": {},
   "outputs": [],
   "source": [
    "color_strips <- function(gg){\n",
    "  g <- ggplot_gtable(ggplot_build(gg))\n",
    "  strips <- which(grepl('strip', g$layout$name))\n",
    "  pal <- c(\"white\", \"white\",unlist(feature_color_map))\n",
    "  for (i in seq_along(strips)) {\n",
    "    k <- which(grepl('rect', g$grobs[[strips[i]]]$grobs[[1]]$childrenOrder))\n",
    "    g$grobs[[strips[i]]]$grobs[[1]]$children[[k]]$gp$fill <- pal[i] \n",
    "  } \n",
    "  as_ggplot(g)\n",
    "}"
   ]
  },
  {
   "cell_type": "markdown",
   "id": "15",
   "metadata": {},
   "source": [
    "### 3 - Let's see it together!"
   ]
  },
  {
   "cell_type": "code",
   "execution_count": null,
   "id": "16",
   "metadata": {},
   "outputs": [],
   "source": [
    "layout_matrix = rbind(c(rep(1,11), rep(2,12)))"
   ]
  },
  {
   "cell_type": "code",
   "execution_count": null,
   "id": "17",
   "metadata": {},
   "outputs": [],
   "source": [
    "plot_together <- function( p1, p2, layout = layout_matrix, title ){\n",
    "    step1 <- as_ggplot(\n",
    "        arrangeGrob(color_strips(p1) + theme(plot.margin = margin(0,1,0,1, \"cm\")), \n",
    "                    color_strips(p2) + theme(plot.margin = margin(0,1,0,1, \"cm\"))\n",
    "    , layout_matrix = layout_matrix))\n",
    "    \n",
    "    ready <- ( step1 \n",
    "        + theme(plot.margin = margin(0,0,0,0, \"cm\"), plot.title = element_text(hjust = 0.5, size =25)) \n",
    "        + ggtitle(title)\n",
    "    )\n",
    "    ready\n",
    "}"
   ]
  },
  {
   "cell_type": "markdown",
   "id": "18",
   "metadata": {},
   "source": [
    "### 4 - View and send them!"
   ]
  },
  {
   "cell_type": "code",
   "execution_count": null,
   "id": "19",
   "metadata": {},
   "outputs": [],
   "source": [
    "options(repr.plot.width = 20, repr.plot.height= 12, resolution = 200)\n",
    "figure4 <- plot_together( save_the_forests$multi$clean_study$cpct, save_the_forests$multi$clean_study$external,\n",
    "               title = \"Multivariate Model Estimates\")\n",
    "figure4"
   ]
  },
  {
   "cell_type": "code",
   "execution_count": null,
   "id": "20",
   "metadata": {},
   "outputs": [],
   "source": [
    "options(repr.plot.width = 20, repr.plot.height= 12, resolution = 200)\n",
    "figure4 <- plot_together( save_the_forests$multi$clean_study$cpct, save_the_forests$multi$clean_study$external,\n",
    "               title = \"Multivariate Model Estimates\")\n",
    "figure4\n",
    "ggsave( paste0(FIG_FINAL_DIR, \"figure4.png\"), width = 20, height = 12)"
   ]
  },
  {
   "cell_type": "code",
   "execution_count": null,
   "id": "21",
   "metadata": {},
   "outputs": [],
   "source": [
    "#FIG_FINAL_DIR"
   ]
  },
  {
   "cell_type": "code",
   "execution_count": null,
   "id": "22",
   "metadata": {},
   "outputs": [],
   "source": [
    "options(repr.plot.width = 20, repr.plot.height= 20, resolution = 200)\n",
    "plot_together( save_the_forests$multi$clean_study2$cpct, \n",
    "               save_the_forests$multi$clean_study2$external, \n",
    "               title = \"Multivariate Model Estimates\")\n",
    "ggsave( paste0(FIG_FINAL_DIR, \"7_forest_plot_sets_clusters.png\"), width = 20, height = 20)"
   ]
  },
  {
   "cell_type": "code",
   "execution_count": null,
   "id": "23",
   "metadata": {},
   "outputs": [],
   "source": [
    "options(repr.plot.width = 20, repr.plot.height= 12, resolution = 200)\n",
    "forest_uni <- plot_together( save_the_forests$single$clean_study$cpct, \n",
    "               save_the_forests$single$clean_study$external, \n",
    "               title = \"Univariate Model Estimates\")\n",
    "saveRDS( forest_uni, paste0(FIG_DIR, \"supplement_forest_univariate.Rds\"))\n",
    "#ggsave( paste0(FIG_FINAL_DIR, \"7_forest_plot_supp_univariate.png\"), width = 20, height = 12)"
   ]
  }
 ],
 "metadata": {
  "kernelspec": {
   "display_name": "R",
   "language": "R",
   "name": "ir"
  },
  "language_info": {
   "codemirror_mode": "r",
   "file_extension": ".r",
   "mimetype": "text/x-r-source",
   "name": "R",
   "pygments_lexer": "r",
   "version": "3.6.1"
  }
 },
 "nbformat": 4,
 "nbformat_minor": 5
}
