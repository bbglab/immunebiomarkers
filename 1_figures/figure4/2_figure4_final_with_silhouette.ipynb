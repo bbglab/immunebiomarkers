{
 "cells": [
  {
   "cell_type": "code",
   "execution_count": null,
   "id": "0",
   "metadata": {},
   "outputs": [],
   "source": [
    "wd <- dirname(dirname(getwd()))"
   ]
  },
  {
   "cell_type": "code",
   "execution_count": null,
   "id": "1",
   "metadata": {},
   "outputs": [],
   "source": [
    "source(paste0(wd,\"/mission_control/treasure_map.R\"))"
   ]
  },
  {
   "cell_type": "code",
   "execution_count": null,
   "id": "2",
   "metadata": {},
   "outputs": [],
   "source": [
    "suppressMessages(library(tidyverse))\n",
    "suppressMessages(library(RobustRankAggreg))\n",
    "suppressMessages(library(cluster))\n",
    "suppressMessages(library(ggrepel))\n",
    "suppressMessages(library(gridExtra))\n",
    "suppressMessages(library(ggpubr))\n",
    "library(grid)"
   ]
  },
  {
   "cell_type": "markdown",
   "id": "3",
   "metadata": {},
   "source": [
    "### 0 - Read in Data for Silhouette"
   ]
  },
  {
   "cell_type": "code",
   "execution_count": null,
   "id": "4",
   "metadata": {},
   "outputs": [],
   "source": [
    "#Download exhaustive results and RNA data\n",
    "ingredients <- readRDS(paste0(TMP_DIR,\"exhaustive-plots-base.Rds\"))\n",
    "threshold <- -log10(ingredients$by_05_fdr)[1]\n",
    "ready <- readRDS(paste0(I_DIR, \"cpi_go.Rds\"))"
   ]
  },
  {
   "cell_type": "markdown",
   "id": "5",
   "metadata": {},
   "source": [
    "### 1 - Calculate Silhouette Scores HMF"
   ]
  },
  {
   "cell_type": "code",
   "execution_count": null,
   "id": "6",
   "metadata": {},
   "outputs": [],
   "source": [
    "#select significant features from BOR analysis\n",
    "##only RNA features\n",
    "##only genes (no genesets, no cybersort)\n",
    "##only with positive correlation\n",
    "bor_rna<-ingredients %>% filter(model == \"bor\", dataset == \"all\", covariates == \"age_biopsy_purity_tissue\", p_val <= by_05_fdr,big_group==\"RNA\", Group == \"Gene\") %>% arrange(p_val)\n",
    "bor_rna<-bor_rna %>% filter(!grepl('tmb|tcell|pretreat|tgfb|prolif', feature))\n",
    "bor_rna<-bor_rna %>% filter(plot_est >= 1)\n",
    "nrow(bor_rna)"
   ]
  },
  {
   "cell_type": "code",
   "execution_count": null,
   "id": "7",
   "metadata": {},
   "outputs": [],
   "source": [
    "#select significant features from OS residuals analysis\n",
    "##only RNA features\n",
    "##only genes (no genesets, no cybersort)\n",
    "##with correlation less than 0.5 with tmb, pretreat and tcell\n",
    "os_resid_rna <- ingredients %>% filter(model == \"os\", dataset == \"all\", covariates == \"residuals\",p_val <= by_05_fdr) \n",
    "os_resid_rna <- os_resid_rna %>% filter(cor_pretreat < 0.5, cor_tmb < 0.5, cor_tcell < 0.5)\n",
    "os_resid_rna <- os_resid_rna %>% filter(big_group==\"RNA\", Group == \"Gene\")\n",
    "os_resid_rna <- os_resid_rna %>% filter(!grepl('tmb|tcell|pretreat|tgfb|prolif', feature))\n",
    "nrow(os_resid_rna)"
   ]
  },
  {
   "cell_type": "code",
   "execution_count": null,
   "id": "8",
   "metadata": {},
   "outputs": [],
   "source": [
    "#small function to calculate distances from correlations\n",
    "calc_dist <- function(cor_matrix){\n",
    "    dist <- dist(sqrt(1 - abs(cor_matrix)))\n",
    "    return(dist)\n",
    "}"
   ]
  },
  {
   "cell_type": "code",
   "execution_count": null,
   "id": "9",
   "metadata": {},
   "outputs": [],
   "source": [
    "#extract RNA data for selected features, correlate them and calculate distance \n",
    "silhouette_cor_go <- ready %>% select(all_of(c(os_resid_rna$feature, bor_rna$feature)))  %>% drop_na() \n",
    "full_cor_matrix = cor(as.matrix(silhouette_cor_go))\n",
    "full_dist_matrix= calc_dist(full_cor_matrix)"
   ]
  },
  {
   "cell_type": "code",
   "execution_count": null,
   "id": "10",
   "metadata": {},
   "outputs": [],
   "source": [
    "#visualize correlations\n",
    "heatmap(full_cor_matrix, distfun = calc_dist,hclustfun = function(d) hclust(d, method = \"ward.D2\"))"
   ]
  },
  {
   "cell_type": "code",
   "execution_count": null,
   "id": "11",
   "metadata": {},
   "outputs": [],
   "source": [
    "#Cluster features based on correlations\n",
    "full_clustering <- cutree(hclust(full_dist_matrix,method = \"ward.D2\"), k = 5)\n",
    "table(full_clustering)"
   ]
  },
  {
   "cell_type": "code",
   "execution_count": null,
   "id": "12",
   "metadata": {},
   "outputs": [],
   "source": [
    "#exclude features of cluster2 (those that have low correlations to everything) from correlation matrix, repeat clutering\n",
    "cor_matrix_silhouette <- (full_cor_matrix[full_clustering !=2,full_clustering !=2])\n",
    "dist_matrix_silhouette = calc_dist(cor_matrix_silhouette)"
   ]
  },
  {
   "cell_type": "code",
   "execution_count": null,
   "id": "13",
   "metadata": {},
   "outputs": [],
   "source": [
    "#visualize correlations\n",
    "heatmap(cor_matrix_silhouette, distfun = calc_dist,hclustfun = function(d) hclust(d, method = \"ward.D2\"))"
   ]
  },
  {
   "cell_type": "code",
   "execution_count": null,
   "id": "14",
   "metadata": {},
   "outputs": [],
   "source": [
    "#cut tree in 3 clusters\n",
    "clustering_silhouette <- cutree(hclust(dist_matrix_silhouette,method = \"ward.D2\"), k = 3)"
   ]
  },
  {
   "cell_type": "markdown",
   "id": "15",
   "metadata": {},
   "source": [
    "#### 1.2 Calculate silhouette scores for HMF"
   ]
  },
  {
   "cell_type": "code",
   "execution_count": null,
   "id": "16",
   "metadata": {},
   "outputs": [],
   "source": [
    "calculate_silhuette_scores <- function(df_name, cor_matrix, clustering) {\n",
    "    dist_matrix = calc_dist(cor_matrix)\n",
    "    sw_cur <- silhouette(clustering, dist_matrix)\n",
    "    sw_df_cur <- as.data.frame.matrix(sw_cur)\n",
    "    sw_df_cur$cluster_annotated = ifelse(sw_df_cur$cluster == 1, \"proliferation\", ifelse(sw_df_cur$cluster == 2, \"tgfb\", \"tcell\"))\n",
    "    sw_df_cur$gene = colnames(cor_matrix)\n",
    "    sw_df_cur$dataset = df_name\n",
    "    if (df_name == \"HMF\"){\n",
    "        sw_df_cur$gene_name = apply(sw_df_cur, 1, function(x) str_split(x[5], \"_\")[[1]][2])\n",
    "        }else(\n",
    "        sw_df_cur$gene_name = sw_df_cur$gene\n",
    "    )\n",
    "    return(sw_df_cur) \n",
    "}"
   ]
  },
  {
   "cell_type": "code",
   "execution_count": null,
   "id": "17",
   "metadata": {},
   "outputs": [],
   "source": [
    "sw_df <- as.data.frame(calculate_silhuette_scores(\"HMF\", cor_matrix_silhouette, clustering_silhouette))"
   ]
  },
  {
   "cell_type": "code",
   "execution_count": null,
   "id": "18",
   "metadata": {},
   "outputs": [],
   "source": [
    "#order genes by decrease of silhuette score\n",
    "gene_levels = sw_df[order(sw_df$sil_width),]$gene_name"
   ]
  },
  {
   "cell_type": "markdown",
   "id": "19",
   "metadata": {},
   "source": [
    "### 2 - Calculate Silhouette External Datasets"
   ]
  },
  {
   "cell_type": "code",
   "execution_count": null,
   "id": "20",
   "metadata": {},
   "outputs": [],
   "source": [
    "setwd(TMP_DIR)"
   ]
  },
  {
   "cell_type": "code",
   "execution_count": null,
   "id": "21",
   "metadata": {},
   "outputs": [],
   "source": [
    "#Download RNA data for other datasets\n",
    "hmf_df <- readRDS('rna_hmf.Rds')   ### log-transformed\n",
    "inspire_df <- readRDS('rna_inspire.Rds') ### some transformation\n",
    "mariathasan_df <- readRDS('rna_mariathasan.Rds')  ### raw\n",
    "parker_df <- readRDS('rna_parker.Rds') ### raw - probably log or log2 transformed\n",
    "ravi_df <- readRDS('rna_ravi.Rds')  ### ravi - raw?\n",
    "lyon_df <- readRDS('rna_lyon.Rds')  ### log2 transformations"
   ]
  },
  {
   "cell_type": "code",
   "execution_count": null,
   "id": "22",
   "metadata": {},
   "outputs": [],
   "source": [
    "#Function to calculate silhuette scores in external datasets \n",
    "#Clustering is the same as in HMF dataset!!!\n",
    "calculate_silhuette_scores_external <- function(df_name, df, hmf_silhuette_result){\n",
    "    if (df_name == \"mariathasan\"|df_name == \"ravi\"){\n",
    "        df = log(df+1)}\n",
    "    silhouette_cor_go_cur <- df %>% select(any_of(hmf_silhuette_result$gene_name))  %>% drop_na() \n",
    "    cor_matrix_silhouette_cur = cor(as.matrix(silhouette_cor_go_cur))\n",
    "    dist_matrix_silhouette_cur = calc_dist(cor_matrix_silhouette_cur)\n",
    "    cor_matrix_silhouette_cur_df = as.data.frame(cor_matrix_silhouette_cur)\n",
    "    cor_matrix_silhouette_cur_df$gene_name = rownames(cor_matrix_silhouette_cur_df)\n",
    "    cur_clustering = merge(cor_matrix_silhouette_cur_df[,c(\"CCDC3\",\"gene_name\")],hmf_silhuette_result[,c(\"gene_name\", \"cluster\",\"cluster_annotated\")], by=\"gene_name\" , sort=FALSE)\n",
    "    cur_result <- calculate_silhuette_scores(df_name, cor_matrix_silhouette_cur, cur_clustering$cluster)\n",
    "    return(cur_result)\n",
    "}"
   ]
  },
  {
   "cell_type": "code",
   "execution_count": null,
   "id": "23",
   "metadata": {},
   "outputs": [],
   "source": [
    "#calculate silhouettes in external datasets \n",
    "sw_df_mariathasan <- calculate_silhuette_scores_external(\"mariathasan\", mariathasan_df, sw_df)\n",
    "sw_df_parker <- calculate_silhuette_scores_external(\"parker\", parker_df, sw_df)\n",
    "sw_df_ravi <- calculate_silhuette_scores_external(\"ravi\", ravi_df, sw_df)\n",
    "sw_df_inspire <- calculate_silhuette_scores_external(\"inspire\", inspire_df, sw_df)"
   ]
  },
  {
   "cell_type": "code",
   "execution_count": null,
   "id": "24",
   "metadata": {},
   "outputs": [],
   "source": [
    "#merge results\n",
    "result = rbind(sw_df, sw_df_mariathasan)\n",
    "result = rbind(result, sw_df_parker)\n",
    "result = rbind(result, sw_df_ravi)\n",
    "result = rbind(result, sw_df_inspire)\n",
    "head(result)"
   ]
  },
  {
   "cell_type": "code",
   "execution_count": null,
   "id": "25",
   "metadata": {},
   "outputs": [],
   "source": [
    "#vizualize silhouette values in different datasets ()\n",
    "plot_boxplot<-(ggplot(result, aes(x=dataset, y=sil_width, fill=cluster_annotated))\n",
    "     + geom_boxplot() \n",
    "     + facet_wrap(~factor(cluster_annotated, levels = c(\"tcell\",\"proliferation\",\"tgfb\")))\n",
    "    + theme_bw()\n",
    "    + scale_fill_manual(values = c(\"#8DD3C7\", \"#FB8072\", \"#BEBADA\"),name=\"\")\n",
    "    + theme(legend.position = \"none\")\n",
    ")\n",
    "#plot_boxplot"
   ]
  },
  {
   "cell_type": "markdown",
   "id": "26",
   "metadata": {},
   "source": [
    "#### 2.2 Consistency of silhouette values in external datasets"
   ]
  },
  {
   "cell_type": "code",
   "execution_count": null,
   "id": "27",
   "metadata": {},
   "outputs": [],
   "source": [
    "# Merge silhouette results for all datasets in one table for ranking analysis\n",
    "for_ranking = merge(sw_df, sw_df_mariathasan[,c(7,3)], by=\"gene_name\", all=TRUE, suffixes = c(\".HMF\", \".mariathasan\"))\n",
    "for_ranking = merge(for_ranking, sw_df_parker[,c(7,3)], by=\"gene_name\", all=TRUE)\n",
    "colnames(for_ranking)[ncol(for_ranking)]<-\"sil_width.parker\"\n",
    "for_ranking = merge(for_ranking, sw_df_ravi[,c(7,3)], by=\"gene_name\", all=TRUE)\n",
    "colnames(for_ranking)[ncol(for_ranking)]<-\"sil_width.ravi\"\n",
    "for_ranking = merge(for_ranking, sw_df_inspire[,c(7,3)], by=\"gene_name\", all=TRUE)\n",
    "colnames(for_ranking)[ncol(for_ranking)]<-\"sil_width.inspire\""
   ]
  },
  {
   "cell_type": "code",
   "execution_count": null,
   "id": "28",
   "metadata": {},
   "outputs": [],
   "source": [
    "# Subset RNA clusters (t-cell, proliferation and tgfb) as we want to make ranking separately in each cluster\n",
    "for_ranking_tcell = for_ranking[for_ranking$cluster_annotated == \"tcell\",]\n",
    "for_ranking_prolif = for_ranking[for_ranking$cluster_annotated == \"proliferation\",]\n",
    "for_ranking_tgfb = for_ranking[for_ranking$cluster_annotated == \"tgfb\",]"
   ]
  },
  {
   "cell_type": "code",
   "execution_count": null,
   "id": "29",
   "metadata": {},
   "outputs": [],
   "source": [
    "#function for aggregation of ranks \n",
    "#uses \"aggregateRanks\" function from \"aggregateRanks\" package\n",
    "aggregate_external_ranks <- function(input_df){\n",
    "    input_df$rank.mariathasan <- rank(input_df$sil_width.mariathasan, na.last=\"keep\")\n",
    "    input_df$rank.parker <- rank(input_df$sil_width.parker, na.last=\"keep\")\n",
    "    input_df$rank.ravi <- rank(input_df$sil_width.ravi, na.last=\"keep\")\n",
    "    input_df$rank.inspire <- rank(input_df$sil_width.inspire, na.last=\"keep\")\n",
    "    ranked_list_mariathasan <- input_df$gene_name[!is.na(input_df$rank.mariathasan)][order(-input_df$rank.mariathasan[!is.na(input_df$rank.mariathasan)])]\n",
    "    ranked_list_parker <- input_df$gene_name[!is.na(input_df$rank.parker)][order(-input_df$rank.parker[!is.na(input_df$rank.parker)])]\n",
    "    ranked_list_ravi <-input_df$gene_name[!is.na(input_df$rank.ravi)][order(-input_df$rank.ravi[!is.na(input_df$rank.ravi)])]\n",
    "    ranked_list_inspire <-input_df$gene_name[!is.na(input_df$rank.inspire)][order(-input_df$rank.inspire[!is.na(input_df$rank.inspire)])]\n",
    "    glist<-list(ranked_list_mariathasan,ranked_list_parker,ranked_list_ravi,ranked_list_inspire)\n",
    "    merged_ranks<-aggregateRanks(glist = glist, N = nrow(input_df), full=FALSE, method = \"stuart\")\n",
    "    result=merge(merged_ranks, input_df, by.x=\"Name\", by.y=\"gene_name\")\n",
    "    result$n_sets_present = apply(result, 1, function(a) {4-sum(is.na(a[c(\"sil_width.mariathasan\",\"sil_width.parker\",\"sil_width.inspire\",\"sil_width.ravi\")]))})\n",
    "    return(result)\n",
    "}"
   ]
  },
  {
   "cell_type": "code",
   "execution_count": null,
   "id": "30",
   "metadata": {},
   "outputs": [],
   "source": [
    "#aggregate ranks in each cluster\n",
    "#column \"Score\" contains aggregated scores\n",
    "merged_ranks_tcell <- aggregate_external_ranks(for_ranking_tcell)\n",
    "merged_ranks_prolif <- aggregate_external_ranks(for_ranking_prolif)\n",
    "merged_ranks_tgfb <- aggregate_external_ranks(for_ranking_tgfb)"
   ]
  },
  {
   "cell_type": "code",
   "execution_count": null,
   "id": "31",
   "metadata": {},
   "outputs": [],
   "source": [
    "#merge results for all cluaters in one table\n",
    "merged_ranks <- rbind(merged_ranks_tcell,merged_ranks_prolif)\n",
    "merged_ranks <- rbind(merged_ranks, merged_ranks_tgfb)\n",
    "merged_ranks$Name = as.vector(merged_ranks$Name)"
   ]
  },
  {
   "cell_type": "markdown",
   "id": "32",
   "metadata": {},
   "source": [
    "#### 2.3 Create illustrative plot for aggregation of ranks on tgfb cluster example"
   ]
  },
  {
   "cell_type": "code",
   "execution_count": null,
   "id": "33",
   "metadata": {},
   "outputs": [],
   "source": [
    "#select two example genes\n",
    "merged_ranks_tgfb$color = ifelse(merged_ranks_tgfb$Name == \"THY1\", \"high\", ifelse(merged_ranks_tgfb$Name == \"GGT5\", \"low\", \"other\"))"
   ]
  },
  {
   "cell_type": "code",
   "execution_count": null,
   "id": "34",
   "metadata": {},
   "outputs": [],
   "source": [
    "#sort gene names in each dataset by silhouette values within dataset\n",
    "HMF_sort = merged_ranks_tgfb[order(merged_ranks_tgfb$sil_width.HMF,na.last=F),]$Name\n",
    "inspire_sort = merged_ranks_tgfb[order(merged_ranks_tgfb$sil_width.inspire,na.last=F),]$Name\n",
    "mariathasan_sort = merged_ranks_tgfb[order(merged_ranks_tgfb$sil_width.mariathasan,na.last=F),]$Name\n",
    "parker_sort = merged_ranks_tgfb[order(merged_ranks_tgfb$sil_width.parker,na.last=F),]$Name\n",
    "ravi_sort = merged_ranks_tgfb[order(merged_ranks_tgfb$sil_width.ravi,na.last=F),]$Name\n",
    "score_sort = merged_ranks_tgfb[order(-merged_ranks_tgfb$Score,na.last=F),]$Name"
   ]
  },
  {
   "cell_type": "code",
   "execution_count": null,
   "id": "35",
   "metadata": {},
   "outputs": [],
   "source": [
    "#function to plot silhouette values in each dataset sorted by silhuette values\n",
    "plot_sil_dataset <- function(title, df_name, df_merged_ranks, sort_vector){\n",
    "    plot <- (ggplot(df_merged_ranks, \n",
    "                    aes(x=factor(Name, levels = sort_vector),\n",
    "                        y=get(paste(\"sil_width\", df_name, sep=\".\")), \n",
    "                        fill=color)) \n",
    "    + geom_bar(stat = \"identity\") \n",
    "    + scale_alpha_manual(values = c(1,0.5))\n",
    "    + theme_bw(base_size = 24) + theme(plot.title = element_text(hjust = .5), plot.margin = margin(0,0,0,0, \"cm\"))\n",
    "    + coord_flip()\n",
    "    + xlab(\"\")\n",
    "    + ylab(\"Silhouette score\")\n",
    "    + theme(panel.grid.major = element_blank(),panel.grid.minor = element_blank(),\n",
    "            axis.text.y=element_text(size=10),axis.text.x=element_text(size=10), axis.title.x=element_text(size=16),\n",
    "            legend.position = \"none\",plot.title = element_text(size = 20))\n",
    "    + scale_fill_manual(values = c(\"#a29adb\",\"#BEBADA\",\"lightgrey\"))\n",
    "    + ggtitle(title)\n",
    ")\n",
    "    return(plot)\n",
    "}"
   ]
  },
  {
   "cell_type": "code",
   "execution_count": null,
   "id": "36",
   "metadata": {},
   "outputs": [],
   "source": [
    "#plot silhouette values in each dataset and aggregated scores\n",
    "p_hmf <- plot_sil_dataset(\"HMF CPI\", \"HMF\", merged_ranks_tgfb, HMF_sort)\n",
    "p_inspire <- plot_sil_dataset(\"INSPIRE\", \"inspire\", merged_ranks_tgfb, inspire_sort)\n",
    "p_mariathasan <- plot_sil_dataset(\"MARIATHASAN\", \"mariathasan\", merged_ranks_tgfb, mariathasan_sort)\n",
    "p_parker <- plot_sil_dataset(\"PARKER-ICI\", \"parker\", merged_ranks_tgfb, parker_sort)\n",
    "p_ravi <- plot_sil_dataset(\"RAVI\", \"ravi\", merged_ranks_tgfb, ravi_sort)\n",
    "\n",
    "p_agg<-(ggplot(merged_ranks_tgfb, aes(x=factor(Name, levels = score_sort),y=-log10(Score), fill=color)) \n",
    "    + geom_bar(stat = \"identity\") \n",
    "    + scale_alpha_manual(values = c(1,0.5))\n",
    "    + theme_bw() + theme(plot.title = element_text(hjust = .5), plot.margin = margin(0,0,0,0, \"cm\"))\n",
    "    + coord_flip()\n",
    "    + xlab(\"\")\n",
    "    + ylab(\"silhuette score\")\n",
    "    + theme(, panel.grid.major = element_blank(),panel.grid.minor = element_blank(), \n",
    "            axis.text.y=element_text(size=10),axis.text.x=element_text(size=10), axis.title.x=element_text(size=16),\n",
    "            legend.position = \"none\",plot.title = element_text(size = 18))\n",
    "    + scale_fill_manual(values = c(\"#a29adb\",\"#BEBADA\",\"lightgrey\"))\n",
    "    + ylab(\"Aggregate Score\")\n",
    "    + ggtitle(\"Rank aggregation\")\n",
    ")"
   ]
  },
  {
   "cell_type": "code",
   "execution_count": null,
   "id": "37",
   "metadata": {},
   "outputs": [],
   "source": [
    "img <- png::readPNG(RCurl::getURLContent(\"https://openclipart.org/image/400px/113191\"), native = FALSE)\n",
    "arrow_logo <- rasterGrob(img, width = unit(1,\"npc\"), height=unit(0.2,\"npc\"))"
   ]
  },
  {
   "cell_type": "code",
   "execution_count": null,
   "id": "38",
   "metadata": {},
   "outputs": [],
   "source": [
    "#aggregated plot\n",
    "sil_aggragetion<-arrangeGrob(p_hmf, p_inspire, p_mariathasan, p_parker, p_ravi, arrow_logo, p_agg, nrow=1, widths=c(1,1,1,1,1,0.2,1))"
   ]
  },
  {
   "cell_type": "code",
   "execution_count": null,
   "id": "39",
   "metadata": {},
   "outputs": [],
   "source": [
    "#p_inspire"
   ]
  },
  {
   "cell_type": "markdown",
   "id": "40",
   "metadata": {},
   "source": [
    "#### 2.4 Plot silhouette scores in HMF against aggragated scores"
   ]
  },
  {
   "cell_type": "code",
   "execution_count": null,
   "id": "41",
   "metadata": {},
   "outputs": [],
   "source": [
    "merged_ranks$color_high = ifelse(merged_ranks$cluster_annotated == \"tcell\", \"#f55b49\", ifelse(merged_ranks$cluster_annotated == \"prolifereation\", \"#3dccb4\",\"#a29adb\"))\n",
    "merged_ranks$color_low = ifelse(merged_ranks$cluster_annotated == \"tcell\", \"#FB8072\", ifelse(merged_ranks$cluster_annotated == \"prolifereation\", \"#8DD3C7\",\"#BEBADA\"))"
   ]
  },
  {
   "cell_type": "code",
   "execution_count": null,
   "id": "42",
   "metadata": {},
   "outputs": [],
   "source": [
    "name_map <- list(\"tcell\" = \"T-cell\", \"tgfb\" = \"TGFB\", \"proliferation\" = \"Proliferation\")\n",
    "mapper <- function(i) name_map[[i]]\n",
    "merged_ranks <- merged_ranks %>% rowwise() %>% mutate(cluster_annotated = factor(mapper(cluster_annotated), levels = c(\"T-cell\", \"TGFB\", \"Proliferation\")))"
   ]
  },
  {
   "cell_type": "code",
   "execution_count": null,
   "id": "43",
   "metadata": {},
   "outputs": [],
   "source": [
    "feature_color_map <- list(\n",
    "    \"T-cell\" = '#FB8072',\n",
    "    \"TGFB\" = \"#BEBADA\",\n",
    "    \"Proliferation\" = \"#8DD3C7\"\n",
    ")"
   ]
  },
  {
   "cell_type": "code",
   "execution_count": null,
   "id": "44",
   "metadata": {},
   "outputs": [],
   "source": [
    "ranks_agg_plot<-(ggplot(merged_ranks, aes(y=-log10(Score), x=sil_width.HMF, col=cluster_annotated))#, alpha = -log(Score))) \n",
    "    + geom_point(size = 5) \n",
    "    + facet_wrap(~factor(cluster_annotated, levels = c(\"T-cell\",\"TGFB\", \"Proliferation\")), scales = \"free\")\n",
    "    + theme_bw(base_size = 24)\n",
    "    + ylab(\"Aggregate Score\")\n",
    "    + xlab(\"Silhouette score in HMF CPI Study\")\n",
    "    + geom_text_repel(aes(label = ifelse(Score <= 0.01, Name, \"\")), size=6, col=\"grey20\", alpha=1 ,max.overlaps=Inf,box.padding = 0.2)\n",
    "    #+ geom_text(aes(label = ifelse(Score <= 0.015, Name, \"\")), size=3, col=\"grey20\", alpha=1)             \n",
    "    + scale_color_manual(values = unlist(feature_color_map))\n",
    "    + scale_alpha_continuous(range = c(0.3, 1))\n",
    "    + theme(legend.position=\"none\", panel.grid.major = element_blank(),panel.grid.minor = element_blank())\n",
    ")\n",
    "#ranks_agg_plot"
   ]
  },
  {
   "cell_type": "markdown",
   "id": "45",
   "metadata": {},
   "source": [
    "- Add color strips to panels"
   ]
  },
  {
   "cell_type": "code",
   "execution_count": null,
   "id": "46",
   "metadata": {},
   "outputs": [],
   "source": [
    "color_strips <- function(gg){\n",
    "  g <- ggplot_gtable(ggplot_build(gg))\n",
    "  strips <- which(grepl('strip', g$layout$name))\n",
    "  pal <- c( '#FB8072', \"#BEBADA\", \"#8DD3C7\")\n",
    "  for (i in seq_along(strips)) {\n",
    "    k <- which(grepl('rect', g$grobs[[strips[i]]]$grobs[[1]]$childrenOrder))\n",
    "    g$grobs[[strips[i]]]$grobs[[1]]$children[[k]]$gp$fill <- pal[i] \n",
    "  } \n",
    "  as_ggplot(g)\n",
    "}"
   ]
  },
  {
   "cell_type": "code",
   "execution_count": null,
   "id": "47",
   "metadata": {},
   "outputs": [],
   "source": [
    "ranks_agg_plot <- color_strips(ranks_agg_plot)"
   ]
  },
  {
   "cell_type": "markdown",
   "id": "48",
   "metadata": {},
   "source": [
    "### 3 - Final Silhouette figure"
   ]
  },
  {
   "cell_type": "code",
   "execution_count": null,
   "id": "49",
   "metadata": {},
   "outputs": [],
   "source": [
    "silhouette <- as_ggplot(arrangeGrob(as_ggplot(sil_aggragetion),ranks_agg_plot, layout_matrix = cbind(c(1,1,1,1,2,2,2,2,2)))) + theme(plot.title = element_text(vjust = 3, size = 24))"
   ]
  },
  {
   "cell_type": "markdown",
   "id": "50",
   "metadata": {},
   "source": [
    "- GGrepel is lost when save as .Rds.."
   ]
  },
  {
   "cell_type": "code",
   "execution_count": null,
   "id": "51",
   "metadata": {},
   "outputs": [],
   "source": [
    "saveRDS( silhouette, paste0(FIG_DIR, \"figure4-and-silhouettes.Rds\"))"
   ]
  },
  {
   "cell_type": "markdown",
   "id": "52",
   "metadata": {},
   "source": [
    "### 4 - Create Final Figure 4"
   ]
  },
  {
   "cell_type": "code",
   "execution_count": null,
   "id": "53",
   "metadata": {},
   "outputs": [],
   "source": [
    "forest_plots <- readRDS(paste0(FIG_DIR, \"supplement_forest_univariate.Rds\"))"
   ]
  },
  {
   "cell_type": "code",
   "execution_count": null,
   "id": "54",
   "metadata": {},
   "outputs": [],
   "source": [
    "annote <- function( i, lab ) annotate_figure( i, fig.lab = lab, fig.lab.size = 20, fig.lab.face = \"bold\")"
   ]
  },
  {
   "cell_type": "code",
   "execution_count": null,
   "id": "55",
   "metadata": {},
   "outputs": [],
   "source": [
    "plot_a <- annote(forest_plots  + theme(plot.margin = unit(c(0,0,2,0), \"cm\")), \"A\")\n",
    "plot_b <- annote( silhouette + ggtitle(\"Silhouette Scores: Stability of trascriptomics-based latent factors\"), \"B\")"
   ]
  },
  {
   "cell_type": "code",
   "execution_count": null,
   "id": "56",
   "metadata": {},
   "outputs": [],
   "source": [
    "figure7_supp <- as_ggplot(arrangeGrob(plot_a, plot_b))"
   ]
  },
  {
   "cell_type": "code",
   "execution_count": null,
   "id": "57",
   "metadata": {},
   "outputs": [],
   "source": [
    "FIG_FINAL_DIR"
   ]
  },
  {
   "cell_type": "code",
   "execution_count": null,
   "id": "58",
   "metadata": {},
   "outputs": [],
   "source": [
    "options(repr.plot.width = 18.5, repr.plot.height= 23, resolution = 200)\n",
    "figure7_supp\n",
    "ggsave( paste0(FIG_FINAL_DIR, \"7_forest_plot_supp_univariate.png\"), width = 18.5, height = 23, dpi = 400)\n",
    "#ggsave( paste0(FIG_FINAL_DIR, \"figure4.png\"), width = 18.5, height = 23, dpi = 400)"
   ]
  }
 ],
 "metadata": {
  "kernelspec": {
   "display_name": "R",
   "language": "R",
   "name": "ir"
  },
  "language_info": {
   "codemirror_mode": "r",
   "file_extension": ".r",
   "mimetype": "text/x-r-source",
   "name": "R",
   "pygments_lexer": "r",
   "version": "3.6.1"
  }
 },
 "nbformat": 4,
 "nbformat_minor": 5
}
