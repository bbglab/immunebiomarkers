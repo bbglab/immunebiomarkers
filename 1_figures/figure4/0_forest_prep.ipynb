{
 "cells": [
  {
   "cell_type": "code",
   "execution_count": 1,
   "id": "e1dd74cb",
   "metadata": {},
   "outputs": [],
   "source": [
    "options(warn=-1)"
   ]
  },
  {
   "cell_type": "code",
   "execution_count": 2,
   "id": "71df1f61",
   "metadata": {},
   "outputs": [
    {
     "name": "stderr",
     "output_type": "stream",
     "text": [
      "Registered S3 method overwritten by 'rvest':\n",
      "  method            from\n",
      "  read_xml.response xml2\n",
      "── Attaching packages ──────────────────────────────────────────────────────────────────── tidyverse 1.2.1 ──\n",
      "✔ ggplot2 3.3.6     ✔ purrr   0.3.4\n",
      "✔ tibble  3.1.2     ✔ dplyr   1.0.6\n",
      "✔ tidyr   1.1.3     ✔ stringr 1.4.0\n",
      "✔ readr   1.3.1     ✔ forcats 0.5.1\n",
      "── Conflicts ─────────────────────────────────────────────────────────────────────── tidyverse_conflicts() ──\n",
      "✖ dplyr::filter() masks stats::filter()\n",
      "✖ dplyr::lag()    masks stats::lag()\n"
     ]
    }
   ],
   "source": [
    "wd <- dirname(dirname(getwd()))\n",
    "source(paste0(wd,\"/mission_control/treasure_map.R\"))\n",
    "library(tidyverse)\n",
    "library(survival)"
   ]
  },
  {
   "cell_type": "markdown",
   "id": "be5ce9f0",
   "metadata": {},
   "source": [
    "### 0 - Read in external studies and bind rows"
   ]
  },
  {
   "cell_type": "code",
   "execution_count": 3,
   "id": "34d5ba21",
   "metadata": {},
   "outputs": [],
   "source": [
    "go <- readRDS(paste0(TMP_DIR, \"validation-go.Rds\")) %>% select(-contains(\"cluster5\"))"
   ]
  },
  {
   "cell_type": "markdown",
   "id": "8a51275b",
   "metadata": {},
   "source": [
    "### 1 - Analysis functions"
   ]
  },
  {
   "cell_type": "markdown",
   "id": "391caf7a",
   "metadata": {},
   "source": [
    "- Specify full model by available data in studies\n",
    "- Adjust for purity within HMF (available)"
   ]
  },
  {
   "cell_type": "markdown",
   "id": "5992b5d8",
   "metadata": {},
   "source": [
    "##### specify full model based on available data"
   ]
  },
  {
   "cell_type": "code",
   "execution_count": 4,
   "id": "c9db53c8",
   "metadata": {},
   "outputs": [],
   "source": [
    "full_mod_main <- function( i ){\n",
    "    if (grepl(\"Lyon-162\", i)){\n",
    "         \"tcell + tgfb + prolif\"\n",
    "    } else if (grepl(\"Lyon\", i)){\n",
    "         \"pretreat + tcell + tgfb + prolif\"\n",
    "    } else if (grepl(\"DRUP\", i) | i == \"MARIATHAN\") {\n",
    "        \"tmb + tcell + tgfb + prolif\"\n",
    "    } else {\n",
    "        \"tcell + tgfb + prolif + tmb + pretreat\"\n",
    "    }\n",
    "}\n",
    "full_mod_clust5 <- function(i){\n",
    "    if (grepl(\"Lyon-162\", i)){\n",
    "         \"tcell_cluster5 + tgfb_cluster5 + prolif_cluster5\"\n",
    "    } else if (grepl(\"Lyon\", i)){\n",
    "         \"pretreat + tcell_cluster5 + tgfb_cluster5 + prolif_cluster5\"\n",
    "    } else if (grepl(\"DRUP\", i) | i == \"MARIATHAN\") {\n",
    "        \"tmb + tcell_cluster5 + tgfb_cluster5 + prolif_cluster5\"\n",
    "    } else {\n",
    "        \"tcell_cluster5 + tgfb_cluster5 + prolif_cluster5 + tmb + pretreat\"\n",
    "    }\n",
    "}\n",
    "full_mod_sets <- function(i){\n",
    "    if (grepl(\"Lyon-162\", i)){\n",
    "         \"tcell_set + tgfb_set + prolif_set\"\n",
    "    } else if (grepl(\"Lyon\", i)){\n",
    "         \"pretreat + tcell_set + tgfb_set + prolif_set\"\n",
    "    } else if (grepl(\"DRUP\", i) | i == \"MARIATHAN\") {\n",
    "        \"tmb + tcell_set + tgfb_set + prolif_set\"\n",
    "    } else {\n",
    "        \"tcell_set + tgfb_set + prolif_set + tmb + pretreat\"\n",
    "    }\n",
    "}\n",
    "full_mod <- function(i, sets = \"sets\"){\n",
    "    if( sets == \"clusters\"){\n",
    "        full_mod_main(i)\n",
    "    } else if (sets == \"sets\") {\n",
    "        full_mod_sets(i)\n",
    "    } else if (sets == \"clusters5\") {\n",
    "        full_mod_clust5(i)\n",
    "    }\n",
    "}"
   ]
  },
  {
   "cell_type": "markdown",
   "id": "5e4289e9",
   "metadata": {},
   "source": [
    "##### get model summary"
   ]
  },
  {
   "cell_type": "code",
   "execution_count": 5,
   "id": "bdda29c7",
   "metadata": {},
   "outputs": [],
   "source": [
    "model_summary <- function( df, features = \"all\", i = \"HMF-CPCT\", model = \"glm\", sets = \"sets1\", extra_covariates = NA ){\n",
    "\n",
    "    ### 0 - filter to correct Study data \n",
    "    ready <- df %>% filter(Study_cohort == i)\n",
    "   \n",
    "    ### Update feature names by cluster\n",
    "    if( sets == \"sets\"){\n",
    "        features <- ifelse( features %in% c(\"tcell\", \"tgfb\", \"prolif\"), \n",
    "                            paste0(features, \"_set\"), \n",
    "                            features)\n",
    "    }\n",
    "\n",
    "    ### 1 - Construct model formula\n",
    "    y <- ifelse(model == \"glm\", \"bor\", \"Surv(os_days, os_event)\")\n",
    "    x <- ifelse( features == \"all\", full_mod( i, sets ), features)\n",
    "    \n",
    "    ### add covariates \n",
    "    covariates <- \"\"\n",
    "    if( length( unique(ready$tissue) ) > 1) { covariates <- \"+ as.factor(study_tissue_cohort)\"}\n",
    "    if( grepl(\"HMF\", i)){ covariates <- paste0( covariates, \"+ purity\" ) }\n",
    "    if( !is.na(extra_covariates)) { covariates <- paste0( covariates, extra_covariates) }\n",
    "    \n",
    "    formula_go = as.formula( paste( y, x = paste0(x, covariates), sep = \"~\") )\n",
    "\n",
    "    ### 2 - Run models\n",
    "    if( model == \"glm\"){\n",
    "        set <- do.call(\"glm\", list( formula = formula_go, family = \"binomial\", data = as.name(\"ready\")))\n",
    "    } else {\n",
    "        set <- do.call(\"coxph\", list( formula = formula_go, data = as.name(\"ready\")))\n",
    "    } \n",
    "\n",
    "    ### 3 - Extract, tag, share output \n",
    "    go <- data.frame(summary(set)$coefficients) %>% rownames_to_column(\"feature\")\n",
    "    go$features <- features\n",
    "    go$cohort <- i\n",
    "    go$model <- model\n",
    "    go$covariates <- covariates\n",
    "    go$sets <- sets\n",
    "    go\n",
    "}"
   ]
  },
  {
   "cell_type": "code",
   "execution_count": 6,
   "id": "9b1a0933",
   "metadata": {},
   "outputs": [],
   "source": [
    "model_summary2 <- function( df, features = \"all\", i = \"HMF-CPCT\", model = \"glm\", sets = \"sets1\", extra_covariates = NA ){\n",
    "    out <- tryCatch( model_summary( df, features, i, model, sets, extra_covariates), error = function(e) NULL)\n",
    "    return(out)\n",
    "}"
   ]
  },
  {
   "cell_type": "markdown",
   "id": "4269aff9",
   "metadata": {},
   "source": [
    "### 2 - Run Analyses"
   ]
  },
  {
   "cell_type": "markdown",
   "id": "6437e1e4",
   "metadata": {},
   "source": [
    "- settings"
   ]
  },
  {
   "cell_type": "code",
   "execution_count": 7,
   "id": "c96b1282",
   "metadata": {},
   "outputs": [],
   "source": [
    "studies <- c(\n",
    "             \"HMF-CPCT\", \n",
    "             \"HMF-CPCT-skin\", \n",
    "             \"HMF-CPCT-lung\", \n",
    "             \"HMF-CPCT-bladder\", \n",
    "             \"HMF-CPCT-other\",\n",
    "             \"HMF-CPCT-low-purity\",\n",
    "             \"HMF-DRUP\", \n",
    "             \"HMF-WIDE\", \n",
    "             \"INSPIRE\", \n",
    "             \"VHIO\", \n",
    "             \"RAVI\", \n",
    "             \"MARIATHAN\", \n",
    "             \"PARKER\",\n",
    "             \"Lyon\", \n",
    "             \"External Studies\")\n",
    "features <- c(\"tcell\", \"tgfb\", \"prolif\", \"tmb\", \"pretreat\", \"all\" )"
   ]
  },
  {
   "cell_type": "markdown",
   "id": "cdcf67a1",
   "metadata": {},
   "source": [
    "######  Response - Logistic Regression analyses\n",
    "- Run"
   ]
  },
  {
   "cell_type": "code",
   "execution_count": 8,
   "id": "d9c6af04",
   "metadata": {},
   "outputs": [],
   "source": [
    "rr <- data.frame()\n",
    "for ( i in studies ){\n",
    "  for ( j in features){\n",
    "    for( k in c(\"clusters\", \"sets\")){\n",
    "    tmp <- model_summary2( df = go, features = j, i = i, sets = k, model = \"glm\" )\n",
    "    rr <- rbind(rr, tmp)\n",
    "  }\n",
    "}}"
   ]
  },
  {
   "cell_type": "markdown",
   "id": "c7974479",
   "metadata": {},
   "source": [
    "######  Survival - Coxph analyses\n",
    "- Run"
   ]
  },
  {
   "cell_type": "code",
   "execution_count": 9,
   "id": "791d718f",
   "metadata": {},
   "outputs": [],
   "source": [
    "ss <- data.frame()\n",
    "for ( i in studies ){\n",
    "    for ( j in features){\n",
    "        for( k in c(\"clusters\", \"sets\")){\n",
    "            tmp <- model_summary2( df = go, features = j, i = i, sets = k, model = \"coxph\" )\n",
    "            ss <- rbind(ss, tmp)\n",
    "    }\n",
    "}}"
   ]
  },
  {
   "cell_type": "markdown",
   "id": "8823f684",
   "metadata": {},
   "source": [
    "### 3 - Data preparation"
   ]
  },
  {
   "cell_type": "code",
   "execution_count": 10,
   "id": "baef578d",
   "metadata": {},
   "outputs": [],
   "source": [
    "alpha <- .05\n",
    "z_alpha <- qnorm(1-alpha/2)"
   ]
  },
  {
   "cell_type": "markdown",
   "id": "146de8d4",
   "metadata": {},
   "source": [
    "##### Prep response"
   ]
  },
  {
   "cell_type": "code",
   "execution_count": 11,
   "id": "76c6421e",
   "metadata": {},
   "outputs": [],
   "source": [
    "rr_clean <- (\n",
    "  rr\n",
    "    %>% transmute( \n",
    "      feature, \n",
    "      est = Estimate, \n",
    "      ci_low = Estimate - z_alpha*Std..Error, \n",
    "      ci_high = Estimate + z_alpha*Std..Error, \n",
    "      p_val = Pr...z.., \n",
    "      z = z.value,\n",
    "      features = features,\n",
    "      cohort, \n",
    "      model, \n",
    "      sets,\n",
    "      covariates\n",
    "))"
   ]
  },
  {
   "cell_type": "markdown",
   "id": "3d63cfa0",
   "metadata": {},
   "source": [
    "##### Prep survival"
   ]
  },
  {
   "cell_type": "code",
   "execution_count": 12,
   "id": "65d6f2d4",
   "metadata": {},
   "outputs": [],
   "source": [
    "ss_clean <- (\n",
    "  ss \n",
    "    %>% transmute( \n",
    "      feature, \n",
    "      est = coef, \n",
    "      ci_low = coef - z_alpha*se.coef., \n",
    "      ci_high = coef + z_alpha*se.coef., \n",
    "      p_val = Pr...z.., \n",
    "      z = z,\n",
    "      features = features,\n",
    "      cohort, \n",
    "      model, \n",
    "      sets, \n",
    "      covariates\n",
    "))"
   ]
  },
  {
   "cell_type": "markdown",
   "id": "6c80c80f",
   "metadata": {},
   "source": [
    "#### Combine, augment, clean"
   ]
  },
  {
   "cell_type": "code",
   "execution_count": 13,
   "id": "9effa16c",
   "metadata": {},
   "outputs": [],
   "source": [
    "base <- bind_rows(rr_clean, ss_clean)"
   ]
  },
  {
   "cell_type": "code",
   "execution_count": 14,
   "id": "7e4d26a4",
   "metadata": {},
   "outputs": [],
   "source": [
    "renamer <- function(i){\n",
    "    if( grepl(\"tcell\", i)){\n",
    "        \"tcell\"\n",
    "    } else if (grepl(\"prolif\", i)){\n",
    "        \"prolif\"\n",
    "    } else if (grepl(\"tgfb\", i)){\n",
    "        \"tgfb\"\n",
    "    } else {\n",
    "        i\n",
    "    }\n",
    "}\n",
    "base$feature <- unlist(lapply(base$feature, renamer))"
   ]
  },
  {
   "cell_type": "markdown",
   "id": "ee527287",
   "metadata": {},
   "source": [
    "- Clean feature namess"
   ]
  },
  {
   "cell_type": "code",
   "execution_count": 15,
   "id": "65643d58",
   "metadata": {},
   "outputs": [],
   "source": [
    "feature_map <- list(\n",
    "    \"tmb\" = \"TMB\",\n",
    "    \"tcell\" = \"T-cell\",\n",
    "    \"tgfb\" = \"TGFB\",\n",
    "    \"prolif\" = \"Proliferation\",\n",
    "    \"pretreat\" = \"Pretreatment\",\n",
    "    \"purity\" = \"Purity\"\n",
    ")\n",
    "name_mapper <- function( i ){\n",
    "    if( i %in% names(feature_map)){\n",
    "        feature_map[[i]]\n",
    "    } else {\n",
    "        i\n",
    "    }\n",
    "}\n",
    "base$clean_feature <- unlist(lapply(base$feature, function(i) name_mapper(i)))\n",
    "base$clean_feature <- factor(base$clean_feature, levels = unlist(feature_map))"
   ]
  },
  {
   "cell_type": "markdown",
   "id": "196068e5",
   "metadata": {},
   "source": [
    "- clean study names"
   ]
  },
  {
   "cell_type": "code",
   "execution_count": 16,
   "id": "78b364cf",
   "metadata": {},
   "outputs": [],
   "source": [
    "study_map <- list(\n",
    "    \"HMF-CPCT\" = \"HMF CPI Overall\",\n",
    "    \"HMF-CPCT-skin\" = \"Skin\",\n",
    "    \"HMF-CPCT-lung\" = \"Lung\",\n",
    "    \"HMF-CPCT-bladder\" = \"Bladder\",\n",
    "    \"HMF-CPCT-other\" = \"Other\",\n",
    "    \"HMF-CPCT-low-purity\" = \"Low purity\",\n",
    "    \"External Studies\" = \"Validation Overall\",\n",
    "    \"PARKER\" = \"PARKER ICI (Skin)\",\n",
    "    \"RAVI\" = \"RAVI (Lung)\",\n",
    "    \"MARIATHAN\" = \"MARIATHASAN (Bladder)\",\n",
    "    \"INSPIRE\" = \"INSPIRE (mixed)\",\n",
    "    \"Lyon\" = \"Lyon (Lung, HNC)\",\n",
    "    \"VHIO\" = \"VHIO (mixed)\",\n",
    "    \"HMF-DRUP\" = \"HMF-DRUP (mixed)\"\n",
    ")\n",
    "base$clean_study <- unlist(lapply(base$cohort, function(i) study_map[[as.character(i)]]))\n",
    "base$clean_study <- factor(base$clean_study, levels = rev(unlist(study_map)))"
   ]
  },
  {
   "cell_type": "code",
   "execution_count": 17,
   "id": "931360a3",
   "metadata": {},
   "outputs": [],
   "source": [
    "base$clean_study2 <- paste0(base$clean_study, \" \", base$sets)\n",
    "base$clean_study2 <- factor(base$clean_study2, \n",
    "                            levels = c(rbind(paste0( levels(base$clean_study), \" clusters\"), \n",
    "                                             paste0( levels(base$clean_study), \" sets\"))))"
   ]
  },
  {
   "cell_type": "markdown",
   "id": "5914f82a",
   "metadata": {},
   "source": [
    "- clean model names"
   ]
  },
  {
   "cell_type": "code",
   "execution_count": 18,
   "id": "f7192e8d",
   "metadata": {},
   "outputs": [],
   "source": [
    "base$clean_model <- ifelse(base$model == \"glm\", \"Best Overall Response\", \"Overall Survival\")"
   ]
  },
  {
   "cell_type": "markdown",
   "id": "50922414",
   "metadata": {},
   "source": [
    "- Add labels for strength of signal"
   ]
  },
  {
   "cell_type": "code",
   "execution_count": 19,
   "id": "1cc97f1f",
   "metadata": {},
   "outputs": [],
   "source": [
    "z_cat <- function(i){\n",
    "    if( is.na(i)){\n",
    "        \"non\"\n",
    "    } else if (abs(i) > 3){\n",
    "        \"strong\"\n",
    "    } else if (abs(i) > 2){\n",
    "        \"moderate\"\n",
    "    } else if(abs(i) > 1) {\n",
    "        \"weak\"\n",
    "    } else {\n",
    "        \"non\"\n",
    "    }\n",
    "}"
   ]
  },
  {
   "cell_type": "code",
   "execution_count": 20,
   "id": "097a599e",
   "metadata": {},
   "outputs": [],
   "source": [
    "base$z_group <- unlist(lapply(base$z, z_cat))"
   ]
  },
  {
   "cell_type": "markdown",
   "id": "128d2903",
   "metadata": {},
   "source": [
    "#### better or worse labels"
   ]
  },
  {
   "cell_type": "code",
   "execution_count": 21,
   "id": "f5d8989f",
   "metadata": {},
   "outputs": [],
   "source": [
    "better_or_worse <- function( est, model ){\n",
    "    if( model == \"glm\"){\n",
    "        oo <- ifelse(est > 0, \"better\", \"worse\")\n",
    "    } else if (model == \"coxph\") {\n",
    "        oo <- ifelse(est < 0, \"better\", \"worse\")\n",
    "    }\n",
    "    oo\n",
    "}"
   ]
  },
  {
   "cell_type": "code",
   "execution_count": 22,
   "id": "9f95cc84",
   "metadata": {},
   "outputs": [],
   "source": [
    "base <- (\n",
    "  base \n",
    "    %>% mutate(tmp_est = ifelse(model == \"glm\", est, -est))\n",
    "    %>% mutate( better = ifelse( tmp_est > 0, \"yes\", \"no\"))\n",
    "    %>% mutate( better = ifelse( z_group == \"non\", \"non\", better))\n",
    ")"
   ]
  },
  {
   "cell_type": "markdown",
   "id": "410e7db9",
   "metadata": {},
   "source": [
    "### 4 - Share plot"
   ]
  },
  {
   "cell_type": "code",
   "execution_count": 23,
   "id": "ce4da6d8",
   "metadata": {},
   "outputs": [],
   "source": [
    "ready <- (\n",
    "  base\n",
    "    %>% filter(feature %in% c(\"tmb\", \"tcell\", \"tgfb\", \"prolif\", \"pretreat\", \"purity\"))\n",
    "    %>% transmute(\n",
    "     est, \n",
    "     ci_low, \n",
    "     ci_high, \n",
    "     cohort, \n",
    "     clean_feature, \n",
    "     clean_study, \n",
    "     clean_study2,\n",
    "     clean_model,\n",
    "     z_group, \n",
    "     better, \n",
    "     covariates,\n",
    "     features,\n",
    "     sets\n",
    "  )\n",
    ")"
   ]
  },
  {
   "cell_type": "code",
   "execution_count": 24,
   "id": "7e0addde",
   "metadata": {},
   "outputs": [],
   "source": [
    "saveRDS( ready, paste0(TMP_DIR, \"forest-ready.Rds\"))"
   ]
  }
 ],
 "metadata": {
  "kernelspec": {
   "display_name": "R",
   "language": "R",
   "name": "ir"
  },
  "language_info": {
   "codemirror_mode": "r",
   "file_extension": ".r",
   "mimetype": "text/x-r-source",
   "name": "R",
   "pygments_lexer": "r",
   "version": "3.6.1"
  }
 },
 "nbformat": 4,
 "nbformat_minor": 5
}
