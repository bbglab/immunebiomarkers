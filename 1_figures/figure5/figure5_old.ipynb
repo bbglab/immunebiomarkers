{
 "cells": [
  {
   "cell_type": "code",
   "execution_count": null,
   "id": "0",
   "metadata": {},
   "outputs": [],
   "source": [
    "wd <- dirname(dirname(getwd()))\n",
    "source(paste0(wd,\"/mission_control/treasure_map.R\"))\n",
    "source(paste0(wd,\"/mission_control/helpers/figures/figure5_themes.R\"))\n",
    "\n",
    "library(tidyverse)\n",
    "library(gridExtra)\n",
    "library(ggpubr)"
   ]
  },
  {
   "cell_type": "markdown",
   "id": "1",
   "metadata": {},
   "source": [
    "### 0 - Read Subplots"
   ]
  },
  {
   "cell_type": "code",
   "execution_count": null,
   "id": "2",
   "metadata": {},
   "outputs": [],
   "source": [
    "ef <- readRDS(paste0(FIG_DIR, \"figure5_ef.Rds\"))"
   ]
  },
  {
   "cell_type": "markdown",
   "id": "3",
   "metadata": {},
   "source": [
    "#### get dressed"
   ]
  },
  {
   "cell_type": "code",
   "execution_count": null,
   "id": "4",
   "metadata": {},
   "outputs": [],
   "source": [
    "get_dressed <- function(go, hjust = .5, size = 25, vjust = 4, m = 1){\n",
    "    go + theme(plot.title = element_text(hjust = hjust, size = size, vjust = vjust), plot.margin = unit(rep(m,4), \"cm\"))\n",
    "}\n",
    "annote <- function( i, lab ) annotate_figure( i, fig.lab = lab, fig.lab.size = 35, fig.lab.face = \"bold\")\n",
    "left_title <- theme(plot.title = element_text(hjust = 0))"
   ]
  },
  {
   "cell_type": "markdown",
   "id": "5",
   "metadata": {},
   "source": [
    "### 1 - Bottom panel"
   ]
  },
  {
   "cell_type": "code",
   "execution_count": null,
   "id": "6",
   "metadata": {},
   "outputs": [],
   "source": [
    "fig_e <- annote(get_dressed( ef$e_main,  \"Overall survival by response strata\", m = .5, size = 30 ), \"A\")\n",
    "fig_f <- annote(get_dressed( as_ggplot(ef$low),  \"Overall survival by response strata\", m = .5, size = 30 ), \"B\")\n",
    "lower_panel <- as_ggplot(arrangeGrob( fig_e, fig_f, fig_g, ncol = 3))\n",
    "lower <- get_dressed(lower_panel, m = 1, size = 40) + ggtitle(\"HMF response vs survival and shapley example\")"
   ]
  },
  {
   "cell_type": "code",
   "execution_count": null,
   "id": "7",
   "metadata": {},
   "outputs": [],
   "source": [
    "figure5_supp <- as_ggplot(arrangeGrob( lower, ncol = 1))"
   ]
  },
  {
   "cell_type": "markdown",
   "id": "8",
   "metadata": {},
   "source": [
    "### 2 - Send it!"
   ]
  },
  {
   "cell_type": "code",
   "execution_count": null,
   "id": "9",
   "metadata": {},
   "outputs": [],
   "source": [
    "options(repr.plot.width = 30, repr.plot.height= 11, resolution = 200)\n",
    "figure5_supp\n",
    "ggsave(file = paste0(FIG_FINAL_DIR, \"figure5_supp.png\"), width = 30, height = 11)"
   ]
  }
 ],
 "metadata": {
  "kernelspec": {
   "display_name": "R",
   "language": "R",
   "name": "ir"
  },
  "language_info": {
   "codemirror_mode": "r",
   "file_extension": ".r",
   "mimetype": "text/x-r-source",
   "name": "R",
   "pygments_lexer": "r",
   "version": "3.6.1"
  }
 },
 "nbformat": 4,
 "nbformat_minor": 5
}
