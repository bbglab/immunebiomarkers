{
 "cells": [
  {
   "cell_type": "code",
   "execution_count": null,
   "id": "0",
   "metadata": {},
   "outputs": [],
   "source": [
    "wd <- dirname(dirname(getwd()))\n",
    "source(paste0(wd,\"/mission_control/treasure_map.R\"))\n",
    "source(paste0(wd,\"/mission_control/helpers/figures/figure5_themes.R\"))\n",
    "\n",
    "library(tidyverse)\n",
    "library(gridExtra)\n",
    "library(ggpubr)"
   ]
  },
  {
   "cell_type": "markdown",
   "id": "1",
   "metadata": {},
   "source": [
    "#### 0 - Read Subplots"
   ]
  },
  {
   "cell_type": "code",
   "execution_count": null,
   "id": "2",
   "metadata": {},
   "outputs": [],
   "source": [
    "b <- readRDS(paste0(FIG_DIR, \"figure5_b.Rds\"))\n",
    "c <- readRDS(paste0(FIG_DIR, \"figure5_c.Rds\"))\n",
    "d <- readRDS(paste0(FIG_DIR, \"figure5_d.Rds\"))"
   ]
  },
  {
   "cell_type": "markdown",
   "id": "3",
   "metadata": {},
   "source": [
    "#### get dressed"
   ]
  },
  {
   "cell_type": "code",
   "execution_count": null,
   "id": "4",
   "metadata": {},
   "outputs": [],
   "source": [
    "get_dressed <- function(go, hjust = .5, size = 25, vjust = 4, m = 1){\n",
    "    go + theme(plot.title = element_text(hjust = hjust, size = size, vjust = vjust), plot.margin = unit(rep(m,4), \"cm\"))\n",
    "}\n",
    "annote <- function( i, lab ) annotate_figure( i, fig.lab = lab, fig.lab.size = 35, fig.lab.face = \"bold\")\n",
    "left_title <- theme(plot.title = element_text(hjust = 0))"
   ]
  },
  {
   "cell_type": "code",
   "execution_count": null,
   "id": "5",
   "metadata": {},
   "outputs": [],
   "source": [
    "fig_b <- annote(get_dressed(as_ggplot(b$abc) + ggtitle(\"Patients Stratified by Response Groups\"), size = 35), \"B\")\n",
    "fig_c <- annote(get_dressed( as_ggplot(c$response) , size = 35) + ggtitle(\"Surivival by Response Groups\"), \"C\")\n",
    "fig_d <- annote(get_dressed( d , size = 35) + ggtitle(\"Patients Stratified by TMB High or Low (TMB per MB > 10)\"), \"D\")"
   ]
  },
  {
   "cell_type": "markdown",
   "id": "6",
   "metadata": {},
   "source": [
    "### 2 - Middle Panel"
   ]
  },
  {
   "cell_type": "code",
   "execution_count": null,
   "id": "7",
   "metadata": {},
   "outputs": [],
   "source": [
    "layout <- cbind(c(rep(1,5), rep(2,4)), c(rep(1,5), rep(2,4)), c(rep(3,5), rep(4,4)), c(rep(3,5), rep(4,4)), c(rep(3,5), rep(4,4)))"
   ]
  },
  {
   "cell_type": "code",
   "execution_count": null,
   "id": "8",
   "metadata": {},
   "outputs": [],
   "source": [
    "go <- as_ggplot(arrangeGrob(ggplot() + geom_blank(), fig_c, fig_b, fig_d, layout_matrix = layout))"
   ]
  },
  {
   "cell_type": "code",
   "execution_count": null,
   "id": "9",
   "metadata": {},
   "outputs": [],
   "source": [
    "go_go <- (get_dressed(go, m = 1, size = 40, vjust = 2) )"
   ]
  },
  {
   "cell_type": "markdown",
   "id": "10",
   "metadata": {},
   "source": [
    "### 3 - Bottom panel"
   ]
  },
  {
   "cell_type": "code",
   "execution_count": null,
   "id": "11",
   "metadata": {},
   "outputs": [],
   "source": [
    "#paste0(FIG_FINAL_DIR, \"figure5_new.png\")"
   ]
  },
  {
   "cell_type": "code",
   "execution_count": null,
   "id": "12",
   "metadata": {},
   "outputs": [],
   "source": [
    "options(repr.plot.width = 30, repr.plot.height= 20, resolution = 200)\n",
    "go_go\n",
    "ggsave(file = paste0(FIG_FINAL_DIR, \"figure5_new.png\"), width = 30, height = 20)\n",
    "ggsave(file = paste0(FIG_FINAL_DIR, \"figure5_new.pdf\"), width = 30, height = 20)"
   ]
  }
 ],
 "metadata": {
  "kernelspec": {
   "display_name": "R",
   "language": "R",
   "name": "ir"
  },
  "language_info": {
   "codemirror_mode": "r",
   "file_extension": ".r",
   "mimetype": "text/x-r-source",
   "name": "R",
   "pygments_lexer": "r",
   "version": "3.6.1"
  }
 },
 "nbformat": 4,
 "nbformat_minor": 5
}
