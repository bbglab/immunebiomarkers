{
 "cells": [
  {
   "cell_type": "markdown",
   "id": "0",
   "metadata": {
    "tags": []
   },
   "source": [
    "### Plotting of Immune biomarkers Figure 2\n",
    "update of the script, adding in figure reordering "
   ]
  },
  {
   "cell_type": "code",
   "execution_count": null,
   "id": "1",
   "metadata": {
    "tags": []
   },
   "outputs": [],
   "source": [
    "options(repr.plot.width = 5, repr.plot.height = 5, repr.plot.res = 100)\n",
    "\n",
    "wd = \"/workspace/projects//immune_biomarkers/repo/immune_biomarkers/\"\n",
    "setwd(wd)\n",
    "\n",
    "source(paste0(wd,\"/mission_control/treasure_map.R\"))\n",
    "source(paste0(wd,\"/mission_control/helpers/figures/exhaustive_plots.R\"))\n",
    "source(paste0(wd,\"/mission_control/helpers/figures/exhaustive_settings.R\"))\n",
    "source(paste0(wd,\"/mission_control/helpers/figures/themes.R\"))\n",
    "\n",
    "library(tidyverse)\n",
    "library(ggrepel)\n",
    "library(data.table)\n",
    "library(gridExtra)\n",
    "library(ggpubr)\n",
    "library(Hmisc)\n",
    "library(ggh4x)\n",
    "library(ggrastr)"
   ]
  },
  {
   "cell_type": "markdown",
   "id": "2",
   "metadata": {},
   "source": [
    "### Figure 2A"
   ]
  },
  {
   "cell_type": "code",
   "execution_count": null,
   "id": "3",
   "metadata": {},
   "outputs": [],
   "source": [
    "# UPDATE: with the new OS non-residual scores, we will lose another 4 genes. these are removed in the file below:\n",
    "geneset_filtered_filtered = data.table::fread(\"ref/Table_S2_255_genesets.csv\")"
   ]
  },
  {
   "cell_type": "code",
   "execution_count": null,
   "id": "4",
   "metadata": {},
   "outputs": [],
   "source": [
    "ingredients <- readRDS(paste0(TMP_DIR,\"exhaustive-plots-base.Rds\"))"
   ]
  },
  {
   "cell_type": "code",
   "execution_count": null,
   "id": "5",
   "metadata": {},
   "outputs": [],
   "source": [
    "# save table S3 \n",
    "ingredients_select  = ingredients  %>% \n",
    "    dplyr::select(dataset, model, model_type, Type, feature_group, feature, est,log10_p)  %>% \n",
    "    mutate(simplename = gsub(\"gene_set_|isofox_\", \"\", feature))  %>%  \n",
    "    mutate(simplename = gsub(\"mariathan_\", \"m_\", tolower(simplename)))"
   ]
  },
  {
   "cell_type": "code",
   "execution_count": null,
   "id": "6",
   "metadata": {},
   "outputs": [],
   "source": [
    "ingredients_other = ingredients_select   %>% filter(!grepl(pattern = \"gene_set_\", x = feature)) \n",
    "ingredients_gene_set = ingredients_select  %>% \n",
    "    filter(grepl(\"gene_set\", feature))  %>% \n",
    "    filter(simplename %in% geneset_filtered_filtered$simplename)"
   ]
  },
  {
   "cell_type": "code",
   "execution_count": null,
   "id": "7",
   "metadata": {},
   "outputs": [],
   "source": [
    "table_S3 = rbind(ingredients_other, ingredients_gene_set)  %>% \n",
    "    arrange(dataset, model, model_type, Type, feature_group, feature)  %>% \n",
    "    select(-simplename)"
   ]
  },
  {
   "cell_type": "code",
   "execution_count": null,
   "id": "8",
   "metadata": {},
   "outputs": [],
   "source": [
    "#readr::write_excel_csv(table_S3, \"1_figures/figure2/Table_S3.csv\")"
   ]
  },
  {
   "cell_type": "code",
   "execution_count": null,
   "id": "9",
   "metadata": {
    "tags": []
   },
   "outputs": [],
   "source": [
    "ingredients <- readRDS(paste0(TMP_DIR,\"exhaustive-plots-base.Rds\"))\n",
    "threshold <- -log10(ingredients$by_05_fdr[1])"
   ]
  },
  {
   "cell_type": "code",
   "execution_count": null,
   "id": "10",
   "metadata": {},
   "outputs": [],
   "source": [
    "labels <- readRDS(paste0(TMP_DIR,\"exhaustive-plots-labels.Rds\"))"
   ]
  },
  {
   "cell_type": "code",
   "execution_count": null,
   "id": "11",
   "metadata": {},
   "outputs": [],
   "source": [
    "drop_features <- c(\"tcell\", \"tmb\", \"prolif\",\"tgfb\",\"pretreat\",\"pretreat_comp\",\"tissue\",\n",
    "                   \"tissue_full\",\"age\",\"biopsy\",\"purity\",\"pdl1\")"
   ]
  },
  {
   "cell_type": "code",
   "execution_count": null,
   "id": "12",
   "metadata": {
    "tags": []
   },
   "outputs": [],
   "source": [
    "# filter the systemic clinical composite part from the ingredients file\n",
    "ingredients = ingredients %>%\n",
    "    filter(!feature %in% drop_features)  %>% \n",
    "    filter(feature != \"clinical_systemic_composite\" & feature != \"pretreat\") %>% \n",
    "    filter(!grepl(\"cibersort\", feature)) %>% \n",
    "    mutate(big_group = case_when(big_group == \"CNV\" ~ \"CNV/SVs\",\n",
    "                                 big_group ==\"SVs\" ~ \"CNV/SVs\", .default = big_group))"
   ]
  },
  {
   "cell_type": "code",
   "execution_count": null,
   "id": "13",
   "metadata": {
    "tags": []
   },
   "outputs": [],
   "source": [
    "labels$clean_label <- ifelse(labels$feature %in% c(\"isofox_gene_set_t_cell_effector\"), \n",
    "                             \"T-cell effector gene set\", as.character(labels$clean_label))\n",
    "labels$clean_label <- ifelse(labels$feature %in% c(\"clinical_meta_hasSystemicPreTreatment2\"),\n",
    "                             \"Prior systemic therapy\", as.character(labels$clean_label))"
   ]
  },
  {
   "cell_type": "code",
   "execution_count": null,
   "id": "14",
   "metadata": {
    "tags": []
   },
   "outputs": [],
   "source": [
    "color_map$RNA = \"grey\" # change the RNA color to orange to make it a bit more visible. Original color: \"#FC913A\"\n",
    "color_map$`CNV/SVs` <- \"#B3DE69\"\n",
    "color_map$Somatic <- \"#80B1D3\"\n",
    "color_map$CNV <- color_map$SVs <- NULL\n",
    "set.seed(12345) # set seed to keep the same 'random' order\n",
    "ingredients$pval_significance = ifelse(ingredients$p_val <= ingredients$by_05_fdr, \"sign\", \"non-sign\")\n",
    "ingredients =  ingredients[sample(nrow(ingredients)),]"
   ]
  },
  {
   "cell_type": "code",
   "execution_count": null,
   "id": "15",
   "metadata": {
    "tags": []
   },
   "outputs": [],
   "source": [
    "level = ingredients$big_group |> table() |> sort(decreasing = TRUE) |> names()\n",
    "order = order(factor(ingredients$big_group, levels = level)) # make a factor for ordering the data\n",
    "ingredients = ingredients[order, ]"
   ]
  },
  {
   "cell_type": "code",
   "execution_count": null,
   "id": "16",
   "metadata": {},
   "outputs": [],
   "source": [
    "exhaustive_theme_left_legend = exhaustive_theme_left + theme(legend.position = \"right\")"
   ]
  },
  {
   "cell_type": "code",
   "execution_count": null,
   "id": "17",
   "metadata": {},
   "outputs": [],
   "source": [
    "ingredients_plot = ingredients %>%\n",
    "    filter(Group != \"Gene Set\",\n",
    "           dataset == \"all\",\n",
    "           model == \"bor\" ,\n",
    "           covariates == \"age_biopsy_purity_tissue\")\n",
    "\n",
    "fig2a = ggplot(ingredients_plot, aes(x = plot_est, y = log10_p,\n",
    "                           size = log10_p > threshold, \n",
    "                           alpha = log10_p > threshold)) + \n",
    "    geom_point(aes(fill = big_group), shape = 21, stroke = 0.3, color = \"white\") + \n",
    "    scale_y_continuous(breaks = c(seq(0,8,2)), limits = c(0,8)) + \n",
    "    scale_x_continuous(breaks = c(1, 2), limits = c(0.4,2.5))  +\n",
    "    scale_size_manual(values = c(2, 3))  +\n",
    "    scale_alpha_manual(values = c(0.4, 1)) + \n",
    "    exhaustive_theme_left_legend + \n",
    "    theme(legend.position = \"inside\", legend.position.inside = c(0.85, 0.25),   legend.background = element_blank(),\n",
    "          legend.box.background = element_blank()) + \n",
    "    scale_fill_manual(values = c(\"#9E7788\", \"#B3DE69\",\"#FFFF99\", \"#e0ba92\" ,\"#80B1D3\") ) +  # original color \"#FC913A\"\n",
    "    geom_vline(xintercept = 1, linetype=\"dashed\", color = \"grey50\", linewidth=0.7) + \n",
    "    geom_hline(yintercept = threshold, linetype=\"dashed\", color = \"grey50\", linewidth=0.7) + \n",
    "    guides(alpha = \"none\", size = \"none\", # remove the 'pval size'\n",
    "           fill = guide_legend(title = \"\", override.aes = list(size=4)),\n",
    "           color = guide_legend(title = \"\")) +\n",
    "    labs(title = \"\", x = \"Response Odds Ratio Estimate\", y = \"-Log10 (p-value)\\nResponse\")    \n",
    "fig2a <- rasterize(fig2a, layers='Point', dpi=400)\n",
    "fig2a <- annotate_figure(fig2a, fig.lab = \"A\", fig.lab.size = 20, fig.lab.face = \"bold\")\n",
    "fig2a"
   ]
  },
  {
   "cell_type": "code",
   "execution_count": null,
   "id": "18",
   "metadata": {},
   "outputs": [],
   "source": [
    "# ggsave(\"../plots/Fig2A.png\", fig2a ,bg='black', width = 15, height = 13, units = \"cm\")"
   ]
  },
  {
   "cell_type": "markdown",
   "id": "19",
   "metadata": {},
   "source": [
    "### Figure 2B\n",
    "Visualize clustering of co-correlating features using a correlation-heatmap"
   ]
  },
  {
   "cell_type": "code",
   "execution_count": null,
   "id": "20",
   "metadata": {
    "tags": []
   },
   "outputs": [],
   "source": [
    "ready <- readRDS(paste0(I_DIR, \"cpi_go.Rds\"))\n",
    "results <- readRDS(paste0(TMP_DIR,\"exhaustive-plots-base.Rds\"))\n",
    "cutoff <- results$by_05_fdr[1]"
   ]
  },
  {
   "cell_type": "code",
   "execution_count": null,
   "id": "21",
   "metadata": {
    "tags": []
   },
   "outputs": [],
   "source": [
    "# filter clinical features to have only a single result\n",
    "results = results %>% filter(feature != \"clinical_systemic_composite\")"
   ]
  },
  {
   "cell_type": "code",
   "execution_count": null,
   "id": "22",
   "metadata": {
    "tags": []
   },
   "outputs": [],
   "source": [
    "#initialize one_set_result and bor_set_result\n",
    "one_set_result = bor_set_result = results %>% \n",
    "    filter(model == \"bor\", dataset == \"all\", covariates == \"age_biopsy_purity_tissue\") %>%\n",
    "    unique()"
   ]
  },
  {
   "cell_type": "code",
   "execution_count": null,
   "id": "23",
   "metadata": {
    "tags": []
   },
   "outputs": [],
   "source": [
    "top_bor_df <- results %>% \n",
    "    filter(model == \"bor\", dataset == \"all\", covariates == \"age_biopsy_purity_tissue\") %>% \n",
    "    filter(!feature %in% drop_features) %>%\n",
    "    filter(!grepl(\"gene_set_\", feature)) %>%\n",
    "    filter(!grepl(\"cibersort\", feature)) %>%\n",
    "    filter(p_val < cutoff)\n",
    "top_bor = top_bor_df  %>%  pull(feature)"
   ]
  },
  {
   "cell_type": "code",
   "execution_count": null,
   "id": "24",
   "metadata": {
    "tags": []
   },
   "outputs": [],
   "source": [
    "bor_cor_go <- ready %>% select(all_of(top_bor)) %>% drop_na() \n",
    "cor_bor_with_pval <- rcorr(as.matrix(bor_cor_go))\n",
    "cor_matrix_bor = cor(as.matrix(bor_cor_go), use = \"pairwise.complete.obs\")\n",
    "colnames(cor_matrix_bor) <- colnames(bor_cor_go)\n",
    "rownames(cor_matrix_bor) <- colnames(bor_cor_go)"
   ]
  },
  {
   "cell_type": "code",
   "execution_count": null,
   "id": "25",
   "metadata": {
    "tags": []
   },
   "outputs": [],
   "source": [
    "for_heatmap_within_genes_bor <- cor_matrix_bor\n",
    "for_heatmap_within_genes_bor_with_group = merge(as.data.frame(for_heatmap_within_genes_bor),\n",
    "                                                one_set_result[c(\"feature\",\"Type\",\"big_group\")],\n",
    "                                                by.y = \"feature\", by.x = 0)"
   ]
  },
  {
   "cell_type": "code",
   "execution_count": null,
   "id": "26",
   "metadata": {
    "tags": []
   },
   "outputs": [],
   "source": [
    "# cluster the correlation values\n",
    "set.seed(12)\n",
    "ord <- hclust(dist(1-cor_matrix_bor))$order"
   ]
  },
  {
   "cell_type": "code",
   "execution_count": null,
   "id": "27",
   "metadata": {},
   "outputs": [],
   "source": [
    "# Cluster RNA values to be able to split RNA features into a T-cell matrix and two outliers\n",
    "cor_rna = cor_matrix_bor %>% as.data.frame() %>%\n",
    "    rownames_to_column(\"feature\") %>%\n",
    "    filter(grepl(\"isofox\", feature)) %>% \n",
    "    select(contains(\"isofox\"), feature) %>% \n",
    "    column_to_rownames(\"feature\")\n",
    "cor_tree = hclust(dist(1-abs(cor_rna)), method = \"ward.D2\")\n",
    "# set names for the tree-clustering method:\n",
    "clusters = cutree(cor_tree, 2)"
   ]
  },
  {
   "cell_type": "code",
   "execution_count": null,
   "id": "28",
   "metadata": {},
   "outputs": [],
   "source": [
    "# check the number of genes for each of the RNA clusters\n",
    "table(clusters)\n",
    "# check which genes are not present in the cluster (BAIAP2, GGT5 and LATS2)\n",
    "clusters[clusters == 2] "
   ]
  },
  {
   "cell_type": "code",
   "execution_count": null,
   "id": "29",
   "metadata": {
    "tags": []
   },
   "outputs": [],
   "source": [
    "# generate a widths-dataframe \"wdf\" with the widths of each of the features for visualization\n",
    "# RNA fatures have a width of 3, 'Clinical' have a width of 40 and somatic (mutation) features have a width of 1\n",
    "wdf <- one_set_result[,c(\"feature\", \"big_group\")] %>% filter(feature %in% top_bor)\n",
    "wdf$w = ifelse(wdf$big_group == \"Clinical\", 60, ifelse(wdf$big_group == \"RNA\", 3,1))\n",
    "wdf = wdf[ord,]\n",
    "wdf$big_group_fct = factor(wdf$big_group, levels = c(\"RNA\", \"Clinical\", \"Somatic\"))\n",
    "wdf = wdf %>% \n",
    "    mutate(cluster = big_group) %>% \n",
    "    mutate(cluster = case_when(clusters[feature] == 1 ~ \"cluster 1\",\n",
    "                              clusters[feature] == 2 ~ \"cluster 2\",\n",
    "                              .default = cluster)) %>% \n",
    "    mutate(cluster = factor(cluster, levels = c(\"cluster 1\", \"cluster 2\", \"Clinical\", \"Somatic\")))\n",
    "\n",
    "wdf$clustord = 1:nrow(wdf)\n",
    "wdf = wdf %>% arrange(cluster, clustord)\n",
    "\n",
    "# use the withs dataframe 'wdf' to calculate the x and y values for the different cells in the heatmap\n",
    "breaks <- wdf %>% \n",
    "  mutate(cumw = cumsum(w),\n",
    "         pos = .5 * (cumw + lag(cumw, default = 0))) %>% \n",
    "  select(feature, pos)"
   ]
  },
  {
   "cell_type": "code",
   "execution_count": null,
   "id": "30",
   "metadata": {
    "tags": []
   },
   "outputs": [],
   "source": [
    "# make a \"pd\" dataframe with the correlations of the individual values\n",
    "bor_cor_go = bor_cor_go %>% select(all_of(wdf$feature))\n",
    "pd <- as.data.frame(cor_matrix_bor) %>% select(all_of(wdf$feature))\n",
    "pd.m = pd %>%\n",
    "    rownames_to_column(\"feature\") %>% \n",
    "    pivot_longer(cols = -feature)"
   ]
  },
  {
   "cell_type": "code",
   "execution_count": null,
   "id": "31",
   "metadata": {
    "tags": []
   },
   "outputs": [],
   "source": [
    "# Join the the 'pd.m' dataframe and the 'breaks' dataframe on feature. \n",
    "# This needs to be done twice to include the x and the y axis\n",
    "pd.m <- pd.m %>%  \n",
    "  left_join(breaks, by = \"feature\") %>% \n",
    "  rename(y = pos) %>% \n",
    "  left_join(breaks, by = c(\"name\" = \"feature\")) %>% \n",
    "  rename(x = pos)"
   ]
  },
  {
   "cell_type": "code",
   "execution_count": null,
   "id": "32",
   "metadata": {
    "tags": []
   },
   "outputs": [],
   "source": [
    "pd.m <- pd.m %>% \n",
    "  left_join(wdf, by = \"feature\")\n",
    "pd.m <- pd.m %>% \n",
    "  left_join(wdf[,c(1,2,5)], by = c(\"name\" = \"feature\"))"
   ]
  },
  {
   "cell_type": "code",
   "execution_count": null,
   "id": "33",
   "metadata": {
    "tags": []
   },
   "outputs": [],
   "source": [
    "RNA_features = wdf[wdf$big_group == \"RNA\",]$feature\n",
    "# factorize and reorder the x and y axis names of the pd.m object\n",
    "pd.m$feature <- factor( pd.m$feature, levels = colnames(bor_cor_go))\n",
    "pd.m$name <- factor(pd.m$name, levels = colnames(bor_cor_go))"
   ]
  },
  {
   "cell_type": "code",
   "execution_count": null,
   "id": "34",
   "metadata": {},
   "outputs": [],
   "source": [
    "pd.m$height = ifelse(pd.m$feature %in% c(\"clinical_pre_treated\", \"clinical_meta_hasSystemicPreTreatment2\"), 60,\n",
    "                     ifelse(pd.m$feature %in% RNA_features, 3,1))\n",
    "pd.m$width = ifelse(pd.m$name %in% c(\"clinical_pre_treated\", \"clinical_meta_hasSystemicPreTreatment2\"), 60,\n",
    "                     ifelse(pd.m$name %in% RNA_features,3,1))"
   ]
  },
  {
   "cell_type": "code",
   "execution_count": null,
   "id": "35",
   "metadata": {
    "tags": []
   },
   "outputs": [],
   "source": [
    "# Add the 'n value' to each column name in the plot\n",
    "occurrences = table(wdf$cluster)\n",
    "exp = paste0(\"Cluster R3\\n(n = \", occurrences[1], \")\")\n",
    "snv_indel = paste0(\"Cluster R1\\n(n = \", occurrences[4], \")\")\n",
    "clinical = paste0(\"Cluster R2\\n(n = \", occurrences[3],\")\")\n",
    "\n",
    "pd.m = pd.m %>% \n",
    "    mutate(Type = case_when(cluster.x == \"cluster 1\" ~ exp,\n",
    "                            cluster.x == \"cluster 2\" ~ \"cl2\",\n",
    "                            cluster.x == \"Somatic\" ~ snv_indel, \n",
    "                            cluster.x == \"Clinical\" ~ clinical)) %>% \n",
    "    mutate(Type2 = case_when(cluster.y == \"cluster 1\" ~ exp,\n",
    "                            cluster.y == \"cluster 2\" ~ \"cl2\",\n",
    "                            cluster.y == \"Somatic\" ~ snv_indel, \n",
    "                            cluster.y == \"Clinical\" ~ clinical))\n",
    "\n",
    "# change the factor levels to order the plot in the same way\n",
    "pd.m = pd.m %>%\n",
    "    mutate(Type2 = factor(Type2, levels = c(snv_indel, clinical, exp, \"cl2\")), \n",
    "           Type = factor(Type, levels = c(snv_indel, clinical,exp, \"cl2\")))"
   ]
  },
  {
   "cell_type": "code",
   "execution_count": null,
   "id": "36",
   "metadata": {
    "tags": []
   },
   "outputs": [],
   "source": [
    "# Some aestetic changes to the plot\n",
    "colnames(pd.m)[3] <- \"correlation\"\n",
    "colour_breaks <- c(10, 20, 30)\n",
    "colours <- c(\"darkblue\", \"white\", \"darkred\")"
   ]
  },
  {
   "cell_type": "code",
   "execution_count": null,
   "id": "37",
   "metadata": {
    "tags": []
   },
   "outputs": [],
   "source": [
    "# plot the heatmap\n",
    "fig2b <- ggplot(pd.m, aes(x = x, y = y)) +\n",
    "  geom_tile(aes(width = width,  height = height, fill = correlation)) +\n",
    "  scale_x_reverse(breaks = breaks$pos, labels = breaks$feature, expand = c(0, 0.0)) +\n",
    "  scale_y_continuous(breaks = breaks$pos, labels = breaks$feature, expand = c(0, 0.0)) +\n",
    "  scale_fill_gradientn(limits = c(-1, 1), \n",
    "                       colours = c(\"blue\", \"white\", \"white\", \"red\"), \n",
    "                       values = c(0, 0.43, 0.57, 1.01)) +\n",
    "  theme_bw(base_size = 15) +\n",
    "  facet_grid2(Type ~ Type2, scales = \"free\", space = \"free\", switch = \"both\",render_empty = TRUE,\n",
    "               strip = strip_themed(background_x = elem_list_rect(fill = c(\"#80B1D3\",\"#9E7788\",\"#FB8072\", \"lightgrey\"), size= 1),\n",
    "                                    background_y = elem_list_rect(fill = c(\"#80B1D3\",\"#9E7788\", \"#FB8072\", \"lightgrey\"), size= 1))) +\n",
    "  theme(axis.ticks.x = element_blank(),\n",
    "        axis.text.x = element_blank(),\n",
    "        strip.text.x = element_text(size = 8),\n",
    "        strip.text.y = element_text(size = 8),\n",
    "        panel.spacing.x = unit(0, \"mm\"),\n",
    "        panel.spacing.y = unit(0, \"mm\"),\n",
    "        axis.text.y = element_blank(),\n",
    "        axis.ticks.y = element_blank(),\n",
    "        panel.background = element_rect(fill = NA, color = \"black\", linewidth = 0),\n",
    "        panel.grid  = element_blank(),\n",
    "        legend.position = \"right\") + \n",
    "        xlab(\"\") + ylab(\"\")\n",
    "fig2b <- rasterize(fig2b, layers='Tile', dpi=400)\n",
    "fig2b <- annotate_figure(fig2b, fig.lab = \"B\", fig.lab.size = 20, fig.lab.face = \"bold\") \n",
    "fig2b"
   ]
  },
  {
   "cell_type": "code",
   "execution_count": null,
   "id": "38",
   "metadata": {
    "tags": []
   },
   "outputs": [],
   "source": [
    "# ggsave(\"1_figures/figure2/Fig2B.png\", fig2b ,bg='white', width = 15, height = 13, units = \"cm\")"
   ]
  },
  {
   "cell_type": "markdown",
   "id": "39",
   "metadata": {},
   "source": [
    "### Figure 2C\n",
    "Intermediate correlation plots\n",
    "- Datapoints: HMF patients\n",
    "- y = expression 'heatmap cluster' mean \n",
    "- x = expression geneset mean\n",
    "- Take two genesets and display the correlation, to show how we get to point 2C "
   ]
  },
  {
   "cell_type": "code",
   "execution_count": null,
   "id": "40",
   "metadata": {},
   "outputs": [],
   "source": [
    "# load gene sets\n",
    "gsea_sets <- readRDS(paste0(REF_DIR,\"GSEA_gene_sets.Rds\"))\n",
    "cpi_gene_sets <- readRDS(paste0(REF_DIR,\"cpi1000_gene_sets.Rds\"))\n",
    "gsea_sets = gsea_sets[setdiff(names(gsea_sets), names(cpi_gene_sets))]\n",
    "gene_sets = c(gsea_sets, cpi_gene_sets) # combine the two geneset lists\n",
    "names(gene_sets) = gsub(\"gene_set_\", \"\", names(gene_sets))\n",
    "names(gene_sets) = gsub(\"gene_set_\", \"\", names(gene_sets))\n",
    "\n",
    "gene_sets = gene_sets[!grepl(\"battle_|tgfb_|vhio|08283|rand\", names(gene_sets))]\n",
    "\n",
    "# rename the geneset names\n",
    "names(gene_sets) = tolower(names(gene_sets))\n",
    "idx_mariathan = !names(gene_sets) %in% geneset_filtered_filtered$simplename\n",
    "names(gene_sets)[idx_mariathan] = paste0(\"m_\", names(gene_sets)[idx_mariathan])"
   ]
  },
  {
   "cell_type": "code",
   "execution_count": null,
   "id": "41",
   "metadata": {
    "tags": []
   },
   "outputs": [],
   "source": [
    "# Select T-cell effector geneset as an example to show the correlation\n",
    "select_sets = gene_sets[c(\"t_cell_effector\")]\n",
    "select_sets = lapply(select_sets, \\(x) paste0(\"isofox_\", x)) # add isofox to identify genes\n",
    "cluster_genes = colnames(pd)[grep(\"isofox\", colnames(pd))] \n",
    "total_sets = c(select_sets, list(cluster_mean = cluster_genes))\n",
    "total_sets = sapply(total_sets, \\(x) x[(x %in% colnames(ready))]) # select the number of genes not in the data"
   ]
  },
  {
   "cell_type": "code",
   "execution_count": null,
   "id": "42",
   "metadata": {
    "tags": []
   },
   "outputs": [],
   "source": [
    "# generate cluster means: \n",
    "ready_m = ready |> select(starts_with(\"isofox\")) |> as.matrix()# make matrix to allow for looping\n",
    "patient_means = sapply(total_sets, \\(x) rowMeans(ready_m[,x]))\n",
    "colnames(patient_means)[1] = \"T-Cell effector\""
   ]
  },
  {
   "cell_type": "code",
   "execution_count": null,
   "id": "43",
   "metadata": {
    "tags": []
   },
   "outputs": [],
   "source": [
    "# generate the plotting dataframe - make it possible that the individual patient expression of the T-cell cluster, and cluster 3 are clearly visible.\n",
    "pm = patient_means |> \n",
    "    as.data.frame() |>\n",
    "    filter(!is.na(cluster_mean))"
   ]
  },
  {
   "cell_type": "code",
   "execution_count": null,
   "id": "44",
   "metadata": {
    "tags": []
   },
   "outputs": [],
   "source": [
    "# For now, name the intermediate figure fig2bc\n",
    "fig2c = ggplot(pm, aes(x = `T-Cell effector`, y = cluster_mean, fill = \"Individual\\npatient\")) + \n",
    "  geom_point(color = \"grey90\", shape = 21, size = 3) + \n",
    "  exhaustive_theme_left +\n",
    "  scale_fill_manual(values = \"grey20\") +\n",
    "  ggpubr::stat_cor(aes(label = after_stat(r.label)), size = 6) + \n",
    "  theme(legend.position = \"none\") + \n",
    "  labs(y = \"Mean expression\\nT-Cell effector geneset\", \n",
    "       x = \"Mean expression genes Cluster R3\", fill = NULL) + \n",
    "  ggtitle(\"T-Cell effector vs Cluster R3\")\n",
    "\n",
    "fig2c <- rasterize(fig2c, layers='Point', dpi=400)\n",
    "fig2c <- annotate_figure(fig2c, fig.lab = \"C\", fig.lab.size = 20, fig.lab.face = \"bold\")\n",
    "fig2c"
   ]
  },
  {
   "cell_type": "code",
   "execution_count": null,
   "id": "45",
   "metadata": {
    "tags": []
   },
   "outputs": [],
   "source": [
    "# ggsave(\"1_figures/figure2/Figure2C.png\", fig2c, height = 6, width = 4)"
   ]
  },
  {
   "cell_type": "markdown",
   "id": "46",
   "metadata": {},
   "source": [
    "### Figure 2D"
   ]
  },
  {
   "cell_type": "code",
   "execution_count": null,
   "id": "47",
   "metadata": {},
   "outputs": [],
   "source": [
    "# get the significant RNA genes\n",
    "top_bor_RNA = top_bor_df  %>% \n",
    "    filter(big_group == \"RNA\")  %>% \n",
    "    pull(feature)"
   ]
  },
  {
   "cell_type": "code",
   "execution_count": null,
   "id": "48",
   "metadata": {},
   "outputs": [],
   "source": [
    "top_genes <- ready %>% \n",
    "    select(all_of(top_bor_RNA)) %>% \n",
    "    select(!all_of(c(\"isofox_BAIAP2\", \"isofox_LATS2\", \"isofox_GGT5\")))  # remove the genes present in the subcluster\n",
    "\n",
    "top_genes$cluster_mean = rowMeans(top_genes)\n",
    "cor_genes<-cor(top_genes, use=\"pairwise.complete.obs\")"
   ]
  },
  {
   "cell_type": "code",
   "execution_count": null,
   "id": "49",
   "metadata": {},
   "outputs": [],
   "source": [
    "gene_sets_expr <- ready %>% select(contains(\"gene_set_\"))\n",
    "colnames(gene_sets_expr) <- gsub(\"isofox_|gene_set_\", \"\", colnames(gene_sets_expr))\n",
    "colnames(gene_sets_expr) = gsub(\"mariathan_\", \"m_\", colnames(gene_sets_expr))\n",
    "colnames(gene_sets_expr) = tolower(colnames(gene_sets_expr))"
   ]
  },
  {
   "cell_type": "code",
   "execution_count": null,
   "id": "50",
   "metadata": {},
   "outputs": [],
   "source": [
    "top_genes_with_genesets = cbind(top_genes$cluster_mean, gene_sets_expr)\n",
    "colnames(top_genes_with_genesets)[1]<-\"Cluster_mean\""
   ]
  },
  {
   "cell_type": "code",
   "execution_count": null,
   "id": "51",
   "metadata": {},
   "outputs": [],
   "source": [
    "cor_to_cluster_mean <- data.frame(\"feature\" = colnames(top_genes_with_genesets), \n",
    "                                  \"Cor_with_cluster\" = cor(top_genes_with_genesets,top_genes_with_genesets$Cluster_mean,use=\"pairwise.complete.obs\")[,1])\n",
    "cor_to_cluster_mean = cor_to_cluster_mean |> mutate(feature = sub(\"isofox_|gene_set_\", \"\", feature))"
   ]
  },
  {
   "cell_type": "code",
   "execution_count": null,
   "id": "52",
   "metadata": {},
   "outputs": [],
   "source": [
    "bor_set_result_geneset = results  %>% \n",
    "    filter(model == \"bor\", dataset == \"all\", covariates == \"age_biopsy_purity_tissue\") %>%\n",
    "    filter(Group == \"Gene Set\") \n",
    "bor_set_result_geneset$feature = gsub(\"isofox_|gene_set_\", \"\", bor_set_result_geneset$feature)  %>% tolower()\n",
    "bor_set_result_geneset$feature = gsub(\"mariathan_\", \"m_\", bor_set_result_geneset$feature)"
   ]
  },
  {
   "cell_type": "code",
   "execution_count": null,
   "id": "53",
   "metadata": {},
   "outputs": [],
   "source": [
    "result2 <- merge(cor_to_cluster_mean, bor_set_result_geneset, by=\"feature\")  %>% \n",
    "    mutate(selected = ifelse(Cor_with_cluster > 0.5 & log10_p > threshold, \"selected\", \"no\"))"
   ]
  },
  {
   "cell_type": "code",
   "execution_count": null,
   "id": "54",
   "metadata": {},
   "outputs": [],
   "source": [
    "result2$Short_name = geneset_filtered_filtered$Alias[match(result2$feature, geneset_filtered_filtered$simplename)]\n",
    "result2 = result2  %>% filter(!is.na(Short_name))"
   ]
  },
  {
   "cell_type": "code",
   "execution_count": null,
   "id": "55",
   "metadata": {},
   "outputs": [],
   "source": [
    "geneset_filtered_filtered$Alias[!geneset_filtered_filtered$Alias %in% result2$Short_name]"
   ]
  },
  {
   "cell_type": "code",
   "execution_count": null,
   "id": "56",
   "metadata": {},
   "outputs": [],
   "source": [
    "fig2d <- ggplot(result2, aes(x = Cor_with_cluster, y = log10_p, fill = selected)) +\n",
    "    geom_point(size = 4, shape = 21, color = \"white\") +\n",
    "    theme_bw() +\n",
    "    scale_fill_manual(values=c(\"darkgrey\",\"#FB8072\")) +\n",
    "    geom_vline(xintercept = 0.5, linetype=\"dashed\", color = \"grey50\", linewidth =.7) +\n",
    "    geom_hline(yintercept = threshold, linetype=\"dashed\", color = \"grey50\", linewidth =.7) +\n",
    "    geom_text_repel(aes(label = if_else((Cor_with_cluster > 0.5 & log10_p > threshold ), Short_name, \"\")), \n",
    "                    segment.alpha = 0.3,\n",
    "                    force = 50,  nudge_x = -0.5 ,\n",
    "                    min.segment.length = 0.3, box.padding = 0.5,\n",
    "                  size=4.5, col=\"grey20\" ,max.overlaps= Inf )+\n",
    "    theme(legend.position=\"none\") +\n",
    "    theme(axis.title=element_text(size=16), axis.text = element_text(size = 16)) +\n",
    "    scale_y_continuous(breaks = c(2,4,6,8), lim = c(0,8)) +\n",
    "    labs(x = \"Correlation gene sets with expression genes cluster R3\", y =\"-Log10 (p-value) Response\", \n",
    "        title = paste0(\"N = \",nrow(result2), \"  genesets\")) +\n",
    "    exhaustive_theme_left\n",
    "\n",
    "fig2d <- rasterize(fig2d, layers='Point', dpi=400)\n",
    "fig2d <- annotate_figure(fig2d, fig.lab = \"D\", fig.lab.size = 20, fig.lab.face = \"bold\")\n",
    "fig2d"
   ]
  },
  {
   "cell_type": "code",
   "execution_count": null,
   "id": "57",
   "metadata": {},
   "outputs": [],
   "source": [
    "# ggsave(\"1_figures/figure2/Figure2D.png\", fig2d, height = 6, width = 6)"
   ]
  },
  {
   "cell_type": "code",
   "execution_count": null,
   "id": "58",
   "metadata": {},
   "outputs": [],
   "source": [
    "# for the next figure, save all the highly correlation gene sets\n",
    "geneset_names = result2  %>% filter(Cor_with_cluster > 0.5)  %>% \n",
    "    select(feature, Short_name)\n",
    "fwrite(geneset_names, \"ref/T_cell_genesets.csv\")"
   ]
  },
  {
   "cell_type": "markdown",
   "id": "59",
   "metadata": {},
   "source": [
    "### New figure 2E\n",
    "Plot the correlation of all the somatic mutation features against the mean of cluster 1: Somatic features"
   ]
  },
  {
   "cell_type": "code",
   "execution_count": null,
   "id": "60",
   "metadata": {},
   "outputs": [],
   "source": [
    "read_features = ready %>% select(any_of(unique(ingredients$feature)))"
   ]
  },
  {
   "cell_type": "code",
   "execution_count": null,
   "id": "61",
   "metadata": {},
   "outputs": [],
   "source": [
    "# get the features of each cluster\n",
    "features_cl1 = wdf %>% filter(big_group == \"Somatic\") %>% pull(feature)\n",
    "features_cl2 = wdf %>% filter(big_group == \"Clinical\") %>% pull(feature)\n",
    "features_cl3 = wdf %>% filter(big_group == \"RNA\" & cluster == \"cluster 1\") %>% pull(feature)"
   ]
  },
  {
   "cell_type": "code",
   "execution_count": null,
   "id": "62",
   "metadata": {},
   "outputs": [],
   "source": [
    "mean_cl1 = rowMeans(ready %>% select(all_of(features_cl1)))\n",
    "mean_cl2 = rowMeans(ready %>% select(all_of(features_cl2)))\n",
    "mean_cl3 = rowMeans(ready %>% select(all_of(features_cl3)))"
   ]
  },
  {
   "cell_type": "code",
   "execution_count": null,
   "id": "63",
   "metadata": {},
   "outputs": [],
   "source": [
    "cluster_cors = data.table(feature = colnames(read_features),\n",
    "                   `Cluster R1 = TMB` = cor(mean_cl1, read_features, use = \"pairwise.complete.obs\") %>% as.numeric(),\n",
    "                   `Cluster R2 = Prior therapy` = cor(mean_cl2, read_features, use = \"pairwise.complete.obs\") %>% as.numeric(),\n",
    "                   `Cluster R3 = T-cell` = cor(mean_cl3, read_features, use = \"pairwise.complete.obs\") %>% as.numeric())"
   ]
  },
  {
   "cell_type": "code",
   "execution_count": null,
   "id": "64",
   "metadata": {},
   "outputs": [],
   "source": [
    "i_cors = ingredients %>% filter(model == \"bor\" & dataset == \"all\" & covariates == \"age_biopsy_purity_tissue\")  %>% \n",
    "    filter(Group != \"Gene Set\")\n",
    "\n",
    "cluster_cors = cluster_cors %>% filter(feature %in% unique(i_cors$feature))\n",
    "i_cors = left_join(i_cors, cluster_cors,by = \"feature\" )"
   ]
  },
  {
   "cell_type": "code",
   "execution_count": null,
   "id": "65",
   "metadata": {},
   "outputs": [],
   "source": [
    "# merge and filter the labels to match value: \n",
    "label_cors = labels %>%\n",
    "    filter(model == \"bor\" & dataset == \"all\" & covariates == \"age_biopsy_purity_tissue\")\n",
    "label_cors = left_join(label_cors, cluster_cors,by = \"feature\" ) %>% \n",
    "    filter(log10_p > threshold)"
   ]
  },
  {
   "cell_type": "code",
   "execution_count": null,
   "id": "66",
   "metadata": {},
   "outputs": [],
   "source": [
    "label_cors = label_cors %>% \n",
    "    filter(!clean_label %in% c(\"TGFB\", \"Proliferation\", \"Prior Systemic Therapy\", \"T-cell\", \"EIPR1\", \"TMEM117\")) "
   ]
  },
  {
   "cell_type": "code",
   "execution_count": null,
   "id": "67",
   "metadata": {},
   "outputs": [],
   "source": [
    "label_cors = label_cors %>% \n",
    "    select(starts_with(\"Cluster\"), big_group, log10_p, clean_label) %>% \n",
    "    pivot_longer(cols = starts_with(\"Cluster\"), names_to = \"cluster\", values_to = \"correlation\") %>% \n",
    "    filter(correlation > 0.75 & log10_p > 6)"
   ]
  },
  {
   "cell_type": "code",
   "execution_count": null,
   "id": "68",
   "metadata": {},
   "outputs": [],
   "source": [
    "input_cors = i_cors %>%  \n",
    "    filter(model == \"bor\" & dataset == \"all\" & covariates == \"age_biopsy_purity_tissue\" & feature != \"pretreat\") %>% \n",
    "    select(starts_with(\"Cluster\"), big_group, log10_p, feature) %>% \n",
    "    pivot_longer(cols = starts_with(\"Cluster\"), names_to = \"cluster\", values_to = \"correlation\")\n",
    "\n",
    "input_cors = input_cors %>% \n",
    "    filter(big_group %in% c(\"Somatic\", \"CNV/SVs\") & cluster == \"Cluster R1 = TMB\"|\n",
    "           big_group %in% c(\"Clinical\", \"HLA\") & cluster == \"Cluster R2 = Prior therapy\" | \n",
    "           big_group == \"RNA\" & cluster == \"Cluster R3 = T-cell\")\n",
    "\n",
    "input_cors = input_cors  %>% \n",
    "    mutate(in_cluster = case_when(\n",
    "        feature %in% c(features_cl1, features_cl2, features_cl3) ~ \"feature in cluster\", \n",
    "        .default = '   '))  %>% \n",
    "    mutate(big_group2 = case_when(correlation > 0.5  & cluster == \"Cluster R3 = T-cell\" ~ \"RNA: T-cell\",\n",
    "                                .default = big_group))"
   ]
  },
  {
   "cell_type": "code",
   "execution_count": null,
   "id": "69",
   "metadata": {},
   "outputs": [],
   "source": [
    "label_cors = input_cors  %>% \n",
    "    filter(cluster == \"Cluster R1 = TMB\" & grepl(\"TMEM117|EIPR1|TMB$|TMB_clonal$\", feature) | \n",
    "          cluster == \"Cluster R2 = Prior therapy\" & in_cluster == \"feature in cluster\" | \n",
    "          cluster == \"Cluster R3 = T-cell\" & grepl(\"CXCL9|TIGIT|CD8A|GBP5|tcell\", feature))  %>% \n",
    "    mutate(clean_label = gsub(\"somatic.|isofox_|.mb\", \"\", feature))  %>% \n",
    "    mutate(clean_label = gsub(\"_\", \" \", clean_label))  %>% \n",
    "    mutate(clean_label = gsub(\"gene.\", \"TMB gene \", clean_label))  %>% \n",
    "    mutate(clean_label = case_when(clean_label == \"clinical pre treated\" ~ \"Prior therapy\", \n",
    "                                   clean_label == \"clinical meta hasSystemicPreTreatment2\" ~ \"Prior systemic therapy\",\n",
    "                                   clean_label == \"tcell\" ~ \"T-cell effector gene set\",\n",
    "                                  .default = clean_label))"
   ]
  },
  {
   "cell_type": "code",
   "execution_count": null,
   "id": "70",
   "metadata": {},
   "outputs": [],
   "source": [
    "fig2e = input_cors %>%\n",
    "    filter(!is.na(correlation)) %>%\n",
    "        ggplot(aes(x = correlation, y = log10_p,\n",
    "                   size = correlation > 0.5 & log10_p > threshold,\n",
    "                   alpha = correlation > 0.5 & log10_p > threshold)) + \n",
    "        geom_point(aes(fill = big_group2), shape = 21, stroke = 0.3, color = \"white\") + \n",
    "        facet_grid2( . ~ cluster, axes = \"y\", \n",
    "                    strip = strip_themed(background_x = elem_list_rect(fill = c(\"#80B1D3\",\"#9E7788\",\"#FB8072\"), size= 1))) +\n",
    "        geom_text_repel(data = label_cors, aes(label = clean_label),direction = \"y\",hjust = 0, xlim = -0.17, alpha = 0.85, size = 4.5) + \n",
    "        exhaustive_theme_left_legend + \n",
    "        scale_y_continuous(breaks = c(seq(0,8,2)), limits = c(-0.1,8)) +\n",
    "        scale_size_manual(values = c(2.2, 4)) + \n",
    "        scale_alpha_manual(values = c(0.6, 1)) + \n",
    "        scale_fill_manual(values = c(\"#9E7788\", \"#B3DE69\",\"#FFFF99\", \"#e0ba92\" ,\"#FB8072\", \"#80B1D3\")) +\n",
    "        geom_vline(xintercept = 0.5, linetype=\"dashed\", color = \"grey50\", linewidth=.7) +\n",
    "        geom_hline(yintercept = threshold, linetype=\"dashed\", color = \"grey50\", linewidth=.7) + \n",
    "        guides(alpha = \"none\", size = \"none\", color = \"none\", # remove legends for alpha, size and color\n",
    "               fill = guide_legend(title = \"\", override.aes = list(size=4))) + \n",
    "       theme(strip.text = element_text(colour = 'white', face = \"bold\"),\n",
    "             strip.background = element_rect(color = \"white\")) + \n",
    "       xlab(\"Correlation to cluster mean\") + ylab(\"-Log10 (p-value)\\nResponse\") \n",
    "\n",
    "options(repr.plot.width=12, repr.plot.height=8)\n",
    "fig2e <- rasterize(fig2e, layers='Point', dpi=400)\n",
    "fig2e <- annotate_figure(fig2e, fig.lab = \"E\", fig.lab.size = 20, fig.lab.face = \"bold\") \n",
    "fig2e"
   ]
  },
  {
   "cell_type": "code",
   "execution_count": null,
   "id": "71",
   "metadata": {},
   "outputs": [],
   "source": [
    "# save the T-cell cluster values (to be used in figure 3 later)\n",
    "RNA_features = input_cors %>%\n",
    "    filter(big_group2 == \"RNA: T-cell\")  %>%\n",
    "    select(feature)\n",
    "\n",
    "fwrite(RNA_features, \"ref/features_Tcell.csv\")"
   ]
  },
  {
   "cell_type": "code",
   "execution_count": null,
   "id": "72",
   "metadata": {},
   "outputs": [],
   "source": [
    "# ggsave(\"1_figures/figure2/figure2E.png\", fig2e, width = 13, height = 5)"
   ]
  },
  {
   "cell_type": "markdown",
   "id": "73",
   "metadata": {},
   "source": [
    "### Combining and saving plots"
   ]
  },
  {
   "cell_type": "code",
   "execution_count": null,
   "id": "74",
   "metadata": {
    "tags": []
   },
   "outputs": [],
   "source": [
    "pl = list(fig2a, fig2b,  fig2c, fig2d, fig2e)\n",
    "pl = lapply(pl, \"+\", theme(plot.margin=margin(5,10,5,5, unit = \"mm\"), plot.background = element_rect(fill = \"transparent\", colour = NA)))\n",
    "pl[[1]] = pl[[1]] + theme(plot.margin=margin(5,10,0,5, unit = \"mm\"))\n",
    "pl[[2]] = pl[[2]] + theme(plot.margin=margin(5,0,0,0, unit = \"mm\"))\n",
    "pl[[5]] = pl[[5]] + theme(plot.margin=margin(5,5,5,5, unit = \"mm\"))"
   ]
  },
  {
   "cell_type": "code",
   "execution_count": null,
   "id": "75",
   "metadata": {},
   "outputs": [],
   "source": [
    "lay = rbind(c(1,2), \n",
    "            c(3,4),\n",
    "            c(5,5))\n",
    "\n",
    "fig <- arrangeGrob(pl[[1]], pl[[2]], pl[[3]], pl[[4]],pl[[5]], layout_matrix=lay)  \n",
    "ggsave(\"../..//final_figures/figure2.png\", fig, width = 14, height = 18, dpi = 1100, device=cairo_pdf)\n",
    "ggsave(\"../..//final_figures/figure2.pdf\", fig, width = 14, height = 18, dpi = 1100, device=cairo_pdf)"
   ]
  },
  {
   "cell_type": "code",
   "execution_count": null,
   "id": "76",
   "metadata": {},
   "outputs": [],
   "source": [
    "options(repr.plot.width = 14, repr.plot.height = 18, repr.plot.res = 400)\n",
    "grid::grid.draw(fig)"
   ]
  }
 ],
 "metadata": {
  "kernelspec": {
   "display_name": "R",
   "language": "R",
   "name": "ir"
  },
  "language_info": {
   "codemirror_mode": "r",
   "file_extension": ".r",
   "mimetype": "text/x-r-source",
   "name": "R",
   "pygments_lexer": "r",
   "version": "3.6.1"
  },
  "toc-autonumbering": false,
  "toc-showcode": false,
  "toc-showmarkdowntxt": false
 },
 "nbformat": 4,
 "nbformat_minor": 5
}
