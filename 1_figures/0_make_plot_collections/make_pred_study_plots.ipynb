{
 "cells": [
  {
   "cell_type": "code",
   "execution_count": 1,
   "id": "5481a79b",
   "metadata": {},
   "outputs": [
    {
     "name": "stderr",
     "output_type": "stream",
     "text": [
      "Registered S3 method overwritten by 'rvest':\n",
      "  method            from\n",
      "  read_xml.response xml2\n",
      "── Attaching packages ─────────────────────────────────────────────────────────────────────────────────────────────── tidyverse 1.2.1 ──\n",
      "✔ tibble  3.1.2     ✔ purrr   0.3.4\n",
      "✔ tidyr   1.1.3     ✔ dplyr   1.0.6\n",
      "✔ readr   1.3.1     ✔ stringr 1.4.0\n",
      "✔ tibble  3.1.2     ✔ forcats 0.5.1\n",
      "Warning message:\n",
      "“package ‘tibble’ was built under R version 3.6.3”Warning message:\n",
      "“package ‘tidyr’ was built under R version 3.6.3”Warning message:\n",
      "“package ‘purrr’ was built under R version 3.6.3”Warning message:\n",
      "“package ‘dplyr’ was built under R version 3.6.3”Warning message:\n",
      "“package ‘forcats’ was built under R version 3.6.3”── Conflicts ────────────────────────────────────────────────────────────────────────────────────────────────── tidyverse_conflicts() ──\n",
      "✖ dplyr::combine() masks gridExtra::combine()\n",
      "✖ dplyr::filter()  masks stats::filter()\n",
      "✖ dplyr::lag()     masks stats::lag()\n"
     ]
    }
   ],
   "source": [
    "wd <- dirname(dirname(getwd()))\n",
    "source(paste0(wd,\"/mission_control/treasure_map.R\"))\n",
    "source(paste0(wd,\"/mission_control/helpers/figures/pred_study.R\"))\n",
    "source(paste0(wd,\"/mission_control/helpers/figures/general.R\"))\n",
    "\n",
    "library(tidyverse)\n",
    "library(RColorBrewer)\n",
    "library(gridExtra)\n",
    "library(survminer)\n",
    "library(ggpubr)"
   ]
  },
  {
   "cell_type": "markdown",
   "id": "226f4b04",
   "metadata": {},
   "source": [
    "### 0 - Read in simulation study "
   ]
  },
  {
   "cell_type": "code",
   "execution_count": 2,
   "id": "4aefff8b",
   "metadata": {},
   "outputs": [],
   "source": [
    "evals <- readRDS(paste0(TMP_DIR,\"xg-eval-results.Rds\"))"
   ]
  },
  {
   "cell_type": "markdown",
   "id": "d42268ea",
   "metadata": {},
   "source": [
    "#### Nice format"
   ]
  },
  {
   "cell_type": "code",
   "execution_count": 3,
   "id": "60d24652",
   "metadata": {},
   "outputs": [],
   "source": [
    "data_long <- (\n",
    "    gather(evals, type, eval_metric, simple:all, factor_key=TRUE) \n",
    "       %>% drop_na(eval_metric)\n",
    "       %>% mutate( tissue = ifelse(tissue == \"all\", \"Pan-Cancer\", str_to_title(tissue) ) )\n",
    ")\n",
    "data_long$tissue <- factor(\n",
    "    data_long$tissue,\n",
    "    levels = c(\"Pan-Cancer\", \"Skin\", \"Lung\", \"Bladder\", \"Other\")\n",
    ")\n",
    "data_long$fit <- paste0(data_long$type,\"-\", data_long$features)\n",
    "data_long <- rbind(data_long, data_long %>% filter(fit == \"warm-five_latent\") %>% mutate(fit = \"hybrid\"))"
   ]
  },
  {
   "cell_type": "markdown",
   "id": "3ae3b3af",
   "metadata": {},
   "source": [
    "#### Compute aggregate results"
   ]
  },
  {
   "cell_type": "code",
   "execution_count": 4,
   "id": "f79a5c03",
   "metadata": {},
   "outputs": [
    {
     "name": "stderr",
     "output_type": "stream",
     "text": [
      "`summarise()` has grouped output by 'model', 'fit', 'tissue', 'type'. You can override using the `.groups` argument.\n"
     ]
    }
   ],
   "source": [
    "results <- (\n",
    "    data_long\n",
    "         %>% filter(complete) \n",
    "         %>% group_by(model, fit, tissue, type, purity) \n",
    "         %>% summarise(mn = mean(eval_metric, na.rm = TRUE))\n",
    "    )"
   ]
  },
  {
   "cell_type": "code",
   "execution_count": 5,
   "id": "6e137352",
   "metadata": {},
   "outputs": [],
   "source": [
    "#table(results$fit)\n",
    "#results %>% filter(fit == \"warm-five_latent_complex\")"
   ]
  },
  {
   "cell_type": "code",
   "execution_count": 6,
   "id": "5ee70b04",
   "metadata": {},
   "outputs": [],
   "source": [
    "name_map <- list(\n",
    "    \"warm-tmb\" = 'TMB\\n',\n",
    "    \"warm-base\" = 'Base: TMB + PDL1\\n',\n",
    "    \"warm-rna_only\" = 'RNA only: T-cell, TGFB, Proliferation\\n',\n",
    "    \"warm-no_tmb\" = 'No TMB: T-cell + TGFB + Proliferation + Pretreat\\n', \n",
    "    \"warm-five_latent\" = 'Five Latent: TMB + T-cell + TGFB + Proliferation + Pretreat\\n', \n",
    "    \"hybrid\" = 'Hybrid Models\\n', \n",
    "    \"warm-full_mod\" = 'Full Model: Five Latent + Age + Distal Biopsy + HLA LOH \\n+ CPI Mechanism + WGD + SVB',\n",
    "    \"simple-five_latent\" = 'Simple Tissue Models\\n',\n",
    "    \"all-five_latent\" = 'Pan-Cancer Model\\n',\n",
    "    \"warm-latent1\" = 'Five Latent: Alernative Measures 1\\n',\n",
    "    \"warm-latent2\" = 'Five Latent: Alernative Measures 2\\n',\n",
    "    \"warm-five_latent_interaction\" = 'Five Latent: Allow Interaction\\n',\n",
    "    \"warm-five_latent_complex\" = 'Five Latent: Allow Interaction, Full Grid Search\\n'\n",
    ")"
   ]
  },
  {
   "cell_type": "code",
   "execution_count": 7,
   "id": "057c6ece",
   "metadata": {},
   "outputs": [],
   "source": [
    "results <- results %>% filter( fit %in% names(name_map))\n",
    "data_long <- data_long %>% filter( fit %in% names(name_map))"
   ]
  },
  {
   "cell_type": "code",
   "execution_count": 8,
   "id": "09f999d7",
   "metadata": {},
   "outputs": [],
   "source": [
    "results$fit2 <- factor(unlist(lapply(results$fit, function(i) name_map[[i]])), levels = unname(unlist(name_map)))\n",
    "data_long$fit2 <- factor(unlist(lapply(data_long$fit, function(i) name_map[[i]])), levels = unname(unlist(name_map)))"
   ]
  },
  {
   "cell_type": "code",
   "execution_count": 9,
   "id": "9e2fab25",
   "metadata": {},
   "outputs": [],
   "source": [
    "studies <- list( \n",
    "    \"figure_5b\" = c('Base: TMB + PDL1\\n', \n",
    "                    'Five Latent: TMB + T-cell + TGFB + Proliferation + Pretreat\\n'),\n",
    "    \"figure_s6a\" = c('TMB\\n', \n",
    "                     'Base: TMB + PDL1\\n', \n",
    "                     'RNA only: T-cell, TGFB, Proliferation\\n', \n",
    "                     'No TMB: T-cell + TGFB + Proliferation + Pretreat\\n',\n",
    "                     'Five Latent: TMB + T-cell + TGFB + Proliferation + Pretreat\\n', \n",
    "                     'Full Model: Five Latent + Age + Distal Biopsy + HLA LOH \\n+ CPI Mechanism + WGD + SVB'),\n",
    "    \"figure_s6b\" = c('Five Latent: TMB + T-cell + TGFB + Proliferation + Pretreat\\n', \n",
    "                     'Five Latent: Alernative Measures 1\\n', \n",
    "                     'Five Latent: Alernative Measures 2\\n'),\n",
    "    \"figure_sn2_1\" = c('Hybrid Models\\n', \n",
    "                       'Simple Tissue Models\\n',\n",
    "                       'Pan-Cancer Model\\n'),\n",
    "    \"figure_sn7\" = c('Five Latent: TMB + T-cell + TGFB + Proliferation + Pretreat\\n',\n",
    "                     'Five Latent: Allow Interaction\\n',\n",
    "                     'Five Latent: Allow Interaction, Full Grid Search\\n'\n",
    "                    )\n",
    ")"
   ]
  },
  {
   "cell_type": "code",
   "execution_count": 10,
   "id": "a4d32f69",
   "metadata": {},
   "outputs": [],
   "source": [
    "color_maps <- list(\n",
    "    'Base: TMB + PDL1\\n' = '#A6CEE3',\n",
    "    'Five Latent: TMB + T-cell + TGFB + Proliferation + Pretreat\\n' = '#1F78B4', \n",
    "    'TMB\\n' = '#B2DF8A',\n",
    "    'RNA only: T-cell, TGFB, Proliferation\\n' = 'grey',\n",
    "    'No TMB: T-cell + TGFB + Proliferation + Pretreat\\n' = 'orange',\n",
    "    'Full Model: Five Latent + Age + Distal Biopsy + HLA LOH \\n+ CPI Mechanism + WGD + SVB' = '#FB9A99',\n",
    "    'Hybrid Models\\n' = '#1F78B4',\n",
    "    'Simple Tissue Models\\n' = '#E31A1C',\n",
    "    'Pan-Cancer Model\\n' = '#FDBF6F',\n",
    "    'Five Latent: Alernative Measures 1\\n' = '#6A3D9A',\n",
    "    'Five Latent: Alernative Measures 2\\n' = '#CAB2D6',\n",
    "    'Five Latent: Allow Interaction\\n' = 'dark grey',\n",
    "    'Five Latent: Allow Interaction, Full Grid Search\\n' = 'white'    \n",
    ")"
   ]
  },
  {
   "cell_type": "markdown",
   "id": "5ea1e3a8",
   "metadata": {},
   "source": [
    "### 1 - Control colors, titles, comparisons"
   ]
  },
  {
   "cell_type": "code",
   "execution_count": 11,
   "id": "141a3970",
   "metadata": {},
   "outputs": [],
   "source": [
    "get_cols <- function(fits) unlist(lapply( fits, function(i) color_maps[i]))"
   ]
  },
  {
   "cell_type": "code",
   "execution_count": 12,
   "id": "77b2c955",
   "metadata": {},
   "outputs": [],
   "source": [
    "title_maps <- list(\n",
    "    \"t1\" = list(\"lr\" = \"Test AUC\", \"pfs\" = \"Test Concordance Index\", \"os\" = \"Test Concordance Index\"),\n",
    "    \"t2\" = list(\"lr\" = \"HMF Prediction Study - Response\", \"pfs\" = \"HMF Prediction Study - Progression Free Survival\", \"os\" = \"HMF Prediction Study - Overall Survival\")\n",
    ")"
   ]
  },
  {
   "cell_type": "markdown",
   "id": "022d749c",
   "metadata": {},
   "source": [
    "### 2 - Prepare Data and get plots"
   ]
  },
  {
   "cell_type": "code",
   "execution_count": 13,
   "id": "1557507a",
   "metadata": {},
   "outputs": [],
   "source": [
    "j <- \"true\""
   ]
  },
  {
   "cell_type": "code",
   "execution_count": 14,
   "id": "d2cf915a",
   "metadata": {},
   "outputs": [],
   "source": [
    "ready_data <- list()\n",
    "for( i in names(studies)){\n",
    "    ready_data$raw[[i]] <- data_long %>% filter(fit2 %in% studies[[i]], purity == j)\n",
    "    ready_data$bars[[i]] <- results %>% filter(fit2 %in% studies[[i]], purity == j)\n",
    "}"
   ]
  },
  {
   "cell_type": "code",
   "execution_count": 15,
   "id": "2d94325a",
   "metadata": {},
   "outputs": [],
   "source": [
    "#ready_data$bars[[i]]"
   ]
  },
  {
   "cell_type": "code",
   "execution_count": 16,
   "id": "0a2249ec",
   "metadata": {},
   "outputs": [],
   "source": [
    "plts <- list()\n",
    "for ( i in names(studies) ){\n",
    "    cols <- get_cols(studies[[i]])\n",
    "    for( j in c(\"lr\", \"pfs\", \"os\")){ \n",
    "        plts[[i]][[j]] <- get_dressed( \n",
    "            pred_plots( ready_data$raw[[i]], ready_data$bars[[i]], mod = j, cols ), title = title_maps$t2[[j]]\n",
    "        )\n",
    "        tmp <- (\n",
    "            barplots(ready_data$bars[[i]], ylab = \"\", theme = theme_bars_main, size = 4, cols) + \n",
    "            theme(legend.position = \"right\", \n",
    "                  legend.text = element_text(size=20), \n",
    "                  legend.title = element_blank(),\n",
    "                  legend.background = element_rect(colour = 'black', fill = 'white', linetype='solid')) \n",
    "        )\n",
    "        if( i == \"figure_5b\"){\n",
    "            plts[[i]][['legend']] <- get_legend(tmp + theme(legend.direction=\"horizontal\", legend.key.height = unit(1, 'cm'), legend.key.width = unit(1.5, 'cm')))\n",
    "        } else {\n",
    "            plts[[i]][['legend']] <- get_legend(tmp)\n",
    "        }\n",
    "    }\n",
    "}"
   ]
  },
  {
   "cell_type": "markdown",
   "id": "90fb5915",
   "metadata": {},
   "source": [
    "### 3 - Combine for outputs and save to figure directory"
   ]
  },
  {
   "cell_type": "code",
   "execution_count": 18,
   "id": "8628a79b",
   "metadata": {},
   "outputs": [],
   "source": [
    "o_simple <- function( plts, i ) {\n",
    "    arrangeGrob(plts[[i]]$lr, plts[[i]]$os, plts[[i]]$legend, layout_matrix = rbind(c(1,2), c(1,2), c(1,2), c(1,2), c(1,2), c(1,2), c(3,3)))\n",
    "}\n",
    "o_full <- function( plts, i ) {\n",
    "    arrangeGrob(plts[[i]]$lr, plts[[i]]$legend, plts[[i]]$pfs, plts[[i]]$os,  ncol = 2)\n",
    "}"
   ]
  },
  {
   "cell_type": "code",
   "execution_count": 19,
   "id": "117c4f92",
   "metadata": {},
   "outputs": [],
   "source": [
    "prediction_plots <- list(\n",
    "    \"figure_5b\" = as_ggplot(o_simple( plts, 'figure_5b')),\n",
    "    \"figure_s6a\" = as_ggplot(o_full( plts, 'figure_s6a')),\n",
    "    \"figure_s6b\" = as_ggplot(o_full( plts, 'figure_s6b')),\n",
    "    \"figure_sn2_1\" = as_ggplot(o_full( plts, 'figure_sn2_1')),\n",
    "    \"figure_sn7\" = as_ggplot(o_full( plts, 'figure_sn7'))\n",
    ")"
   ]
  },
  {
   "cell_type": "code",
   "execution_count": 20,
   "id": "0fbb92d1",
   "metadata": {},
   "outputs": [],
   "source": [
    "saveRDS( list( \"individual\" = plts, \"combined\" = prediction_plots), file = paste0(FIG_DIR, \"pred_study_plots.Rds\"))"
   ]
  }
 ],
 "metadata": {
  "kernelspec": {
   "display_name": "R",
   "language": "R",
   "name": "ir"
  },
  "language_info": {
   "codemirror_mode": "r",
   "file_extension": ".r",
   "mimetype": "text/x-r-source",
   "name": "R",
   "pygments_lexer": "r",
   "version": "3.6.1"
  }
 },
 "nbformat": 4,
 "nbformat_minor": 5
}
