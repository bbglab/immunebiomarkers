{
 "cells": [
  {
   "cell_type": "code",
   "execution_count": null,
   "id": "0",
   "metadata": {},
   "outputs": [],
   "source": [
    "wd <- dirname(dirname(getwd()))\n",
    "source(paste0(wd,\"/mission_control/treasure_map.R\"))\n",
    "source(paste0(wd,\"/mission_control/helpers/figures/exhaustive_prep.R\"))\n",
    "source(paste0(wd,\"/mission_control/helpers/figures/exhaustive_settings.R\"))\n",
    "library(tidyverse)\n",
    "library(stringr)"
   ]
  },
  {
   "cell_type": "markdown",
   "id": "1",
   "metadata": {},
   "source": [
    "### 0 - Ingredients"
   ]
  },
  {
   "cell_type": "code",
   "execution_count": null,
   "id": "2",
   "metadata": {},
   "outputs": [],
   "source": [
    "boom <- readRDS(paste0(TMP_DIR,\"exhaustive-plots-base.Rds\"))"
   ]
  },
  {
   "cell_type": "markdown",
   "id": "3",
   "metadata": {},
   "source": [
    "### 1 - Map Features"
   ]
  },
  {
   "cell_type": "markdown",
   "id": "4",
   "metadata": {},
   "source": [
    "#### Overall"
   ]
  },
  {
   "cell_type": "code",
   "execution_count": null,
   "id": "5",
   "metadata": {},
   "outputs": [],
   "source": [
    "overall <- list(\n",
    "    'somatic_TMB' = 'TMB',\n",
    "    'clinical_pre_contains_Chemotherapy' = 'Prior Chemotherapy',\n",
    "    'clinical_meta_hasRadiotherapyPreTreatment' = 'Prior Radiotherapy',\n",
    "    'clinical_meta_hasSystemicPreTreatment2' = \"Prior systemic therapy\",\n",
    "    'clinical_pre_treated' = \"Prior therapy\",\n",
    "    'clinical_systemic_composite' = \"Prior Systemic Therapy (Composite)\",\n",
    "    'clinical_pre_to_post_treatment_time' = \"Time since Prior Systemic Therapy\",\n",
    "    'isofox_gene_set_prolif' = 'Proliferation',\n",
    "    'isofox_gene_set_Pan_TBRS' = 'TGFB',\n",
    "    'isofox_CD276' = 'CD276' ,\n",
    "    'isofox_gene_set_t_cell_effector' = 'T-cell effector gene set',\n",
    "    'sv_summary_svTumorMutationalBurden' = 'SV TMB',\n",
    "    'cnv_scna' = 'SCNA',\n",
    "    'cnv_summary_wholeGenomeDuplication' = 'WGD',\n",
    "    'cnv_summary_diploidProportion' = 'Ploidy',\n",
    "    'hla_HLA_all_LOH' = 'HLA LOH' \n",
    ")"
   ]
  },
  {
   "cell_type": "markdown",
   "id": "6",
   "metadata": {},
   "source": [
    "#### TMB "
   ]
  },
  {
   "cell_type": "code",
   "execution_count": null,
   "id": "7",
   "metadata": {},
   "outputs": [],
   "source": [
    "tmb <- list(\n",
    "    \"somatic_TMB\" = \"TMB\",\n",
    "    \"somatic_TMB_clonal\" = \"TMB clonal\",\n",
    "    \"somatic_TMB_subclonal\" = \"TMB subclonal\",\n",
    "    \"somatic_TMB_frameshift\" = \"TMB frameshift\")"
   ]
  },
  {
   "cell_type": "markdown",
   "id": "8",
   "metadata": {},
   "source": [
    "#### TMB by Gene"
   ]
  },
  {
   "cell_type": "code",
   "execution_count": null,
   "id": "9",
   "metadata": {},
   "outputs": [],
   "source": [
    "tmb_genes <- list()\n",
    "somatic_genes = c('BRCA2', 'MSH2', 'POLD1')\n",
    "idx <- paste0(\"somatic.gene_\",somatic_genes,\".mb\")\n",
    "tmb_genes[idx] <- somatic_genes"
   ]
  },
  {
   "cell_type": "markdown",
   "id": "10",
   "metadata": {},
   "source": [
    "#### Signatures "
   ]
  },
  {
   "cell_type": "code",
   "execution_count": null,
   "id": "11",
   "metadata": {},
   "outputs": [],
   "source": [
    "sigs <- list( \"sig_SBS7a\" = \"Signature 7a\")"
   ]
  },
  {
   "cell_type": "markdown",
   "id": "12",
   "metadata": {},
   "source": [
    "#### T-cell Gene Set"
   ]
  },
  {
   "cell_type": "code",
   "execution_count": null,
   "id": "13",
   "metadata": {},
   "outputs": [],
   "source": [
    "t_cells <- list()\n",
    "genes <- c('CXCL9', 'CD274','CTLA4','TIGIT')\n",
    "idx <- paste0('isofox_', genes)\n",
    "t_cells[idx] <- genes"
   ]
  },
  {
   "cell_type": "markdown",
   "id": "14",
   "metadata": {},
   "source": [
    "#### Proliferation Gene Set"
   ]
  },
  {
   "cell_type": "code",
   "execution_count": null,
   "id": "15",
   "metadata": {},
   "outputs": [],
   "source": [
    "prolif <- list()\n",
    "genes <- gene_sets[['gene_set_prolif']]\n",
    "idx <- paste0('isofox_', genes)\n",
    "prolif[idx] <- genes"
   ]
  },
  {
   "cell_type": "markdown",
   "id": "16",
   "metadata": {},
   "source": [
    "#### TGFB Gene Set"
   ]
  },
  {
   "cell_type": "code",
   "execution_count": null,
   "id": "17",
   "metadata": {},
   "outputs": [],
   "source": [
    "tgfb <- list()\n",
    "genes <- gene_sets[['gene_set_Pan_TBRS']]\n",
    "idx <- paste0('isofox_', genes)\n",
    "tgfb[idx] <- genes"
   ]
  },
  {
   "cell_type": "markdown",
   "id": "18",
   "metadata": {},
   "source": [
    "#### Cibersort "
   ]
  },
  {
   "cell_type": "code",
   "execution_count": null,
   "id": "19",
   "metadata": {},
   "outputs": [],
   "source": [
    "cibersort <- list(\n",
    "    'cibersort_T.cells.CD8' = \"CD8 T-cells\",\n",
    "    'cibersort_Dendritic.cells.resting' = \"Dendritic Cells Resting\",\n",
    "    'cibersort_Macrophages.M2' = \"Macrophages M2\",\n",
    "    'cibersort_Macrophages.M0' = \"Macrophages M0\",\n",
    "    'cibersort_T.cells.gamma.delta' = \"Gamma T-cells\")"
   ]
  },
  {
   "cell_type": "markdown",
   "id": "20",
   "metadata": {},
   "source": [
    "### Labels: Pre-set, Correlations, and Data-driven"
   ]
  },
  {
   "cell_type": "code",
   "execution_count": null,
   "id": "21",
   "metadata": {},
   "outputs": [],
   "source": [
    "pre_set_labels <- c( overall, tmb, tmb_genes, t_cells, prolif, tgfb, cibersort, sigs )\n",
    "labeller <- function(i) pre_set_labels[[i]]"
   ]
  },
  {
   "cell_type": "code",
   "execution_count": null,
   "id": "22",
   "metadata": {},
   "outputs": [],
   "source": [
    "annotate <- \n",
    "boom %>% \n",
    "  filter( feature %in% names(pre_set_labels)) %>% \n",
    "  rowwise() %>% \n",
    "  mutate(clean_label = labeller(feature)) %>%\n",
    "  ungroup()"
   ]
  },
  {
   "cell_type": "markdown",
   "id": "23",
   "metadata": {},
   "source": [
    "### 2 - Send it"
   ]
  },
  {
   "cell_type": "code",
   "execution_count": null,
   "id": "24",
   "metadata": {},
   "outputs": [],
   "source": [
    "saveRDS( annotate, paste0(TMP_DIR,\"exhaustive-plots-labels.Rds\"))"
   ]
  }
 ],
 "metadata": {
  "kernelspec": {
   "display_name": "R",
   "language": "R",
   "name": "ir"
  },
  "language_info": {
   "codemirror_mode": "r",
   "file_extension": ".r",
   "mimetype": "text/x-r-source",
   "name": "R",
   "pygments_lexer": "r",
   "version": "3.6.1"
  }
 },
 "nbformat": 4,
 "nbformat_minor": 5
}
