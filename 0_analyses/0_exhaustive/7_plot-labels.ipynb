{
 "cells": [
  {
   "cell_type": "code",
   "execution_count": 1,
   "id": "212b0e98",
   "metadata": {},
   "outputs": [
    {
     "name": "stderr",
     "output_type": "stream",
     "text": [
      "Registered S3 method overwritten by 'rvest':\n",
      "  method            from\n",
      "  read_xml.response xml2\n",
      "── Attaching packages ─────────────────────────────────────────────────────────────────────────────────────────────── tidyverse 1.2.1 ──\n",
      "✔ tibble  3.1.2     ✔ purrr   0.3.4\n",
      "✔ tidyr   1.1.3     ✔ dplyr   1.0.6\n",
      "✔ readr   1.3.1     ✔ stringr 1.4.0\n",
      "✔ tibble  3.1.2     ✔ forcats 0.5.1\n",
      "Warning message:\n",
      "“package ‘tibble’ was built under R version 3.6.3”Warning message:\n",
      "“package ‘tidyr’ was built under R version 3.6.3”Warning message:\n",
      "“package ‘purrr’ was built under R version 3.6.3”Warning message:\n",
      "“package ‘dplyr’ was built under R version 3.6.3”Warning message:\n",
      "“package ‘forcats’ was built under R version 3.6.3”── Conflicts ────────────────────────────────────────────────────────────────────────────────────────────────── tidyverse_conflicts() ──\n",
      "✖ dplyr::filter() masks stats::filter()\n",
      "✖ dplyr::lag()    masks stats::lag()\n"
     ]
    }
   ],
   "source": [
    "wd <- dirname(dirname(getwd()))\n",
    "source(paste0(wd,\"/mission_control/treasure_map.R\"))\n",
    "source(paste0(wd,\"/mission_control/helpers/figures/exhaustive_prep.R\"))\n",
    "source(paste0(wd,\"/mission_control/helpers/figures/exhaustive_settings.R\"))\n",
    "library(tidyverse)\n",
    "library(stringr)"
   ]
  },
  {
   "cell_type": "markdown",
   "id": "44eec914",
   "metadata": {},
   "source": [
    "### Ingredients"
   ]
  },
  {
   "cell_type": "code",
   "execution_count": 2,
   "id": "d2b53b04",
   "metadata": {},
   "outputs": [],
   "source": [
    "boom <- readRDS(paste0(TMP_DIR,\"exhaustive-plots-base.Rds\"))"
   ]
  },
  {
   "cell_type": "markdown",
   "id": "079fe1b3",
   "metadata": {},
   "source": [
    "### Map Features"
   ]
  },
  {
   "cell_type": "markdown",
   "id": "f91ba63d",
   "metadata": {},
   "source": [
    "#### Overall"
   ]
  },
  {
   "cell_type": "code",
   "execution_count": 3,
   "id": "346dfbdb",
   "metadata": {},
   "outputs": [],
   "source": [
    "overall <- list(\n",
    "    'somatic_TMB' = 'TMB',\n",
    "    'clinical_pre_contains_Chemotherapy' = 'Prior Chemotherapy',\n",
    "    'clinical_meta_hasRadiotherapyPreTreatment' = 'Prior Radiotherapy',\n",
    "    'clinical_meta_hasSystemicPreTreatment2' = \"Prior systemic therapy\",\n",
    "    'clinical_pre_treated' = \"Prior therapy\",\n",
    "    'clinical_systemic_composite' = \"Prior Systemic Therapy (Composite)\",\n",
    "    'clinical_pre_to_post_treatment_time' = \"Time since Prior Systemic Therapy\",\n",
    "    'isofox_gene_set_prolif' = 'Proliferation',\n",
    "    'isofox_gene_set_Pan_TBRS' = 'TGFB',\n",
    "    'isofox_CD276' = 'CD276' ,\n",
    "    'isofox_gene_set_t_cell_effector' = 'T-cell effector gene set',\n",
    "    'sv_summary_svTumorMutationalBurden' = 'SV TMB',\n",
    "    'cnv_scna' = 'SCNA',\n",
    "    'cnv_summary_wholeGenomeDuplication' = 'WGD',\n",
    "    'cnv_summary_diploidProportion' = 'Ploidy',\n",
    "    'hla_HLA_all_LOH' = 'HLA LOH' \n",
    ")"
   ]
  },
  {
   "cell_type": "markdown",
   "id": "c36e93c7",
   "metadata": {},
   "source": [
    "#### TMB "
   ]
  },
  {
   "cell_type": "code",
   "execution_count": 4,
   "id": "67d58e98",
   "metadata": {},
   "outputs": [],
   "source": [
    "tmb <- list(\n",
    "    \"somatic_TMB\" = \"TMB\",\n",
    "    \"somatic_TMB_clonal\" = \"TMB clonal\",\n",
    "    \"somatic_TMB_subclonal\" = \"TMB subclonal\",\n",
    "    \"somatic_TMB_frameshift\" = \"TMB frameshift\"\n",
    ")"
   ]
  },
  {
   "cell_type": "markdown",
   "id": "64f450d2",
   "metadata": {},
   "source": [
    "#### TMB by Gene"
   ]
  },
  {
   "cell_type": "code",
   "execution_count": 5,
   "id": "3fd52032",
   "metadata": {},
   "outputs": [],
   "source": [
    "tmb_genes <- list()\n",
    "somatic_genes = c('BRCA2', 'MSH2', 'POLD1')\n",
    "idx <- paste0(\"somatic.gene_\",somatic_genes,\".mb\")\n",
    "tmb_genes[idx] <- somatic_genes"
   ]
  },
  {
   "cell_type": "markdown",
   "id": "7b96dcc5",
   "metadata": {},
   "source": [
    "#### Signatures "
   ]
  },
  {
   "cell_type": "code",
   "execution_count": 6,
   "id": "18f0c4c7",
   "metadata": {},
   "outputs": [],
   "source": [
    "sigs <- list(\n",
    "    \"sig_SBS7a\" = \"Signature 7a\"\n",
    ")"
   ]
  },
  {
   "cell_type": "markdown",
   "id": "a1655979",
   "metadata": {},
   "source": [
    "#### T-cell Gene Set"
   ]
  },
  {
   "cell_type": "code",
   "execution_count": 7,
   "id": "b862d091",
   "metadata": {},
   "outputs": [],
   "source": [
    "t_cells <- list()\n",
    "genes <- c('CXCL9', 'CD274','CTLA4','TIGIT')\n",
    "idx <- paste0('isofox_', genes)\n",
    "t_cells[idx] <- genes"
   ]
  },
  {
   "cell_type": "markdown",
   "id": "2b23cda9",
   "metadata": {},
   "source": [
    "#### Proliferation Gene Set"
   ]
  },
  {
   "cell_type": "code",
   "execution_count": 8,
   "id": "6fa6c134",
   "metadata": {},
   "outputs": [],
   "source": [
    "prolif <- list()\n",
    "genes <- gene_sets[['gene_set_prolif']]\n",
    "idx <- paste0('isofox_', genes)\n",
    "prolif[idx] <- genes"
   ]
  },
  {
   "cell_type": "markdown",
   "id": "7b9a5348",
   "metadata": {},
   "source": [
    "#### TGFB Gene Set"
   ]
  },
  {
   "cell_type": "code",
   "execution_count": 9,
   "id": "a87322cd",
   "metadata": {},
   "outputs": [],
   "source": [
    "tgfb <- list()\n",
    "genes <- gene_sets[['gene_set_Pan_TBRS']]\n",
    "idx <- paste0('isofox_', genes)\n",
    "tgfb[idx] <- genes"
   ]
  },
  {
   "cell_type": "markdown",
   "id": "f14d9fe4",
   "metadata": {},
   "source": [
    "#### Cibersort "
   ]
  },
  {
   "cell_type": "code",
   "execution_count": 10,
   "id": "dca711c0",
   "metadata": {},
   "outputs": [],
   "source": [
    "cibersort <- list(\n",
    "    'cibersort_T.cells.CD8' = \"CD8 T-cells\",\n",
    "    'cibersort_Dendritic.cells.resting' = \"Dendritic Cells Resting\",\n",
    "    'cibersort_Macrophages.M2' = \"Macrophages M2\",\n",
    "    'cibersort_Macrophages.M0' = \"Macrophages M0\",\n",
    "    'cibersort_T.cells.gamma.delta' = \"Gamma T-cells\"\n",
    ")"
   ]
  },
  {
   "cell_type": "markdown",
   "id": "c1c72afc",
   "metadata": {},
   "source": [
    "### Labels: Pre-set, Correlations, and Data-driven"
   ]
  },
  {
   "cell_type": "code",
   "execution_count": 18,
   "id": "cd48f238",
   "metadata": {},
   "outputs": [],
   "source": [
    "pre_set_labels <- c( overall, tmb, tmb_genes, t_cells, prolif, tgfb, cibersort, sigs )\n",
    "pre_set <- boom %>% filter( feature %in% names(pre_set_labels))"
   ]
  },
  {
   "cell_type": "markdown",
   "id": "68f5c55c",
   "metadata": {},
   "source": [
    "## Annotation Dataframe"
   ]
  },
  {
   "cell_type": "code",
   "execution_count": 19,
   "id": "e6663b4f",
   "metadata": {},
   "outputs": [],
   "source": [
    "annotate <- pre_set #%>% distinct()"
   ]
  },
  {
   "cell_type": "code",
   "execution_count": 21,
   "id": "72fe97bb",
   "metadata": {},
   "outputs": [],
   "source": [
    "labeller <- function(i) pre_set_labels[[i]]\n",
    "annotate <- annotate %>% rowwise() %>% mutate(clean_label = labeller(feature))"
   ]
  },
  {
   "cell_type": "markdown",
   "id": "78f7732c",
   "metadata": {},
   "source": [
    "### Outputted prepped annotation dataset"
   ]
  },
  {
   "cell_type": "code",
   "execution_count": 22,
   "id": "e44a77f2",
   "metadata": {},
   "outputs": [],
   "source": [
    "saveRDS( annotate, paste0(TMP_DIR,\"exhaustive-plots-labels.Rds\"))"
   ]
  }
 ],
 "metadata": {
  "kernelspec": {
   "display_name": "R",
   "language": "R",
   "name": "ir"
  },
  "language_info": {
   "codemirror_mode": "r",
   "file_extension": ".r",
   "mimetype": "text/x-r-source",
   "name": "R",
   "pygments_lexer": "r",
   "version": "3.6.1"
  }
 },
 "nbformat": 4,
 "nbformat_minor": 5
}
