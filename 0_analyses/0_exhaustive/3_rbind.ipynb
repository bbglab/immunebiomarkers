{
 "cells": [
  {
   "cell_type": "code",
   "execution_count": 1,
   "id": "c470375e",
   "metadata": {},
   "outputs": [
    {
     "name": "stderr",
     "output_type": "stream",
     "text": [
      "Registered S3 method overwritten by 'rvest':\n",
      "  method            from\n",
      "  read_xml.response xml2\n",
      "── Attaching packages ─────────────────────────────────────────────────────────────────────────────────────────────────── tidyverse 1.2.1 ──\n",
      "✔ ggplot2 3.3.6     ✔ purrr   0.3.4\n",
      "✔ tibble  3.1.2     ✔ dplyr   1.0.6\n",
      "✔ tidyr   1.1.3     ✔ stringr 1.4.0\n",
      "✔ readr   1.3.1     ✔ forcats 0.5.1\n",
      "Warning message:\n",
      "“package ‘tibble’ was built under R version 3.6.3”Warning message:\n",
      "“package ‘tidyr’ was built under R version 3.6.3”Warning message:\n",
      "“package ‘purrr’ was built under R version 3.6.3”Warning message:\n",
      "“package ‘dplyr’ was built under R version 3.6.3”Warning message:\n",
      "“package ‘forcats’ was built under R version 3.6.3”── Conflicts ────────────────────────────────────────────────────────────────────────────────────────────────────── tidyverse_conflicts() ──\n",
      "✖ dplyr::filter() masks stats::filter()\n",
      "✖ dplyr::lag()    masks stats::lag()\n"
     ]
    }
   ],
   "source": [
    "wd <- dirname(dirname(getwd()))\n",
    "source(paste0(wd,\"/mission_control/treasure_map.R\"))\n",
    "source(paste0(wd,\"/mission_control/helpers/exhaustive_study/exhaustive_help.R\"))\n",
    "library(tidyverse)"
   ]
  },
  {
   "cell_type": "markdown",
   "id": "806e1d2f",
   "metadata": {},
   "source": [
    "### 0 - Gather results"
   ]
  },
  {
   "cell_type": "code",
   "execution_count": 2,
   "id": "cc2549db",
   "metadata": {},
   "outputs": [],
   "source": [
    "results <- data.frame()\n",
    "for( i in list.files(paste0(TMP_DIR, 'exhaustive_study/'))){\n",
    "    results <- rbind(results, readRDS( paste0(TMP_DIR, 'exhaustive_study/',i)))\n",
    "}"
   ]
  },
  {
   "cell_type": "markdown",
   "id": "7a8bed0e",
   "metadata": {},
   "source": [
    "### 1 - Send it!"
   ]
  },
  {
   "cell_type": "code",
   "execution_count": 3,
   "id": "64bf1b77",
   "metadata": {},
   "outputs": [],
   "source": [
    "saveRDS( results, paste0( TMP_DIR, paste0( \"exhaustive-stats.Rds\" ) ))"
   ]
  }
 ],
 "metadata": {
  "kernelspec": {
   "display_name": "R",
   "language": "R",
   "name": "ir"
  },
  "language_info": {
   "codemirror_mode": "r",
   "file_extension": ".r",
   "mimetype": "text/x-r-source",
   "name": "R",
   "pygments_lexer": "r",
   "version": "3.6.1"
  }
 },
 "nbformat": 4,
 "nbformat_minor": 5
}
