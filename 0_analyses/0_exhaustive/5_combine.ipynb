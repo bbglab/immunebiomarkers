{
 "cells": [
  {
   "cell_type": "code",
   "execution_count": 1,
   "id": "0b73240e",
   "metadata": {},
   "outputs": [
    {
     "name": "stderr",
     "output_type": "stream",
     "text": [
      "Registered S3 method overwritten by 'rvest':\n",
      "  method            from\n",
      "  read_xml.response xml2\n",
      "── Attaching packages ────────────────────────────────────────────────────────────────────────────────────────── tidyverse 1.2.1 ──\n",
      "✔ ggplot2 3.3.6     ✔ purrr   0.3.4\n",
      "✔ tibble  3.1.2     ✔ dplyr   1.0.6\n",
      "✔ tidyr   1.1.3     ✔ stringr 1.4.0\n",
      "✔ readr   1.3.1     ✔ forcats 0.5.1\n",
      "Warning message:\n",
      "“package ‘tibble’ was built under R version 3.6.3”Warning message:\n",
      "“package ‘tidyr’ was built under R version 3.6.3”Warning message:\n",
      "“package ‘purrr’ was built under R version 3.6.3”Warning message:\n",
      "“package ‘dplyr’ was built under R version 3.6.3”Warning message:\n",
      "“package ‘forcats’ was built under R version 3.6.3”── Conflicts ───────────────────────────────────────────────────────────────────────────────────────────── tidyverse_conflicts() ──\n",
      "✖ dplyr::filter() masks stats::filter()\n",
      "✖ dplyr::lag()    masks stats::lag()\n"
     ]
    }
   ],
   "source": [
    "wd <- dirname(dirname(getwd()))\n",
    "source(paste0(wd,\"/mission_control/treasure_map.R\"))\n",
    "source(paste0(wd,\"/mission_control/helpers/exhaustive_study/combine_help.R\"))\n",
    "library(tidyverse)"
   ]
  },
  {
   "cell_type": "markdown",
   "id": "8cdb02e5",
   "metadata": {},
   "source": [
    "### 0 - read output files\n",
    "- pretty boring!"
   ]
  },
  {
   "cell_type": "code",
   "execution_count": 2,
   "id": "698c6e98",
   "metadata": {},
   "outputs": [],
   "source": [
    "stats <- readRDS(paste0(TMP_DIR,\"exhaustive-stats.Rds\"))\n",
    "cors <- readRDS( paste0(TMP_DIR,\"exhaustive-cors.Rds\") ) "
   ]
  },
  {
   "cell_type": "markdown",
   "id": "99a06451",
   "metadata": {},
   "source": [
    "### 1 - house cleaning"
   ]
  },
  {
   "cell_type": "code",
   "execution_count": 3,
   "id": "d084709c",
   "metadata": {},
   "outputs": [],
   "source": [
    "house_party <- (\n",
    "    stats \n",
    "      %>% left_join(cors, by = \"feature\")\n",
    "      %>% drop_na(p_val)\n",
    "      %>% mutate(log10_p = -log10(p_val))\n",
    "      %>% relocate(group, dataset, model, model_type, col_type, feature, cor_pretreat, \n",
    "                   cor_tmb, cor_tcell, cor_prolif, cor_tgfb, cor_purity, est, se, p_val, log10_p)\n",
    ")"
   ]
  },
  {
   "cell_type": "markdown",
   "id": "4803b274",
   "metadata": {},
   "source": [
    "### 2 - send it!"
   ]
  },
  {
   "cell_type": "code",
   "execution_count": 4,
   "id": "42a2cf36",
   "metadata": {},
   "outputs": [],
   "source": [
    "saveRDS(house_party, paste0(TMP_DIR,\"exhaustive-combine.Rds\"))"
   ]
  }
 ],
 "metadata": {
  "kernelspec": {
   "display_name": "R",
   "language": "R",
   "name": "ir"
  },
  "language_info": {
   "codemirror_mode": "r",
   "file_extension": ".r",
   "mimetype": "text/x-r-source",
   "name": "R",
   "pygments_lexer": "r",
   "version": "3.6.1"
  }
 },
 "nbformat": 4,
 "nbformat_minor": 5
}
