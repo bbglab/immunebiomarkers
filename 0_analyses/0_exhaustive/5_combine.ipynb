{
 "cells": [
  {
   "cell_type": "code",
   "execution_count": null,
   "id": "0",
   "metadata": {},
   "outputs": [],
   "source": [
    "wd <- dirname(dirname(getwd()))\n",
    "source(paste0(wd,\"/mission_control/treasure_map.R\"))\n",
    "source(paste0(wd,\"/mission_control/helpers/exhaustive_study/combine_help.R\"))\n",
    "library(tidyverse)"
   ]
  },
  {
   "cell_type": "markdown",
   "id": "1",
   "metadata": {},
   "source": [
    "### 0 - read output files\n",
    "- pretty boring!"
   ]
  },
  {
   "cell_type": "code",
   "execution_count": null,
   "id": "2",
   "metadata": {},
   "outputs": [],
   "source": [
    "stats <- readRDS(paste0(TMP_DIR,\"exhaustive-stats.Rds\"))\n",
    "cors <- readRDS( paste0(TMP_DIR,\"exhaustive-cors.Rds\") ) "
   ]
  },
  {
   "cell_type": "markdown",
   "id": "3",
   "metadata": {},
   "source": [
    "### 1 - house cleaning"
   ]
  },
  {
   "cell_type": "code",
   "execution_count": null,
   "id": "4",
   "metadata": {},
   "outputs": [],
   "source": [
    "house_party <-\n",
    "stats %>% \n",
    "  left_join(cors, by = \"feature\") %>% \n",
    "  drop_na(p_val) %>% \n",
    "  mutate(log10_p = -log10(p_val)) %>% \n",
    "  relocate(group, dataset, model, model_type, col_type, feature, cor_pretreat, \n",
    "           cor_tmb, cor_tcell, cor_prolif, cor_tgfb, cor_purity, est, se, p_val, log10_p)"
   ]
  },
  {
   "cell_type": "markdown",
   "id": "5",
   "metadata": {},
   "source": [
    "### 2 - Send it!"
   ]
  },
  {
   "cell_type": "code",
   "execution_count": null,
   "id": "6",
   "metadata": {},
   "outputs": [],
   "source": [
    "saveRDS(house_party, paste0(TMP_DIR,\"exhaustive-combine.Rds\"))"
   ]
  }
 ],
 "metadata": {
  "kernelspec": {
   "display_name": "R",
   "language": "R",
   "name": "ir"
  },
  "language_info": {
   "codemirror_mode": "r",
   "file_extension": ".r",
   "mimetype": "text/x-r-source",
   "name": "R",
   "pygments_lexer": "r",
   "version": "3.6.1"
  }
 },
 "nbformat": 4,
 "nbformat_minor": 5
}
