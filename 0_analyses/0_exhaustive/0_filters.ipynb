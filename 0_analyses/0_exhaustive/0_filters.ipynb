{
 "cells": [
  {
   "cell_type": "code",
   "execution_count": null,
   "id": "0",
   "metadata": {},
   "outputs": [],
   "source": [
    "wd <- dirname(dirname(getwd()))\n",
    "\n",
    "source(paste0(wd,\"/mission_control/treasure_map.R\"))\n",
    "source(paste0(wd,\"/mission_control/helpers/exhaustive_study/exhaustive_help.R\"))\n",
    "vhio_keep <- c(unique(paste(\"isofox_\",unname(unlist(readRDS(paste0(REF_DIR, \"vhio_gene_sets.Rds\")))))),'isofox_gene_set_vhio_prolif')\n",
    "\n",
    "library(tidyverse)\n",
    "library(data.table)"
   ]
  },
  {
   "cell_type": "code",
   "execution_count": null,
   "id": "1",
   "metadata": {},
   "outputs": [],
   "source": [
    "suppressMessages(library(tidyverse))\n",
    "suppressMessages(library(data.table))"
   ]
  },
  {
   "cell_type": "markdown",
   "id": "2",
   "metadata": {},
   "source": [
    "### 0 - Read from output from biomarker pipeline\n",
    "- Row filters for CPI project\n",
    "- Keep non-CPI for validation"
   ]
  },
  {
   "cell_type": "code",
   "execution_count": null,
   "id": "3",
   "metadata": {},
   "outputs": [],
   "source": [
    "hmf_markers <- fread(paste0(I_DIR, \"signals_base.csv\")) %>% filter(Survival_time_to_os_event != 0)"
   ]
  },
  {
   "cell_type": "code",
   "execution_count": null,
   "id": "4",
   "metadata": {},
   "outputs": [],
   "source": [
    "cpi <- hmf_markers %>% filter( clinical_post_contains_Immunotherapy, clinical_cpi_mechanism != \"CTLA4\")\n",
    "non_cpi <- hmf_markers %>% filter( !clinical_post_contains_Immunotherapy )"
   ]
  },
  {
   "cell_type": "markdown",
   "id": "5",
   "metadata": {},
   "source": [
    "### 1 - Column filters"
   ]
  },
  {
   "cell_type": "markdown",
   "id": "6",
   "metadata": {},
   "source": [
    "#### Check feature type counts"
   ]
  },
  {
   "cell_type": "code",
   "execution_count": null,
   "id": "7",
   "metadata": {},
   "outputs": [],
   "source": [
    "feature_types <- unname(sapply( colnames(cpi), function(i) strsplit(i, \"_\")[[1]][1]))"
   ]
  },
  {
   "cell_type": "markdown",
   "id": "8",
   "metadata": {},
   "source": [
    "#### Drivers "
   ]
  },
  {
   "cell_type": "code",
   "execution_count": null,
   "id": "9",
   "metadata": {},
   "outputs": [],
   "source": [
    "drivers <- cpi %>% select(contains(\"driver_\"))\n",
    "drivers_filter <- colnames(drivers)[which(apply( drivers, 2, sum, na.rm = TRUE) < nrow(cpi)/30)]"
   ]
  },
  {
   "cell_type": "markdown",
   "id": "10",
   "metadata": {},
   "source": [
    "#### Sigs\n",
    "- Filter based on non-zero values"
   ]
  },
  {
   "cell_type": "code",
   "execution_count": null,
   "id": "11",
   "metadata": {},
   "outputs": [],
   "source": [
    "sigs <- cpi %>% select(contains(\"sig_\"))\n",
    "sigs_filter <- colnames(sigs)[which(apply( sigs > .02, 2, sum) < nrow(cpi)/20)]"
   ]
  },
  {
   "cell_type": "markdown",
   "id": "12",
   "metadata": {},
   "source": [
    "#### Somatic "
   ]
  },
  {
   "cell_type": "code",
   "execution_count": null,
   "id": "13",
   "metadata": {},
   "outputs": [],
   "source": [
    "somatic.sig_filter <- gsub('sig_', 'somatic_TMB_', sigs_filter)"
   ]
  },
  {
   "cell_type": "markdown",
   "id": "14",
   "metadata": {},
   "source": [
    "#### Isofox\n",
    "- Need to add special filter to keep VHIO features"
   ]
  },
  {
   "cell_type": "code",
   "execution_count": null,
   "id": "15",
   "metadata": {},
   "outputs": [],
   "source": [
    "isofox_nr_filter <- colnames(cpi %>% select(contains(\"isofox.nr\")))\n",
    "gene_sets_keep <- colnames(cpi %>% select(contains(\"isofox_gene_set\")))"
   ]
  },
  {
   "cell_type": "code",
   "execution_count": null,
   "id": "16",
   "metadata": {},
   "outputs": [],
   "source": [
    "isofox <- cpi %>% select(contains(\"isofox_\"))\n",
    "isofox_sd <- apply( isofox, 2, sd, na.rm = TRUE)\n",
    "isofox_mn <- apply( isofox, 2, mean, na.rm = TRUE)\n",
    "isofox_filter <- colnames(isofox)[-intersect(which(isofox_sd > .5), which(abs(isofox_mn) > .5))]"
   ]
  },
  {
   "cell_type": "markdown",
   "id": "17",
   "metadata": {},
   "source": [
    "#### Somatic"
   ]
  },
  {
   "cell_type": "code",
   "execution_count": null,
   "id": "18",
   "metadata": {},
   "outputs": [],
   "source": [
    "somatic.gene <- cpi %>% select(contains(\"somatic.gene\"))\n",
    "somatic.gene_filter <- colnames(somatic.gene)[apply( somatic.gene > 0, 2, sum) < nrow(cpi)/20]"
   ]
  },
  {
   "cell_type": "markdown",
   "id": "19",
   "metadata": {},
   "source": [
    "#### Output filter vector"
   ]
  },
  {
   "cell_type": "code",
   "execution_count": null,
   "id": "20",
   "metadata": {},
   "outputs": [],
   "source": [
    "filters <- unique(c(drivers_filter, sigs_filter, somatic.sig_filter, isofox_nr_filter, isofox_filter, somatic.gene_filter))\n",
    "filters <- filters[-c(which( filters %in% vhio_keep), which(filters %in% gene_sets_keep))]"
   ]
  },
  {
   "cell_type": "markdown",
   "id": "21",
   "metadata": {},
   "source": [
    "### 2 - Add staple columns\n",
    "- Apply column filters\n",
    "- Add staple columns\n",
    "- Remove - from mutations"
   ]
  },
  {
   "cell_type": "markdown",
   "id": "22",
   "metadata": {},
   "source": [
    "#### CPI go"
   ]
  },
  {
   "cell_type": "code",
   "execution_count": null,
   "id": "23",
   "metadata": {},
   "outputs": [],
   "source": [
    "cpi_go <- \n",
    "cpi %>% \n",
    "  select(-all_of(filters)) %>% \n",
    "  mutate(\n",
    "    tmb = somatic_summary_tmbPerMb, \n",
    "    tcell = isofox_gene_set_tcell_cluster, \n",
    "    prolif = isofox_gene_set_prolif_cluster,\n",
    "    tgfb = isofox_gene_set_tgfb_cluster, \n",
    "    pretreat = (clinical_meta_hasSystemicPreTreatment2 + clinical_pre_treated)/2,\n",
    "    pretreat_comp = clinical_systemic_composite,\n",
    "    tissue = clinical_tumor_location_group,           ### covariate\n",
    "    tissue_full = clinical_meta_primaryTumorLocation,\n",
    "    age = clinical_age_at_treatment_start,            ### covariate\n",
    "    biopsy = clinical_biopsy_site,                    ### covariate\n",
    "    purity = somatic_summary_purity,                  ### covariate \n",
    "    pdl1 = isofox_CD274)\n",
    "colnames(cpi_go) <- gsub( \"-mutations\", \".mb\", colnames(cpi_go))"
   ]
  },
  {
   "cell_type": "markdown",
   "id": "24",
   "metadata": {},
   "source": [
    "#### Non-CPI go"
   ]
  },
  {
   "cell_type": "code",
   "execution_count": null,
   "id": "25",
   "metadata": {},
   "outputs": [],
   "source": [
    "non_cpi_go <-     \n",
    "non_cpi %>% \n",
    "  transmute(\n",
    "    patient_id = patientIdentifier, \n",
    "    Y_best_response_binary, \n",
    "    Survival_os_event, \n",
    "    Survival_time_to_os_event, \n",
    "    Filter_meta_responseMeasured,\n",
    "    tmb = somatic_summary_tmbPerMb, \n",
    "    tcell = isofox_gene_set_tcell_cluster, \n",
    "    prolif = isofox_gene_set_prolif_cluster,\n",
    "    tgfb = isofox_gene_set_tgfb_cluster, \n",
    "    pretreat = (clinical_meta_hasSystemicPreTreatment2 + clinical_pre_treated)/2,\n",
    "    pretreat_comp = clinical_systemic_composite,\n",
    "    tissue = clinical_tumor_location_group,           ### covariate\n",
    "    tissue_full = clinical_meta_primaryTumorLocation,\n",
    "    age = clinical_age_at_treatment_start,            ### covariate\n",
    "    biopsy = clinical_biopsy_site,                    ### covariate\n",
    "    purity = somatic_summary_purity,                  ### covariate \n",
    "    pdl1 = isofox_CD274)"
   ]
  },
  {
   "cell_type": "code",
   "execution_count": null,
   "id": "26",
   "metadata": {},
   "outputs": [],
   "source": [
    "print(\"I ran\")"
   ]
  },
  {
   "cell_type": "markdown",
   "id": "27",
   "metadata": {},
   "source": [
    "### Send output\n",
    "- Basis for subsequent analyses"
   ]
  },
  {
   "cell_type": "code",
   "execution_count": null,
   "id": "28",
   "metadata": {},
   "outputs": [],
   "source": [
    "saveRDS( cpi_go, paste0(I_DIR, \"cpi_go.Rds\"))\n",
    "saveRDS( cpi_go %>% select( sampleId, contains(\"clinical\"), somatic_summary_tmbPerMb, isofox_CXCL9), paste0(I_DIR, \"cpi_check.Rds\"))\n",
    "saveRDS( names(cpi_go[,-seq(15)]), paste0(TMP_DIR, \"exhaustive-features-go.Rds\"))\n",
    "saveRDS( non_cpi_go, paste0(TMP_DIR, \"validation-hmf-noncpi-go.Rds\"))"
   ]
  }
 ],
 "metadata": {
  "kernelspec": {
   "display_name": "R",
   "language": "R",
   "name": "ir"
  },
  "language_info": {
   "codemirror_mode": "r",
   "file_extension": ".r",
   "mimetype": "text/x-r-source",
   "name": "R",
   "pygments_lexer": "r",
   "version": "3.6.1"
  }
 },
 "nbformat": 4,
 "nbformat_minor": 5
}
