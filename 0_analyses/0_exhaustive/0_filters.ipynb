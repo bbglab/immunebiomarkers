{
 "cells": [
  {
   "cell_type": "code",
   "execution_count": 1,
   "id": "89c948e0",
   "metadata": {},
   "outputs": [
    {
     "name": "stderr",
     "output_type": "stream",
     "text": [
      "Registered S3 method overwritten by 'rvest':\n",
      "  method            from\n",
      "  read_xml.response xml2\n",
      "── Attaching packages ─────────────────────────────────────────────────────────────────────────────────────────────────────────────────────────────────────────────────────────────────── tidyverse 1.2.1 ──\n",
      "✔ ggplot2 3.3.6     ✔ purrr   0.3.4\n",
      "✔ tibble  3.1.2     ✔ dplyr   1.0.6\n",
      "✔ tidyr   1.1.3     ✔ stringr 1.4.0\n",
      "✔ readr   1.3.1     ✔ forcats 0.5.1\n",
      "Warning message:\n",
      "“package ‘tibble’ was built under R version 3.6.3”Warning message:\n",
      "“package ‘tidyr’ was built under R version 3.6.3”Warning message:\n",
      "“package ‘purrr’ was built under R version 3.6.3”Warning message:\n",
      "“package ‘dplyr’ was built under R version 3.6.3”Warning message:\n",
      "“package ‘forcats’ was built under R version 3.6.3”── Conflicts ────────────────────────────────────────────────────────────────────────────────────────────────────────────────────────────────────────────────────────────────────── tidyverse_conflicts() ──\n",
      "✖ dplyr::filter() masks stats::filter()\n",
      "✖ dplyr::lag()    masks stats::lag()\n",
      "\n",
      "Attaching package: ‘data.table’\n",
      "\n",
      "The following objects are masked from ‘package:dplyr’:\n",
      "\n",
      "    between, first, last\n",
      "\n",
      "The following object is masked from ‘package:purrr’:\n",
      "\n",
      "    transpose\n",
      "\n"
     ]
    }
   ],
   "source": [
    "wd <- dirname(dirname(getwd()))\n",
    "\n",
    "source(paste0(wd,\"/mission_control/treasure_map.R\"))\n",
    "source(paste0(wd,\"/mission_control/helpers/exhaustive_study/exhaustive_help.R\"))\n",
    "vhio_keep <- c(unique(paste(\"isofox_\",unname(unlist(readRDS(paste0(REF_DIR, \"vhio_gene_sets.Rds\")))))),'isofox_gene_set_vhio_prolif')\n",
    "\n",
    "library(tidyverse)\n",
    "library(data.table)"
   ]
  },
  {
   "cell_type": "code",
   "execution_count": 2,
   "id": "999f5c24",
   "metadata": {},
   "outputs": [],
   "source": [
    "suppressMessages(library(tidyverse))\n",
    "suppressMessages(library(data.table))"
   ]
  },
  {
   "cell_type": "markdown",
   "id": "0aa36dc6",
   "metadata": {},
   "source": [
    "### 0 - Read from output from biomarker pipeline\n",
    "- Row filters for CPI project\n",
    "- Keep non-CPI for validation"
   ]
  },
  {
   "cell_type": "code",
   "execution_count": 3,
   "id": "d38df489",
   "metadata": {},
   "outputs": [],
   "source": [
    "hmf_markers <- fread(paste0(I_DIR, \"signals_base.csv\")) "
   ]
  },
  {
   "cell_type": "code",
   "execution_count": 4,
   "id": "25f00a28",
   "metadata": {},
   "outputs": [],
   "source": [
    "cpi <- (\n",
    "    hmf_markers\n",
    "       %>% filter(\n",
    "           clinical_post_contains_Immunotherapy == TRUE,\n",
    "           clinical_cpi_mechanism != \"CTLA4\",\n",
    "           Survival_time_to_os_event != 0\n",
    "        )\n",
    ")\n",
    "non_cpi <- (\n",
    "    hmf_markers \n",
    "       %>% filter(\n",
    "          clinical_post_contains_Immunotherapy == FALSE,  \n",
    "          Survival_time_to_os_event != 0 \n",
    "       )\n",
    ")"
   ]
  },
  {
   "cell_type": "code",
   "execution_count": 5,
   "id": "b66b58df",
   "metadata": {},
   "outputs": [
    {
     "data": {
      "text/html": [
       "<ol class=list-inline>\n",
       "\t<li>2497</li>\n",
       "\t<li>60555</li>\n",
       "</ol>\n"
      ],
      "text/latex": [
       "\\begin{enumerate*}\n",
       "\\item 2497\n",
       "\\item 60555\n",
       "\\end{enumerate*}\n"
      ],
      "text/markdown": [
       "1. 2497\n",
       "2. 60555\n",
       "\n",
       "\n"
      ],
      "text/plain": [
       "[1]  2497 60555"
      ]
     },
     "metadata": {},
     "output_type": "display_data"
    }
   ],
   "source": [
    "dim(non_cpi)"
   ]
  },
  {
   "cell_type": "markdown",
   "id": "265bd19a",
   "metadata": {},
   "source": [
    "### 1 - Column filters"
   ]
  },
  {
   "cell_type": "markdown",
   "id": "9234e032",
   "metadata": {},
   "source": [
    "#### Check feature type counts"
   ]
  },
  {
   "cell_type": "code",
   "execution_count": null,
   "id": "76ea2660",
   "metadata": {},
   "outputs": [],
   "source": [
    "feature_types <- unname(sapply( colnames(cpi), function(i) strsplit(i, \"_\")[[1]][1]))"
   ]
  },
  {
   "cell_type": "markdown",
   "id": "9f6b9f25",
   "metadata": {},
   "source": [
    "#### Drivers "
   ]
  },
  {
   "cell_type": "code",
   "execution_count": null,
   "id": "81df678c",
   "metadata": {},
   "outputs": [],
   "source": [
    "drivers <- cpi %>% select(contains(\"driver_\"))\n",
    "drivers_filter <- colnames(drivers)[which(apply( drivers, 2, sum, na.rm = TRUE) < nrow(cpi)/30)]"
   ]
  },
  {
   "cell_type": "markdown",
   "id": "45577cfa",
   "metadata": {},
   "source": [
    "#### Sigs\n",
    "- Filter based on non-zero values"
   ]
  },
  {
   "cell_type": "code",
   "execution_count": null,
   "id": "e36de912",
   "metadata": {},
   "outputs": [],
   "source": [
    "sigs <- cpi %>% select(contains(\"sig_\"))\n",
    "sigs_filter <- colnames(sigs)[which(apply( sigs > .02, 2, sum) < nrow(cpi)/20)]"
   ]
  },
  {
   "cell_type": "markdown",
   "id": "c3507bae",
   "metadata": {},
   "source": [
    "#### Somatic "
   ]
  },
  {
   "cell_type": "code",
   "execution_count": null,
   "id": "2e5ad050",
   "metadata": {},
   "outputs": [],
   "source": [
    "somatic.sig_filter <- gsub('sig_', 'somatic_TMB_', sigs_filter)"
   ]
  },
  {
   "cell_type": "markdown",
   "id": "15e80ad0",
   "metadata": {},
   "source": [
    "#### Isofox\n",
    "- Need to add special filter to keep VHIO features"
   ]
  },
  {
   "cell_type": "code",
   "execution_count": null,
   "id": "21dd4492",
   "metadata": {},
   "outputs": [],
   "source": [
    "isofox_nr_filter <- colnames(cpi %>% select(contains(\"isofox.nr\")))\n",
    "gene_sets_keep <- colnames(cpi %>% select(contains(\"isofox_gene_set\")))"
   ]
  },
  {
   "cell_type": "code",
   "execution_count": null,
   "id": "1d87f4af",
   "metadata": {},
   "outputs": [],
   "source": [
    "isofox <- cpi %>% select(contains(\"isofox_\"))\n",
    "isofox_sd <- apply( isofox, 2, sd, na.rm = TRUE)\n",
    "isofox_mn <- apply( isofox, 2, mean, na.rm = TRUE)\n",
    "isofox_filter <- colnames(isofox)[-intersect(which(isofox_sd > .5), which(abs(isofox_mn) > .5))]"
   ]
  },
  {
   "cell_type": "markdown",
   "id": "51c99bfe",
   "metadata": {},
   "source": [
    "#### Somatic"
   ]
  },
  {
   "cell_type": "code",
   "execution_count": null,
   "id": "b1677f08",
   "metadata": {},
   "outputs": [],
   "source": [
    "somatic.gene <- cpi %>% select(contains(\"somatic.gene\"))\n",
    "somatic.gene_filter <- colnames(somatic.gene)[apply( somatic.gene > 0, 2, sum) < nrow(cpi)/20]"
   ]
  },
  {
   "cell_type": "markdown",
   "id": "9e963cac",
   "metadata": {},
   "source": [
    "#### Output filter vector"
   ]
  },
  {
   "cell_type": "code",
   "execution_count": null,
   "id": "d3f93241",
   "metadata": {},
   "outputs": [],
   "source": [
    "filters <- unique(c(drivers_filter, sigs_filter, somatic.sig_filter, isofox_nr_filter, isofox_filter, somatic.gene_filter))\n",
    "filters <- filters[-c(which( filters %in% vhio_keep), which(filters %in% gene_sets_keep))]"
   ]
  },
  {
   "cell_type": "markdown",
   "id": "c6af9d7b",
   "metadata": {},
   "source": [
    "### 2 - Add staple columns\n",
    "- Apply column filters\n",
    "- Add staple columns\n",
    "- Remove - from mutations"
   ]
  },
  {
   "cell_type": "markdown",
   "id": "31df0c07",
   "metadata": {},
   "source": [
    "#### CPI go"
   ]
  },
  {
   "cell_type": "code",
   "execution_count": null,
   "id": "cf745eb8",
   "metadata": {},
   "outputs": [],
   "source": [
    "cpi_go <- (\n",
    "    cpi %>% select(-all_of(filters)) \n",
    "        %>% mutate(\n",
    "                tmb = somatic_summary_tmbPerMb, \n",
    "                tcell = isofox_gene_set_tcell_cluster, \n",
    "                prolif = isofox_gene_set_prolif_cluster,\n",
    "                tgfb = isofox_gene_set_tgfb_cluster, \n",
    "                pretreat = (clinical_meta_hasSystemicPreTreatment2 + clinical_pre_treated)/2,\n",
    "                pretreat_comp = clinical_systemic_composite,\n",
    "                tissue = clinical_tumor_location_group,           ### covariate\n",
    "                tissue_full = clinical_meta_primaryTumorLocation,\n",
    "                age = clinical_age_at_treatment_start,            ### covariate\n",
    "                biopsy = clinical_biopsy_site,                    ### covariate\n",
    "                purity = somatic_summary_purity,                  ### covariate \n",
    "                pdl1 = isofox_CD274\n",
    "        )\n",
    ")\n",
    "colnames(cpi_go) <- gsub( \"-mutations\", \".mb\", colnames(cpi_go))"
   ]
  },
  {
   "cell_type": "markdown",
   "id": "c7359898",
   "metadata": {},
   "source": [
    "#### Non-CPI go"
   ]
  },
  {
   "cell_type": "code",
   "execution_count": null,
   "id": "b329e4f7",
   "metadata": {},
   "outputs": [],
   "source": [
    "non_cpi_go <- (\n",
    "    non_cpi\n",
    "        %>% transmute(\n",
    "                patient_id = patientIdentifier, \n",
    "                Y_best_response_binary, \n",
    "                Survival_os_event, \n",
    "                Survival_time_to_os_event, \n",
    "                Filter_meta_responseMeasured,\n",
    "                tmb = somatic_summary_tmbPerMb, \n",
    "                tcell = isofox_gene_set_tcell_cluster, \n",
    "                prolif = isofox_gene_set_prolif_cluster,\n",
    "                tgfb = isofox_gene_set_tgfb_cluster, \n",
    "                pretreat = (clinical_meta_hasSystemicPreTreatment2 + clinical_pre_treated)/2,\n",
    "                pretreat_comp = clinical_systemic_composite,\n",
    "                tissue = clinical_tumor_location_group,           ### covariate\n",
    "                tissue_full = clinical_meta_primaryTumorLocation,\n",
    "                age = clinical_age_at_treatment_start,            ### covariate\n",
    "                biopsy = clinical_biopsy_site,                    ### covariate\n",
    "                purity = somatic_summary_purity,                  ### covariate \n",
    "                pdl1 = isofox_CD274\n",
    "        )\n",
    ")"
   ]
  },
  {
   "cell_type": "code",
   "execution_count": null,
   "id": "fccc7d75",
   "metadata": {},
   "outputs": [],
   "source": [
    "print(\"I ran\")"
   ]
  },
  {
   "cell_type": "markdown",
   "id": "d1ec28a4",
   "metadata": {},
   "source": [
    "#### Output\n",
    "- Basis for subsequent analyses"
   ]
  },
  {
   "cell_type": "code",
   "execution_count": null,
   "id": "6e136af9",
   "metadata": {},
   "outputs": [],
   "source": [
    "saveRDS( cpi_go, paste0(I_DIR, \"cpi_go.Rds\"))\n",
    "saveRDS( cpi_go %>% select( sampleId, contains(\"clinical\"), somatic_summary_tmbPerMb, isofox_CXCL9), paste0(I_DIR, \"cpi_check.Rds\"))\n",
    "saveRDS( names(cpi_go[,-seq(15)]), paste0(TMP_DIR, \"exhaustive-features-go.Rds\"))\n",
    "saveRDS( non_cpi_go, paste0(TMP_DIR, \"validation-hmf-noncpi-go.Rds\"))"
   ]
  }
 ],
 "metadata": {
  "kernelspec": {
   "display_name": "R",
   "language": "R",
   "name": "ir"
  },
  "language_info": {
   "codemirror_mode": "r",
   "file_extension": ".r",
   "mimetype": "text/x-r-source",
   "name": "R",
   "pygments_lexer": "r",
   "version": "3.6.1"
  }
 },
 "nbformat": 4,
 "nbformat_minor": 5
}
