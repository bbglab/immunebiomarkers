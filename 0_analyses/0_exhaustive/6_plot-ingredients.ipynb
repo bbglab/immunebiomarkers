{
 "cells": [
  {
   "cell_type": "code",
   "execution_count": 2,
   "id": "212b0e98",
   "metadata": {},
   "outputs": [],
   "source": [
    "wd <- dirname(dirname(getwd()))\n",
    "source(paste0(wd,\"/mission_control/treasure_map.R\"))\n",
    "source(paste0(wd,\"/mission_control/helpers/figures/exhaustive_prep.R\"))\n",
    "library(tidyverse)\n",
    "library(stringr)"
   ]
  },
  {
   "cell_type": "markdown",
   "id": "07c0ceff",
   "metadata": {},
   "source": [
    "### 0 - Read combine data"
   ]
  },
  {
   "cell_type": "code",
   "execution_count": 2,
   "id": "d2b53b04",
   "metadata": {},
   "outputs": [],
   "source": [
    "boom <- readRDS(paste0(TMP_DIR,\"exhaustive-combine.Rds\"))"
   ]
  },
  {
   "cell_type": "markdown",
   "id": "202b04db",
   "metadata": {},
   "source": [
    "### 1 - Possibly more filters"
   ]
  },
  {
   "cell_type": "markdown",
   "id": "4337d521",
   "metadata": {},
   "source": [
    "##### Filter "
   ]
  },
  {
   "cell_type": "code",
   "execution_count": 3,
   "id": "0836161b",
   "metadata": {},
   "outputs": [],
   "source": [
    "boom <- boom %>% filter( log10_p > .01, col_type != \"factor\", feature != \"pretreat_comp\")\n",
    "boom$est <- ifelse( boom$col_type == \"factor\", 0, boom$est)\n",
    "boom$cor_pretreat <- ifelse( boom$feature == \"clinical_pre_to_post_treatment_time\", 0,  boom$cor_pretreat)"
   ]
  },
  {
   "cell_type": "markdown",
   "id": "7382d656",
   "metadata": {},
   "source": [
    "##### Add feature groups"
   ]
  },
  {
   "cell_type": "code",
   "execution_count": 4,
   "id": "e142f343",
   "metadata": {},
   "outputs": [],
   "source": [
    "boom$feature_group <- unlist(lapply(boom$feature, function(i) strsplit(i, \"_\")[[1]][1]))\n",
    "boom$feature_group <- ifelse( boom$feature %in% c(\"tcell\", \"tgfb\", \"prolif\", \"pdl1\"), \"isofox\", boom$feature_group)\n",
    "boom$feature_group <- ifelse( boom$feature %in% c(\"sv\", \"tmb\",\"purity\"), \"somatic\", boom$feature_group)   \n",
    "boom$feature_group <- ifelse( boom$feature %in% c(\"pretreat\", \"age\"), \"clinical\", boom$feature_group)                                       "
   ]
  },
  {
   "cell_type": "markdown",
   "id": "b0b860e9",
   "metadata": {},
   "source": [
    "#### Set multiple test threshold"
   ]
  },
  {
   "cell_type": "code",
   "execution_count": 5,
   "id": "82993ecb",
   "metadata": {},
   "outputs": [],
   "source": [
    "boom$p_adj_by <- p.adjust(boom$p_val, method = \"BY\")\n",
    "boom$p_adj_bh <- p.adjust(boom$p_val, method = \"BH\")\n",
    "boom$by_05_fdr <- boom %>% filter( p_adj_by < .05 ) %>% arrange( log10_p ) %>% head(1) %>% pull(p_val)\n",
    "boom$bh_05_fdr <- boom %>% filter( p_adj_bh < .05 ) %>% arrange( log10_p ) %>% head(1) %>% pull(p_val)\n",
    "boom$bf_05_fwe <- .05/nrow(boom)"
   ]
  },
  {
   "cell_type": "markdown",
   "id": "bb2fbbbf",
   "metadata": {},
   "source": [
    "##### Add  Features "
   ]
  },
  {
   "cell_type": "code",
   "execution_count": 6,
   "id": "997be922",
   "metadata": {},
   "outputs": [],
   "source": [
    "boom$feature_group <- apply( boom %>% select(feature, feature_group), 1, sort_the_drivers)\n",
    "boom$feature_group <- ifelse(boom$feature == \"hla_lilac_mut_hla\", \"somatic\", boom$feature_group)\n",
    "boom$plot_est <- ifelse(boom$model %in% c(\"bor\", \"relapse\", \"surv_at_t\"), exp(boom$est), 1/exp(boom$est))\n",
    "boom$big_group <- unlist(lapply( boom$feature_group, big_grouper))\n",
    "boom$little_group <- unlist(lapply( boom$feature_group, little_grouper))\n",
    "boom$Direction <- ifelse(boom$plot_est > 1, \"Better\", \"Worse\")\n",
    "boom$Group <- apply( boom %>% select(feature, feature_group), 1, grouper)\n",
    "boom <- boom %>% filter( plot_est < 5, plot_est > .2)"
   ]
  },
  {
   "cell_type": "code",
   "execution_count": 7,
   "id": "2171b5d8",
   "metadata": {},
   "outputs": [],
   "source": [
    "boom <- boom %>% mutate(big_group = ifelse( big_group %in% c(\"CNV\", \"SVs\"), \"CNV/SVs\",big_group)) %>% filter(feature != \"clinical_systemic_composite\")"
   ]
  },
  {
   "cell_type": "code",
   "execution_count": 8,
   "id": "a69cdaa6",
   "metadata": {},
   "outputs": [],
   "source": [
    "grouper <- function( big_group, cor_tcell, cor_prolif, cor_tgfb ){\n",
    "    if( big_group != \"RNA\"){\n",
    "        big_group\n",
    "    } else {\n",
    "        if( cor_tcell > .5){\n",
    "            \"RNA: T-cell\"\n",
    "        } else if (cor_tgfb > .5){\n",
    "            \"RNA: TGFB\"\n",
    "        } else if (cor_prolif > .5){\n",
    "            \"RNA: Proliferation\"\n",
    "        } else {\n",
    "            \"RNA: Remaining\"\n",
    "        }\n",
    "    }\n",
    "}"
   ]
  },
  {
   "cell_type": "code",
   "execution_count": 9,
   "id": "30a8e9b0",
   "metadata": {},
   "outputs": [],
   "source": [
    "boom <- (\n",
    "    boom \n",
    "      %>% rowwise() \n",
    "      %>% mutate(discovery_group = grouper( big_group, cor_tcell, cor_prolif, cor_tgfb ))\n",
    "      %>% mutate(discovery_group = factor(discovery_group, levels = c(\"Somatic\", \"RNA: T-cell\", \"RNA: TGFB\", \"RNA: Proliferation\", \"RNA: Remaining\", \"CNV/SVs\", \"Clinical\", \"HLA\" )))\n",
    "      %>% ungroup()\n",
    "      %>% mutate(Type = discovery_group)\n",
    ")"
   ]
  },
  {
   "cell_type": "markdown",
   "id": "48d2fb87",
   "metadata": {},
   "source": [
    "### Output prepped dataset "
   ]
  },
  {
   "cell_type": "code",
   "execution_count": 11,
   "id": "15ebf485",
   "metadata": {},
   "outputs": [],
   "source": [
    "saveRDS( boom, paste0(TMP_DIR,'exhaustive-plots-base.Rds'))"
   ]
  }
 ],
 "metadata": {
  "kernelspec": {
   "display_name": "R",
   "language": "R",
   "name": "ir"
  },
  "language_info": {
   "codemirror_mode": "r",
   "file_extension": ".r",
   "mimetype": "text/x-r-source",
   "name": "R",
   "pygments_lexer": "r",
   "version": "3.6.1"
  }
 },
 "nbformat": 4,
 "nbformat_minor": 5
}
