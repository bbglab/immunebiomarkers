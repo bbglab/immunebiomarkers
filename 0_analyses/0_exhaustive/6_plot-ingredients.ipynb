{
 "cells": [
  {
   "cell_type": "code",
   "execution_count": null,
   "id": "0",
   "metadata": {},
   "outputs": [],
   "source": [
    "wd <- dirname(dirname(getwd()))\n",
    "source(paste0(wd,\"/mission_control/treasure_map.R\"))\n",
    "source(paste0(wd,\"/mission_control/helpers/figures/exhaustive_prep.R\"))\n",
    "library(tidyverse)\n",
    "library(stringr)\n",
    "library(data.table)"
   ]
  },
  {
   "cell_type": "markdown",
   "id": "1",
   "metadata": {},
   "source": [
    "### 0 - Read combine data"
   ]
  },
  {
   "cell_type": "code",
   "execution_count": null,
   "id": "2",
   "metadata": {},
   "outputs": [],
   "source": [
    "boom <- readRDS(paste0(TMP_DIR,\"exhaustive-combine.Rds\"))"
   ]
  },
  {
   "cell_type": "markdown",
   "id": "3",
   "metadata": {},
   "source": [
    "### 1 - Possibly more filters"
   ]
  },
  {
   "cell_type": "markdown",
   "id": "4",
   "metadata": {},
   "source": [
    "##### Filter "
   ]
  },
  {
   "cell_type": "code",
   "execution_count": null,
   "id": "5",
   "metadata": {},
   "outputs": [],
   "source": [
    "boom <- boom %>% filter( log10_p > .01, col_type != \"factor\", feature != \"pretreat_comp\")\n",
    "boom$est <- ifelse( boom$col_type == \"factor\", 0, boom$est)\n",
    "boom$cor_pretreat <- ifelse( boom$feature == \"clinical_pre_to_post_treatment_time\", 0,  boom$cor_pretreat)"
   ]
  },
  {
   "cell_type": "markdown",
   "id": "6",
   "metadata": {},
   "source": [
    "##### Add feature groups"
   ]
  },
  {
   "cell_type": "code",
   "execution_count": null,
   "id": "7",
   "metadata": {},
   "outputs": [],
   "source": [
    "boom$feature_group <- unlist(lapply(boom$feature, function(i) strsplit(i, \"_\")[[1]][1]))\n",
    "boom$feature_group <- ifelse( boom$feature %in% c(\"tcell\", \"tgfb\", \"prolif\", \"pdl1\"), \"isofox\", boom$feature_group)\n",
    "boom$feature_group <- ifelse( boom$feature %in% c(\"sv\", \"tmb\",\"purity\"), \"somatic\", boom$feature_group)   \n",
    "boom$feature_group <- ifelse( boom$feature %in% c(\"pretreat\", \"age\"), \"clinical\", boom$feature_group)                                       "
   ]
  },
  {
   "cell_type": "markdown",
   "id": "8",
   "metadata": {},
   "source": [
    "#### Set multiple test threshold"
   ]
  },
  {
   "cell_type": "code",
   "execution_count": null,
   "id": "9",
   "metadata": {},
   "outputs": [],
   "source": [
    "boom$p_adj_by <- p.adjust(boom$p_val, method = \"BY\")\n",
    "boom$p_adj_bh <- p.adjust(boom$p_val, method = \"BH\")\n",
    "boom$by_05_fdr <- boom %>% filter( p_adj_by < .05 ) %>% arrange( log10_p ) %>% head(1) %>% pull(p_val)\n",
    "boom$bh_05_fdr <- boom %>% filter( p_adj_bh < .05 ) %>% arrange( log10_p ) %>% head(1) %>% pull(p_val)\n",
    "boom$bf_05_fwe <- .05/nrow(boom)"
   ]
  },
  {
   "cell_type": "markdown",
   "id": "10",
   "metadata": {},
   "source": [
    "##### Add  Features "
   ]
  },
  {
   "cell_type": "code",
   "execution_count": null,
   "id": "11",
   "metadata": {},
   "outputs": [],
   "source": [
    "boom$feature_group <- apply( boom %>% select(feature, feature_group), 1, sort_the_drivers)\n",
    "boom$feature_group <- ifelse(boom$feature == \"hla_lilac_mut_hla\", \"somatic\", boom$feature_group)\n",
    "boom$plot_est <- ifelse(boom$model %in% c(\"bor\", \"relapse\", \"surv_at_t\"), exp(boom$est), 1/exp(boom$est))\n",
    "boom$big_group <- unlist(lapply( boom$feature_group, big_grouper))\n",
    "boom$little_group <- unlist(lapply( boom$feature_group, little_grouper))\n",
    "boom$Direction <- ifelse(boom$plot_est > 1, \"Better\", \"Worse\")\n",
    "boom$Group <- apply( boom %>% select(feature, feature_group), 1, grouper)\n",
    "boom <- boom %>% filter( plot_est < 5, plot_est > .2)"
   ]
  },
  {
   "cell_type": "code",
   "execution_count": null,
   "id": "12",
   "metadata": {},
   "outputs": [],
   "source": [
    "grouper <- function( big_group, cor_tcell, cor_prolif, cor_tgfb ){\n",
    "    if( big_group != \"RNA\"){ big_group } \n",
    "    else {\n",
    "      if( cor_tcell > .5){  \"RNA: T-cell\"} \n",
    "      else if (cor_tgfb > .5){  \"RNA: TGFB\"} \n",
    "      else if (cor_prolif > .5){ \"RNA: Proliferation\" } \n",
    "      else { \"RNA: Remaining\" }\n",
    "    }\n",
    "}"
   ]
  },
  {
   "cell_type": "code",
   "execution_count": null,
   "id": "13",
   "metadata": {},
   "outputs": [],
   "source": [
    "boom <-\n",
    "boom %>% \n",
    "  rowwise() %>% \n",
    "  mutate(discovery_group = grouper( big_group, cor_tcell, cor_prolif, cor_tgfb )) %>% \n",
    "  mutate(discovery_group = factor(discovery_group, \n",
    "         levels = c(\"Somatic\", \"RNA: T-cell\", \"RNA: TGFB\", \"RNA: Proliferation\", \"RNA: Remaining\",\n",
    "                    \"CNV/SVs\", \"Clinical\", \"HLA\" ))) %>% \n",
    "  ungroup() %>% \n",
    "  mutate(Type = discovery_group) %>% \n",
    "  mutate(big_group = ifelse(big_group %in% c(\"CNV\", \"SVs\") , \"CNV/SVs\", big_group)) %>% \n",
    "  mutate(big_group = factor(big_group, levels = c('Somatic','RNA','CNV/SVs','Clinical','HLA'))) %>% \n",
    "  mutate(pval_significance = ifelse(p_val < by_05_fdr, \"sign\", \"non-sign\"))"
   ]
  },
  {
   "cell_type": "markdown",
   "id": "14",
   "metadata": {},
   "source": [
    "### 2 - Save for more analysis and figures"
   ]
  },
  {
   "cell_type": "code",
   "execution_count": null,
   "id": "15",
   "metadata": {},
   "outputs": [],
   "source": [
    "saveRDS( boom, paste0(TMP_DIR,'exhaustive-plots-base.Rds'))"
   ]
  },
  {
   "cell_type": "markdown",
   "id": "16",
   "metadata": {},
   "source": [
    "### 3 - Save subset of data as supplementary table"
   ]
  },
  {
   "cell_type": "code",
   "execution_count": null,
   "id": "17",
   "metadata": {},
   "outputs": [],
   "source": [
    "supplement_table <- \n",
    "boom %>% \n",
    "  select(dataset, model, model_type, Type, feature, est, se, p_val, covariates, contains(\"cor_\"), contains(\"05\")) %>% \n",
    "  mutate(feature = gsub(\"mariathan_\", \"mariathasan_\", feature)) %>% \n",
    "  mutate( covariates = ifelse( covariates == \"residuals\", \"age_biopsy_purity_tissue_tmb_tcell_pretreat\", as.character(covariates))) %>% \n",
    "  mutate( covariates = ifelse( covariates == \"residuals2\", \"age_biopsy_purity_tissue_tmb_tcell_pretreat_tgfb\", as.character(covariates)))"
   ]
  },
  {
   "cell_type": "code",
   "execution_count": null,
   "id": "18",
   "metadata": {},
   "outputs": [],
   "source": [
    "fwrite(supplement_table, paste0(FIG_FINAL_DIR, \"Table_S3.csv\"))"
   ]
  },
  {
   "cell_type": "code",
   "execution_count": null,
   "id": "19",
   "metadata": {},
   "outputs": [],
   "source": [
    "paste0(FIG_FINAL_DIR, \"Table_S3.csv\")"
   ]
  }
 ],
 "metadata": {
  "kernelspec": {
   "display_name": "R",
   "language": "R",
   "name": "ir"
  },
  "language_info": {
   "codemirror_mode": "r",
   "file_extension": ".r",
   "mimetype": "text/x-r-source",
   "name": "R",
   "pygments_lexer": "r",
   "version": "3.6.1"
  }
 },
 "nbformat": 4,
 "nbformat_minor": 5
}
