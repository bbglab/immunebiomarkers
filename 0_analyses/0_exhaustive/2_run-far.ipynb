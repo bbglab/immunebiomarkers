{
 "cells": [
  {
   "cell_type": "code",
   "execution_count": null,
   "id": "0",
   "metadata": {},
   "outputs": [],
   "source": [
    "wd <- dirname(dirname(getwd()))\n",
    "source(paste0(wd,\"/mission_control/treasure_map.R\"))\n",
    "source(paste0(wd,\"/mission_control/helpers/exhaustive_study/exhaustive_help2.R\"))\n",
    "library(survival)"
   ]
  },
  {
   "cell_type": "markdown",
   "id": "1",
   "metadata": {},
   "source": [
    "### 0 - Read and Map Arguments"
   ]
  },
  {
   "cell_type": "code",
   "execution_count": null,
   "id": "2",
   "metadata": {},
   "outputs": [],
   "source": [
    "args <- commandArgs(trailing = TRUE)   ##\n",
    "## args <- list(\"os\", \"all\", \"response_full\")"
   ]
  },
  {
   "cell_type": "code",
   "execution_count": null,
   "id": "3",
   "metadata": {},
   "outputs": [],
   "source": [
    "model <- args[[1]]\n",
    "model_type <- args_map[[model]][1]\n",
    "response <- args_map[[model]][2]\n",
    "\n",
    "dataset <- args[[2]]\n",
    "covariates <- args[[3]]"
   ]
  },
  {
   "cell_type": "markdown",
   "id": "4",
   "metadata": {},
   "source": [
    "### 1 - Extract CPI Store and Features"
   ]
  },
  {
   "cell_type": "code",
   "execution_count": null,
   "id": "5",
   "metadata": {},
   "outputs": [],
   "source": [
    "boom <- readRDS(paste0(TMP_DIR, \"exhaustive-ready.Rds\"))[[model_type]]\n",
    "assign(dataset, boom[[dataset]])"
   ]
  },
  {
   "cell_type": "code",
   "execution_count": null,
   "id": "6",
   "metadata": {},
   "outputs": [],
   "source": [
    "features <- readRDS(paste0(TMP_DIR, \"exhaustive-features-go.Rds\"))\n",
    "feature_types <- lapply( boom[[dataset]][,features], typeof )"
   ]
  },
  {
   "cell_type": "markdown",
   "id": "7",
   "metadata": {},
   "source": [
    "### 2 - Run far"
   ]
  },
  {
   "cell_type": "code",
   "execution_count": null,
   "id": "8",
   "metadata": {},
   "outputs": [],
   "source": [
    "stats <- data.frame()\n",
    "for (feature in features){\n",
    "    col_type <- ifelse( feature_types[feature][[1]] != \"character\", \"continuous\", \"factor\" )\n",
    "    stats_i <- get_stats2( response, feature, dataset, col_type, model_type, covariates )\n",
    "    stats <- rbind( stats, stats_i )\n",
    "}"
   ]
  },
  {
   "cell_type": "code",
   "execution_count": null,
   "id": "9",
   "metadata": {},
   "outputs": [],
   "source": [
    "stats$group <- \"cpi\"\n",
    "stats$model <- model"
   ]
  },
  {
   "cell_type": "markdown",
   "id": "10",
   "metadata": {},
   "source": [
    "### 3 - Send it!"
   ]
  },
  {
   "cell_type": "code",
   "execution_count": null,
   "id": "11",
   "metadata": {
    "tags": []
   },
   "outputs": [],
   "source": [
    "saveRDS(stats, paste0(TMP_DIR,'exhaustive_study/exhaustive-',model,\"-\", dataset,\"-\", covariates, '.Rds'))"
   ]
  }
 ],
 "metadata": {
  "kernelspec": {
   "display_name": "R",
   "language": "R",
   "name": "ir"
  },
  "language_info": {
   "codemirror_mode": "r",
   "file_extension": ".r",
   "mimetype": "text/x-r-source",
   "name": "R",
   "pygments_lexer": "r",
   "version": "3.6.1"
  }
 },
 "nbformat": 4,
 "nbformat_minor": 5
}
