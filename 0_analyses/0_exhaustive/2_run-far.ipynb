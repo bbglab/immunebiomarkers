{
 "cells": [
  {
   "cell_type": "code",
   "execution_count": 2,
   "id": "a7e89d37",
   "metadata": {},
   "outputs": [],
   "source": [
    "wd <- dirname(dirname(getwd()))\n",
    "source(paste0(wd,\"/mission_control/treasure_map.R\"))\n",
    "source(paste0(wd,\"/mission_control/helpers/exhaustive_study/exhaustive_help2.R\"))\n",
    "library(survival)"
   ]
  },
  {
   "cell_type": "code",
   "execution_count": 3,
   "id": "dbd3c1e4",
   "metadata": {},
   "outputs": [
    {
     "data": {
      "text/html": [
       "'/workspace/projects/immune_biomarkers/data/tmp2/'"
      ],
      "text/latex": [
       "'/workspace/projects/immune\\_biomarkers/data/tmp2/'"
      ],
      "text/markdown": [
       "'/workspace/projects/immune_biomarkers/data/tmp2/'"
      ],
      "text/plain": [
       "[1] \"/workspace/projects/immune_biomarkers/data/tmp2/\""
      ]
     },
     "metadata": {},
     "output_type": "display_data"
    }
   ],
   "source": [
    "TMP_DIR"
   ]
  },
  {
   "cell_type": "markdown",
   "id": "6947ff09",
   "metadata": {},
   "source": [
    "### 0 - Read and Map Arguments"
   ]
  },
  {
   "cell_type": "code",
   "execution_count": 4,
   "id": "593266b3",
   "metadata": {},
   "outputs": [],
   "source": [
    "args <- commandArgs(trailing = TRUE)   ##\n",
    "## args <- list(\"os\", \"all\", \"response_full\")"
   ]
  },
  {
   "cell_type": "code",
   "execution_count": 5,
   "id": "f0e0d6a3",
   "metadata": {},
   "outputs": [],
   "source": [
    "model <- args[[1]]\n",
    "model_type <- args_map[[model]][1]\n",
    "response <- args_map[[model]][2]\n",
    "\n",
    "dataset <- args[[2]]\n",
    "covariates <- args[[3]]"
   ]
  },
  {
   "cell_type": "markdown",
   "id": "e1bb8db0",
   "metadata": {},
   "source": [
    "### 1 - Extract CPI Store and Features"
   ]
  },
  {
   "cell_type": "code",
   "execution_count": 7,
   "id": "d74e9c2e",
   "metadata": {},
   "outputs": [],
   "source": [
    "boom <- readRDS(paste0(TMP_DIR, \"exhaustive-ready.Rds\"))[[model_type]]\n",
    "assign(dataset, boom[[dataset]])"
   ]
  },
  {
   "cell_type": "code",
   "execution_count": 8,
   "id": "64a978f4",
   "metadata": {},
   "outputs": [],
   "source": [
    "features <- readRDS(paste0(TMP_DIR, \"exhaustive-features-go.Rds\"))\n",
    "feature_types <- lapply( boom[[dataset]][,features], typeof )"
   ]
  },
  {
   "cell_type": "markdown",
   "id": "309b956d",
   "metadata": {},
   "source": [
    "### 2 - Run far"
   ]
  },
  {
   "cell_type": "code",
   "execution_count": 9,
   "id": "f0ed280f",
   "metadata": {},
   "outputs": [
    {
     "name": "stderr",
     "output_type": "stream",
     "text": [
      "Warning message in coxph.fit(X, Y, istrat, offset, init, control, weights = weights, :\n",
      "“Loglik converged before variable  4 ; coefficient may be infinite. ”Warning message in coxph.fit(X, Y, istrat, offset, init, control, weights = weights, :\n",
      "“Loglik converged before variable  3,7,8,14,20,24,27,29,33,36,46,48,49,51 ; coefficient may be infinite. ”"
     ]
    }
   ],
   "source": [
    "stats <- data.frame()\n",
    "for (feature in features){\n",
    "    col_type <- ifelse( feature_types[feature][[1]] != \"character\", \"continuous\", \"factor\" )\n",
    "    stats_i <- get_stats2( response, feature, dataset, col_type, model_type, covariates )\n",
    "    stats <- rbind( stats, stats_i )\n",
    "}"
   ]
  },
  {
   "cell_type": "code",
   "execution_count": 16,
   "id": "bd8cdbe9",
   "metadata": {},
   "outputs": [],
   "source": [
    "stats$group <- \"cpi\"\n",
    "stats$model <- model"
   ]
  },
  {
   "cell_type": "markdown",
   "id": "7f354e68",
   "metadata": {},
   "source": [
    "### 3 - Send it!"
   ]
  },
  {
   "cell_type": "code",
   "execution_count": 12,
   "id": "0137278a",
   "metadata": {
    "tags": []
   },
   "outputs": [],
   "source": [
    "saveRDS(stats, paste0(TMP_DIR,'exhaustive_study/exhaustive-',model,\"-\", dataset,\"-\", covariates, '.Rds'))"
   ]
  }
 ],
 "metadata": {
  "kernelspec": {
   "display_name": "R",
   "language": "R",
   "name": "ir"
  },
  "language_info": {
   "codemirror_mode": "r",
   "file_extension": ".r",
   "mimetype": "text/x-r-source",
   "name": "R",
   "pygments_lexer": "r",
   "version": "3.6.1"
  }
 },
 "nbformat": 4,
 "nbformat_minor": 5
}
