{
 "cells": [
  {
   "cell_type": "code",
   "execution_count": 1,
   "id": "212b0e98",
   "metadata": {},
   "outputs": [
    {
     "name": "stderr",
     "output_type": "stream",
     "text": [
      "Registered S3 method overwritten by 'rvest':\n",
      "  method            from\n",
      "  read_xml.response xml2\n",
      "── Attaching packages ─────────────────────────────────────────────────────────────────────── tidyverse 1.2.1 ──\n",
      "✔ tibble  3.1.2     ✔ purrr   0.3.4\n",
      "✔ tidyr   1.1.3     ✔ dplyr   1.0.6\n",
      "✔ readr   1.3.1     ✔ stringr 1.4.0\n",
      "✔ tibble  3.1.2     ✔ forcats 0.5.1\n",
      "Warning message:\n",
      "“package ‘tibble’ was built under R version 3.6.3”Warning message:\n",
      "“package ‘tidyr’ was built under R version 3.6.3”Warning message:\n",
      "“package ‘purrr’ was built under R version 3.6.3”Warning message:\n",
      "“package ‘dplyr’ was built under R version 3.6.3”Warning message:\n",
      "“package ‘forcats’ was built under R version 3.6.3”── Conflicts ────────────────────────────────────────────────────────────────────────── tidyverse_conflicts() ──\n",
      "✖ dplyr::filter() masks stats::filter()\n",
      "✖ dplyr::lag()    masks stats::lag()\n"
     ]
    }
   ],
   "source": [
    "wd <- dirname(dirname(getwd()))\n",
    "source(paste0(wd,\"/mission_control/treasure_map.R\"))\n",
    "source(paste0(wd,\"/mission_control/helpers/figures/exhaustive_prep.R\"))\n",
    "source(paste0(wd,\"/mission_control/helpers/figures/exhaustive_settings.R\"))\n",
    "library(tidyverse)\n",
    "library(stringr)\n",
    "library(RColorBrewer)"
   ]
  },
  {
   "cell_type": "markdown",
   "id": "44eec914",
   "metadata": {},
   "source": [
    "### 0 -  Exhaustive Analyses"
   ]
  },
  {
   "cell_type": "code",
   "execution_count": 2,
   "id": "d2b53b04",
   "metadata": {},
   "outputs": [],
   "source": [
    "boom <- readRDS(paste0(TMP_DIR,\"exhaustive-plots-base.Rds\"))"
   ]
  },
  {
   "cell_type": "markdown",
   "id": "114ca5e5",
   "metadata": {},
   "source": [
    "### 1 - Filter to top features\n",
    "- Keep top features by p-value for BOR, OS, OS-residuals\n",
    "- Use same covariates as from main paper\n",
    "- Remove features that are redundant"
   ]
  },
  {
   "cell_type": "markdown",
   "id": "e67e40d0",
   "metadata": {},
   "source": [
    "##### 1a - Go"
   ]
  },
  {
   "cell_type": "code",
   "execution_count": 3,
   "id": "effa7c57",
   "metadata": {},
   "outputs": [],
   "source": [
    "main_filters <- (    \n",
    "    boom \n",
    "        %>% filter( dataset == \"all\",\n",
    "                    !feature %in% c(\"age\", \"pretreat\",'purity','tmb','tcell','tgfb','prolif'),\n",
    "                    feature != \"isofox_gene_set_mariathan_CD_8_T_effector\", \n",
    "                    feature != \"isofox_gene_set_mariathan_Immune_Checkpoint\", \n",
    "                    feature != \"cibersort_TR4_mix_r\",\n",
    "                    !feature %in% c(\"isofox_gene_set_mariathan_tcga\", \"isofox_gene_set_KEGG_GLYCOSAMINOGLYCAN_BIOSYNTHESIS_HEPARAN_SULFATE\", \"isofox_gene_set_KEGG_GLYCOSPHINGOLIPID_BIOSYNTHESIS_GANGLIO_SERIES\", \"isofox_gene_set_HALLMARK_GLYCOLYSIS\", \"isofox_gene_set_KEGG_REGULATION_OF_ACTIN_CYTOSKELETON\", \"isofox_gene_set_mariathan_Mismatch_Repair\",\"isofox_gene_set_KEGG_PANCREATIC_CANCER\",\"isofox_gene_set_CELL_PROLIFERATION_GO_0008283\", \"isofox_gene_set_KEGG_SMALL_CELL_LUNG_CANCER\",\"isofox_gene_set_KEGG_PROSTATE_CANCER\") ,\n",
    "                    !grepl(\"_10\", feature),\n",
    "                    !grepl(\"_05\", feature),\n",
    "                    !grepl(\"vhio\", tolower(feature)), \n",
    "                    !grepl(\"rand\", tolower(feature)), \n",
    "                    !grepl(\"per \", tolower(feature)), \n",
    "                    !grepl(\"high\", tolower(feature)), \n",
    "                    !grepl(\"battle\", tolower(feature)),\n",
    "                    (covariates %in% c(\"age_biopsy_purity_tissue\") & model %in% c(\"bor\", \"os\")) | ### removed PFS\n",
    "                    (covariates %in% c(\"residuals\") & model %in% c( \"os\" ))\n",
    "                  )\n",
    "        %>% mutate( feature_group = ifelse( feature ==  \"hla_lilac_aneuploidy_score\", \"cnv\", feature_group))\n",
    "        %>% mutate( model = ifelse( covariates == \"residuals\", \"os_res\", model))\n",
    "        %>% mutate( feature_group = ifelse(grepl(\"gene_set\", feature), \"gene_set\", feature_group))\n",
    ")"
   ]
  },
  {
   "cell_type": "markdown",
   "id": "0f438fc0",
   "metadata": {},
   "source": [
    "##### 1b - Go"
   ]
  },
  {
   "cell_type": "markdown",
   "id": "380e00dd",
   "metadata": {},
   "source": [
    "- Add subgroups for T-cell, proliferation, and TGFB"
   ]
  },
  {
   "cell_type": "code",
   "execution_count": 4,
   "id": "b8cc4f70",
   "metadata": {},
   "outputs": [],
   "source": [
    "finer_grouper <- function( discovery_group = \"X\", feature_group = \"X\" ){\n",
    "    if( discovery_group == \"RNA: T-cell\"){\n",
    "        if( feature_group == \"isofox\"){\n",
    "            \"T-cell genes\"\n",
    "        } else if (feature_group == \"gene_set\"){\n",
    "            \"T-cell gene sets\"\n",
    "        } else {\n",
    "            feature_group\n",
    "        }\n",
    "    } else if( discovery_group == \"RNA: TGFB\"){\n",
    "        if( feature_group == \"isofox\"){\n",
    "            \"TGFB genes\"\n",
    "        } else if (feature_group == \"gene_set\"){\n",
    "            \"TGFB gene sets\"\n",
    "        } else {\n",
    "            feature_group\n",
    "        }\n",
    "    } else if( discovery_group == \"RNA: Proliferation\"){\n",
    "        if( feature_group == \"isofox\"){\n",
    "            \"Proliferation genes\"\n",
    "        } else if (feature_group == \"gene_set\"){\n",
    "            \"Proliferation gene sets\"\n",
    "        } else {\n",
    "            feature_group\n",
    "        }\n",
    "    } else if ( discovery_group == \"RNA: Remaining\"){\n",
    "        if( feature_group == \"isofox\"){\n",
    "            \"Remaining genes\"\n",
    "        } else if (feature_group == \"gene_set\"){\n",
    "            \"Remaining gene sets\"\n",
    "        } else {\n",
    "            feature_group\n",
    "        }\n",
    "    } else {\n",
    "        feature_group\n",
    "    }   \n",
    "}"
   ]
  },
  {
   "cell_type": "code",
   "execution_count": 5,
   "id": "5b4af8db",
   "metadata": {},
   "outputs": [],
   "source": [
    "finer_groups <- (\n",
    "    main_filters \n",
    "        %>% mutate(discovery_group = as.character(discovery_group))\n",
    "        %>% rowwise() \n",
    "        %>% mutate( go_group = finer_grouper(discovery_group, feature_group))\n",
    "        %>% group_by( go_group, model ) \n",
    "        %>% mutate( rk = row_number(p_val))\n",
    "        %>% ungroup()\n",
    ")"
   ]
  },
  {
   "cell_type": "markdown",
   "id": "dd6a16b7",
   "metadata": {},
   "source": [
    "##### 1c - Select top features"
   ]
  },
  {
   "cell_type": "code",
   "execution_count": 6,
   "id": "f9317db0",
   "metadata": {},
   "outputs": [],
   "source": [
    "top_features <- (\n",
    "    finer_groups \n",
    "        %>% filter(\n",
    "            feature %in% c(\"hla_HLA_all_LOH\", \"hla_HLA_all_tumor_heterozygous\") |\n",
    "            model %in% c(\"os_res\") & discovery_group %in% c(\"RNA: Proliferation\", \"RNA: TGFB\") & rk < 13 |\n",
    "            model %in% c(\"bor\") & discovery_group %in% c(\"RNA: T-cell\") & rk < 13 |\n",
    "            model %in% c(\"bor\") & discovery_group %in% c(\"RNA: Remaining\") & rk < 8 |\n",
    "            model %in% c(\"bor\") & discovery_group %in% c(\"Clinical\") & rk < 12 |\n",
    "            model %in% c(\"bor\") & !discovery_group %in% c(\"Clinical\",\"RNA: Proliferation\", \"RNA: TGFB\", \"RNA: T-cell\", \"RNA: Remaining\") & rk < 9 | \n",
    "            model %in% c(\"bor\") & feature_group %in% c(\"somatic\") & rk < 15 ) %>% pull(feature)\n",
    ")"
   ]
  },
  {
   "cell_type": "markdown",
   "id": "faf5cf76",
   "metadata": {},
   "source": [
    "##### 1d - Filter main data set to top features"
   ]
  },
  {
   "cell_type": "code",
   "execution_count": 7,
   "id": "1e53356b",
   "metadata": {},
   "outputs": [],
   "source": [
    "base <- finer_groups %>% filter( feature %in% top_features)"
   ]
  },
  {
   "cell_type": "markdown",
   "id": "6ce12620",
   "metadata": {},
   "source": [
    "#### 2 - Order the features\n",
    "- Add factors levels"
   ]
  },
  {
   "cell_type": "code",
   "execution_count": 8,
   "id": "ce02122f",
   "metadata": {},
   "outputs": [],
   "source": [
    "feature_levels <- (\n",
    "     base \n",
    "        %>% filter(\n",
    "             model == \"bor\" & !discovery_group %in% c(\"RNA: Proliferation\", \"RNA: TGFB\") | \n",
    "             model == \"os_res\" & discovery_group %in% c(\"RNA: Proliferation\", \"RNA: TGFB\"))\n",
    "        %>% arrange(go_group, desc(rk))\n",
    "        %>% pull(feature)\n",
    ")"
   ]
  },
  {
   "cell_type": "code",
   "execution_count": 9,
   "id": "e5cfcac4",
   "metadata": {},
   "outputs": [],
   "source": [
    "base_camp <- base %>% mutate(feature = factor(feature, levels = feature_levels))"
   ]
  },
  {
   "cell_type": "markdown",
   "id": "a46e25a8",
   "metadata": {},
   "source": [
    "#### 3 - Add confidence levels based on BY threshold"
   ]
  },
  {
   "cell_type": "code",
   "execution_count": 10,
   "id": "6807fcdb",
   "metadata": {},
   "outputs": [],
   "source": [
    "z_alpha <- -qnorm( base_camp$by_05_fdr[1]/2)\n",
    "    \n",
    "camp1 <- (\n",
    "    base_camp\n",
    "      %>% mutate( est = ifelse( (model == \"os_res\") & ((cor_tmb > .4 & cor_tmb != 1)| (cor_tcell > .4 & cor_tcell != 1) | (cor_pretreat > .4 & cor_pretreat != 1)), NA, est))\n",
    "      %>% mutate( ci_low = est - z_alpha*se, ci_high = est + z_alpha*se)\n",
    "      %>% select(feature, est, ci_low, ci_high, p_val, go_group, feature_group, model, contains(\"cor\"))\n",
    "      %>% arrange(go_group, est)\n",
    ")"
   ]
  },
  {
   "cell_type": "markdown",
   "id": "6f4646aa",
   "metadata": {},
   "source": [
    "#### 4 - Choose your names\n",
    "- Map names to be nicer"
   ]
  },
  {
   "cell_type": "code",
   "execution_count": 11,
   "id": "56ab07f4",
   "metadata": {},
   "outputs": [],
   "source": [
    "cor_map <- list(\"cor_pretreat\" = \"Pretr\", \n",
    "                \"cor_tcell\" = \"T-cell\",\n",
    "                \"cor_tmb\" = \"TMB\",\n",
    "                \"cor_tgfb\" = \"TGFB\",\n",
    "                \"cor_prolif\" = \"Prolif\")\n",
    "mod_map <- list(\"os\" = \"OS\", \n",
    "                \"pfs\" = \"PFS\", \n",
    "                \"bor\" = \"BOR\", \n",
    "                \"os_res\" = \"OS Res\")\n",
    "gp_map <- list(\"cibersort\" = \"Cibersort\",\n",
    "               \"clinical\" = \"Clinical\",\n",
    "               \"cnv\" = \"CNV Summary\",\n",
    "               \"cnv.region\" = \"CNV Region\",\n",
    "               \"driver_cnv\" = \"CNV Drivers\",\n",
    "               \"driver_somatic\" = \"Mutation Driver\",\n",
    "               \"hla\" = \"HLA\",\n",
    "               \"sig\" = \"SBS Sigs\",\n",
    "               \"somatic\" = \"TMB Variants\",\n",
    "               \"somatic.gene\" = \"Gene Mutations\",\n",
    "               \"sv\" = \"SV Summary\")"
   ]
  },
  {
   "cell_type": "code",
   "execution_count": 12,
   "id": "9a44b091",
   "metadata": {},
   "outputs": [],
   "source": [
    "feature_map <- list(\n",
    "    \"cibersort_LM22_Dendritic.cells.resting\" = \"Dendritic Resting\",\t\n",
    "\t \"cibersort_LM22_Macrophages.M2\" = \"Macrophage M2\",\n",
    "\t \"cibersort_TR4_immune\" = \"Immune cells\",\n",
    "\t \"cibersort_LM22_T.cells.CD4.memory.activated\" = \"T-cells CD4 activated\",\n",
    "\t \"cibersort_LM22_T.cells.CD8\" = \"T-cells CD8\",\n",
    "\t \"cibersort_LM22_T.cells.follicular.helper\" = \"T-cells Follicular\",\n",
    "\t \"cibersort_LM22_T.cells.gamma.delta\" = \"T-cells gamma delta\",\n",
    "\t \"cibersort_LM22_Macrophages.M1\" = \"Macrophage M1\",\n",
    "\t \"clinical_number_pretreatment\" = \"Number pretreatment\",\n",
    "\t \"clinical_meta_hasSystemicPreTreatment2\" = \"Prior Systemic therapy\",\n",
    "\t \"clinical_pre_treated\" = \"Prior therapy\",\n",
    "\t \"clinical_pre_contains_Chemotherapy\" = \"Prior Chemotherapy\",\n",
    "\t \"clinical_meta_hasRadiotherapyPreTreatment\" = \"Prior Radiotherapy\",\n",
    "\t \"clinical_pre_contains_Immunotherapy\" = \"Prior Immunotherapy\",\n",
    "\t \"clinical_pre_to_post_treatment_time\" = \"Pre-to-Post treatment time\",\n",
    "\t \"clinical_post_contains_Targeted\" = \"Targeted therapy given\",\n",
    "\t \"cnv_scna\" = \"SCNA\",\n",
    "\t \"cnv_summary_wholeGenomeDuplication\" = \"WGD\",\n",
    "\t \"cnv_summary_ploidy\" = \"Ploidy\",\n",
    "\t \"cnv_summary_diploidProportion\" = \"Diploid %\",\n",
    "\t \"cnv_copy_loss_burden\" = \"Copy Loss Burden\",\n",
    "\t \"hla_lilac_aneuploidy_score\" = \"Anueploidy\",\n",
    "\t \"cnv_summary_polyclonalProportion\" = \"Polyclonal %\",\n",
    "\t \"cnv.region_loh_chr2.p25.3\" = \"LOH Chr2.p25.3\",\n",
    "\t \"cnv.region_loh_chr2.p25.1.p25.2\" = \"LOH Chr2.p25.1\",\n",
    "\t \"cnv.region_loh_chr2.p25.2\" = \"LOH Chr2.p25.2\",\n",
    "\t \"cnv.region_cn_chr9.p24.1\" = \"CN Chr9.p24.1\",\n",
    "\t \"cnv.region_cn_chr9.p23.p24.1\" = \"CN Chr9.p23.p24.1\",\n",
    "\t \"cnv.region_loh_chr10.q26.13.q26.2\" = \"LOH Chr10.q26.13\",\n",
    "\t \"cnv.region_loh_chr10.q26.3\" = \"LOH Chr10.q26.3\",\n",
    "\t \"cnv.region_loh_chr15.q26.2\" = \"LOH Chr15.q26.2\",\n",
    "\t \"driver_LRP1B_DEL\" = \"LRP1B Del\",\n",
    "\t \"driver_FGF3_AMP\" = \"FGF3 Amp\",\n",
    "\t \"driver_MYC_AMP\" = \"MYC Amp\",\n",
    "\t \"driver_CCND1_AMP\" = \"CCND1 Amp\",\n",
    "\t \"driver_TERT_AMP\" = \"TERT Amp\",\n",
    "\t \"driver_PTEN_DEL\" = \"PTEN Del\",\n",
    "\t \"driver_CDKN2A_DEL\" = \"CDKN2A Del\",\n",
    "\t \"driver_PTPRD_DEL\" = \"PTPRD Del\",\n",
    "\t \"driver_KRAS_MUTATION\" = \"KRAS\",\n",
    "\t \"driver_PIK3CA_MUTATION\" = \"PIK3CA\",\n",
    "\t \"driver_NRAS_MUTATION\" = \"NRAS\",\n",
    "\t \"driver_PBRM1_MUTATION\" = \"PBRM1\",\n",
    "\t \"driver_PTEN_MUTATION\" = \"PTEN\",\n",
    "\t \"driver_VHL_MUTATION\" = \"VHL\",\n",
    "\t \"driver_TP53_MUTATION\" = \"TP53\",\n",
    "\t \"driver_TERT_MUTATION\" = \"TERT\",\n",
    "\t \"hla_HLA_contains_B27\" = \"HLA contains B27\",\n",
    "\t \"hla_HLA_contains_B08\" = \"HLA contains B08\",\n",
    "\t \"hla_lilac_targeted_escape\" = \"HLA targeted escape (lilac)\",\n",
    "\t \"hla_HLA_contains_B62\" = \"HLA contains B62\",\n",
    "\t \"hla_lilac_imbalance\" = \"HLA imbalance (lilac)\",\n",
    "\t \"hla_HLA_contains_A24\" = \"HLA contains A24\",\n",
    "\t \"hla_HLA_contains_A02\" = \"HLA contains A02\",\n",
    "\t \"hla_HLA_contains_B44\" = \"HLA contains B44\",\n",
    "\t \"isofox_gene_set_KEGG_PROGESTERONE_MEDIATED_OOCYTE_MATURATION\" = \"KEGG OOCYTE Maturation\",\n",
    "\t \"isofox_gene_set_HALLMARK_MITOTIC_SPINDLE\" = \"Hallmark Mitotic Spindle\",\n",
    "     \"isofox_gene_set_HALLMARK_NOTCH_SIGNALING\" = \"Hallmark Notch Signaling\",\n",
    "\t \"isofox_gene_set_KEGG_OOCYTE_MEIOSIS\" = \"KEGG Meiosis\",\n",
    "\t \"isofox_gene_set_mariathan_Cell_cycle\" = \"Cell Cycle\",\n",
    "\t \"isofox_gene_set_KEGG_CELL_CYCLE\" = \"KEGG Cell Cycle\",\n",
    "\t \"isofox_gene_set_prolif_cluster\" = \"Proliferation cluster\",\n",
    "\t \"isofox_gene_set_HALLMARK_G2M_CHECKPOINT\" = \"G2M Checkpoint\",\n",
    "\t \"isofox_gene_set_prolif\" = \"Proliferation gene set\",\n",
    "\t \"isofox_ANLN\" = \"ANLN\",\n",
    "\t \"isofox_MKI67\" = \"MKI67\",\n",
    "\t \"isofox_KIF11\" = \"KIF11\",\n",
    "\t \"isofox_CENPF\" = \"CENPF\",\n",
    "\t \"isofox_CENPA\" = \"CENPA\",\n",
    "\t \"isofox_CCNA2\" = \"CCNA2\",\n",
    "\t \"isofox_TOP2A\" = \"TOP2A\",\n",
    "\t \"isofox_SKA1\" = \"SKA1\",\n",
    "\t \"isofox_gene_set_mariathan_EMT3\" = \"EMT3\",\n",
    "\t \"isofox_gene_set_KEGG_GLYCOSPHINGOLIPID_BIOSYNTHESIS_GANGLIO_SERIES\" = \"Glycosphingolipid Biosynthesis\",\n",
    "\t \"isofox_gene_set_KEGG_MELANOGENESIS\" = \"KEGG Melanogenesis\",\n",
    "\t \"isofox_gene_set_KEGG_GLYCOSAMINOGLYCAN_BIOSYNTHESIS_HEPARAN_SULFATE\" = \"Glycosaminoglycan Biosynthesis\",\n",
    "\t \"isofox_gene_set_HALLMARK_KRAS_SIGNALING_DN\" = \"Hallmark KRAS Signaling\",\n",
    "\t \"isofox_gene_set_KEGG_CYSTEINE_AND_METHIONINE_METABOLISM\" = \"KEGG Cysteine Metabolism\",\n",
    "\t \"isofox_gene_set_KEGG_NITROGEN_METABOLISM\" = \"KEGG Nitrogen Metabolism\",\n",
    "\t \"isofox_gene_set_KEGG_PROTEASOME\" = \"KEGG Proteasome\",\n",
    "\t \"isofox_LATS2\" = \"LATS2\",\n",
    "\t \"isofox_CTTN\" = \"CTTN\",\n",
    "\t \"isofox_ELL3\" = \"ELL3\",\n",
    "\t \"isofox_BAIAP2\" = \"BAIAP2\",\n",
    "\t \"isofox_CD276\" = \"CD276\",\n",
    "\t \"isofox_WTIP\" = \"WTIP\",\n",
    "\t \"isofox_ADORA2A\" = \"ADORA2A\",\n",
    "\t \"isofox_TLR3\" = \"TLR3\",\n",
    "\t \"sig_SBS8\" = \"SBS8\",\n",
    "\t \"sig_SBS3\" = \"SBS3\",\n",
    "\t \"sig_SBS1\" = \"SBS1\",\n",
    "\t \"sig_SBS5\" = \"SBS5\",\n",
    "\t \"sig_SBS4\" = \"SBS4\",\n",
    "\t \"sig_SBS40\" = \"SBS40\",\n",
    "\t \"sig_SBS38\" = \"SBS38\",\n",
    "\t \"sig_SBS93\" = \"SBS93\",\n",
    "\t \"somatic_summary_tmbStatus\" = \"TMB high\",\n",
    "\t \"somatic_summary_tmlStatus\" = \"TML high\",\n",
    "\t \"somatic_summary_tmbPerMb\" = \"TMB per MB\",\n",
    "\t \"somatic_TMB_clonal\" = \"TMB clonal\",\n",
    "\t \"somatic_TMB_damage_pathway\" = \"TMB damage pathway\",\n",
    "\t \"somatic_summary_tml\" = \"Tumor Mutational Load\",\n",
    "\t \"somatic_TMB_exome\" = \"TMB Exome\",\n",
    "\t \"somatic_TMB\" = \"TMB\",\n",
    "\t \"somatic_TMB_sbs\" = \"TMB SBS\",\n",
    "\t \"somatic_TMB_indel\" = \"TMB Indel\",\n",
    "\t \"somatic_TMB_mbs\" = \"TMB MBS\",\n",
    "\t \"somatic_TMB_SBS10b\" = \"TMB SBS10b\",\n",
    "\t \"somatic_TMB_frameshift\" = \"TMB frameshift\",\n",
    "\t \"somatic_TMB_dbs\" = \"TMB DBS\",\n",
    "\t \"somatic.gene_TMEM117.mb\" = \"TMEM117\",\n",
    "\t \"somatic.gene_KIRREL3.mb\" = \"KIRREL3\",\n",
    "\t \"somatic.gene_EML5.mb\" = \"EML5\",\n",
    "\t \"somatic.gene_EIPR1.mb\" = \"EIPR1\",\n",
    "\t \"somatic.gene_DEPDC1B.mb\" = \"DEPDC1B.\",\n",
    "\t \"somatic.gene_NEDD4L.mb\" = \"NEDD4L\",\n",
    "\t \"somatic.gene_SOD2.mb\" = \"SOD2\",\n",
    "\t \"somatic.gene_ITIH6.mb\" = \"ITIH6\",\n",
    "\t \"sv_clusters\" = \"Clusters\",\n",
    "\t \"sv_svs\" = \"SVs\",\n",
    "\t \"sv_breakend\" = \"Breakends\",\n",
    "\t \"sv_summary_svTumorMutationalBurden\" = \"SV TMB\",\n",
    "\t \"sv_links\" = \"Links\",\n",
    "\t \"sv_fusion\" = \"Fusions\",\n",
    "\t \"isofox_gene_set_t_cell_effector\" = \"T-cell effector\",\n",
    "\t \"isofox_gene_set_immune_checkpoint_genes\" = \"Immune checkpoint genes\",\n",
    "\t \"isofox_gene_set_tcell_cluster\" = \"T-cell cluster\",\n",
    "\t \"isofox_gene_set_t_cell_gep_18\" = \"T-cell GEP 18\",\n",
    "\t \"isofox_gene_set_cd8_t_effector\" = \"CD8 T-cell effector\",\n",
    "\t \"isofox_gene_set_infiltrate\" = \"Infiltrate\",\n",
    "\t \"isofox_gene_set_t_cell_gep_6\" = \"T-cell GEP 6\",\n",
    "\t \"isofox_gene_set_cyt\" = \"CYT\",\n",
    "\t \"isofox_TIGIT\" = \"TIGIT\",\n",
    "\t \"isofox_PLA2G2D\" = \"PLA2G2D\",\n",
    "\t \"isofox_GBP5\" = \"GBP5\",\n",
    "\t \"isofox_CD8A\" = \"CD8A\",\n",
    "\t \"isofox_CXCL9\" = \"CXCL9\",\n",
    "\t \"isofox_UBD\" = \"UBD\",\n",
    "\t \"isofox_STAT1\" = \"STAT1\",\n",
    "\t \"isofox_CALHM6\" = \"CALHM6\",\n",
    "\t \"isofox_gene_set_KEGG_ECM_RECEPTOR_INTERACTION\" = \"KEGG ECM receptor interaction\",\n",
    "\t \"isofox_gene_set_tgfb_cluster\" = \"TGFB cluster\",\n",
    "\t \"isofox_gene_set_KEGG_PATHWAYS_IN_CANCER\" = \"KEGG Pathways in cancer\",\n",
    "\t \"isofox_gene_set_KEGG_SMALL_CELL_LUNG_CANCER\" = \"\",\n",
    "\t \"isofox_gene_set_KEGG_PROSTATE_CANCER\" = \"\",\n",
    "\t \"isofox_gene_set_HALLMARK_ANGIOGENESIS\" = \"Hallmark Angiogenesis\",\n",
    "\t \"isofox_gene_set_HALLMARK_APICAL_SURFACE\" = \"Hallmark Apical Surface\",\n",
    "\t \"isofox_gene_set_CELL_PROLIFERATION_GO_0008283\" = \"GO Cell proliferation\",\n",
    "\t \"isofox_C3orf36\" = \"C3orf36\",\n",
    "\t \"isofox_CCDC3\" = \"CCDC3\",\n",
    "\t \"isofox_COL4A2\" = \"COL4A2\",\n",
    "\t \"isofox_COL4A1\" = \"COL4A1\",\n",
    "\t \"isofox_NID1\" = \"NID1\",\n",
    "\t \"isofox_CD248\" = \"CD248\",\n",
    "\t \"isofox_PALLD\" = \"PALLD\",\n",
    "\t \"isofox_S1PR3\" = \"S1PR3\",\n",
    "     \"isofox_gene_set_HALLMARK_COAGULATION\" = \"Hallmark Coagulation\",\n",
    "     \"isofox_gene_set_KEGG_GLIOMA\" = \"KEGG Glioma\",\n",
    "     \"isofox_gene_set_Pan_TBRS\" = \"Pan-TBRS\",\n",
    "     \"hla_HLA_all_LOH\" = \"HLA LOH\",\n",
    "     \"isofox_NKG7\" = \"NKG7\",\n",
    "     \"isofox_IRF1\" = \"IRF1\",\n",
    "     \"isofox_GBP4\" = \"GBP4\",\n",
    "     \"isofox_TCF4\" = \"TCF4\",\n",
    "     \"isofox_SPARC\" = \"SPARC\",\n",
    "     \"isofox_GGT5\" = \"GGT5\",\n",
    "     \"isofox_KNL1\" = \"KNL1\",\n",
    "     \"isofox_IQGAP3\" = \"IQGAP3\",\n",
    "     \"isofox_GTSE1\" = \"GTSE1\",\n",
    "     \"isofox_gene_set_F_TBRS\" = \"F-TBRS\",\n",
    "     \"isofox_gene_set_KEGG_FOCAL_ADHESION\" = \"KEGG Focal Adhesion\",\n",
    "     \"isofox_gene_set_HALLMARK_TGF_BETA_SIGNALING\" = \"Hallmark TGFB\",\n",
    "     \"isofox_gene_set_mariathan_APM\" = \"APM\",\n",
    "     \"isofox_gene_set_12_chemokine\" = \"Chemokine 12\",\n",
    "     \"isofox_gene_set_KEGG_PRIMARY_IMMUNODEFICIENCY\" = \"KEGG primary immunodeficiency\",\n",
    "     \"isofox_gene_set_HALLMARK_E2F_TARGETS\" = \"Hallmark E2F Targets\",\n",
    "     \"isofox_gene_set_KEGG_MISMATCH_REPAIR\" = \"KEGG Mismatch Repair\",\n",
    "     \"isofox_gene_set_KEGG_PYRIMIDINE_METABOLISM\" = \"KEGG Pyrimidine Metabolism\",\n",
    "     \"isofox_gene_set_KEGG_CIRCADIAN_RHYTHM_MAMMAL\" = \"KEGG Circadian Rhythm\",\n",
    "     \"isofox_gene_set_mariathan_tcga\" = \"TCGA\",\n",
    "     \"clinical_pre_contains_Targeted\"  = \"Prior Targeted Therapy\",\n",
    "     \"clinical_meta_tumorPurity\" = \"Tumor Purity\",\n",
    "     \"clinical_age_at_treatment_start\" = \"Age\",\n",
    "     \"isofox_NDC80\" = \"NDC80\", \n",
    "     \"isofox_CD3E\" = \"CD3E\",\n",
    "     \"isofox_VSTM4\" = \"VSTM4\",\n",
    "     \"hla_HLA_all_tumor_heterozygous\" = \"HLA Heterzygosity\",\n",
    "     \"isofox_gene_set_KEGG_HOMOLOGOUS_RECOMBINATION\" = \"KEGG Homologous Recombination\",\n",
    "     \"isofox_gene_set_KEGG_ALLOGRAFT_REJECTION\" = \"KEGG Allograft Rejection\",\n",
    "     \"isofox_gene_set_HALLMARK_EPITHELIAL_MESENCHYMAL_TRANSITION\" = \"Hallmark EMT\"\n",
    ")"
   ]
  },
  {
   "cell_type": "code",
   "execution_count": 13,
   "id": "353ba13d",
   "metadata": {},
   "outputs": [],
   "source": [
    "name_mapper <- function(i, map){\n",
    "    if( i %in% names(map)){\n",
    "        map[[i]]\n",
    "    } else {\n",
    "        i\n",
    "    }\n",
    "}"
   ]
  },
  {
   "cell_type": "code",
   "execution_count": 14,
   "id": "6f5c98f8",
   "metadata": {},
   "outputs": [],
   "source": [
    "camp2 <- (\n",
    "  camp1 \n",
    "    %>% rowwise() \n",
    "    %>% mutate(model = factor(name_mapper(as.character(model), mod_map), \n",
    "                          levels = c(\"BOR\", \"PFS\", \"OS\", \"OS Res\")),\n",
    "               go_group = factor(name_mapper(as.character(go_group), gp_map), \n",
    "                          levels = c(\"Clinical\", \n",
    "                                     \"HLA\", \n",
    "                                     \"TMB Variants\", \n",
    "                                     \"Gene Mutations\", \n",
    "                                     \"Mutation Driver\", \n",
    "                                     \"SBS Sigs\",\n",
    "                                     \"Cibersort\", \n",
    "                                     \"T-cell gene sets\", \n",
    "                                     \"T-cell genes\", \n",
    "                                     \"TGFB gene sets\", \n",
    "                                     \"TGFB genes\", \n",
    "                                     \"Proliferation gene sets\", \n",
    "                                     \"Proliferation genes\", \n",
    "                                     \"Remaining gene sets\", \n",
    "                                     \"Remaining genes\",\n",
    "                                     \"CNV Summary\", \n",
    "                                     \"CNV Region\", \n",
    "                                     \"CNV Drivers\", \n",
    "                                     \"SV Summary\")),\n",
    "               feature = name_mapper(as.character(feature), feature_map))\n",
    "    %>% ungroup()\n",
    ")"
   ]
  },
  {
   "cell_type": "markdown",
   "id": "d0d24bb5",
   "metadata": {},
   "source": [
    "- Add better or worse labels"
   ]
  },
  {
   "cell_type": "code",
   "execution_count": 15,
   "id": "8a31d116",
   "metadata": {},
   "outputs": [],
   "source": [
    "better_or_worse <- function( model, ci_low, ci_high){\n",
    "    if( is.na(ci_low) | is.na(ci_high) | is.na(model)){\n",
    "        \"none\"\n",
    "    } else if( model == \"BOR\"){\n",
    "        if(ci_low > 0){\n",
    "            \"better\"\n",
    "        } else if (ci_high < 0){\n",
    "            \"worse\"\n",
    "        } else {\n",
    "            \"none\"\n",
    "        }\n",
    "    } else {\n",
    "        if(ci_low > 0){\n",
    "            \"worse\"\n",
    "        } else if (ci_high < 0){\n",
    "            \"better\"\n",
    "        } else {\n",
    "            \"none\"\n",
    "        }\n",
    "    }\n",
    "}"
   ]
  },
  {
   "cell_type": "code",
   "execution_count": 16,
   "id": "129ed7d7",
   "metadata": {},
   "outputs": [],
   "source": [
    "camp2 <- camp2 %>% rowwise() %>% mutate( dir = better_or_worse( model, ci_low, ci_high) ) %>% ungroup()"
   ]
  },
  {
   "cell_type": "markdown",
   "id": "5edf5807",
   "metadata": {},
   "source": [
    "- Order features"
   ]
  },
  {
   "cell_type": "code",
   "execution_count": 17,
   "id": "b1ce4f90",
   "metadata": {},
   "outputs": [],
   "source": [
    "res <- c(\"TGFB gene sets\", \"TGFB genes\",\"Proliferation gene sets\",\"Proliferation genes\")\n",
    "feature_order <- c( camp2 %>% filter(go_group %in% res,model == \"BOR\") %>% arrange(go_group, est) %>% pull(feature),\n",
    "   camp2 %>% filter(!go_group %in% res,model == \"OS Res\") %>% arrange(go_group, est) %>% pull(feature))"
   ]
  },
  {
   "cell_type": "code",
   "execution_count": 18,
   "id": "9041ce61",
   "metadata": {},
   "outputs": [],
   "source": [
    "#camp2 <- camp2 %>% mutate(feature = factor(feature, levels = feature_order))"
   ]
  },
  {
   "cell_type": "markdown",
   "id": "ab17dcc5",
   "metadata": {},
   "source": [
    "#### 5 - Gather for correlation plots"
   ]
  },
  {
   "cell_type": "code",
   "execution_count": 19,
   "id": "d6d715d3",
   "metadata": {},
   "outputs": [],
   "source": [
    "camp3 <- (\n",
    "  camp2 \n",
    "    %>% filter(model == \"OS\") \n",
    "    %>% select(feature, go_group, contains(\"cor\"), -cor_purity)\n",
    "    %>% gather(\"latent\", \"cor\", -feature, -go_group)\n",
    "    %>% rowwise()\n",
    "    %>% mutate( latent = factor(name_mapper(latent, cor_map), levels = c(\"TMB\", \"T-cell\", \"TGFB\", \"Prolif\", \"Pretr\")))\n",
    ")"
   ]
  },
  {
   "cell_type": "code",
   "execution_count": 20,
   "id": "89546165",
   "metadata": {},
   "outputs": [],
   "source": [
    "cor_grouper <- function(cor){\n",
    "    if( abs(cor) > .5 ){\n",
    "        \"high\"\n",
    "    } else if ( abs(cor) > .3){\n",
    "        \"medium\"\n",
    "    } else {\n",
    "        \"low\"\n",
    "    }\n",
    "}"
   ]
  },
  {
   "cell_type": "code",
   "execution_count": 21,
   "id": "a98382be",
   "metadata": {},
   "outputs": [],
   "source": [
    "camp3 <- camp3 %>% rowwise() %>% mutate(alpha = cor_grouper(cor)) %>% ungroup()"
   ]
  },
  {
   "cell_type": "markdown",
   "id": "4c4d757c",
   "metadata": {},
   "source": [
    "#### 6 - Divide into subgroups"
   ]
  },
  {
   "cell_type": "code",
   "execution_count": 22,
   "id": "33f6248d",
   "metadata": {},
   "outputs": [],
   "source": [
    "gps <- list(\n",
    "    \"cln_hla\" = c(\"Clinical\", \"HLA\"), \n",
    "    \"cnv_sv\" = c(\"CNV Summary\", \"CNV Region\", \"SV Summary\", \"CNV Drivers\"),\n",
    "    \"somatic\" = c(\"Mutation Driver\", \"Gene Mutations\", \"TMB Variants\", \"SBS Sigs\"),\n",
    "    \"rna\" = c(\"Cibersort\", \n",
    "              \"T-cell genes\", \"T-cell gene sets\", \n",
    "              \"TGFB genes\", \"TGFB gene sets\", \n",
    "              \"Proliferation genes\", \"Proliferation gene sets\",\n",
    "              \"Remaining genes\", \"Remaining gene sets\")\n",
    ")"
   ]
  },
  {
   "cell_type": "code",
   "execution_count": 23,
   "id": "6c90bdfc",
   "metadata": {},
   "outputs": [],
   "source": [
    "climb <- function( i = \"cln_hla\"){\n",
    "    list( \"ests\" = camp2 %>% filter(go_group %in% gps[[i]]), \"cors\" = camp3 %>% filter(go_group %in% gps[[i]]))\n",
    "}"
   ]
  },
  {
   "cell_type": "markdown",
   "id": "6ee9c9ce",
   "metadata": {},
   "source": [
    "#### 6 - Send them!"
   ]
  },
  {
   "cell_type": "code",
   "execution_count": 24,
   "id": "20c5a085",
   "metadata": {},
   "outputs": [],
   "source": [
    "ready <- list()"
   ]
  },
  {
   "cell_type": "code",
   "execution_count": 25,
   "id": "9f0e96a0",
   "metadata": {},
   "outputs": [],
   "source": [
    "for( i in names(gps)){\n",
    "    ready[[i]] <- climb(i)\n",
    "}"
   ]
  },
  {
   "cell_type": "code",
   "execution_count": 26,
   "id": "30c02a0d",
   "metadata": {},
   "outputs": [],
   "source": [
    "saveRDS( ready, paste0(TMP_DIR, \"exhaustive-plots-highlights2.Rds\"))"
   ]
  }
 ],
 "metadata": {
  "kernelspec": {
   "display_name": "R",
   "language": "R",
   "name": "ir"
  },
  "language_info": {
   "codemirror_mode": "r",
   "file_extension": ".r",
   "mimetype": "text/x-r-source",
   "name": "R",
   "pygments_lexer": "r",
   "version": "3.6.1"
  }
 },
 "nbformat": 4,
 "nbformat_minor": 5
}
