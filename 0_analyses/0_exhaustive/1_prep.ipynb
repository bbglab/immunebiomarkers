{
 "cells": [
  {
   "cell_type": "code",
   "execution_count": null,
   "id": "0",
   "metadata": {},
   "outputs": [],
   "source": [
    "wd <- dirname(dirname(getwd()))\n",
    "source(paste0(wd,\"/mission_control/treasure_map.R\"))\n",
    "source(paste0(wd,\"/mission_control/helpers/exhaustive_study/exhaustive_help.R\"))\n",
    "library(tidyverse)"
   ]
  },
  {
   "cell_type": "markdown",
   "id": "1",
   "metadata": {},
   "source": [
    "#### 0 - Read prepared CPI data"
   ]
  },
  {
   "cell_type": "code",
   "execution_count": null,
   "id": "2",
   "metadata": {},
   "outputs": [],
   "source": [
    "cpi <- readRDS(paste0(I_DIR, \"cpi_go.Rds\"))"
   ]
  },
  {
   "cell_type": "markdown",
   "id": "3",
   "metadata": {},
   "source": [
    "#### 1 - Scale the data\n",
    "- scale only numeric features, and avoid scaling response features\n",
    "- scaling here over all the HMF data, instead of cohort specific"
   ]
  },
  {
   "cell_type": "code",
   "execution_count": null,
   "id": "4",
   "metadata": {},
   "outputs": [],
   "source": [
    "scale_the_data <- function( df ){\n",
    "    col_types <- sapply( df, typeof )\n",
    "    responses <- colnames(df %>% select(Y_best_response_binary, Y_best_response_time_in_days, Y_relapse, contains(\"Surv\")))\n",
    "    step1 <- col_types[which(col_types != \"character\")]\n",
    "    step2 <- names(step1[-which(names(step1) %in% responses)])\n",
    "    df %>% mutate_at( vars(all_of(step2)), ~ (scale(.) %>% as.vector))\n",
    "}\n",
    "cpi_scaled <- scale_the_data(cpi)"
   ]
  },
  {
   "cell_type": "markdown",
   "id": "5",
   "metadata": {},
   "source": [
    "#### 2 - Create Data Store for Exhaustive Analysis\n",
    "- Store list of dataframes to be used in exhaustive analyses"
   ]
  },
  {
   "cell_type": "code",
   "execution_count": null,
   "id": "6",
   "metadata": {},
   "outputs": [],
   "source": [
    "studies <- list()\n",
    "\n",
    "studies[['all']] <- cpi_scaled\n",
    "studies[['skin']]    <- cpi_scaled %>% filter(clinical_tumor_location_group == \"skin\")\n",
    "studies[['lung']]    <- cpi_scaled %>% filter(clinical_tumor_location_group == \"lung\")\n",
    "studies[['bladder']] <- cpi_scaled %>% filter(clinical_tumor_location_group == \"bladder\")\n",
    "studies[['other']]   <- cpi_scaled %>% filter(clinical_tumor_location_group == \"other\")"
   ]
  },
  {
   "cell_type": "markdown",
   "id": "7",
   "metadata": {},
   "source": [
    "- Prepare for best response and survival studies"
   ]
  },
  {
   "cell_type": "code",
   "execution_count": null,
   "id": "8",
   "metadata": {},
   "outputs": [],
   "source": [
    "get_ready <- function ( studies ) {\n",
    "\n",
    "    response <- list(); \n",
    "    survival <- list()\n",
    "\n",
    "    for( i in names(studies)){\n",
    "        response[[i]] <- studies[[i]] %>% filter(Filter_meta_responseMeasured == \"Yes\") %>% drop_na(Y_best_response_binary)\n",
    "        survival[[i]] <- studies[[i]]   \n",
    "    }\n",
    "    ready = list()\n",
    "    ready[[\"survival\"]] = survival\n",
    "    ready[[\"response\"]] = response\n",
    "    ready\n",
    "}"
   ]
  },
  {
   "cell_type": "code",
   "execution_count": null,
   "id": "9",
   "metadata": {},
   "outputs": [],
   "source": [
    "go <- get_ready( studies )"
   ]
  },
  {
   "cell_type": "markdown",
   "id": "10",
   "metadata": {},
   "source": [
    "### 2 - Send it!"
   ]
  },
  {
   "cell_type": "code",
   "execution_count": null,
   "id": "11",
   "metadata": {
    "tags": []
   },
   "outputs": [],
   "source": [
    "saveRDS(go, paste0(TMP_DIR, \"exhaustive-ready.Rds\"))"
   ]
  }
 ],
 "metadata": {
  "kernelspec": {
   "display_name": "R",
   "language": "R",
   "name": "ir"
  },
  "language_info": {
   "codemirror_mode": "r",
   "file_extension": ".r",
   "mimetype": "text/x-r-source",
   "name": "R",
   "pygments_lexer": "r",
   "version": "3.6.1"
  }
 },
 "nbformat": 4,
 "nbformat_minor": 5
}
