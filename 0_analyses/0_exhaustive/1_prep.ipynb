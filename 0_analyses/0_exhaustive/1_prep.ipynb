{
 "cells": [
  {
   "cell_type": "code",
   "execution_count": 1,
   "id": "c558a31f",
   "metadata": {},
   "outputs": [
    {
     "name": "stderr",
     "output_type": "stream",
     "text": [
      "Registered S3 method overwritten by 'rvest':\n",
      "  method            from\n",
      "  read_xml.response xml2\n",
      "── Attaching packages ──────────────────────────────────────────────────────────────────────────────────────────────────── tidyverse 1.2.1 ──\n",
      "✔ ggplot2 3.3.6     ✔ purrr   0.3.4\n",
      "✔ tibble  3.1.2     ✔ dplyr   1.0.6\n",
      "✔ tidyr   1.1.3     ✔ stringr 1.4.0\n",
      "✔ readr   1.3.1     ✔ forcats 0.5.1\n",
      "Warning message:\n",
      "“package ‘tibble’ was built under R version 3.6.3”Warning message:\n",
      "“package ‘tidyr’ was built under R version 3.6.3”Warning message:\n",
      "“package ‘purrr’ was built under R version 3.6.3”Warning message:\n",
      "“package ‘dplyr’ was built under R version 3.6.3”Warning message:\n",
      "“package ‘forcats’ was built under R version 3.6.3”── Conflicts ─────────────────────────────────────────────────────────────────────────────────────────────────────── tidyverse_conflicts() ──\n",
      "✖ dplyr::filter() masks stats::filter()\n",
      "✖ dplyr::lag()    masks stats::lag()\n"
     ]
    }
   ],
   "source": [
    "wd <- dirname(dirname(getwd()))\n",
    "source(paste0(wd,\"/mission_control/treasure_map.R\"))\n",
    "source(paste0(wd,\"/mission_control/helpers/exhaustive_study/exhaustive_help.R\"))\n",
    "library(tidyverse)"
   ]
  },
  {
   "cell_type": "markdown",
   "id": "88b605b9",
   "metadata": {},
   "source": [
    "#### 0 - Read prepared CPI data"
   ]
  },
  {
   "cell_type": "code",
   "execution_count": 2,
   "id": "d74e9c2e",
   "metadata": {},
   "outputs": [],
   "source": [
    "cpi <- readRDS(paste0(I_DIR, \"cpi_go.Rds\"))"
   ]
  },
  {
   "cell_type": "code",
   "execution_count": 5,
   "id": "9f50ef19",
   "metadata": {},
   "outputs": [
    {
     "data": {
      "text/plain": [
       "\n",
       "multiple      PD1     PDL1 \n",
       "      65      387       27 "
      ]
     },
     "metadata": {},
     "output_type": "display_data"
    }
   ],
   "source": [
    "table(cpi %>% select(contains(\"clinical\")) %>% pull(clinical_cpi_mechanism))"
   ]
  },
  {
   "cell_type": "markdown",
   "id": "c12f802b",
   "metadata": {},
   "source": [
    "#### 1 - Scale the data\n",
    "- scale only numeric features, and avoid scaling response features\n",
    "- scaling here over all the HMF data, instead of cohort specific"
   ]
  },
  {
   "cell_type": "code",
   "execution_count": 3,
   "id": "2cf28de6",
   "metadata": {},
   "outputs": [],
   "source": [
    "scale_the_data <- function( df ){\n",
    "    col_types <- sapply( df, typeof )\n",
    "    responses <- colnames(df %>% select(Y_best_response_binary, Y_best_response_time_in_days, Y_relapse, contains(\"Surv\")))\n",
    "    step1 <- col_types[which(col_types != \"character\")]\n",
    "    step2 <- names(step1[-which(names(step1) %in% responses)])\n",
    "    df %>% mutate_at( vars(all_of(step2)), ~ (scale(.) %>% as.vector))\n",
    "}\n",
    "cpi_scaled <- scale_the_data(cpi)"
   ]
  },
  {
   "cell_type": "markdown",
   "id": "8d16594e",
   "metadata": {},
   "source": [
    "#### 2 - Create Data Store for Exhaustive Analysis\n",
    "- Store dataframe to be used in exhaustive analyses\n",
    "- Note data here has been scaled over all of HMF db in step above\n",
    "- Specifying studies here"
   ]
  },
  {
   "cell_type": "markdown",
   "id": "f38e53d0",
   "metadata": {},
   "source": [
    "##### Unique treatments"
   ]
  },
  {
   "cell_type": "code",
   "execution_count": 4,
   "id": "25bd45c2",
   "metadata": {},
   "outputs": [],
   "source": [
    "studies <- list()\n",
    "\n",
    "### overall\n",
    "studies[['all']] <- cpi_scaled\n",
    "\n",
    "### tissues\n",
    "studies[['skin']]    <- cpi_scaled %>% filter(clinical_tumor_location_group == \"skin\")\n",
    "studies[['lung']]    <- cpi_scaled %>% filter(clinical_tumor_location_group == \"lung\")\n",
    "studies[['bladder']] <- cpi_scaled %>% filter(clinical_tumor_location_group == \"bladder\")\n",
    "studies[['other']]   <- cpi_scaled %>% filter(clinical_tumor_location_group == \"other\")"
   ]
  },
  {
   "cell_type": "code",
   "execution_count": 5,
   "id": "0bc4b080",
   "metadata": {},
   "outputs": [],
   "source": [
    "get_ready <- function ( studies ) {\n",
    "\n",
    "    response <- list(); survival <- list()\n",
    "\n",
    "    for( i in names(studies)){\n",
    "        response[[i]] <- studies[[i]] %>% filter(Filter_meta_responseMeasured == \"Yes\") %>% drop_na(Y_best_response_binary)\n",
    "        survival[[i]] <- studies[[i]]   \n",
    "    }\n",
    "    ready = list()\n",
    "    ready[[\"survival\"]] = survival\n",
    "    ready[[\"response\"]] = response\n",
    "    ready\n",
    "}"
   ]
  },
  {
   "cell_type": "code",
   "execution_count": 6,
   "id": "55861514",
   "metadata": {},
   "outputs": [],
   "source": [
    "go <- get_ready( studies )"
   ]
  },
  {
   "cell_type": "markdown",
   "id": "18e21b51",
   "metadata": {},
   "source": [
    "### 2 - Send it!"
   ]
  },
  {
   "cell_type": "code",
   "execution_count": 7,
   "id": "c2def5fb",
   "metadata": {
    "tags": []
   },
   "outputs": [],
   "source": [
    "saveRDS(go, paste0(TMP_DIR, \"exhaustive-ready.Rds\"))"
   ]
  }
 ],
 "metadata": {
  "kernelspec": {
   "display_name": "R",
   "language": "R",
   "name": "ir"
  },
  "language_info": {
   "codemirror_mode": "r",
   "file_extension": ".r",
   "mimetype": "text/x-r-source",
   "name": "R",
   "pygments_lexer": "r",
   "version": "3.6.1"
  }
 },
 "nbformat": 4,
 "nbformat_minor": 5
}
