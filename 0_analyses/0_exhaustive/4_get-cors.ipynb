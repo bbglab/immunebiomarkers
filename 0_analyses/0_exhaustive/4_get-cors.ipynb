{
 "cells": [
  {
   "cell_type": "code",
   "execution_count": 28,
   "id": "c558a31f",
   "metadata": {},
   "outputs": [],
   "source": [
    "wd <- dirname(dirname(getwd()))\n",
    "source(paste0(wd,\"/mission_control/treasure_map.R\"))\n",
    "source(paste0(wd,\"/mission_control/helpers/exhaustive_study/exhaustive_help.R\"))\n",
    "library(tidyverse)"
   ]
  },
  {
   "cell_type": "markdown",
   "id": "4240c95e",
   "metadata": {},
   "source": [
    "### 0 - Read prepared CPI data"
   ]
  },
  {
   "cell_type": "code",
   "execution_count": 29,
   "id": "d74e9c2e",
   "metadata": {},
   "outputs": [],
   "source": [
    "cpi <- readRDS(paste0(I_DIR, \"cpi_go.Rds\"))\n",
    "features <- readRDS(paste0(TMP_DIR, \"exhaustive-features-go.Rds\"))"
   ]
  },
  {
   "cell_type": "markdown",
   "id": "d60db633",
   "metadata": {},
   "source": [
    "### 1 - Run compute correlations to anchor features"
   ]
  },
  {
   "cell_type": "code",
   "execution_count": 31,
   "id": "87f3fe26",
   "metadata": {},
   "outputs": [],
   "source": [
    "top <- c(\"pretreat\", \"tmb\", \"tcell\",\"prolif\", \"tgfb\", \"purity\")"
   ]
  },
  {
   "cell_type": "code",
   "execution_count": 22,
   "id": "d463f4b8",
   "metadata": {},
   "outputs": [
    {
     "name": "stdout",
     "output_type": "stream",
     "text": [
      "[1] \"clinical_meta_hasSystemicPreTreatment2\"\n",
      "[1] \"clinical_pre_treated\"\n"
     ]
    }
   ],
   "source": [
    "i <- 0\n",
    "cors <- list()\n",
    "for (feature in features){\n",
    "    if((i %% 1) == 0) print(feature); flush.console()\n",
    "    cors[[feature]] <- get_cors2(cpi, top, feature)\n",
    "    i <- i + 1; \n",
    "}"
   ]
  },
  {
   "cell_type": "code",
   "execution_count": 23,
   "id": "b349155c",
   "metadata": {},
   "outputs": [],
   "source": [
    "saveRDS(cors, paste0(TMP_DIR,\"exhaustive-cors-list.Rds\"))"
   ]
  },
  {
   "cell_type": "code",
   "execution_count": 24,
   "id": "58f7a9be",
   "metadata": {},
   "outputs": [],
   "source": [
    "cors_go <- (\n",
    "    dplyr::bind_rows(cors)\n",
    "        %>% rename_with(~ paste0(\"cor_\", .x)) \n",
    "        %>% rename(feature = cor_feature)\n",
    ")"
   ]
  },
  {
   "cell_type": "markdown",
   "id": "c080cf14",
   "metadata": {},
   "source": [
    "### 2 - Send it!"
   ]
  },
  {
   "cell_type": "code",
   "execution_count": null,
   "id": "0e6620b6",
   "metadata": {},
   "outputs": [],
   "source": [
    "saveRDS(cors_go, paste0(TMP_DIR,\"exhaustive-cors.Rds\"))"
   ]
  }
 ],
 "metadata": {
  "kernelspec": {
   "display_name": "R",
   "language": "R",
   "name": "ir"
  },
  "language_info": {
   "codemirror_mode": "r",
   "file_extension": ".r",
   "mimetype": "text/x-r-source",
   "name": "R",
   "pygments_lexer": "r",
   "version": "3.6.1"
  }
 },
 "nbformat": 4,
 "nbformat_minor": 5
}
