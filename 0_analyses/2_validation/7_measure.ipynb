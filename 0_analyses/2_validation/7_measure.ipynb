{
 "cells": [
  {
   "cell_type": "code",
   "execution_count": 1,
   "id": "71df1f61",
   "metadata": {},
   "outputs": [
    {
     "name": "stderr",
     "output_type": "stream",
     "text": [
      "Registered S3 method overwritten by 'rvest':\n",
      "  method            from\n",
      "  read_xml.response xml2\n",
      "── Attaching packages ──────────────────────────────────────────────────────────────────────────────────────────────────────────── tidyverse 1.2.1 ──\n",
      "✔ ggplot2 3.3.6     ✔ purrr   0.3.4\n",
      "✔ tibble  3.1.2     ✔ dplyr   1.0.6\n",
      "✔ tidyr   1.1.3     ✔ stringr 1.4.0\n",
      "✔ readr   1.3.1     ✔ forcats 0.5.1\n",
      "Warning message:\n",
      "“package ‘tibble’ was built under R version 3.6.3”Warning message:\n",
      "“package ‘tidyr’ was built under R version 3.6.3”Warning message:\n",
      "“package ‘purrr’ was built under R version 3.6.3”Warning message:\n",
      "“package ‘dplyr’ was built under R version 3.6.3”Warning message:\n",
      "“package ‘forcats’ was built under R version 3.6.3”── Conflicts ─────────────────────────────────────────────────────────────────────────────────────────────────────────────── tidyverse_conflicts() ──\n",
      "✖ dplyr::filter() masks stats::filter()\n",
      "✖ dplyr::lag()    masks stats::lag()\n",
      "Type 'citation(\"pROC\")' for a citation.\n",
      "\n",
      "Attaching package: ‘pROC’\n",
      "\n",
      "The following objects are masked from ‘package:stats’:\n",
      "\n",
      "    cov, smooth, var\n",
      "\n",
      "Loading required package: prodlim\n"
     ]
    }
   ],
   "source": [
    "wd <- dirname(dirname(getwd()))\n",
    "source(paste0(wd,\"/mission_control/treasure_map.R\"))\n",
    "source(paste0(wd,\"/mission_control/helpers/xgboost/eval_help.R\"))\n",
    "source(paste0(wd,\"/mission_control/helpers/xgboost/paper_settings.R\"))\n",
    "source(paste0(wd,\"/mission_control/helpers/xgboost/validation_help.R\"))\n",
    "\n",
    "library(tidyverse)\n",
    "library(survival)\n",
    "library(pROC)\n",
    "library(survcomp)"
   ]
  },
  {
   "cell_type": "markdown",
   "id": "be5ce9f0",
   "metadata": {},
   "source": [
    "### 0 - Read in external studies and bind rows"
   ]
  },
  {
   "cell_type": "code",
   "execution_count": 2,
   "id": "34d5ba21",
   "metadata": {},
   "outputs": [],
   "source": [
    "validation_measure <- (\n",
    "    readRDS(paste0(TMP_DIR, \"validation-measure.Rds\"))\n",
    "        %>% select(\n",
    "          patient_id, \n",
    "          build, \n",
    "          Study_cohort, \n",
    "          model, \n",
    "          tissue, \n",
    "          complete, \n",
    "          bor, \n",
    "          os_event, \n",
    "          os_days,\n",
    "          os, \n",
    "          pred_lr, \n",
    "          pred_os        \n",
    "        )\n",
    "        %>% filter(!is.na(bor))\n",
    ")"
   ]
  },
  {
   "cell_type": "markdown",
   "id": "9d9b2cae",
   "metadata": {},
   "source": [
    "### 1 - Apply models"
   ]
  },
  {
   "cell_type": "code",
   "execution_count": 3,
   "id": "9e9a97cd",
   "metadata": {},
   "outputs": [],
   "source": [
    "measure <- function (df, i, j, k = \"all\", l = TRUE, q = \"1\") {\n",
    "    if (k != \"all\") {\n",
    "        tmp <- df %>% filter(Study_cohort == i, model == j, tissue == k, complete == l)\n",
    "    } else {\n",
    "        tmp <- df %>% filter(Study_cohort == i, model == j, complete == l)\n",
    "    }\n",
    "    \n",
    "    if (length(unique(tmp$bor)) > 1) {\n",
    "        #tmp <- tmp %>% filter( !is.na(bor))\n",
    "        measure_auc <- roc(tmp$bor, tmp$pred_lr, plot = FALSE, auc = TRUE)$auc\n",
    "    } else {\n",
    "        measure_auc <- NA\n",
    "    }\n",
    "    \n",
    "    tmp <- tmp %>% drop_na(os_event, os_days)\n",
    "    \n",
    "    measure_c_index <- concordance.index(tmp$pred_os, tmp$os_days, tmp$os_event)$c.index\n",
    "    response_low <- mean(tmp %>% filter(pred_lr < .1, !is.na(bor)) %>% pull(bor))\n",
    "    n_response_low <- length(tmp %>% filter(pred_lr < .1, !is.na(bor)) %>% pull(bor))\n",
    "    \n",
    "    data.frame(\n",
    "            Study = i, \n",
    "            model = j, \n",
    "            tissue = k, \n",
    "            n = nrow(tmp), \n",
    "            complete = l, \n",
    "            build = q, \n",
    "            auc = measure_auc, \n",
    "            c_index = measure_c_index, \n",
    "            response_low = response_low, \n",
    "            n_response_low = n_response_low\n",
    "    )\n",
    "}"
   ]
  },
  {
   "cell_type": "markdown",
   "id": "5e4289e9",
   "metadata": {},
   "source": [
    "### 2 - Measure all cohorts"
   ]
  },
  {
   "cell_type": "code",
   "execution_count": 4,
   "id": "fc5b1c75",
   "metadata": {},
   "outputs": [
    {
     "name": "stdout",
     "output_type": "stream",
     "text": [
      "[1] \"VHIO\"\n"
     ]
    },
    {
     "name": "stderr",
     "output_type": "stream",
     "text": [
      "Setting levels: control = 0, case = 1\n",
      "Setting direction: controls < cases\n",
      "Setting levels: control = 0, case = 1\n",
      "Setting direction: controls < cases\n",
      "Setting levels: control = 0, case = 1\n",
      "Setting direction: controls < cases\n",
      "Setting levels: control = 0, case = 1\n",
      "Setting direction: controls < cases\n",
      "Setting levels: control = 0, case = 1\n",
      "Setting direction: controls < cases\n",
      "Setting levels: control = 0, case = 1\n",
      "Setting direction: controls < cases\n",
      "Setting levels: control = 0, case = 1\n",
      "Setting direction: controls < cases\n",
      "Setting levels: control = 0, case = 1\n",
      "Setting direction: controls < cases\n",
      "Setting levels: control = 0, case = 1\n",
      "Setting direction: controls < cases\n",
      "Setting levels: control = 0, case = 1\n",
      "Setting direction: controls < cases\n",
      "Setting levels: control = 0, case = 1\n",
      "Setting direction: controls < cases\n",
      "Setting levels: control = 0, case = 1\n",
      "Setting direction: controls < cases\n",
      "Setting levels: control = 0, case = 1\n",
      "Setting direction: controls < cases\n",
      "Setting levels: control = 0, case = 1\n",
      "Setting direction: controls < cases\n",
      "Setting levels: control = 0, case = 1\n",
      "Setting direction: controls < cases\n",
      "Setting levels: control = 0, case = 1\n",
      "Setting direction: controls < cases\n"
     ]
    },
    {
     "name": "stdout",
     "output_type": "stream",
     "text": [
      "[1] \"INSPIRE\"\n"
     ]
    },
    {
     "name": "stderr",
     "output_type": "stream",
     "text": [
      "Setting levels: control = 0, case = 1\n",
      "Setting direction: controls < cases\n",
      "Setting levels: control = 0, case = 1\n",
      "Setting direction: controls < cases\n",
      "Setting levels: control = 0, case = 1\n",
      "Setting direction: controls < cases\n",
      "Setting levels: control = 0, case = 1\n",
      "Setting direction: controls < cases\n",
      "Setting levels: control = 0, case = 1\n",
      "Setting direction: controls < cases\n",
      "Setting levels: control = 0, case = 1\n",
      "Setting direction: controls < cases\n",
      "Setting levels: control = 0, case = 1\n",
      "Setting direction: controls < cases\n",
      "Setting levels: control = 0, case = 1\n",
      "Setting direction: controls < cases\n",
      "Setting levels: control = 0, case = 1\n",
      "Setting direction: controls < cases\n",
      "Setting levels: control = 0, case = 1\n",
      "Setting direction: controls < cases\n",
      "Setting levels: control = 0, case = 1\n",
      "Setting direction: controls < cases\n",
      "Setting levels: control = 0, case = 1\n",
      "Setting direction: controls < cases\n",
      "Setting levels: control = 0, case = 1\n",
      "Setting direction: controls < cases\n",
      "Setting levels: control = 0, case = 1\n",
      "Setting direction: controls < cases\n",
      "Setting levels: control = 0, case = 1\n",
      "Setting direction: controls < cases\n",
      "Setting levels: control = 0, case = 1\n",
      "Setting direction: controls < cases\n"
     ]
    },
    {
     "name": "stdout",
     "output_type": "stream",
     "text": [
      "[1] \"HMF-CPCT-lung\"\n"
     ]
    },
    {
     "name": "stderr",
     "output_type": "stream",
     "text": [
      "Setting levels: control = 0, case = 1\n",
      "Setting direction: controls < cases\n",
      "Setting levels: control = 0, case = 1\n",
      "Setting direction: controls < cases\n",
      "Setting levels: control = 0, case = 1\n",
      "Setting direction: controls < cases\n",
      "Setting levels: control = 0, case = 1\n",
      "Setting direction: controls < cases\n",
      "Setting levels: control = 0, case = 1\n",
      "Setting direction: controls < cases\n",
      "Setting levels: control = 0, case = 1\n",
      "Setting direction: controls < cases\n",
      "Setting levels: control = 0, case = 1\n",
      "Setting direction: controls < cases\n",
      "Setting levels: control = 0, case = 1\n",
      "Setting direction: controls < cases\n",
      "Setting levels: control = 0, case = 1\n",
      "Setting direction: controls < cases\n",
      "Setting levels: control = 0, case = 1\n",
      "Setting direction: controls < cases\n",
      "Setting levels: control = 0, case = 1\n",
      "Setting direction: controls < cases\n",
      "Setting levels: control = 0, case = 1\n",
      "Setting direction: controls < cases\n",
      "Setting levels: control = 0, case = 1\n",
      "Setting direction: controls < cases\n",
      "Setting levels: control = 0, case = 1\n",
      "Setting direction: controls < cases\n",
      "Setting levels: control = 0, case = 1\n",
      "Setting direction: controls < cases\n",
      "Setting levels: control = 0, case = 1\n",
      "Setting direction: controls < cases\n"
     ]
    },
    {
     "name": "stdout",
     "output_type": "stream",
     "text": [
      "[1] \"HMF-CPCT-skin\"\n"
     ]
    },
    {
     "name": "stderr",
     "output_type": "stream",
     "text": [
      "Setting levels: control = 0, case = 1\n",
      "Setting direction: controls < cases\n",
      "Setting levels: control = 0, case = 1\n",
      "Setting direction: controls < cases\n",
      "Setting levels: control = 0, case = 1\n",
      "Setting direction: controls < cases\n",
      "Setting levels: control = 0, case = 1\n",
      "Setting direction: controls < cases\n",
      "Setting levels: control = 0, case = 1\n",
      "Setting direction: controls < cases\n",
      "Setting levels: control = 0, case = 1\n",
      "Setting direction: controls < cases\n",
      "Setting levels: control = 0, case = 1\n",
      "Setting direction: controls < cases\n",
      "Setting levels: control = 0, case = 1\n",
      "Setting direction: controls < cases\n",
      "Setting levels: control = 0, case = 1\n",
      "Setting direction: controls < cases\n",
      "Setting levels: control = 0, case = 1\n",
      "Setting direction: controls < cases\n",
      "Setting levels: control = 0, case = 1\n",
      "Setting direction: controls < cases\n",
      "Setting levels: control = 0, case = 1\n",
      "Setting direction: controls < cases\n",
      "Setting levels: control = 0, case = 1\n",
      "Setting direction: controls < cases\n",
      "Setting levels: control = 0, case = 1\n",
      "Setting direction: controls < cases\n",
      "Setting levels: control = 0, case = 1\n",
      "Setting direction: controls < cases\n",
      "Setting levels: control = 0, case = 1\n",
      "Setting direction: controls < cases\n"
     ]
    },
    {
     "name": "stdout",
     "output_type": "stream",
     "text": [
      "[1] \"HMF-CPCT-other\"\n"
     ]
    },
    {
     "name": "stderr",
     "output_type": "stream",
     "text": [
      "Setting levels: control = 0, case = 1\n",
      "Setting direction: controls > cases\n",
      "Setting levels: control = 0, case = 1\n",
      "Setting direction: controls < cases\n",
      "Setting levels: control = 0, case = 1\n",
      "Setting direction: controls < cases\n",
      "Setting levels: control = 0, case = 1\n",
      "Setting direction: controls < cases\n",
      "Setting levels: control = 0, case = 1\n",
      "Setting direction: controls < cases\n",
      "Setting levels: control = 0, case = 1\n",
      "Setting direction: controls < cases\n",
      "Setting levels: control = 0, case = 1\n",
      "Setting direction: controls < cases\n",
      "Setting levels: control = 0, case = 1\n",
      "Setting direction: controls < cases\n",
      "Setting levels: control = 0, case = 1\n",
      "Setting direction: controls < cases\n",
      "Setting levels: control = 0, case = 1\n",
      "Setting direction: controls < cases\n",
      "Setting levels: control = 0, case = 1\n",
      "Setting direction: controls < cases\n",
      "Setting levels: control = 0, case = 1\n",
      "Setting direction: controls < cases\n",
      "Setting levels: control = 0, case = 1\n",
      "Setting direction: controls < cases\n",
      "Setting levels: control = 0, case = 1\n",
      "Setting direction: controls < cases\n",
      "Setting levels: control = 0, case = 1\n",
      "Setting direction: controls < cases\n",
      "Setting levels: control = 0, case = 1\n",
      "Setting direction: controls < cases\n"
     ]
    },
    {
     "name": "stdout",
     "output_type": "stream",
     "text": [
      "[1] \"HMF-CPCT-bladder\"\n"
     ]
    },
    {
     "name": "stderr",
     "output_type": "stream",
     "text": [
      "Setting levels: control = 0, case = 1\n",
      "Setting direction: controls > cases\n",
      "Setting levels: control = 0, case = 1\n",
      "Setting direction: controls < cases\n",
      "Setting levels: control = 0, case = 1\n",
      "Setting direction: controls < cases\n",
      "Setting levels: control = 0, case = 1\n",
      "Setting direction: controls < cases\n",
      "Setting levels: control = 0, case = 1\n",
      "Setting direction: controls < cases\n",
      "Setting levels: control = 0, case = 1\n",
      "Setting direction: controls < cases\n",
      "Setting levels: control = 0, case = 1\n",
      "Setting direction: controls < cases\n",
      "Setting levels: control = 0, case = 1\n",
      "Setting direction: controls < cases\n",
      "Setting levels: control = 0, case = 1\n",
      "Setting direction: controls < cases\n",
      "Setting levels: control = 0, case = 1\n",
      "Setting direction: controls < cases\n",
      "Setting levels: control = 0, case = 1\n",
      "Setting direction: controls < cases\n",
      "Setting levels: control = 0, case = 1\n",
      "Setting direction: controls < cases\n",
      "Setting levels: control = 0, case = 1\n",
      "Setting direction: controls < cases\n",
      "Setting levels: control = 0, case = 1\n",
      "Setting direction: controls < cases\n",
      "Setting levels: control = 0, case = 1\n",
      "Setting direction: controls < cases\n",
      "Setting levels: control = 0, case = 1\n",
      "Setting direction: controls < cases\n"
     ]
    },
    {
     "name": "stdout",
     "output_type": "stream",
     "text": [
      "[1] \"MARIATHAN\"\n"
     ]
    },
    {
     "name": "stderr",
     "output_type": "stream",
     "text": [
      "Setting levels: control = 0, case = 1\n",
      "Setting direction: controls < cases\n",
      "Setting levels: control = 0, case = 1\n",
      "Setting direction: controls < cases\n",
      "Setting levels: control = 0, case = 1\n",
      "Setting direction: controls < cases\n",
      "Setting levels: control = 0, case = 1\n",
      "Setting direction: controls < cases\n",
      "Setting levels: control = 0, case = 1\n",
      "Setting direction: controls < cases\n",
      "Setting levels: control = 0, case = 1\n",
      "Setting direction: controls < cases\n",
      "Setting levels: control = 0, case = 1\n",
      "Setting direction: controls < cases\n",
      "Setting levels: control = 0, case = 1\n",
      "Setting direction: controls < cases\n"
     ]
    },
    {
     "name": "stdout",
     "output_type": "stream",
     "text": [
      "[1] \"RAVI\"\n"
     ]
    },
    {
     "name": "stderr",
     "output_type": "stream",
     "text": [
      "Setting levels: control = 0, case = 1\n",
      "Setting direction: controls < cases\n",
      "Setting levels: control = 0, case = 1\n",
      "Setting direction: controls < cases\n",
      "Setting levels: control = 0, case = 1\n",
      "Setting direction: controls < cases\n",
      "Setting levels: control = 0, case = 1\n",
      "Setting direction: controls < cases\n",
      "Setting levels: control = 0, case = 1\n",
      "Setting direction: controls < cases\n",
      "Setting levels: control = 0, case = 1\n",
      "Setting direction: controls < cases\n",
      "Setting levels: control = 0, case = 1\n",
      "Setting direction: controls < cases\n",
      "Setting levels: control = 0, case = 1\n",
      "Setting direction: controls < cases\n",
      "Setting levels: control = 0, case = 1\n",
      "Setting direction: controls < cases\n",
      "Setting levels: control = 0, case = 1\n",
      "Setting direction: controls < cases\n",
      "Setting levels: control = 0, case = 1\n",
      "Setting direction: controls < cases\n",
      "Setting levels: control = 0, case = 1\n",
      "Setting direction: controls < cases\n",
      "Setting levels: control = 0, case = 1\n",
      "Setting direction: controls < cases\n",
      "Setting levels: control = 0, case = 1\n",
      "Setting direction: controls < cases\n",
      "Setting levels: control = 0, case = 1\n",
      "Setting direction: controls < cases\n",
      "Setting levels: control = 0, case = 1\n",
      "Setting direction: controls < cases\n"
     ]
    },
    {
     "name": "stdout",
     "output_type": "stream",
     "text": [
      "[1] \"PARKER-067\"\n"
     ]
    },
    {
     "name": "stderr",
     "output_type": "stream",
     "text": [
      "Setting levels: control = 0, case = 1\n",
      "Setting direction: controls > cases\n",
      "Setting levels: control = 0, case = 1\n",
      "Setting direction: controls < cases\n",
      "Setting levels: control = 0, case = 1\n",
      "Setting direction: controls < cases\n",
      "Setting levels: control = 0, case = 1\n",
      "Setting direction: controls > cases\n",
      "Setting levels: control = 0, case = 1\n",
      "Setting direction: controls < cases\n",
      "Setting levels: control = 0, case = 1\n",
      "Setting direction: controls < cases\n",
      "Setting levels: control = 0, case = 1\n",
      "Setting direction: controls < cases\n",
      "Setting levels: control = 0, case = 1\n",
      "Setting direction: controls > cases\n",
      "Setting levels: control = 0, case = 1\n",
      "Setting direction: controls < cases\n",
      "Setting levels: control = 0, case = 1\n",
      "Setting direction: controls < cases\n",
      "Setting levels: control = 0, case = 1\n",
      "Setting direction: controls < cases\n",
      "Setting levels: control = 0, case = 1\n",
      "Setting direction: controls < cases\n",
      "Setting levels: control = 0, case = 1\n",
      "Setting direction: controls < cases\n",
      "Setting levels: control = 0, case = 1\n",
      "Setting direction: controls < cases\n",
      "Setting levels: control = 0, case = 1\n",
      "Setting direction: controls < cases\n",
      "Setting levels: control = 0, case = 1\n",
      "Setting direction: controls < cases\n"
     ]
    },
    {
     "name": "stdout",
     "output_type": "stream",
     "text": [
      "[1] \"PARKER-gide\"\n"
     ]
    },
    {
     "name": "stderr",
     "output_type": "stream",
     "text": [
      "Setting levels: control = 0, case = 1\n",
      "Setting direction: controls < cases\n",
      "Setting levels: control = 0, case = 1\n",
      "Setting direction: controls < cases\n",
      "Setting levels: control = 0, case = 1\n",
      "Setting direction: controls < cases\n",
      "Setting levels: control = 0, case = 1\n",
      "Setting direction: controls < cases\n",
      "Setting levels: control = 0, case = 1\n",
      "Setting direction: controls < cases\n",
      "Setting levels: control = 0, case = 1\n",
      "Setting direction: controls < cases\n",
      "Setting levels: control = 0, case = 1\n",
      "Setting direction: controls < cases\n",
      "Setting levels: control = 0, case = 1\n",
      "Setting direction: controls < cases\n"
     ]
    },
    {
     "name": "stdout",
     "output_type": "stream",
     "text": [
      "[1] \"PARKER-liu\"\n"
     ]
    },
    {
     "name": "stderr",
     "output_type": "stream",
     "text": [
      "Setting levels: control = 0, case = 1\n",
      "Setting direction: controls < cases\n",
      "Setting levels: control = 0, case = 1\n",
      "Setting direction: controls < cases\n",
      "Setting levels: control = 0, case = 1\n",
      "Setting direction: controls < cases\n",
      "Setting levels: control = 0, case = 1\n",
      "Setting direction: controls < cases\n",
      "Setting levels: control = 0, case = 1\n",
      "Setting direction: controls < cases\n",
      "Setting levels: control = 0, case = 1\n",
      "Setting direction: controls < cases\n",
      "Setting levels: control = 0, case = 1\n",
      "Setting direction: controls < cases\n",
      "Setting levels: control = 0, case = 1\n",
      "Setting direction: controls < cases\n",
      "Setting levels: control = 0, case = 1\n",
      "Setting direction: controls < cases\n",
      "Setting levels: control = 0, case = 1\n",
      "Setting direction: controls > cases\n",
      "Setting levels: control = 0, case = 1\n",
      "Setting direction: controls > cases\n",
      "Setting levels: control = 0, case = 1\n",
      "Setting direction: controls < cases\n",
      "Setting levels: control = 0, case = 1\n",
      "Setting direction: controls < cases\n",
      "Setting levels: control = 0, case = 1\n",
      "Setting direction: controls < cases\n",
      "Setting levels: control = 0, case = 1\n",
      "Setting direction: controls < cases\n",
      "Setting levels: control = 0, case = 1\n",
      "Setting direction: controls < cases\n"
     ]
    },
    {
     "name": "stdout",
     "output_type": "stream",
     "text": [
      "[1] \"PARKER-038\"\n"
     ]
    },
    {
     "name": "stderr",
     "output_type": "stream",
     "text": [
      "Setting levels: control = 0, case = 1\n",
      "Setting direction: controls < cases\n",
      "Setting levels: control = 0, case = 1\n",
      "Setting direction: controls < cases\n",
      "Setting levels: control = 0, case = 1\n",
      "Setting direction: controls < cases\n",
      "Setting levels: control = 0, case = 1\n",
      "Setting direction: controls < cases\n",
      "Setting levels: control = 0, case = 1\n",
      "Setting direction: controls < cases\n",
      "Setting levels: control = 0, case = 1\n",
      "Setting direction: controls < cases\n",
      "Setting levels: control = 0, case = 1\n",
      "Setting direction: controls < cases\n",
      "Setting levels: control = 0, case = 1\n",
      "Setting direction: controls < cases\n",
      "Setting levels: control = 0, case = 1\n",
      "Setting direction: controls < cases\n",
      "Setting levels: control = 0, case = 1\n",
      "Setting direction: controls < cases\n",
      "Setting levels: control = 0, case = 1\n",
      "Setting direction: controls < cases\n",
      "Setting levels: control = 0, case = 1\n",
      "Setting direction: controls < cases\n",
      "Setting levels: control = 0, case = 1\n",
      "Setting direction: controls < cases\n",
      "Setting levels: control = 0, case = 1\n",
      "Setting direction: controls < cases\n",
      "Setting levels: control = 0, case = 1\n",
      "Setting direction: controls < cases\n",
      "Setting levels: control = 0, case = 1\n",
      "Setting direction: controls < cases\n"
     ]
    },
    {
     "name": "stdout",
     "output_type": "stream",
     "text": [
      "[1] \"Lyon-159067\"\n"
     ]
    },
    {
     "name": "stderr",
     "output_type": "stream",
     "text": [
      "Setting levels: control = 0, case = 1\n",
      "Setting direction: controls < cases\n",
      "Setting levels: control = 0, case = 1\n",
      "Setting direction: controls < cases\n",
      "Setting levels: control = 0, case = 1\n",
      "Setting direction: controls < cases\n",
      "Setting levels: control = 0, case = 1\n",
      "Setting direction: controls < cases\n",
      "Setting levels: control = 0, case = 1\n",
      "Setting direction: controls < cases\n",
      "Setting levels: control = 0, case = 1\n",
      "Setting direction: controls < cases\n",
      "Setting levels: control = 0, case = 1\n",
      "Setting direction: controls < cases\n",
      "Setting levels: control = 0, case = 1\n",
      "Setting direction: controls < cases\n"
     ]
    },
    {
     "name": "stdout",
     "output_type": "stream",
     "text": [
      "[1] \"Lyon-161537\"\n"
     ]
    },
    {
     "name": "stderr",
     "output_type": "stream",
     "text": [
      "Setting levels: control = 0, case = 1\n",
      "Setting direction: controls < cases\n",
      "Setting levels: control = 0, case = 1\n",
      "Setting direction: controls < cases\n",
      "Setting levels: control = 0, case = 1\n",
      "Setting direction: controls < cases\n",
      "Setting levels: control = 0, case = 1\n",
      "Setting direction: controls < cases\n",
      "Setting levels: control = 0, case = 1\n",
      "Setting direction: controls < cases\n",
      "Setting levels: control = 0, case = 1\n",
      "Setting direction: controls < cases\n",
      "Setting levels: control = 0, case = 1\n",
      "Setting direction: controls < cases\n",
      "Setting levels: control = 0, case = 1\n",
      "Setting direction: controls < cases\n"
     ]
    },
    {
     "name": "stdout",
     "output_type": "stream",
     "text": [
      "[1] \"External Studies\"\n"
     ]
    },
    {
     "name": "stderr",
     "output_type": "stream",
     "text": [
      "Setting levels: control = 0, case = 1\n",
      "Setting direction: controls < cases\n",
      "Setting levels: control = 0, case = 1\n",
      "Setting direction: controls < cases\n",
      "Setting levels: control = 0, case = 1\n",
      "Setting direction: controls < cases\n",
      "Setting levels: control = 0, case = 1\n",
      "Setting direction: controls < cases\n",
      "Setting levels: control = 0, case = 1\n",
      "Setting direction: controls < cases\n",
      "Setting levels: control = 0, case = 1\n",
      "Setting direction: controls < cases\n",
      "Setting levels: control = 0, case = 1\n",
      "Setting direction: controls < cases\n",
      "Setting levels: control = 0, case = 1\n",
      "Setting direction: controls < cases\n",
      "Setting levels: control = 0, case = 1\n",
      "Setting direction: controls < cases\n",
      "Setting levels: control = 0, case = 1\n",
      "Setting direction: controls < cases\n",
      "Setting levels: control = 0, case = 1\n",
      "Setting direction: controls < cases\n",
      "Setting levels: control = 0, case = 1\n",
      "Setting direction: controls < cases\n",
      "Setting levels: control = 0, case = 1\n",
      "Setting direction: controls < cases\n",
      "Setting levels: control = 0, case = 1\n",
      "Setting direction: controls < cases\n",
      "Setting levels: control = 0, case = 1\n",
      "Setting direction: controls < cases\n",
      "Setting levels: control = 0, case = 1\n",
      "Setting direction: controls < cases\n"
     ]
    },
    {
     "name": "stdout",
     "output_type": "stream",
     "text": [
      "[1] \"PARKER\"\n"
     ]
    },
    {
     "name": "stderr",
     "output_type": "stream",
     "text": [
      "Setting levels: control = 0, case = 1\n",
      "Setting direction: controls < cases\n",
      "Setting levels: control = 0, case = 1\n",
      "Setting direction: controls < cases\n",
      "Setting levels: control = 0, case = 1\n",
      "Setting direction: controls < cases\n",
      "Setting levels: control = 0, case = 1\n",
      "Setting direction: controls < cases\n",
      "Setting levels: control = 0, case = 1\n",
      "Setting direction: controls < cases\n",
      "Setting levels: control = 0, case = 1\n",
      "Setting direction: controls < cases\n",
      "Setting levels: control = 0, case = 1\n",
      "Setting direction: controls < cases\n",
      "Setting levels: control = 0, case = 1\n",
      "Setting direction: controls < cases\n",
      "Setting levels: control = 0, case = 1\n",
      "Setting direction: controls < cases\n",
      "Setting levels: control = 0, case = 1\n",
      "Setting direction: controls < cases\n",
      "Setting levels: control = 0, case = 1\n",
      "Setting direction: controls < cases\n",
      "Setting levels: control = 0, case = 1\n",
      "Setting direction: controls < cases\n",
      "Setting levels: control = 0, case = 1\n",
      "Setting direction: controls < cases\n",
      "Setting levels: control = 0, case = 1\n",
      "Setting direction: controls < cases\n",
      "Setting levels: control = 0, case = 1\n",
      "Setting direction: controls < cases\n",
      "Setting levels: control = 0, case = 1\n",
      "Setting direction: controls < cases\n"
     ]
    },
    {
     "name": "stdout",
     "output_type": "stream",
     "text": [
      "[1] \"Lyon\"\n"
     ]
    },
    {
     "name": "stderr",
     "output_type": "stream",
     "text": [
      "Setting levels: control = 0, case = 1\n",
      "Setting direction: controls > cases\n",
      "Setting levels: control = 0, case = 1\n",
      "Setting direction: controls > cases\n",
      "Setting levels: control = 0, case = 1\n",
      "Setting direction: controls < cases\n",
      "Setting levels: control = 0, case = 1\n",
      "Setting direction: controls < cases\n",
      "Setting levels: control = 0, case = 1\n",
      "Setting direction: controls < cases\n",
      "Setting levels: control = 0, case = 1\n",
      "Setting direction: controls < cases\n",
      "Setting levels: control = 0, case = 1\n",
      "Setting direction: controls > cases\n",
      "Setting levels: control = 0, case = 1\n",
      "Setting direction: controls > cases\n"
     ]
    },
    {
     "name": "stdout",
     "output_type": "stream",
     "text": [
      "[1] \"HMF-CPCT\"\n"
     ]
    },
    {
     "name": "stderr",
     "output_type": "stream",
     "text": [
      "Setting levels: control = 0, case = 1\n",
      "Setting direction: controls < cases\n",
      "Setting levels: control = 0, case = 1\n",
      "Setting direction: controls < cases\n",
      "Setting levels: control = 0, case = 1\n",
      "Setting direction: controls < cases\n",
      "Setting levels: control = 0, case = 1\n",
      "Setting direction: controls < cases\n",
      "Setting levels: control = 0, case = 1\n",
      "Setting direction: controls < cases\n",
      "Setting levels: control = 0, case = 1\n",
      "Setting direction: controls < cases\n",
      "Setting levels: control = 0, case = 1\n",
      "Setting direction: controls < cases\n",
      "Setting levels: control = 0, case = 1\n",
      "Setting direction: controls < cases\n",
      "Setting levels: control = 0, case = 1\n",
      "Setting direction: controls < cases\n",
      "Setting levels: control = 0, case = 1\n",
      "Setting direction: controls < cases\n",
      "Setting levels: control = 0, case = 1\n",
      "Setting direction: controls < cases\n",
      "Setting levels: control = 0, case = 1\n",
      "Setting direction: controls < cases\n",
      "Setting levels: control = 0, case = 1\n",
      "Setting direction: controls < cases\n",
      "Setting levels: control = 0, case = 1\n",
      "Setting direction: controls < cases\n",
      "Setting levels: control = 0, case = 1\n",
      "Setting direction: controls < cases\n",
      "Setting levels: control = 0, case = 1\n",
      "Setting direction: controls < cases\n"
     ]
    }
   ],
   "source": [
    "lets_see <- data.frame()\n",
    "for( i in unique(validation_measure $Study_cohort)){\n",
    "    print(i)\n",
    "    for ( j in unique(validation_measure$model)){\n",
    "        for( q in unique(validation_measure$build)){\n",
    "            for ( l in c(TRUE, FALSE)){\n",
    "                lets_see <- rbind(lets_see, measure( validation_measure, i, j, k=\"all\", l, q))\n",
    "            }\n",
    "        }\n",
    "    }\n",
    "}"
   ]
  },
  {
   "cell_type": "code",
   "execution_count": 5,
   "id": "e83fae4e",
   "metadata": {},
   "outputs": [
    {
     "name": "stderr",
     "output_type": "stream",
     "text": [
      "`summarise()` has grouped output by 'Study', 'model', 'tissue'. You can override using the `.groups` argument.\n"
     ]
    }
   ],
   "source": [
    "validation_summary <- (\n",
    "    lets_see \n",
    "        %>% group_by( Study, model, tissue, complete) \n",
    "        %>% summarise(auc = mean(auc, na.rm = TRUE), \n",
    "                      c_index = mean(c_index, na.rm = TRUE), \n",
    "                      non_response = mean(response_low, na.rm = TRUE))\n",
    "        %>% ungroup()\n",
    "        %>% rename( features = model)\n",
    "        %>% gather( model, mn, -Study, -features, -tissue, -complete )\n",
    ")"
   ]
  },
  {
   "cell_type": "markdown",
   "id": "23a99c0e",
   "metadata": {},
   "source": [
    "### 3 - Clean and pretty"
   ]
  },
  {
   "cell_type": "code",
   "execution_count": 6,
   "id": "9ce0d502",
   "metadata": {},
   "outputs": [],
   "source": [
    "name_map <- list(\n",
    "    \"tmb_bin\" = \"TMB Binary\",\n",
    "    \"base_bin\" = \"TMB Binary + PDL1\",\n",
    "    \"tmb\" = \"TMB\", \n",
    "    \"base\" = \"TMB + PDL1\",\n",
    "    \"rna\" = \"RNA only\",\n",
    "    \"no_tmb\" = \"Four factors (No TMB)\",\n",
    "    \"five_latent\" = \"Five Factors\",\n",
    "    \"fiver_latent_purity\" = \"Five Factor (purity adjusted)\"\n",
    ")\n",
    "validation_summary$clean_name <- factor(unlist(lapply(validation_summary$features, function(i) name_map[[i]])), levels = unname(unlist(name_map))) "
   ]
  },
  {
   "cell_type": "code",
   "execution_count": 7,
   "id": "12b42c98",
   "metadata": {},
   "outputs": [],
   "source": [
    "validation_summary$model <- ifelse( validation_summary$model == \"auc\", \"Best Overall Response (AUC)\", validation_summary$model)\n",
    "validation_summary$model <- ifelse( validation_summary$model == \"c_index\", \"Overall Survival (C-Index)\", validation_summary$model)\n",
    "validation_summary$model <- ifelse( validation_summary$model == \"non_response\", \"Predicted Non-responder\", validation_summary$model)\n",
    "validation_summary$five <- ifelse( validation_summary$features %in% c(\"five_latent\", \"no_tmb\"), \"yes\", \"no\")"
   ]
  },
  {
   "cell_type": "code",
   "execution_count": 8,
   "id": "3862b5b3",
   "metadata": {},
   "outputs": [],
   "source": [
    "validation_summary$model <- factor(validation_summary$model, levels = c(\"Best Overall Response (AUC)\",\"Overall Survival (C-Index)\",\"Predicted Non-responder\"))"
   ]
  },
  {
   "cell_type": "markdown",
   "id": "e3151e21",
   "metadata": {},
   "source": [
    "### 3 - add prediction groups"
   ]
  },
  {
   "cell_type": "code",
   "execution_count": 9,
   "id": "7226361a",
   "metadata": {},
   "outputs": [],
   "source": [
    "saveRDS(validation_summary, paste0(I_DIR, \"validation-summary.Rds\"))"
   ]
  }
 ],
 "metadata": {
  "kernelspec": {
   "display_name": "R",
   "language": "R",
   "name": "ir"
  },
  "language_info": {
   "codemirror_mode": "r",
   "file_extension": ".r",
   "mimetype": "text/x-r-source",
   "name": "R",
   "pygments_lexer": "r",
   "version": "3.6.1"
  }
 },
 "nbformat": 4,
 "nbformat_minor": 5
}
