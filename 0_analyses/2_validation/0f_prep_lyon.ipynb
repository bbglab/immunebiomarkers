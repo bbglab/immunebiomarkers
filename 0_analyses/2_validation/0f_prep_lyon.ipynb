{
 "cells": [
  {
   "cell_type": "markdown",
   "id": "0",
   "metadata": {},
   "source": [
    "### Lyon Validation\n",
    "- No imputation"
   ]
  },
  {
   "cell_type": "code",
   "execution_count": null,
   "id": "1",
   "metadata": {},
   "outputs": [],
   "source": [
    "options(repr.matrix.max.cols=150, repr.matrix.max.rows=200)"
   ]
  },
  {
   "cell_type": "code",
   "execution_count": null,
   "id": "2",
   "metadata": {},
   "outputs": [],
   "source": [
    "wd <- dirname(dirname(getwd()))\n",
    "source(paste0(wd,\"/mission_control/treasure_map.R\"))\n",
    "source(paste0(wd,\"/mission_control/helpers/validation/settings.R\"))\n",
    "\n",
    "library(tidyverse)\n",
    "library(stringr)\n",
    "library(survival)\n",
    "library(GEOquery)"
   ]
  },
  {
   "cell_type": "markdown",
   "id": "3",
   "metadata": {},
   "source": [
    "### 0 - Clinical"
   ]
  },
  {
   "cell_type": "markdown",
   "id": "4",
   "metadata": {},
   "source": [
    "##### Read data sets"
   ]
  },
  {
   "cell_type": "code",
   "execution_count": null,
   "id": "5",
   "metadata": {},
   "outputs": [],
   "source": [
    "I_DIR <- paste0(E_DIR, \"lyon/\")"
   ]
  },
  {
   "cell_type": "code",
   "execution_count": null,
   "id": "6",
   "metadata": {},
   "outputs": [],
   "source": [
    "gse159067 = getGEO(filename=paste0(I_DIR, \"clinical/GSE159067_series_matrix.txt\"))\n",
    "gse161537 = getGEO(filename=paste0(I_DIR, \"clinical/GSE161537_series_matrix.txt\"))\n",
    "gse162519 = getGEO(filename=paste0(I_DIR, \"clinical/GSE162519_series_matrix.txt\"))\n",
    "gse162520 = getGEO(filename=paste0(I_DIR, \"clinical/GSE162520_series_matrix.txt\"))"
   ]
  },
  {
   "cell_type": "code",
   "execution_count": null,
   "id": "7",
   "metadata": {},
   "outputs": [],
   "source": [
    "go159067 <- pData(gse159067@phenoData)\n",
    "go161537 <- pData(gse161537@phenoData)\n",
    "go162519 <- pData(gse162519@phenoData)\n",
    "go162520 <- pData(gse162520@phenoData)"
   ]
  },
  {
   "cell_type": "code",
   "execution_count": null,
   "id": "8",
   "metadata": {},
   "outputs": [],
   "source": [
    "#experimentData(gse162520)"
   ]
  },
  {
   "cell_type": "markdown",
   "id": "9",
   "metadata": {},
   "source": [
    "#### Helpers"
   ]
  },
  {
   "cell_type": "code",
   "execution_count": null,
   "id": "10",
   "metadata": {},
   "outputs": [],
   "source": [
    "cleaner1 <- function(i){\n",
    "    abc <- strsplit(as.character(i), \" \")[[1]]\n",
    "    abc[length(abc)]\n",
    "}\n",
    "binary_response <- function( recist ){\n",
    "    recist = as.character(recist)\n",
    "    if( recist %in% c(\"CR\",\"PR\")){\n",
    "        1\n",
    "    } else if ( recist %in% c(\"SD\", \"PD\")){\n",
    "        0\n",
    "    } else {\n",
    "        NA\n",
    "    }\n",
    "}"
   ]
  },
  {
   "cell_type": "markdown",
   "id": "11",
   "metadata": {},
   "source": [
    "#### Cohort 159067\n",
    "- CLB - IHN"
   ]
  },
  {
   "cell_type": "code",
   "execution_count": null,
   "id": "12",
   "metadata": {},
   "outputs": [],
   "source": [
    "dim(go159067)"
   ]
  },
  {
   "cell_type": "code",
   "execution_count": null,
   "id": "13",
   "metadata": {},
   "outputs": [],
   "source": [
    "get_id <- function(i) strsplit(strsplit(i,\"-\")[[1]][2], \"_\")[[1]][1]\n",
    "go159067$patient_id <- unlist(lapply( as.character(go159067$description), get_id))"
   ]
  },
  {
   "cell_type": "code",
   "execution_count": null,
   "id": "14",
   "metadata": {},
   "outputs": [],
   "source": [
    "go159067$age <- unlist(lapply( go159067$characteristics_ch1.1, cleaner1))\n",
    "go159067$sex <- unlist(lapply( go159067$characteristics_ch1.2, cleaner1))\n",
    "go159067$cpi_line <- unlist(lapply( go159067$characteristics_ch1.6, cleaner1))\n",
    "go159067$recist <- unlist(lapply( go159067$characteristics_ch1.7, cleaner1))\n",
    "go159067$bor <- unlist(lapply( go159067$recist, binary_response))\n",
    "go159067$os_month <- as.numeric(unlist(lapply( go159067$characteristics_ch1.8, cleaner1)))\n",
    "go159067$os_event <- as.numeric(unlist(lapply( go159067$characteristics_ch1.9, cleaner1)))"
   ]
  },
  {
   "cell_type": "code",
   "execution_count": null,
   "id": "15",
   "metadata": {},
   "outputs": [],
   "source": [
    "ready_159067 <- (\n",
    "    go159067 %>% transmute(\n",
    "                 patient_id,\n",
    "                 bor,\n",
    "                 os_days = os_month*(365/12),\n",
    "                 os_event,\n",
    "                 age, \n",
    "                 gender = sex, \n",
    "                 tissue = \"hnc\", \n",
    "                 tissue_full = \"metastatic\",\n",
    "                 pretreat = ifelse(cpi_line > 1, 1, 0),\n",
    "                 pretreat_comp = NA, \n",
    "                 Study = \"Lyon\",\n",
    "                 cohort = \"159067\"\n",
    "             )\n",
    ")"
   ]
  },
  {
   "cell_type": "markdown",
   "id": "16",
   "metadata": {},
   "source": [
    "#### Cohort 161537\n",
    "- NIVOBIO"
   ]
  },
  {
   "cell_type": "code",
   "execution_count": null,
   "id": "17",
   "metadata": {},
   "outputs": [],
   "source": [
    "dim(go161537)"
   ]
  },
  {
   "cell_type": "code",
   "execution_count": null,
   "id": "18",
   "metadata": {},
   "outputs": [],
   "source": [
    "go161537$patient_id <- unlist(lapply( go161537$characteristics_ch1, cleaner1))\n",
    "go161537$age <- unlist(lapply( go161537$characteristics_ch1.2, cleaner1))\n",
    "go161537$sex <- unlist(lapply( go161537$characteristics_ch1.3, cleaner1))\n",
    "go161537$cpi_line <- unlist(lapply( go161537$characteristics_ch1.4, cleaner1))\n",
    "go161537$recist <- unlist(lapply( go161537$characteristics_ch1.5, cleaner1))\n",
    "go161537$bor<- unlist(lapply( go161537$recist, binary_response))\n",
    "go161537$os_month <- as.numeric(unlist(lapply( go161537$characteristics_ch1.6, cleaner1)))\n",
    "go161537$os_event <- as.numeric(unlist(lapply( go161537$characteristics_ch1.7, cleaner1)))"
   ]
  },
  {
   "cell_type": "code",
   "execution_count": null,
   "id": "19",
   "metadata": {},
   "outputs": [],
   "source": [
    "ready_161537 <- (\n",
    "    go161537 %>% transmute(\n",
    "                 patient_id,\n",
    "                 bor,\n",
    "                 os_days = os_month*(365/12),\n",
    "                 os_event,\n",
    "                 age, \n",
    "                 gender = sex, \n",
    "                 tissue = \"lung\", \n",
    "                 tissue_full = \"metastatic\",\n",
    "                 pretreat = ifelse(cpi_line > 1, 1, 0),\n",
    "                 pretreat_comp = NA, \n",
    "                 Study = \"Lyon\",\n",
    "                 cohort = \"161537\"\n",
    "             )\n",
    ")"
   ]
  },
  {
   "cell_type": "markdown",
   "id": "20",
   "metadata": {},
   "source": [
    "#### Cohort 162520\n",
    "- CLB - Tumador"
   ]
  },
  {
   "cell_type": "code",
   "execution_count": null,
   "id": "21",
   "metadata": {},
   "outputs": [],
   "source": [
    "dim(go161537)"
   ]
  },
  {
   "cell_type": "code",
   "execution_count": null,
   "id": "22",
   "metadata": {},
   "outputs": [],
   "source": [
    "go162520$patient_id <- unlist(lapply( go162520$title, cleaner1))\n",
    "go162520$age <- unlist(lapply( go162520$characteristics_ch1.2, cleaner1))\n",
    "go162520$sex <- unlist(lapply( go162520$characteristics_ch1.3, cleaner1))\n",
    "go162520$os_month <- as.numeric(unlist(lapply( go162520$characteristics_ch1.4, cleaner1)))\n",
    "go162520$os_event <- as.numeric(unlist(lapply( go162520$characteristics_ch1.5, cleaner1)))"
   ]
  },
  {
   "cell_type": "code",
   "execution_count": null,
   "id": "23",
   "metadata": {},
   "outputs": [],
   "source": [
    "ready_162520 <- (\n",
    "    go162520 %>% transmute(\n",
    "                 patient_id,\n",
    "                 bor = NA,\n",
    "                 os_days = os_month*(365/12),\n",
    "                 os_event,\n",
    "                 age, \n",
    "                 gender = sex, \n",
    "                 tissue = \"lung\", \n",
    "                 tissue_full = \"non-advanced\",\n",
    "                 pretreat = NA,\n",
    "                 pretreat_comp = NA, \n",
    "                 Study = \"Lyon\",\n",
    "                 cohort = \"162520\"\n",
    "             )\n",
    ")"
   ]
  },
  {
   "cell_type": "markdown",
   "id": "24",
   "metadata": {},
   "source": [
    "#### Cohort 162519\n",
    "- CLB OSCC"
   ]
  },
  {
   "cell_type": "code",
   "execution_count": null,
   "id": "25",
   "metadata": {},
   "outputs": [],
   "source": [
    "dim(go162519)"
   ]
  },
  {
   "cell_type": "code",
   "execution_count": null,
   "id": "26",
   "metadata": {},
   "outputs": [],
   "source": [
    "go162519$age <- unlist(lapply( go162519$characteristics_ch1.2, cleaner1))\n",
    "go162519$sex <- unlist(lapply( go162519$characteristics_ch1.3, cleaner1))\n",
    "go162519$os_month <- as.numeric(unlist(lapply( go162519$characteristics_ch1.21, cleaner1)))\n",
    "go162519$os_event <- as.numeric(unlist(lapply( go162519$characteristics_ch1.22, cleaner1)))"
   ]
  },
  {
   "cell_type": "code",
   "execution_count": null,
   "id": "27",
   "metadata": {},
   "outputs": [],
   "source": [
    "ready_162519 <- (\n",
    "    go162519 %>% transmute(\n",
    "                 patient_id = title,\n",
    "                 bor = NA,\n",
    "                 os_days = os_month*(365/12),\n",
    "                 os_event,\n",
    "                 age, \n",
    "                 gender = sex, \n",
    "                 tissue = \"hnc\", \n",
    "                 tissue_full = \"non-advanced\",\n",
    "                 pretreat = NA,\n",
    "                 pretreat_comp = NA, \n",
    "                 Study = \"Lyon\",\n",
    "                 cohort = \"162519\"\n",
    "             )\n",
    ")"
   ]
  },
  {
   "cell_type": "markdown",
   "id": "28",
   "metadata": {},
   "source": [
    "#### Combine clinical data sets"
   ]
  },
  {
   "cell_type": "code",
   "execution_count": null,
   "id": "29",
   "metadata": {},
   "outputs": [],
   "source": [
    "clinical_go <- bind_rows(ready_159067, ready_161537, ready_162520, ready_162519) %>% filter(os_event %in% c(0,1))"
   ]
  },
  {
   "cell_type": "markdown",
   "id": "30",
   "metadata": {},
   "source": [
    "#### 1 - RNA data"
   ]
  },
  {
   "cell_type": "markdown",
   "id": "31",
   "metadata": {},
   "source": [
    "#### Helpers"
   ]
  },
  {
   "cell_type": "code",
   "execution_count": null,
   "id": "32",
   "metadata": {},
   "outputs": [],
   "source": [
    "sanity <- function(i) as.numeric(gsub(\",\", \".\", as.character(i)))"
   ]
  },
  {
   "cell_type": "markdown",
   "id": "33",
   "metadata": {},
   "source": [
    "#### Read files"
   ]
  },
  {
   "cell_type": "code",
   "execution_count": null,
   "id": "34",
   "metadata": {},
   "outputs": [],
   "source": [
    "rna159067 <- read.table( paste0(I_DIR,\"rna/GSE159067_IHN_log2cpm_data.txt\"), sep = \"\\t\", header = TRUE)\n",
    "rna161537 <- read.csv( paste0(I_DIR,\"rna/GSE161537_nivobio_log2cpm.csv\"),  sep = ';', header = TRUE)\n",
    "rna162519 <- read.csv( paste0(I_DIR,\"rna/GSE162519_GEO_data_LBCC1_log2CPM.csv\"), sep = \";\", header = TRUE)\n",
    "rna162520 <- read.csv( paste0(I_DIR,\"rna/GSE162520_GEO_data_TUMADOR_log2cpm.csv\"), sep = \";\", header = TRUE)"
   ]
  },
  {
   "cell_type": "code",
   "execution_count": null,
   "id": "35",
   "metadata": {},
   "outputs": [],
   "source": [
    "share <- list()\n",
    "share[['rna159067_log2']] <- data.frame(t(rna159067 %>% column_to_rownames(\"ID_REF\")))\n",
    "share[['rna161537_log2']] <- data.frame(t(rna161537 %>% column_to_rownames(\"Patient_number\"))) %>% mutate_all(sanity)\n",
    "share[['rna162519_log2']] <- data.frame(t(rna162519 %>% column_to_rownames(\"X\"))) %>% mutate_all(sanity)\n",
    "share[['rna162519_log2']] <- data.frame(t(rna162520 %>% column_to_rownames(\"X\"))) %>% mutate_all(sanity)\n",
    "saveRDS( share, paste0(TMP_DIR, \"rna_lyon.Rds\") )"
   ]
  },
  {
   "cell_type": "markdown",
   "id": "36",
   "metadata": {},
   "source": [
    "#### Cohort 159067\n",
    "- CLB - IHN"
   ]
  },
  {
   "cell_type": "code",
   "execution_count": null,
   "id": "37",
   "metadata": {},
   "outputs": [],
   "source": [
    "rna_ready_159067 <- (\n",
    "data.frame(\n",
    "    t( rna159067\n",
    "         %>% filter(ID_REF %in% unlist(gene_sets)) \n",
    "         %>% column_to_rownames(\"ID_REF\") \n",
    "      )) %>% rownames_to_column(\"patient_id\")\n",
    "    %>% select_if( names(.) %in% c(\"patient_id\", unlist(gene_sets)))\n",
    ")"
   ]
  },
  {
   "cell_type": "code",
   "execution_count": null,
   "id": "38",
   "metadata": {},
   "outputs": [],
   "source": [
    "get_clean_id <- function(i) strsplit(strsplit(i,\"\\\\.\")[[1]][2], \"_\")[[1]][1]\n",
    "rna_ready_159067$patient_id <- unlist(lapply(rna_ready_159067$patient_id, get_clean_id))"
   ]
  },
  {
   "cell_type": "code",
   "execution_count": null,
   "id": "39",
   "metadata": {},
   "outputs": [],
   "source": [
    "rna_ready_159067$prolif <- apply( rna_ready_159067 %>% select_if(names(.) %in% gene_sets$clusters$prolif), 1, mean)\n",
    "rna_ready_159067$tcell <- apply( rna_ready_159067 %>% select_if(names(.) %in% gene_sets$clusters$tcell), 1, mean)\n",
    "rna_ready_159067$tgfb <- apply( rna_ready_159067 %>% select_if(names(.) %in% gene_sets$clusters$tgfb), 1, mean)\n",
    "\n",
    "rna_ready_159067$prolif_cluster5 <- apply( rna_ready_159067 %>% select_if(names(.) %in% gene_sets$clusters5$prolif), 1, mean)\n",
    "rna_ready_159067$tcell_cluster5 <- apply( rna_ready_159067 %>% select_if(names(.) %in% gene_sets$clusters5$tcell), 1, mean)\n",
    "rna_ready_159067$tgfb_cluster5 <- apply( rna_ready_159067 %>% select_if(names(.) %in% gene_sets$clusters5$tgfb), 1, mean)\n",
    "\n",
    "rna_ready_159067$prolif_set <- apply( rna_ready_159067 %>% select_if(names(.) %in% gene_sets$sets1$prolif), 1, mean)\n",
    "rna_ready_159067$tcell_set <- apply( rna_ready_159067 %>% select_if(names(.) %in% gene_sets$sets1$tcell), 1, mean)\n",
    "rna_ready_159067$tgfb_set <- apply( rna_ready_159067 %>% select_if(names(.) %in% gene_sets$sets1$tgfb), 1, mean)"
   ]
  },
  {
   "cell_type": "markdown",
   "id": "40",
   "metadata": {},
   "source": [
    "#### Cohort 161537\n",
    "- NIVOBIO"
   ]
  },
  {
   "cell_type": "code",
   "execution_count": null,
   "id": "41",
   "metadata": {},
   "outputs": [],
   "source": [
    "rna_ready_161537 <- (\n",
    "data.frame(\n",
    "    t( rna161537\n",
    "         %>% filter(Patient_number %in% unlist(gene_sets)) \n",
    "         %>% column_to_rownames(\"Patient_number\") \n",
    "      )) %>% rownames_to_column(\"patient_id\")\n",
    "    %>% select_if( names(.) %in% c(\"patient_id\", unlist(gene_sets)))\n",
    ")"
   ]
  },
  {
   "cell_type": "code",
   "execution_count": null,
   "id": "42",
   "metadata": {},
   "outputs": [],
   "source": [
    "rna_ready_161537 <- rna_ready_161537 %>% mutate_at(vars(-patient_id), sanity)"
   ]
  },
  {
   "cell_type": "code",
   "execution_count": null,
   "id": "43",
   "metadata": {},
   "outputs": [],
   "source": [
    "rna_ready_161537$prolif <- apply( rna_ready_161537 %>% select_if(names(.) %in% gene_sets$clusters$prolif), 1, mean)\n",
    "rna_ready_161537$tcell <- apply( rna_ready_161537 %>% select_if(names(.) %in% gene_sets$clusters$tcell), 1, mean)\n",
    "rna_ready_161537$tgfb <- apply( rna_ready_161537 %>% select_if(names(.) %in% gene_sets$clusters$tgfb), 1, mean)\n",
    "\n",
    "rna_ready_161537$prolif_cluster5 <- apply( rna_ready_161537 %>% select_if(names(.) %in% gene_sets$clusters5$prolif), 1, mean)\n",
    "rna_ready_161537$tcell_cluster5 <- apply( rna_ready_161537 %>% select_if(names(.) %in% gene_sets$clusters5$tcell), 1, mean)\n",
    "rna_ready_161537$tgfb_cluster5 <- apply( rna_ready_161537 %>% select_if(names(.) %in% gene_sets$clusters5$tgfb), 1, mean)\n",
    "\n",
    "rna_ready_161537$prolif_set <- apply( rna_ready_161537 %>% select_if(names(.) %in% gene_sets$sets1$prolif), 1, mean)\n",
    "rna_ready_161537$tcell_set <- apply( rna_ready_161537 %>% select_if(names(.) %in% gene_sets$sets1$tcell), 1, mean)\n",
    "rna_ready_161537$tgfb_set <- apply( rna_ready_161537 %>% select_if(names(.) %in% gene_sets$sets1$tgfb), 1, mean)"
   ]
  },
  {
   "cell_type": "code",
   "execution_count": null,
   "id": "44",
   "metadata": {},
   "outputs": [],
   "source": [
    "rna_ready_161537$patient_id <- unlist(lapply(rna_ready_161537$patient_id, function(i) strsplit(i, \"X\")[[1]][2]))"
   ]
  },
  {
   "cell_type": "markdown",
   "id": "45",
   "metadata": {},
   "source": [
    "#### Cohort 162519\n",
    "- CLB OSCC"
   ]
  },
  {
   "cell_type": "code",
   "execution_count": null,
   "id": "46",
   "metadata": {},
   "outputs": [],
   "source": [
    "rna_ready_162519 <- (\n",
    "data.frame(\n",
    "    t( rna162519\n",
    "         %>% filter(X %in% unlist(gene_sets)) \n",
    "         %>% column_to_rownames(\"X\") \n",
    "      )) %>% rownames_to_column(\"patient_id\")\n",
    "    %>% select_if( names(.) %in% c(\"patient_id\", unlist(gene_sets)))\n",
    ")"
   ]
  },
  {
   "cell_type": "code",
   "execution_count": null,
   "id": "47",
   "metadata": {},
   "outputs": [],
   "source": [
    "rna_ready_162519 <- rna_ready_162519 %>% mutate_at(vars(-patient_id), sanity)"
   ]
  },
  {
   "cell_type": "code",
   "execution_count": null,
   "id": "48",
   "metadata": {},
   "outputs": [],
   "source": [
    "rna_ready_162519$prolif <- apply( rna_ready_162519 %>% select_if(names(.) %in% gene_sets$clusters$prolif), 1, mean)\n",
    "rna_ready_162519$tcell <- apply( rna_ready_162519 %>% select_if(names(.) %in% gene_sets$clusters$tcell), 1, mean)\n",
    "rna_ready_162519$tgfb <- apply( rna_ready_162519 %>% select_if(names(.) %in% gene_sets$clusters$tgfb), 1, mean)\n",
    "\n",
    "rna_ready_162519$prolif_cluster5 <- apply( rna_ready_162519 %>% select_if(names(.) %in% gene_sets$clusters5$prolif), 1, mean)\n",
    "rna_ready_162519$tcell_cluster5 <- apply( rna_ready_162519 %>% select_if(names(.) %in% gene_sets$clusters5$tcell), 1, mean)\n",
    "rna_ready_162519$tgfb_cluster5 <- apply( rna_ready_162519 %>% select_if(names(.) %in% gene_sets$clusters5$tgfb), 1, mean)\n",
    "\n",
    "rna_ready_162519$prolif_set <- apply( rna_ready_162519 %>% select_if(names(.) %in% gene_sets$sets1$prolif), 1, mean)\n",
    "rna_ready_162519$tcell_set <- apply( rna_ready_162519 %>% select_if(names(.) %in% gene_sets$sets1$tcell), 1, mean)\n",
    "rna_ready_162519$tgfb_set <- apply( rna_ready_162519 %>% select_if(names(.) %in% gene_sets$sets1$tgfb), 1, mean)"
   ]
  },
  {
   "cell_type": "markdown",
   "id": "49",
   "metadata": {},
   "source": [
    "#### Cohort 162520\n",
    "- CLB - Tumador"
   ]
  },
  {
   "cell_type": "code",
   "execution_count": null,
   "id": "50",
   "metadata": {},
   "outputs": [],
   "source": [
    "rna_ready_162520 <- (\n",
    "data.frame(\n",
    "    t( rna162520\n",
    "         %>% filter(X %in% unlist(gene_sets)) \n",
    "         %>% column_to_rownames(\"X\") \n",
    "      )) %>% rownames_to_column(\"patient_id\")\n",
    "    %>% select_if( names(.) %in% c(\"patient_id\", unlist(gene_sets)))\n",
    ")"
   ]
  },
  {
   "cell_type": "code",
   "execution_count": null,
   "id": "51",
   "metadata": {},
   "outputs": [],
   "source": [
    "rna_ready_162520 <- rna_ready_162520 %>% mutate_at(vars(-patient_id), sanity)"
   ]
  },
  {
   "cell_type": "code",
   "execution_count": null,
   "id": "52",
   "metadata": {},
   "outputs": [],
   "source": [
    "rna_ready_162520$prolif <- apply( rna_ready_162520 %>% select_if(names(.) %in% gene_sets$clusters$prolif), 1, mean)\n",
    "rna_ready_162520$tcell <- apply( rna_ready_162520 %>% select_if(names(.) %in% gene_sets$clusters$tcell), 1, mean)\n",
    "rna_ready_162520$tgfb <- apply( rna_ready_162520 %>% select_if(names(.) %in% gene_sets$clusters$tgfb), 1, mean)\n",
    "\n",
    "rna_ready_162520$prolif_cluster5 <- apply( rna_ready_162520 %>% select_if(names(.) %in% gene_sets$clusters5$prolif), 1, mean)\n",
    "rna_ready_162520$tcell_cluster5 <- apply( rna_ready_162520 %>% select_if(names(.) %in% gene_sets$clusters5$tcell), 1, mean)\n",
    "rna_ready_162520$tgfb_cluster5 <- apply( rna_ready_162520 %>% select_if(names(.) %in% gene_sets$clusters5$tgfb), 1, mean)\n",
    "\n",
    "rna_ready_162520$prolif_set <- apply( rna_ready_162520 %>% select_if(names(.) %in% gene_sets$sets1$prolif), 1, mean)\n",
    "rna_ready_162520$tcell_set <- apply( rna_ready_162520 %>% select_if(names(.) %in% gene_sets$sets1$tcell), 1, mean)\n",
    "rna_ready_162520$tgfb_set <- apply( rna_ready_162520 %>% select_if(names(.) %in% gene_sets$sets1$tgfb), 1, mean)"
   ]
  },
  {
   "cell_type": "markdown",
   "id": "53",
   "metadata": {},
   "source": [
    "#### Combine "
   ]
  },
  {
   "cell_type": "code",
   "execution_count": null,
   "id": "54",
   "metadata": {},
   "outputs": [],
   "source": [
    "rna_ready <- bind_rows(rna_ready_159067, rna_ready_161537, rna_ready_162519, rna_ready_162520)"
   ]
  },
  {
   "cell_type": "markdown",
   "id": "55",
   "metadata": {},
   "source": [
    "#### 2 - Somatic Data"
   ]
  },
  {
   "cell_type": "code",
   "execution_count": null,
   "id": "56",
   "metadata": {},
   "outputs": [],
   "source": [
    "#### To be added"
   ]
  },
  {
   "cell_type": "markdown",
   "id": "57",
   "metadata": {},
   "source": [
    "#### 3 - Combine and output"
   ]
  },
  {
   "cell_type": "code",
   "execution_count": null,
   "id": "58",
   "metadata": {},
   "outputs": [],
   "source": [
    "ok <- clinical_go %>% inner_join(rna_ready, by = \"patient_id\")\n",
    "ok$os <- ifelse( ok$os_event == 0, -ok$os_days, ok$os_days)"
   ]
  },
  {
   "cell_type": "code",
   "execution_count": null,
   "id": "59",
   "metadata": {},
   "outputs": [],
   "source": [
    "lyon_go <- (\n",
    "    ok \n",
    "        %>% transmute(\n",
    "          patient_id, \n",
    "          bor, \n",
    "          os = ifelse( os_event == 0, -os_days, os_days), \n",
    "          os_event,\n",
    "          os_days, \n",
    "          age, \n",
    "          gender, \n",
    "          tissue, \n",
    "          tissue_full,\n",
    "          tmb = NA,\n",
    "          tcell,\n",
    "          prolif, \n",
    "          tgfb,\n",
    "          tcell_cluster5,\n",
    "          prolif_cluster5, \n",
    "          tgfb_cluster5,\n",
    "          tcell_set, \n",
    "          prolif_set, \n",
    "          tgfb_set, \n",
    "          pdl1 = CD274,\n",
    "          pretreat, ## these cohorts are early stage..\n",
    "          pretreat_comp = NA, \n",
    "          purity = NA, \n",
    "          Study,\n",
    "          cohort,\n",
    "          extra = NA, \n",
    "          extra2 = NA\n",
    "    )\n",
    ")"
   ]
  },
  {
   "cell_type": "markdown",
   "id": "60",
   "metadata": {},
   "source": [
    "### 4 - Send it!"
   ]
  },
  {
   "cell_type": "code",
   "execution_count": null,
   "id": "61",
   "metadata": {},
   "outputs": [],
   "source": [
    "saveRDS( lyon_go, paste0( TMP_DIR, \"validation-lyon-go.Rds\"))"
   ]
  }
 ],
 "metadata": {
  "kernelspec": {
   "display_name": "R",
   "language": "R",
   "name": "ir"
  },
  "language_info": {
   "codemirror_mode": "r",
   "file_extension": ".r",
   "mimetype": "text/x-r-source",
   "name": "R",
   "pygments_lexer": "r",
   "version": "3.6.1"
  }
 },
 "nbformat": 4,
 "nbformat_minor": 5
}
