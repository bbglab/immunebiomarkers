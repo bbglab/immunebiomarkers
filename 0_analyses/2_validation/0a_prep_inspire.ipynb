{
 "cells": [
  {
   "cell_type": "code",
   "execution_count": null,
   "id": "0",
   "metadata": {},
   "outputs": [],
   "source": [
    "wd <- dirname(dirname(getwd()))\n",
    "source(paste0(wd,\"/mission_control/treasure_map.R\"))\n",
    "source(paste0(wd,\"/mission_control/helpers/validation/settings.R\"))\n",
    "library(tidyverse)"
   ]
  },
  {
   "cell_type": "markdown",
   "id": "1",
   "metadata": {},
   "source": [
    "### 0 - Load Inspire\n",
    "- Mutational and clinical data"
   ]
  },
  {
   "cell_type": "code",
   "execution_count": null,
   "id": "2",
   "metadata": {},
   "outputs": [],
   "source": [
    "load(paste0( E_DIR, \"inspire/inspire-genomics/data/RData/PanCanMut.data.RData\"))"
   ]
  },
  {
   "cell_type": "markdown",
   "id": "3",
   "metadata": {},
   "source": [
    "- Transcriptomics"
   ]
  },
  {
   "cell_type": "code",
   "execution_count": null,
   "id": "4",
   "metadata": {},
   "outputs": [],
   "source": [
    "rna <- read.table( paste0(E_DIR, \"inspire/inspire-genomics/data/Source Data/SourceData_Fig4/gene-expression-matrix-TPM-final.tsv\")) "
   ]
  },
  {
   "cell_type": "markdown",
   "id": "5",
   "metadata": {},
   "source": [
    "### 1 - Curate Clinical Data"
   ]
  },
  {
   "cell_type": "code",
   "execution_count": null,
   "id": "6",
   "metadata": {},
   "outputs": [],
   "source": [
    "pt.dat$bor <- pt.dat[,\"PR/CR\"]\n",
    "pt.dat$clinical_recist <- pt.dat[,\"Best overall response\"]\n",
    "pt.dat$benefit <- pt.dat[,\"Clinical Benefit\"]"
   ]
  },
  {
   "cell_type": "code",
   "execution_count": null,
   "id": "7",
   "metadata": {},
   "outputs": [],
   "source": [
    "clinical <- \n",
    "pt.dat %>% \n",
    "  rownames_to_column(\"patient_id\") %>% \n",
    "  transmute( \n",
    "     patient_id, \n",
    "     gender = SEX, \n",
    "     age = AGE, \n",
    "     tissue = COHORT, \n",
    "     tissue_full = COHORT,\n",
    "     pretreat = PRIOR_SYSTEMIC_THERAPY, \n",
    "     bor,\n",
    "     pfs_event = PFS_EVENT, \n",
    "     pfs_days = PFS, \n",
    "     os_event = OS_EVENT, \n",
    "     os_days = OS,\n",
    "     clinical_recist,\n",
    "     benefit, \n",
    "     biopsy_location = NA,\n",
    "     mechanism = \"pd\")"
   ]
  },
  {
   "cell_type": "markdown",
   "id": "8",
   "metadata": {},
   "source": [
    "### 2 - Curate Mutational Data"
   ]
  },
  {
   "cell_type": "code",
   "execution_count": null,
   "id": "9",
   "metadata": {},
   "outputs": [],
   "source": [
    "mut <- \n",
    "suv.dat %>% \n",
    "transmute(\n",
    "     patient_id = pt,\n",
    "     tmb_raw = ns.per.Mb, \n",
    "     tmb = log(ns.per.Mb + 1),\n",
    "     OS, PFS, OS_EVENT, PFS_EVENT, response)"
   ]
  },
  {
   "cell_type": "code",
   "execution_count": null,
   "id": "10",
   "metadata": {},
   "outputs": [],
   "source": [
    "clin_mut <- clinical %>% left_join(mut, by = \"patient_id\")"
   ]
  },
  {
   "cell_type": "markdown",
   "id": "11",
   "metadata": {},
   "source": [
    "### 3 - Load and Curate RNA"
   ]
  },
  {
   "cell_type": "markdown",
   "id": "12",
   "metadata": {},
   "source": [
    "#### save for further analysis \n",
    "- Used for outside correlation analysis"
   ]
  },
  {
   "cell_type": "code",
   "execution_count": null,
   "id": "13",
   "metadata": {},
   "outputs": [],
   "source": [
    "tmp <- data.frame(t(rna %>% rownames_to_column(\"gene\")))\n",
    "rna_send <- tmp[-1,]\n",
    "names(rna_send) <- unname(unlist(lapply(tmp[1,], as.character)))\n",
    "rna_send <- log(data.frame(lapply(rna_send, as.numeric)))\n",
    "saveRDS( rna_send, paste0( TMP_DIR, \"rna_validation_inspire.Rds\"))"
   ]
  },
  {
   "cell_type": "markdown",
   "id": "14",
   "metadata": {},
   "source": [
    "#### main analysis"
   ]
  },
  {
   "cell_type": "code",
   "execution_count": null,
   "id": "15",
   "metadata": {},
   "outputs": [],
   "source": [
    "express <- rna %>% rownames_to_column(\"gene\") %>% filter( gene %in% unlist(gene_sets))"
   ]
  },
  {
   "cell_type": "code",
   "execution_count": null,
   "id": "16",
   "metadata": {},
   "outputs": [],
   "source": [
    "rna <- data.frame(t(express)[-1,])\n",
    "colnames(rna) <- t(express)[1,]\n",
    "patients <- rna %>% rownames_to_column(\"patient_id\") %>% pull(patient_id)\n",
    "rna <- log(data.frame(lapply(rna, as.numeric)))\n",
    "rna$patient_id <- patients "
   ]
  },
  {
   "cell_type": "markdown",
   "id": "17",
   "metadata": {},
   "source": [
    "### 3 - Combine"
   ]
  },
  {
   "cell_type": "code",
   "execution_count": null,
   "id": "18",
   "metadata": {},
   "outputs": [],
   "source": [
    "rna$id <- unlist(lapply( strsplit(rna$patient_id, \"\\\\.\"), function(i) paste( i[c(2,3)], collapse = \"-\") ))\n",
    "rna_mns <- rna %>% select(-patient_id) %>% group_by(id) %>% summarise_all( mean)"
   ]
  },
  {
   "cell_type": "code",
   "execution_count": null,
   "id": "19",
   "metadata": {},
   "outputs": [],
   "source": [
    "clin_mut$id <- unlist(lapply( strsplit(clin_mut$patient_id, \"-\"), function(i) paste( i[c(2,3)], collapse = \"-\") ))\n",
    "together <- clin_mut %>% inner_join( rna_mns, by = \"id\") %>% select(-contains(\"patient\"))"
   ]
  },
  {
   "cell_type": "markdown",
   "id": "20",
   "metadata": {},
   "source": [
    "#### Compute Gene Sets"
   ]
  },
  {
   "cell_type": "code",
   "execution_count": null,
   "id": "21",
   "metadata": {},
   "outputs": [],
   "source": [
    "together$tcell <- apply( together %>% select( any_of( gene_sets$clusters$tcell ) ), 1, mean, na.rm = TRUE)\n",
    "together$tgfb <- apply( together %>% select( any_of( gene_sets$clusters$tgfb ) ), 1, mean, na.rm = TRUE)\n",
    "together$prolif <- apply( together %>% select( any_of( gene_sets$clusters$prolif) ), 1, mean, na.rm = TRUE)\n",
    "\n",
    "together$tcell_cluster5 <- apply( together %>% select( any_of( gene_sets$clusters5$tcell ) ), 1, mean, na.rm = TRUE)\n",
    "together$tgfb_cluster5 <- apply( together %>% select( any_of( gene_sets$clusters5$tgfb ) ), 1, mean, na.rm = TRUE)\n",
    "together$prolif_cluster5 <- apply( together %>% select( any_of( gene_sets$clusters5$prolif) ), 1, mean, na.rm = TRUE)\n",
    "\n",
    "together$tcell_set <- apply( together %>% select( any_of( gene_sets$sets1$tcell ) ), 1, mean, na.rm = TRUE)\n",
    "together$tgfb_set <- apply( together %>% select( any_of( gene_sets$sets1$tgfb ) ), 1, mean, na.rm = TRUE)\n",
    "together$prolif_set <- apply( together %>% select( any_of( gene_sets$sets1$prolif) ), 1, mean, na.rm = TRUE)"
   ]
  },
  {
   "cell_type": "markdown",
   "id": "22",
   "metadata": {},
   "source": [
    "#### Output Data"
   ]
  },
  {
   "cell_type": "code",
   "execution_count": null,
   "id": "23",
   "metadata": {},
   "outputs": [],
   "source": [
    "inspire_go <-\n",
    "together %>% \n",
    "transmute(\n",
    "  patient_id = id, \n",
    "  bor, \n",
    "  os = ifelse( os_event == 0, -os_days, os_days), \n",
    "  os_event,\n",
    "  os_days, \n",
    "  age, \n",
    "  gender, \n",
    "  tissue, \n",
    "  tissue_full = tissue,\n",
    "  tmb,\n",
    "  tcell, \n",
    "  prolif, \n",
    "  tgfb,\n",
    "  tcell_cluster5,\n",
    "  tgfb_cluster5,\n",
    "  prolif_cluster5,  \n",
    "  tcell_set,\n",
    "  prolif_set, \n",
    "  tgfb_set,\n",
    "  pdl1 = CD274,\n",
    "  pretreat,\n",
    "  pretreat_comp = NA, \n",
    "  purity = NA,\n",
    "  Study = \"INSPIRE\")"
   ]
  },
  {
   "cell_type": "markdown",
   "id": "24",
   "metadata": {},
   "source": [
    "### 4 - Send it!"
   ]
  },
  {
   "cell_type": "code",
   "execution_count": null,
   "id": "25",
   "metadata": {},
   "outputs": [],
   "source": [
    "saveRDS( inspire_go, paste0( TMP_DIR, \"validation-inspire-go.Rds\"))"
   ]
  }
 ],
 "metadata": {
  "kernelspec": {
   "display_name": "R",
   "language": "R",
   "name": "ir"
  },
  "language_info": {
   "codemirror_mode": "r",
   "file_extension": ".r",
   "mimetype": "text/x-r-source",
   "name": "R",
   "pygments_lexer": "r",
   "version": "3.6.1"
  }
 },
 "nbformat": 4,
 "nbformat_minor": 5
}
