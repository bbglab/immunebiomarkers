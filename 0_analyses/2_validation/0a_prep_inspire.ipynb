{
 "cells": [
  {
   "cell_type": "code",
   "execution_count": 1,
   "id": "76913b27",
   "metadata": {},
   "outputs": [
    {
     "name": "stderr",
     "output_type": "stream",
     "text": [
      "Registered S3 method overwritten by 'rvest':\n",
      "  method            from\n",
      "  read_xml.response xml2\n",
      "── Attaching packages ──────────────────────────────────────────────────────────────────────────────────────────────────────────────────────────────────────────────────────────────────────────── tidyverse 1.2.1 ──\n",
      "✔ ggplot2 3.3.6     ✔ purrr   0.3.4\n",
      "✔ tibble  3.1.2     ✔ dplyr   1.0.6\n",
      "✔ tidyr   1.1.3     ✔ stringr 1.4.0\n",
      "✔ readr   1.3.1     ✔ forcats 0.5.1\n",
      "Warning message:\n",
      "“package ‘tibble’ was built under R version 3.6.3”Warning message:\n",
      "“package ‘tidyr’ was built under R version 3.6.3”Warning message:\n",
      "“package ‘purrr’ was built under R version 3.6.3”Warning message:\n",
      "“package ‘dplyr’ was built under R version 3.6.3”Warning message:\n",
      "“package ‘forcats’ was built under R version 3.6.3”── Conflicts ─────────────────────────────────────────────────────────────────────────────────────────────────────────────────────────────────────────────────────────────────────────────── tidyverse_conflicts() ──\n",
      "✖ dplyr::filter() masks stats::filter()\n",
      "✖ dplyr::lag()    masks stats::lag()\n"
     ]
    }
   ],
   "source": [
    "wd <- dirname(dirname(getwd()))\n",
    "source(paste0(wd,\"/mission_control/treasure_map.R\"))\n",
    "source(paste0(wd,\"/mission_control/helpers/validation/settings.R\"))\n",
    "library(tidyverse)"
   ]
  },
  {
   "cell_type": "markdown",
   "id": "887c40a1",
   "metadata": {},
   "source": [
    "### 0 - Load Inspire\n",
    "- Mutational and clinical data"
   ]
  },
  {
   "cell_type": "code",
   "execution_count": 2,
   "id": "4c1eda4c",
   "metadata": {},
   "outputs": [],
   "source": [
    "load(paste0( E_DIR, \"inspire/inspire-genomics/data/RData/PanCanMut.data.RData\"))"
   ]
  },
  {
   "cell_type": "markdown",
   "id": "43421bf2",
   "metadata": {},
   "source": [
    "- Transcriptomics"
   ]
  },
  {
   "cell_type": "code",
   "execution_count": 3,
   "id": "be674b9f",
   "metadata": {},
   "outputs": [],
   "source": [
    "rna <- read.table( paste0(E_DIR, \"inspire/inspire-genomics/data/Source Data/SourceData_Fig4/gene-expression-matrix-TPM-final.tsv\")) "
   ]
  },
  {
   "cell_type": "markdown",
   "id": "f60eb4e8",
   "metadata": {},
   "source": [
    "### 1 - Curate Clinical Data"
   ]
  },
  {
   "cell_type": "code",
   "execution_count": 4,
   "id": "25cd2b4a",
   "metadata": {},
   "outputs": [],
   "source": [
    "pt.dat$bor <- pt.dat[,\"PR/CR\"]\n",
    "pt.dat$clinical_recist <- pt.dat[,\"Best overall response\"]\n",
    "pt.dat$benefit <- pt.dat[,\"Clinical Benefit\"]"
   ]
  },
  {
   "cell_type": "code",
   "execution_count": 5,
   "id": "dd83667f",
   "metadata": {},
   "outputs": [],
   "source": [
    "clinical <- (pt.dat \n",
    "     %>% rownames_to_column(\"patient_id\")\n",
    "     %>% transmute( \n",
    "         patient_id, \n",
    "         gender = SEX, \n",
    "         age = AGE, \n",
    "         tissue = COHORT, \n",
    "         tissue_full = COHORT,\n",
    "         pretreat = PRIOR_SYSTEMIC_THERAPY, \n",
    "         bor,\n",
    "         pfs_event = PFS_EVENT, \n",
    "         pfs_days = PFS, \n",
    "         os_event = OS_EVENT, \n",
    "         os_days = OS,\n",
    "         clinical_recist,\n",
    "         benefit, \n",
    "         biopsy_location = NA,\n",
    "         mechanism = \"pd\"\n",
    "     )\n",
    ")"
   ]
  },
  {
   "cell_type": "markdown",
   "id": "8c50f5ab",
   "metadata": {},
   "source": [
    "### 2 - Curate Mutational Data"
   ]
  },
  {
   "cell_type": "code",
   "execution_count": 6,
   "id": "9908e137",
   "metadata": {},
   "outputs": [],
   "source": [
    "mut <- suv.dat %>% transmute(\n",
    "     patient_id = pt,\n",
    "     tmb_raw = ns.per.Mb, \n",
    "     tmb = log(ns.per.Mb + 1),\n",
    "     OS, PFS, OS_EVENT, PFS_EVENT, response\n",
    " )"
   ]
  },
  {
   "cell_type": "code",
   "execution_count": 7,
   "id": "f38b3ace",
   "metadata": {},
   "outputs": [],
   "source": [
    "clin_mut <- clinical %>% left_join(mut, by = \"patient_id\")"
   ]
  },
  {
   "cell_type": "markdown",
   "id": "478341c2",
   "metadata": {},
   "source": [
    "### 3 - Load and Curate RNA"
   ]
  },
  {
   "cell_type": "markdown",
   "id": "25d62dda",
   "metadata": {},
   "source": [
    "#### save for further analysis \n",
    "- Used for outside correlation analysis"
   ]
  },
  {
   "cell_type": "code",
   "execution_count": 8,
   "id": "e4566bc2",
   "metadata": {},
   "outputs": [],
   "source": [
    "tmp <- data.frame(t(rna %>% rownames_to_column(\"gene\")))\n",
    "rna_send <- tmp[-1,]\n",
    "names(rna_send) <- unname(unlist(lapply(tmp[1,], as.character)))\n",
    "rna_send <- log(data.frame(lapply(rna_send, as.numeric)))\n",
    "saveRDS( rna_send, paste0( REF_DIR, \"rna_validation_inspire.Rds\"))"
   ]
  },
  {
   "cell_type": "markdown",
   "id": "ea29ce89",
   "metadata": {},
   "source": [
    "#### main analysis"
   ]
  },
  {
   "cell_type": "code",
   "execution_count": 9,
   "id": "da531ec5",
   "metadata": {},
   "outputs": [],
   "source": [
    "express <- (\n",
    "    rna\n",
    "        %>% rownames_to_column(\"gene\")\n",
    "        %>% filter( gene %in% unlist(gene_sets))\n",
    ")"
   ]
  },
  {
   "cell_type": "code",
   "execution_count": 10,
   "id": "6b989a0b",
   "metadata": {},
   "outputs": [],
   "source": [
    "rna <- data.frame(t(express)[-1,])\n",
    "colnames(rna) <- t(express)[1,]\n",
    "patients <- rna %>% rownames_to_column(\"patient_id\") %>% pull(patient_id)\n",
    "rna <- log(data.frame(lapply(rna, as.numeric)))\n",
    "rna$patient_id <- patients "
   ]
  },
  {
   "cell_type": "markdown",
   "id": "ee92a0c6",
   "metadata": {},
   "source": [
    "### 3 - Combine"
   ]
  },
  {
   "cell_type": "code",
   "execution_count": 11,
   "id": "68653498",
   "metadata": {},
   "outputs": [],
   "source": [
    "rna$id <- unlist(lapply( strsplit(rna$patient_id, \"\\\\.\"), function(i) paste( i[c(2,3)], collapse = \"-\") ))\n",
    "rna_mns <- rna %>% select(-patient_id) %>% group_by(id) %>% summarise_all( mean)"
   ]
  },
  {
   "cell_type": "code",
   "execution_count": 12,
   "id": "a665ad20",
   "metadata": {},
   "outputs": [],
   "source": [
    "clin_mut$id <- unlist(lapply( strsplit(clin_mut$patient_id, \"-\"), function(i) paste( i[c(2,3)], collapse = \"-\") ))\n",
    "together <- clin_mut %>% inner_join( rna_mns, by = \"id\") %>% select(-contains(\"patient\"))"
   ]
  },
  {
   "cell_type": "markdown",
   "id": "0e6915d0",
   "metadata": {},
   "source": [
    "#### Compute Gene Sets"
   ]
  },
  {
   "cell_type": "code",
   "execution_count": 13,
   "id": "eaab1bd3",
   "metadata": {},
   "outputs": [
    {
     "data": {
      "text/html": [
       "<ol class=list-inline>\n",
       "\t<li>'sets1'</li>\n",
       "\t<li>'clusters'</li>\n",
       "\t<li>'clusters5'</li>\n",
       "\t<li>'clusters10'</li>\n",
       "</ol>\n"
      ],
      "text/latex": [
       "\\begin{enumerate*}\n",
       "\\item 'sets1'\n",
       "\\item 'clusters'\n",
       "\\item 'clusters5'\n",
       "\\item 'clusters10'\n",
       "\\end{enumerate*}\n"
      ],
      "text/markdown": [
       "1. 'sets1'\n",
       "2. 'clusters'\n",
       "3. 'clusters5'\n",
       "4. 'clusters10'\n",
       "\n",
       "\n"
      ],
      "text/plain": [
       "[1] \"sets1\"      \"clusters\"   \"clusters5\"  \"clusters10\""
      ]
     },
     "metadata": {},
     "output_type": "display_data"
    }
   ],
   "source": [
    "names(gene_sets)"
   ]
  },
  {
   "cell_type": "code",
   "execution_count": 14,
   "id": "8326bab7",
   "metadata": {},
   "outputs": [],
   "source": [
    "together$tcell <- apply( together %>% select( any_of( gene_sets$clusters$tcell ) ), 1, mean, na.rm = TRUE)\n",
    "together$tgfb <- apply( together %>% select( any_of( gene_sets$clusters$tgfb ) ), 1, mean, na.rm = TRUE)\n",
    "together$prolif <- apply( together %>% select( any_of( gene_sets$clusters$prolif) ), 1, mean, na.rm = TRUE)\n",
    "\n",
    "together$tcell_cluster5 <- apply( together %>% select( any_of( gene_sets$clusters5$tcell ) ), 1, mean, na.rm = TRUE)\n",
    "together$tgfb_cluster5 <- apply( together %>% select( any_of( gene_sets$clusters5$tgfb ) ), 1, mean, na.rm = TRUE)\n",
    "together$prolif_cluster5 <- apply( together %>% select( any_of( gene_sets$clusters5$prolif) ), 1, mean, na.rm = TRUE)\n",
    "\n",
    "together$tcell_set <- apply( together %>% select( any_of( gene_sets$sets1$tcell ) ), 1, mean, na.rm = TRUE)\n",
    "together$tgfb_set <- apply( together %>% select( any_of( gene_sets$sets1$tgfb ) ), 1, mean, na.rm = TRUE)\n",
    "together$prolif_set <- apply( together %>% select( any_of( gene_sets$sets1$prolif) ), 1, mean, na.rm = TRUE)"
   ]
  },
  {
   "cell_type": "markdown",
   "id": "59a4ed5c",
   "metadata": {},
   "source": [
    "#### Output Data"
   ]
  },
  {
   "cell_type": "code",
   "execution_count": 15,
   "id": "e944d9d5",
   "metadata": {},
   "outputs": [],
   "source": [
    "inspire_go <- (\n",
    "    together \n",
    "        %>% transmute(\n",
    "          patient_id = id, \n",
    "          bor, \n",
    "          os = ifelse( os_event == 0, -os_days, os_days), \n",
    "          os_event,\n",
    "          os_days, \n",
    "          age, \n",
    "          gender, \n",
    "          tissue, \n",
    "          tissue_full = tissue,\n",
    "          tmb,\n",
    "          tcell, \n",
    "          prolif, \n",
    "          tgfb,\n",
    "          tcell_cluster5,\n",
    "          tgfb_cluster5,\n",
    "          prolif_cluster5,  \n",
    "          tcell_set,\n",
    "          prolif_set, \n",
    "          tgfb_set,\n",
    "          pdl1 = CD274,\n",
    "          pretreat,\n",
    "          pretreat_comp = NA, \n",
    "          purity = NA,\n",
    "          Study = \"INSPIRE\"\n",
    "    )\n",
    ")"
   ]
  },
  {
   "cell_type": "markdown",
   "id": "0119343e",
   "metadata": {},
   "source": [
    "### 4 - Send it!"
   ]
  },
  {
   "cell_type": "code",
   "execution_count": 16,
   "id": "6fd7cd43",
   "metadata": {},
   "outputs": [],
   "source": [
    "saveRDS( inspire_go, paste0( TMP_DIR, \"validation-inspire-go.Rds\"))"
   ]
  }
 ],
 "metadata": {
  "kernelspec": {
   "display_name": "R",
   "language": "R",
   "name": "ir"
  },
  "language_info": {
   "codemirror_mode": "r",
   "file_extension": ".r",
   "mimetype": "text/x-r-source",
   "name": "R",
   "pygments_lexer": "r",
   "version": "3.6.1"
  }
 },
 "nbformat": 4,
 "nbformat_minor": 5
}
