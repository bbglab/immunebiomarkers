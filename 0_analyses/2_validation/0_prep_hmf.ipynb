{
 "cells": [
  {
   "cell_type": "code",
   "execution_count": null,
   "id": "0",
   "metadata": {},
   "outputs": [],
   "source": [
    "wd <- dirname(dirname(getwd()))\n",
    "source(paste0(wd,\"/mission_control/treasure_map.R\"))\n",
    "source(paste0(wd,\"/mission_control/helpers/validation/settings.R\"))\n",
    "library(tidyverse)"
   ]
  },
  {
   "cell_type": "markdown",
   "id": "1",
   "metadata": {},
   "source": [
    "### 0 - Read in CPI data"
   ]
  },
  {
   "cell_type": "code",
   "execution_count": null,
   "id": "2",
   "metadata": {},
   "outputs": [],
   "source": [
    "all <- readRDS(paste0(I_DIR, \"cpi_go.Rds\"))"
   ]
  },
  {
   "cell_type": "markdown",
   "id": "3",
   "metadata": {},
   "source": [
    "### 1 - Build base data for HMF validation"
   ]
  },
  {
   "cell_type": "code",
   "execution_count": null,
   "id": "4",
   "metadata": {},
   "outputs": [],
   "source": [
    "all$os <- ifelse( all$Survival_os_event == 0, \n",
    "                 -all$Survival_time_to_os_event, \n",
    "                  all$Survival_time_to_os_event)"
   ]
  },
  {
   "cell_type": "code",
   "execution_count": null,
   "id": "5",
   "metadata": {},
   "outputs": [],
   "source": [
    "hmf_go <- (\n",
    "    all \n",
    "      %>% transmute(\n",
    "        patient_id = patientIdentifier,\n",
    "        bor =  Y_best_response_binary,\n",
    "        os,\n",
    "        os_event = Survival_os_event,\n",
    "        os_days = Survival_time_to_os_event,\n",
    "        age,\n",
    "        gender = clinical_meta_gender,\n",
    "        tissue,\n",
    "        tissue_full = clinical_meta_primaryTumorLocation,\n",
    "        tmb = somatic_summary_tmbPerMb,\n",
    "          \n",
    "        tcell, \n",
    "        tgfb, \n",
    "        prolif,\n",
    "          \n",
    "        tcell_cluster5 = isofox_gene_set_tcell_cluster_05,\n",
    "        tgfb_cluster5 = isofox_gene_set_tgfb_cluster_05,\n",
    "        prolif_cluster5 = isofox_gene_set_prolif_cluster_05,\n",
    "          \n",
    "        tcell_set = isofox_gene_set_t_cell_effector,\n",
    "        prolif_set = isofox_gene_set_prolif,\n",
    "        tgfb_set = isofox_gene_set_Pan_TBRS, \n",
    "          \n",
    "        pdl1 = isofox_CD274,\n",
    "        pretreat,\n",
    "        pretreat_comp = clinical_systemic_composite, \n",
    "        purity,\n",
    "        Study = \"HMF-CPCT\"\n",
    "    ) \n",
    ")"
   ]
  },
  {
   "cell_type": "markdown",
   "id": "6",
   "metadata": {},
   "source": [
    "### 2 - Send it!"
   ]
  },
  {
   "cell_type": "code",
   "execution_count": null,
   "id": "7",
   "metadata": {},
   "outputs": [],
   "source": [
    "saveRDS( hmf_go, paste0(TMP_DIR, \"validation-hmf-go.Rds\") )"
   ]
  }
 ],
 "metadata": {
  "kernelspec": {
   "display_name": "R",
   "language": "R",
   "name": "ir"
  },
  "language_info": {
   "codemirror_mode": "r",
   "file_extension": ".r",
   "mimetype": "text/x-r-source",
   "name": "R",
   "pygments_lexer": "r",
   "version": "3.6.1"
  }
 },
 "nbformat": 4,
 "nbformat_minor": 5
}
