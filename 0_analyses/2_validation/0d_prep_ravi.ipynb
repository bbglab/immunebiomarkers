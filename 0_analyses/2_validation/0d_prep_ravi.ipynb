{
 "cells": [
  {
   "cell_type": "markdown",
   "id": "3d3de29a",
   "metadata": {},
   "source": [
    "### Validation Ravi\n",
    "- No imputation added here"
   ]
  },
  {
   "cell_type": "code",
   "execution_count": 1,
   "id": "868b0a65",
   "metadata": {},
   "outputs": [],
   "source": [
    "options(repr.matrix.max.cols=150, repr.matrix.max.rows=200)"
   ]
  },
  {
   "cell_type": "code",
   "execution_count": 2,
   "id": "b37b46ec",
   "metadata": {},
   "outputs": [
    {
     "name": "stderr",
     "output_type": "stream",
     "text": [
      "Registered S3 method overwritten by 'rvest':\n",
      "  method            from\n",
      "  read_xml.response xml2\n",
      "── Attaching packages ──────────────────────────────────────────────────────────────────────────────────────────────────────────────────────────────────────────────────────────────────────────── tidyverse 1.2.1 ──\n",
      "✔ ggplot2 3.3.6     ✔ purrr   0.3.4\n",
      "✔ tibble  3.1.2     ✔ dplyr   1.0.6\n",
      "✔ tidyr   1.1.3     ✔ stringr 1.4.0\n",
      "✔ readr   1.3.1     ✔ forcats 0.5.1\n",
      "Warning message:\n",
      "“package ‘tibble’ was built under R version 3.6.3”Warning message:\n",
      "“package ‘tidyr’ was built under R version 3.6.3”Warning message:\n",
      "“package ‘purrr’ was built under R version 3.6.3”Warning message:\n",
      "“package ‘dplyr’ was built under R version 3.6.3”Warning message:\n",
      "“package ‘forcats’ was built under R version 3.6.3”── Conflicts ─────────────────────────────────────────────────────────────────────────────────────────────────────────────────────────────────────────────────────────────────────────────── tidyverse_conflicts() ──\n",
      "✖ dplyr::filter() masks stats::filter()\n",
      "✖ dplyr::lag()    masks stats::lag()\n"
     ]
    }
   ],
   "source": [
    "wd <- dirname(dirname(getwd()))\n",
    "source(paste0(wd,\"/mission_control/treasure_map.R\"))\n",
    "source(paste0(wd,\"/mission_control/helpers/validation/settings.R\"))\n",
    "\n",
    "library(tidyverse)\n",
    "library(stringr)"
   ]
  },
  {
   "cell_type": "markdown",
   "id": "3144e602",
   "metadata": {},
   "source": [
    "#### Read data sets"
   ]
  },
  {
   "cell_type": "code",
   "execution_count": 3,
   "id": "668158eb",
   "metadata": {},
   "outputs": [],
   "source": [
    "hmf_tmb_ref <- readRDS(paste0(I_DIR, \"cpi_go.Rds\")) %>% filter( clinical_tumor_location_group == \"lung\") %>% transmute(bor = Y_best_response_binary, tmb = somatic_summary_tmbPerMb)"
   ]
  },
  {
   "cell_type": "code",
   "execution_count": 4,
   "id": "5cea6a9f",
   "metadata": {},
   "outputs": [],
   "source": [
    "I_DIR <- paste0(E_DIR, \"ravi_lung/\")\n",
    "clinical <- read.csv( paste0(I_DIR, \"Table_S1_Clinical_Annotations.csv\"), sep = \";\")\n",
    "somatic <- read.csv( paste0(I_DIR, \"Table_S5_Mutation_Burden.csv\"), sep = \";\")\n",
    "rna <- read.csv( paste0(I_DIR, \"Table_S13_RNA_TPM.csv\"), sep = \";\")"
   ]
  },
  {
   "cell_type": "markdown",
   "id": "d38c3b2d",
   "metadata": {},
   "source": [
    "### 0 - Curate clinical data"
   ]
  },
  {
   "cell_type": "code",
   "execution_count": 5,
   "id": "32e4039c",
   "metadata": {},
   "outputs": [],
   "source": [
    "binary_response <- function( recist ){\n",
    "    recist = as.character(recist)\n",
    "    if( recist %in% c(\"CR\",\"PR\")){\n",
    "        1\n",
    "    } else if ( recist %in% c(\"SD\", \"PD\")){\n",
    "        0\n",
    "    } else {\n",
    "        NA\n",
    "    }\n",
    "}"
   ]
  },
  {
   "cell_type": "code",
   "execution_count": 6,
   "id": "a5d138da",
   "metadata": {},
   "outputs": [],
   "source": [
    "clinical$bor <- unlist(lapply( as.character(clinical$\"Harmonized_Confirmed_BOR\"), binary_response))"
   ]
  },
  {
   "cell_type": "code",
   "execution_count": 7,
   "id": "06cce6cc",
   "metadata": {},
   "outputs": [],
   "source": [
    "clinical_go <- (\n",
    "    clinical\n",
    "        %>% filter(Pre.treatment_RNA_Sample_QC != \"Flag\", Agent_PD1 != \"Atezolizumab\")\n",
    "        %>% transmute(\n",
    "          patient_id = Harmonized_SU2C_Participant_ID_v2, \n",
    "          bor,\n",
    "          os = ifelse(Harmonized_OS_Event == 1, Harmonized_OS_Days, -Harmonized_OS_Days), \n",
    "          os_event = Harmonized_OS_Event, \n",
    "          os_days = Harmonized_OS_Days, \n",
    "          age = Patient_Age_at_Diagnosis, \n",
    "          gender = Patient_Sex,\n",
    "          tissue = \"lung\", \n",
    "          tissue_full = Institution,\n",
    "          pretreat = ifelse(Line_of_Therapy > 1, 1, 0),\n",
    "          pretreat_comp = NA,\n",
    "          purity = NA,\n",
    "          Study = \"RAVI\",\n",
    "          extra = Initial_Stage, \n",
    "          extra2 = Pre.treatment_RNA_Sample_QC\n",
    "        )\n",
    ")"
   ]
  },
  {
   "cell_type": "markdown",
   "id": "79b2931c",
   "metadata": {},
   "source": [
    "### 1 - Somatic \n",
    "- Ravi does not have TMB per mb\n",
    "- Use Quantiles for TMB\n",
    "- No purity available"
   ]
  },
  {
   "cell_type": "code",
   "execution_count": 8,
   "id": "8fe014d6",
   "metadata": {},
   "outputs": [],
   "source": [
    "hmf_quants <- data.frame( vals = quantile(hmf_tmb_ref$tmb, probs = seq(0,1,.01))) %>% rownames_to_column(\"quantile\")"
   ]
  },
  {
   "cell_type": "code",
   "execution_count": 9,
   "id": "203635cb",
   "metadata": {},
   "outputs": [],
   "source": [
    "somatic$patient_id <- unlist(lapply( somatic$Harmonized_SU2C_WES_Tumor_Sample_ID_v2, function(i) str_split(i, \"-T1\")[[1]][1] ))"
   ]
  },
  {
   "cell_type": "code",
   "execution_count": 10,
   "id": "9c9d3683",
   "metadata": {},
   "outputs": [],
   "source": [
    "somatic <- somatic %>% arrange(TMB)"
   ]
  },
  {
   "cell_type": "code",
   "execution_count": 11,
   "id": "565fca08",
   "metadata": {},
   "outputs": [],
   "source": [
    "hmf_quants <- (\n",
    "    data.frame( vals = quantile(hmf_tmb_ref$tmb, probs = seq(0,1,.01))) \n",
    "        %>% rownames_to_column(\"quantile\")\n",
    ")   \n",
    "ravi_quants <- (\n",
    "    data.frame( \n",
    "        patient_id = somatic$patient_id, \n",
    "        tmb = log(somatic$TMB+1), \n",
    "        vals = quantile(somatic$TMB, probs = seq(0,1,1/308))\n",
    "    ) %>% rownames_to_column(\"quantile\")\n",
    ")"
   ]
  },
  {
   "cell_type": "code",
   "execution_count": 12,
   "id": "e5939a15",
   "metadata": {},
   "outputs": [],
   "source": [
    "round_quants <- function(i) floor(as.numeric(as.character(strsplit(i, \"%\")[[1]][1])))\n",
    "hmf_quants$round_quantile <- unlist(lapply(hmf_quants$quantile, round_quants))\n",
    "ravi_quants$round_quantile <- unlist(lapply(ravi_quants$quantile, round_quants))"
   ]
  },
  {
   "cell_type": "code",
   "execution_count": 13,
   "id": "a64b0188",
   "metadata": {},
   "outputs": [],
   "source": [
    "somatic_go <- (\n",
    "    ravi_quants \n",
    "        %>% select(patient_id, round_quantile, tmb) \n",
    "        %>% left_join( hmf_quants , by = \"round_quantile\")\n",
    "        %>% transmute(patient_id, tmb = vals)\n",
    ")"
   ]
  },
  {
   "cell_type": "markdown",
   "id": "4a4b9712",
   "metadata": {},
   "source": [
    "### 2 - RNA"
   ]
  },
  {
   "cell_type": "markdown",
   "id": "71b3d292",
   "metadata": {},
   "source": [
    "- Share data"
   ]
  },
  {
   "cell_type": "code",
   "execution_count": 14,
   "id": "b89ced50",
   "metadata": {},
   "outputs": [],
   "source": [
    "step1 <- rna %>% select(-Name)\n",
    "step2 <- step1 %>% group_by(Description) %>% summarise(ct = n()) %>% filter(ct == 1) %>% pull(Description)\n",
    "step3 <- step1 %>% filter(Description %in% step2) %>% column_to_rownames(\"Description\")\n",
    "step4 <- data.frame(t(step3))"
   ]
  },
  {
   "cell_type": "code",
   "execution_count": 15,
   "id": "1f40de23",
   "metadata": {},
   "outputs": [],
   "source": [
    "numerizer <- function(ll) as.numeric(gsub(\",\",\".\", as.character(ll)))\n",
    "share <- data.frame(lapply(step4, numerizer))"
   ]
  },
  {
   "cell_type": "code",
   "execution_count": 16,
   "id": "f2b0e523",
   "metadata": {},
   "outputs": [],
   "source": [
    "saveRDS( share, paste0(REF_DIR, \"rna_ravi.Rds\") )"
   ]
  },
  {
   "cell_type": "markdown",
   "id": "e7b4a9e3",
   "metadata": {},
   "source": [
    "- Compute t-cell, proliferation, tgfb, pdl1"
   ]
  },
  {
   "cell_type": "code",
   "execution_count": 17,
   "id": "4c38ebae",
   "metadata": {},
   "outputs": [],
   "source": [
    "genes <- unlist(gene_sets)\n",
    "twist <- data.frame(t(\n",
    "    column_to_rownames(\n",
    "        rna \n",
    "            %>% filter( Description %in% genes ) \n",
    "            %>% select(-Name), \n",
    "        \"Description\")\n",
    "))"
   ]
  },
  {
   "cell_type": "code",
   "execution_count": 18,
   "id": "7e43aa66",
   "metadata": {},
   "outputs": [],
   "source": [
    "numerizer <- function(ll) as.numeric(gsub(\",\",\".\", as.character(ll)))\n",
    "clean <- data.frame(lapply(twist, numerizer)) %>% mutate_all(~(log(.+1) %>% as.vector))"
   ]
  },
  {
   "cell_type": "code",
   "execution_count": 19,
   "id": "dd005f91",
   "metadata": {},
   "outputs": [],
   "source": [
    "patient_ids <- unlist(lapply( rownames(twist), function(i) gsub(\"[.]\", \"-\", as.character(str_split(i, \".T1\")[[1]][1] ))))"
   ]
  },
  {
   "cell_type": "code",
   "execution_count": 20,
   "id": "7f0be395",
   "metadata": {},
   "outputs": [],
   "source": [
    "rna_clean <- data.frame( patient_id = patient_ids, clean)\n",
    "rna_clean$patient_id <- as.character(rna_clean$patient_id)"
   ]
  },
  {
   "cell_type": "markdown",
   "id": "09f7ce8f",
   "metadata": {},
   "source": [
    "#### Create and Scale gene sets "
   ]
  },
  {
   "cell_type": "code",
   "execution_count": 21,
   "id": "4c7ac844",
   "metadata": {},
   "outputs": [],
   "source": [
    "rna_clean$tcell  <- apply(rna_clean %>% select( any_of(gene_sets$clusters$tcell)),1,mean)\n",
    "rna_clean$prolif <- apply(rna_clean %>% select( any_of(gene_sets$clusters$prolif)),1,mean)\n",
    "rna_clean$tgfb   <- apply(rna_clean %>% select( any_of(gene_sets$clusters$tgfb)),1,mean)\n",
    "\n",
    "rna_clean$tcell_cluster5  <- apply(rna_clean %>% select( any_of(gene_sets$clusters5$tcell)),1,mean)\n",
    "rna_clean$prolif_cluster5 <- apply(rna_clean %>% select( any_of(gene_sets$clusters5$prolif)),1,mean)\n",
    "rna_clean$tgfb_cluster5   <- apply(rna_clean %>% select( any_of(gene_sets$clusters5$tgfb)),1,mean)\n",
    "\n",
    "rna_clean$tcell_set  <- apply(rna_clean %>% select( any_of(gene_sets$sets1$tcell)),1,mean)\n",
    "rna_clean$prolif_set <- apply(rna_clean %>% select( any_of(gene_sets$sets1$prolif)),1,mean)\n",
    "rna_clean$tgfb_set   <- apply(rna_clean %>% select( any_of(gene_sets$sets1$tgfb)),1,mean)\n",
    "\n",
    "rna_clean$pdl1   <- apply(rna_clean %>% select( CD274 ),1,mean)"
   ]
  },
  {
   "cell_type": "code",
   "execution_count": 22,
   "id": "0f1000a1",
   "metadata": {},
   "outputs": [],
   "source": [
    "rna_go <- rna_clean %>% select(patient_id, tcell, prolif, tgfb, tcell_cluster5, prolif_cluster5, tgfb_cluster5, tcell_set, prolif_set, tgfb_set, pdl1)"
   ]
  },
  {
   "cell_type": "markdown",
   "id": "d41ab41d",
   "metadata": {},
   "source": [
    "### 3 - Combined "
   ]
  },
  {
   "cell_type": "code",
   "execution_count": 23,
   "id": "43eb6b06",
   "metadata": {},
   "outputs": [],
   "source": [
    "ravi_go <- clinical_go %>% left_join( somatic_go, by = \"patient_id\") %>% left_join( rna_go, by = \"patient_id\")"
   ]
  },
  {
   "cell_type": "markdown",
   "id": "2f0007d3",
   "metadata": {},
   "source": [
    "### 4 - Send it!"
   ]
  },
  {
   "cell_type": "code",
   "execution_count": 24,
   "id": "b3f4316b",
   "metadata": {},
   "outputs": [],
   "source": [
    "saveRDS( ravi_go, paste0( TMP_DIR, \"validation-ravi-go.Rds\"))"
   ]
  }
 ],
 "metadata": {
  "kernelspec": {
   "display_name": "R",
   "language": "R",
   "name": "ir"
  },
  "language_info": {
   "codemirror_mode": "r",
   "file_extension": ".r",
   "mimetype": "text/x-r-source",
   "name": "R",
   "pygments_lexer": "r",
   "version": "3.6.1"
  }
 },
 "nbformat": 4,
 "nbformat_minor": 5
}
