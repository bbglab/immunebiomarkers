{
 "cells": [
  {
   "cell_type": "code",
   "execution_count": 1,
   "id": "38cbd344",
   "metadata": {},
   "outputs": [
    {
     "name": "stderr",
     "output_type": "stream",
     "text": [
      "Registered S3 method overwritten by 'rvest':\n",
      "  method            from\n",
      "  read_xml.response xml2\n",
      "── Attaching packages ──────────────────────────────────────────────────────────────────────────────────────────────────────────────────────────────────────────────────────────────────────────── tidyverse 1.2.1 ──\n",
      "✔ ggplot2 3.3.6     ✔ purrr   0.3.4\n",
      "✔ tibble  3.1.2     ✔ dplyr   1.0.6\n",
      "✔ tidyr   1.1.3     ✔ stringr 1.4.0\n",
      "✔ readr   1.3.1     ✔ forcats 0.5.1\n",
      "Warning message:\n",
      "“package ‘tibble’ was built under R version 3.6.3”Warning message:\n",
      "“package ‘tidyr’ was built under R version 3.6.3”Warning message:\n",
      "“package ‘purrr’ was built under R version 3.6.3”Warning message:\n",
      "“package ‘dplyr’ was built under R version 3.6.3”Warning message:\n",
      "“package ‘forcats’ was built under R version 3.6.3”── Conflicts ─────────────────────────────────────────────────────────────────────────────────────────────────────────────────────────────────────────────────────────────────────────────── tidyverse_conflicts() ──\n",
      "✖ dplyr::filter() masks stats::filter()\n",
      "✖ dplyr::lag()    masks stats::lag()\n",
      "\n",
      "Attaching package: ‘xgboost’\n",
      "\n",
      "The following object is masked from ‘package:dplyr’:\n",
      "\n",
      "    slice\n",
      "\n"
     ]
    }
   ],
   "source": [
    "wd <- dirname(dirname(getwd()))\n",
    "source(paste0(wd,\"/mission_control/treasure_map.R\"))\n",
    "source(paste0(wd,\"/mission_control/helpers/xgboost/eval_help.R\"))\n",
    "source(paste0(wd,\"/mission_control/helpers/xgboost/paper_settings.R\"))\n",
    "source(paste0(wd,\"/mission_control/helpers/xgboost/validation_help.R\"))\n",
    "library(tidyverse)\n",
    "library(xgboost)"
   ]
  },
  {
   "cell_type": "markdown",
   "id": "c9d92d3b",
   "metadata": {},
   "source": [
    "### 0 - Get Data Ready"
   ]
  },
  {
   "cell_type": "code",
   "execution_count": 2,
   "id": "f75138fe",
   "metadata": {},
   "outputs": [],
   "source": [
    "validation_ready <- readRDS( paste0(TMP_DIR, \"validation-hmf-go.Rds\") ) "
   ]
  },
  {
   "cell_type": "markdown",
   "id": "4e790d03",
   "metadata": {},
   "source": [
    "### 1 - Prep HMF data"
   ]
  },
  {
   "cell_type": "code",
   "execution_count": 3,
   "id": "12499322",
   "metadata": {},
   "outputs": [],
   "source": [
    "hmf <- (\n",
    "    validation_ready \n",
    "        %>% filter(Study == \"HMF-CPCT\") \n",
    "        %>% mutate_at(vars(\"tcell\",\"tgfb\",\"prolif\",\"pdl1\", \"pretreat\", \"pretreat_comp\", \"purity\"), scale) \n",
    "        %>% mutate(tmb_bin = ifelse(exp(tmb)-1 > 10, 1, 0), model_apply = tissue)\n",
    "        %>% drop_na(os, bor)\n",
    ")"
   ]
  },
  {
   "cell_type": "markdown",
   "id": "8a7e9799",
   "metadata": {},
   "source": [
    "#### Helpers for fitting"
   ]
  },
  {
   "cell_type": "code",
   "execution_count": 4,
   "id": "ba03bff3",
   "metadata": {},
   "outputs": [],
   "source": [
    "builder <- function( df, model_features ){\n",
    "    files <- list()\n",
    "    files[['X']] =  as.matrix( df %>% select(all_of(model_features)))\n",
    "    files[['id']] = df %>% pull(patient_id)\n",
    "    files[['complete_id']] = df %>% drop_na(tcell) %>% pull(patient_id)\n",
    "    files[['Y_lr']] = df %>% pull(bor)\n",
    "    files[['Y_os']] = df %>% pull(os)\n",
    "    files\n",
    "}"
   ]
  },
  {
   "cell_type": "code",
   "execution_count": 5,
   "id": "aff649ba",
   "metadata": {},
   "outputs": [],
   "source": [
    "best_fit <- function(Y, X, hyper_grid = parameter_grid, model, base_model = NULL){\n",
    "    grid_fit(Y, X, hyper_grid, model, base_model)$best_model\n",
    "}"
   ]
  },
  {
   "cell_type": "markdown",
   "id": "9819b27d",
   "metadata": {},
   "source": [
    "### 2 - Build the models\n",
    "- Build K models for each tissue"
   ]
  },
  {
   "cell_type": "code",
   "execution_count": 6,
   "id": "dbb80c7d",
   "metadata": {},
   "outputs": [],
   "source": [
    "set.seed(62220)\n",
    "K <- 1"
   ]
  },
  {
   "cell_type": "code",
   "execution_count": 7,
   "id": "c883b57a",
   "metadata": {},
   "outputs": [
    {
     "name": "stdout",
     "output_type": "stream",
     "text": [
      "[1] \"tmb_bin\"\n",
      "[1] \"base_bin\"\n",
      "[1] \"tmb\"\n",
      "[1] \"base\"\n",
      "[1] \"rna\"\n",
      "[1] \"no_pretreat\"\n",
      "[1] \"no_tmb\"\n",
      "[1] \"five_latent\"\n",
      "[1] \"five_latent_hmf\"\n",
      "[1] \"five_latent_purity\"\n"
     ]
    }
   ],
   "source": [
    "mods <- list()\n",
    "\n",
    "for( i in seq(K) ){\n",
    "    \n",
    "    hmf_models <- list()\n",
    "    for( model in names(models)) {\n",
    "\n",
    "        print(model); flush.console()\n",
    "\n",
    "        #### Strore base data structure\n",
    "        s <- list()\n",
    "        s$all <- builder( hmf, models[[model]] )\n",
    "        for (j in unique( hmf %>% pull(model_apply))) { \n",
    "            s[[j]] <- builder( hmf %>% filter(model_apply == j), models[[model]] )\n",
    "        }\n",
    "        #### Fit overall models \n",
    "        s$all$mod_lr <- best_fit( Y = s$all$Y_lr, X = s$all$X, model = \"lr\", base_model = NULL ) \n",
    "        s$all$mod_os <- best_fit( Y = s$all$Y_os, X = s$all$X, model = \"os\", base_model = NULL )\n",
    "\n",
    "        #### Tissue specific models guided by overall model\n",
    "        for (k in unique(hmf$tissue)) {\n",
    "            s[[k]][['mod_lr']] <- best_fit( s[[k]]$Y_lr, s[[k]]$X, model = \"lr\", base_model = s$all$mod_lr)\n",
    "            s[[k]][['mod_os']] <- best_fit( s[[k]]$Y_os, s[[k]]$X, model = \"os\", base_model = s$all$mod_os) \n",
    "            }        \n",
    "        ### save model\n",
    "        hmf_models[[model]] <- s\n",
    "    }    \n",
    "    ### save as repition model i\n",
    "    mods[[as.character(i)]] <- hmf_models\n",
    "}"
   ]
  },
  {
   "cell_type": "markdown",
   "id": "45cc2675",
   "metadata": {},
   "source": [
    "### 3 - Send it"
   ]
  },
  {
   "cell_type": "code",
   "execution_count": 8,
   "id": "a86b61e5",
   "metadata": {},
   "outputs": [],
   "source": [
    "saveRDS( mods, paste0(TMP_DIR, \"validation-hmf-models.Rds\"))"
   ]
  }
 ],
 "metadata": {
  "kernelspec": {
   "display_name": "R",
   "language": "R",
   "name": "ir"
  },
  "language_info": {
   "codemirror_mode": "r",
   "file_extension": ".r",
   "mimetype": "text/x-r-source",
   "name": "R",
   "pygments_lexer": "r",
   "version": "3.6.1"
  }
 },
 "nbformat": 4,
 "nbformat_minor": 5
}
