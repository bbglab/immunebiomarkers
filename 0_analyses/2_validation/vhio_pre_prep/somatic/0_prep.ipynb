{
 "cells": [
  {
   "cell_type": "code",
   "execution_count": 1,
   "id": "e8347e4a",
   "metadata": {},
   "outputs": [
    {
     "name": "stderr",
     "output_type": "stream",
     "text": [
      "Warning message:\n",
      "“package ‘dplyr’ was built under R version 3.6.3”\n",
      "Attaching package: ‘dplyr’\n",
      "\n",
      "The following objects are masked from ‘package:stats’:\n",
      "\n",
      "    filter, lag\n",
      "\n",
      "The following objects are masked from ‘package:base’:\n",
      "\n",
      "    intersect, setdiff, setequal, union\n",
      "\n"
     ]
    }
   ],
   "source": [
    "wd <- dirname(dirname(dirname(dirname(getwd()))))\n",
    "source(paste0(wd,\"/mission_control/treasure_map.R\"))\n",
    "\n",
    "library(readxl)\n",
    "library(dplyr)\n",
    "\n",
    "I_DIR <- paste0(E_DIR, \"/val_hebron/somatic/dna_datav2/\")\n",
    "O_DIR <- paste0(E_DIR, \"/val_hebron/somatic/clean/\")"
   ]
  },
  {
   "cell_type": "markdown",
   "id": "8f4bb52b",
   "metadata": {},
   "source": [
    "### 0 - Read TMB files"
   ]
  },
  {
   "cell_type": "code",
   "execution_count": 2,
   "id": "6e483485",
   "metadata": {},
   "outputs": [],
   "source": [
    "setwd(I_DIR)\n",
    "files <- list.files()"
   ]
  },
  {
   "cell_type": "markdown",
   "id": "382d39f1",
   "metadata": {},
   "source": [
    "### 1 - Extract TMBs"
   ]
  },
  {
   "cell_type": "code",
   "execution_count": 3,
   "id": "230c9daf",
   "metadata": {},
   "outputs": [
    {
     "name": "stderr",
     "output_type": "stream",
     "text": [
      "Warning message:\n",
      "“Unknown or uninitialised column: `Classification`.”Warning message:\n",
      "“Unknown or uninitialised column: `Classification`.”"
     ]
    }
   ],
   "source": [
    "tmbs <- data.frame()\n",
    "for( i in  list.files()){\n",
    "  my_data <- read_excel(i, sheet = 1)\n",
    "  snps <- my_data$dbSNP\n",
    "  ll <- length(snps)\n",
    "  tmp <- data.frame( \n",
    "    patient = as.character(i), \n",
    "    check = snps[ll-1], \n",
    "    tmb = as.numeric(as.character(snps[ll])),\n",
    "    vus = sum(my_data$Classification == \"VUS\",na.rm = TRUE),\n",
    "    tot = sum(!is.na(my_data$Classification),na.rm = TRUE),\n",
    "    rows = ll\n",
    "  )    \n",
    "  tmbs <- rbind( tmbs, tmp)\n",
    "}"
   ]
  },
  {
   "cell_type": "markdown",
   "id": "8d1dc4fb",
   "metadata": {},
   "source": [
    "#### Fix Lab ID"
   ]
  },
  {
   "cell_type": "code",
   "execution_count": 4,
   "id": "c89773e0",
   "metadata": {},
   "outputs": [],
   "source": [
    "tmbs$patient <- as.character(tmbs$patient)\n",
    "tmbs$LAB.ID <- unlist(lapply( tmbs$patient, function(i) paste(strsplit(i,\".xlsx\")[[1]][c(1)], collapse = \"\")))"
   ]
  },
  {
   "cell_type": "markdown",
   "id": "dd312c23",
   "metadata": {},
   "source": [
    "#### Impute TMBs"
   ]
  },
  {
   "cell_type": "code",
   "execution_count": 5,
   "id": "54edbb04",
   "metadata": {},
   "outputs": [],
   "source": [
    "tmbs$tmb <- as.numeric(as.character(tmbs$tmb))"
   ]
  },
  {
   "cell_type": "markdown",
   "id": "40ea67c8",
   "metadata": {},
   "source": [
    "### Output files"
   ]
  },
  {
   "cell_type": "code",
   "execution_count": 6,
   "id": "b6292a3d",
   "metadata": {},
   "outputs": [],
   "source": [
    "tmb_out <-\n",
    "tmbs %>% transmute( \n",
    "    LAB.ID,\n",
    "    vus, \n",
    "    tot,\n",
    "    rows,\n",
    "    tmb_raw = tmb,\n",
    "    tmb = log(tmb+1)\n",
    ")"
   ]
  },
  {
   "cell_type": "markdown",
   "id": "1cae311e",
   "metadata": {},
   "source": [
    "### 2 - Send it!"
   ]
  },
  {
   "cell_type": "code",
   "execution_count": 7,
   "id": "f9e71465",
   "metadata": {},
   "outputs": [],
   "source": [
    "saveRDS( tmb_out, paste0(O_DIR, \"tmb_go.Rds\"))"
   ]
  }
 ],
 "metadata": {
  "kernelspec": {
   "display_name": "R",
   "language": "R",
   "name": "ir"
  },
  "language_info": {
   "codemirror_mode": "r",
   "file_extension": ".r",
   "mimetype": "text/x-r-source",
   "name": "R",
   "pygments_lexer": "r",
   "version": "3.6.1"
  }
 },
 "nbformat": 4,
 "nbformat_minor": 5
}
