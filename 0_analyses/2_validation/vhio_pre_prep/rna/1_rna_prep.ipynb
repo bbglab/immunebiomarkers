{
 "cells": [
  {
   "cell_type": "code",
   "execution_count": 4,
   "id": "38cbd344",
   "metadata": {},
   "outputs": [],
   "source": [
    "wd <- dirname(dirname(dirname(dirname(getwd()))))\n",
    "source(paste0(wd,\"/mission_control/treasure_map.R\"))\n",
    "library(tidyverse)\n",
    "\n",
    "CLIN_DIR <- paste0(E_DIR, \"/val_hebron/clinical/clean/\")\n",
    "I_DIR <- paste0(E_DIR, \"/val_hebron/rna/raw/\")\n",
    "O_DIR <- paste0(E_DIR, \"/val_hebron/rna/clean/\")"
   ]
  },
  {
   "cell_type": "markdown",
   "id": "c9d92d3b",
   "metadata": {},
   "source": [
    "### 0 - Read data sources"
   ]
  },
  {
   "cell_type": "code",
   "execution_count": 5,
   "id": "ab1e7a57",
   "metadata": {},
   "outputs": [],
   "source": [
    "clinical <- readRDS( paste0(CLIN_DIR, \"combine.Rds\"))\n",
    "rna <- read.csv( paste0(I_DIR, \"nanostring_norm_counts.csv\"), sep = \";\", stringsAsFactors = FALSE)\n",
    "annotations <- read.csv( paste0(I_DIR, \"annotations_share.csv\"), sep = \";\", stringsAsFactors = FALSE)"
   ]
  },
  {
   "cell_type": "markdown",
   "id": "24cb03c3",
   "metadata": {},
   "source": [
    "### 1 - Prep RNA Data"
   ]
  },
  {
   "cell_type": "code",
   "execution_count": 19,
   "id": "5f944589",
   "metadata": {},
   "outputs": [],
   "source": [
    "tmp0 <- data.frame(t(rna %>% select(-genes)))\n",
    "colnames(tmp0) <- c(rna %>% pull(genes))\n",
    "tmp1 <- log(tmp0)"
   ]
  },
  {
   "cell_type": "code",
   "execution_count": 20,
   "id": "1fea1817",
   "metadata": {},
   "outputs": [],
   "source": [
    "step1 <- apply(is.na(tmp1), 2, sum)\n",
    "show <- data.frame( gene = names(step1), missing_values = step1) %>% arrange(missing_values)"
   ]
  },
  {
   "cell_type": "markdown",
   "id": "b553c6a7",
   "metadata": {},
   "source": [
    "##### Add factors"
   ]
  },
  {
   "cell_type": "code",
   "execution_count": 21,
   "id": "79d0694e",
   "metadata": {},
   "outputs": [],
   "source": [
    "gene_sets <- list(\n",
    "    \"tgfb\" = c(\"HEYL\", \"NOTCH3\", \"TGFb3\", \"TGFb1\", \"NOTCH4\", \"DLL4\", \"SERPINE1\"),\n",
    "    \"prolif\" = c(\"BRCA1\", \"BRCA2\", \"TUBB\"),\n",
    "    \"tcell\" = c(\"CXCL9\", \"CXCL10\", \"CXCL11\", \"GZMA\", \"GZMB\", \"IFNg\")\n",
    ")\n",
    "tmp1$tgfb <- apply( tmp1[,gene_sets$tgfb], 1, mean)\n",
    "tmp1$prolif <- apply( tmp1[,gene_sets$prolif], 1, mean)\n",
    "tmp1$tcell <- apply( tmp1[,gene_sets$tcell], 1, mean)"
   ]
  },
  {
   "cell_type": "markdown",
   "id": "3c9d5e82",
   "metadata": {},
   "source": [
    "### 2 - Combine with annotation data"
   ]
  },
  {
   "cell_type": "code",
   "execution_count": 22,
   "id": "3a9d2d25",
   "metadata": {},
   "outputs": [
    {
     "name": "stderr",
     "output_type": "stream",
     "text": [
      "Joining, by = \"LAB.ID\"\n"
     ]
    }
   ],
   "source": [
    "tmp2 <- tmp1 %>% rownames_to_column(var = \"LAB.ID\")\n",
    "rna_ready <- annotations %>% left_join(tmp2 , on = \"LAB.ID\") %>% rename(patient_id = NHC)\n",
    "rna_ready$patient_id <- as.character(rna_ready$patient_id)"
   ]
  },
  {
   "cell_type": "code",
   "execution_count": 23,
   "id": "43109a63",
   "metadata": {},
   "outputs": [],
   "source": [
    "saveRDS(rna_ready, paste0(O_DIR, \"rna_full.Rds\"))"
   ]
  },
  {
   "cell_type": "code",
   "execution_count": 15,
   "id": "d8401aaa",
   "metadata": {},
   "outputs": [],
   "source": [
    "rna_ready$panel <- unlist(lapply( rna_ready$Panel.de.ensayos,  function(i) strsplit(i, \" \")[[1]][3]))\n",
    "rna_ready$panel <- ifelse(rna_ready$panel %in% c(\"v12\", \"v13\"), rna_ready$panel, \"v<=11\")"
   ]
  },
  {
   "cell_type": "markdown",
   "id": "f19c93cb",
   "metadata": {},
   "source": [
    "### 3 - Select and Output"
   ]
  },
  {
   "cell_type": "code",
   "execution_count": 8,
   "id": "3206ae51",
   "metadata": {},
   "outputs": [],
   "source": [
    "rna_out <- \n",
    "rna_ready %>% transmute(\n",
    "        LAB.ID,\n",
    "        patient_id,\n",
    "        Cohort,\n",
    "        panel, \n",
    "        tcell = scale(tcell), \n",
    "        tgfb = scale(tgfb),\n",
    "        prolif = scale(prolif),\n",
    "        pdl1 = CD274\n",
    "    ) %>% drop_na(tcell, tgfb, prolif)"
   ]
  },
  {
   "cell_type": "markdown",
   "id": "1504da01",
   "metadata": {},
   "source": [
    "### 4 - Send it !"
   ]
  },
  {
   "cell_type": "code",
   "execution_count": 9,
   "id": "5b91440c",
   "metadata": {},
   "outputs": [],
   "source": [
    "saveRDS( rna_out, paste0(O_DIR, \"rna_go.Rds\"))"
   ]
  }
 ],
 "metadata": {
  "kernelspec": {
   "display_name": "R",
   "language": "R",
   "name": "ir"
  },
  "language_info": {
   "codemirror_mode": "r",
   "file_extension": ".r",
   "mimetype": "text/x-r-source",
   "name": "R",
   "pygments_lexer": "r",
   "version": "3.6.1"
  }
 },
 "nbformat": 4,
 "nbformat_minor": 5
}
