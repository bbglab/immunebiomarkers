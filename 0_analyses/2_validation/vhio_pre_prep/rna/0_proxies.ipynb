{
 "cells": [
  {
   "cell_type": "code",
   "execution_count": 1,
   "id": "212b0e98",
   "metadata": {},
   "outputs": [],
   "source": [
    "wd <- dirname(dirname(dirname(dirname(getwd()))))\n",
    "source(paste0(wd,\"/mission_control/treasure_map.R\"))\n",
    "#source(paste0(wd,\"/mission_control/hubble_prep.R\"))\n",
    "#source(paste0(wd,\"/mission_control/hubble_settings.R\"))"
   ]
  },
  {
   "cell_type": "code",
   "execution_count": 2,
   "id": "e4bd5d3d",
   "metadata": {},
   "outputs": [
    {
     "name": "stderr",
     "output_type": "stream",
     "text": [
      "Registered S3 method overwritten by 'rvest':\n",
      "  method            from\n",
      "  read_xml.response xml2\n",
      "── Attaching packages ───────────────────────────────────────────────────────────────────────────────────────────── tidyverse 1.2.1 ──\n",
      "✔ ggplot2 3.3.6     ✔ purrr   0.3.4\n",
      "✔ tibble  3.1.2     ✔ dplyr   1.0.6\n",
      "✔ tidyr   1.1.3     ✔ stringr 1.4.0\n",
      "✔ readr   1.3.1     ✔ forcats 0.5.1\n",
      "Warning message:\n",
      "“package ‘tibble’ was built under R version 3.6.3”Warning message:\n",
      "“package ‘tidyr’ was built under R version 3.6.3”Warning message:\n",
      "“package ‘purrr’ was built under R version 3.6.3”Warning message:\n",
      "“package ‘dplyr’ was built under R version 3.6.3”Warning message:\n",
      "“package ‘forcats’ was built under R version 3.6.3”── Conflicts ──────────────────────────────────────────────────────────────────────────────────────────────── tidyverse_conflicts() ──\n",
      "✖ dplyr::filter() masks stats::filter()\n",
      "✖ dplyr::lag()    masks stats::lag()\n",
      "\n",
      "Attaching package: ‘data.table’\n",
      "\n",
      "The following objects are masked from ‘package:dplyr’:\n",
      "\n",
      "    between, first, last\n",
      "\n",
      "The following object is masked from ‘package:purrr’:\n",
      "\n",
      "    transpose\n",
      "\n"
     ]
    }
   ],
   "source": [
    "library(tidyverse)\n",
    "library(stringr)\n",
    "library(data.table)"
   ]
  },
  {
   "cell_type": "markdown",
   "id": "44eec914",
   "metadata": {},
   "source": [
    "#### Warm-up"
   ]
  },
  {
   "cell_type": "code",
   "execution_count": 3,
   "id": "6bbe6eb2",
   "metadata": {},
   "outputs": [
    {
     "data": {
      "text/html": [
       "<ol class=list-inline>\n",
       "\t<li>'biomarkers_AdjTPM.csv'</li>\n",
       "\t<li>'biomarkers_RawTPM.csv'</li>\n",
       "\t<li>'cpi_check.Rds'</li>\n",
       "\t<li>'cpi_go.Rds'</li>\n",
       "\t<li>'filters_AdjTPM.Rds'</li>\n",
       "\t<li>'filters.Rds'</li>\n",
       "\t<li>'filtersAdjTPM.Rds'</li>\n",
       "\t<li>'filtersRawTPM.Rds'</li>\n",
       "\t<li>'forest-ready.Rds'</li>\n",
       "\t<li>'multi_forest.png'</li>\n",
       "\t<li>'signals_base.csv'</li>\n",
       "\t<li>'uni_forest.png'</li>\n",
       "\t<li>'validation-measure.Rds'</li>\n",
       "\t<li>'validation-summary.Rds'</li>\n",
       "</ol>\n"
      ],
      "text/latex": [
       "\\begin{enumerate*}\n",
       "\\item 'biomarkers\\_AdjTPM.csv'\n",
       "\\item 'biomarkers\\_RawTPM.csv'\n",
       "\\item 'cpi\\_check.Rds'\n",
       "\\item 'cpi\\_go.Rds'\n",
       "\\item 'filters\\_AdjTPM.Rds'\n",
       "\\item 'filters.Rds'\n",
       "\\item 'filtersAdjTPM.Rds'\n",
       "\\item 'filtersRawTPM.Rds'\n",
       "\\item 'forest-ready.Rds'\n",
       "\\item 'multi\\_forest.png'\n",
       "\\item 'signals\\_base.csv'\n",
       "\\item 'uni\\_forest.png'\n",
       "\\item 'validation-measure.Rds'\n",
       "\\item 'validation-summary.Rds'\n",
       "\\end{enumerate*}\n"
      ],
      "text/markdown": [
       "1. 'biomarkers_AdjTPM.csv'\n",
       "2. 'biomarkers_RawTPM.csv'\n",
       "3. 'cpi_check.Rds'\n",
       "4. 'cpi_go.Rds'\n",
       "5. 'filters_AdjTPM.Rds'\n",
       "6. 'filters.Rds'\n",
       "7. 'filtersAdjTPM.Rds'\n",
       "8. 'filtersRawTPM.Rds'\n",
       "9. 'forest-ready.Rds'\n",
       "10. 'multi_forest.png'\n",
       "11. 'signals_base.csv'\n",
       "12. 'uni_forest.png'\n",
       "13. 'validation-measure.Rds'\n",
       "14. 'validation-summary.Rds'\n",
       "\n",
       "\n"
      ],
      "text/plain": [
       " [1] \"biomarkers_AdjTPM.csv\"  \"biomarkers_RawTPM.csv\"  \"cpi_check.Rds\"         \n",
       " [4] \"cpi_go.Rds\"             \"filters_AdjTPM.Rds\"     \"filters.Rds\"           \n",
       " [7] \"filtersAdjTPM.Rds\"      \"filtersRawTPM.Rds\"      \"forest-ready.Rds\"      \n",
       "[10] \"multi_forest.png\"       \"signals_base.csv\"       \"uni_forest.png\"        \n",
       "[13] \"validation-measure.Rds\" \"validation-summary.Rds\""
      ]
     },
     "metadata": {},
     "output_type": "display_data"
    }
   ],
   "source": [
    "list.files(I_DIR)"
   ]
  },
  {
   "cell_type": "code",
   "execution_count": 4,
   "id": "ccf8b9e8",
   "metadata": {},
   "outputs": [],
   "source": [
    "raw <- fread(paste0(I_DIR, 'signals_base.csv')) "
   ]
  },
  {
   "cell_type": "code",
   "execution_count": 5,
   "id": "d2b53b04",
   "metadata": {},
   "outputs": [],
   "source": [
    "hartwig_genes <- (\n",
    "    readRDS(paste0(TMP_DIR,\"exhaustive-plots-base.Rds\"))\n",
    "        %>% filter(feature_group == \"isofox\", model == \"os\", dataset == \"all\", covariates == \"tissue\")\n",
    "        %>% select(feature, est, p_val, cor_tcell, cor_tgfb, cor_prolif)\n",
    "        %>% filter( cor_tcell > .5 | cor_tgfb > .4 | cor_prolif > .4)\n",
    ")\n",
    "hartwig_genes$gene <- unlist(lapply(hartwig_genes$feature, function(i) str_split(i, \"_\")[[1]][2]))"
   ]
  },
  {
   "cell_type": "code",
   "execution_count": 6,
   "id": "554c394d",
   "metadata": {},
   "outputs": [],
   "source": [
    "vhio_genes <- (\n",
    "    read.csv(\"/workspace/projects/immune_biomarkers/vhio_reference/genes_versions/V13-Table 1.csv\", \n",
    "            header = FALSE, sep = \";\")\n",
    "            %>% transmute(genes = V2)\n",
    ")\n",
    "vhio_genes$genes <- toupper(vhio_genes$genes)\n",
    "vhio_genes$genes <- unlist(lapply( vhio_genes$genes, function(i) strsplit(i, \" \")[[1]][1]))\n",
    "vhio_genes$genes <- gsub(\"-\", \".\", vhio_genes$genes )"
   ]
  },
  {
   "cell_type": "code",
   "execution_count": 7,
   "id": "b0392fb3",
   "metadata": {},
   "outputs": [],
   "source": [
    "#vhio_genes"
   ]
  },
  {
   "cell_type": "markdown",
   "id": "59643c7a",
   "metadata": {},
   "source": [
    "#### Common Genes"
   ]
  },
  {
   "cell_type": "code",
   "execution_count": 8,
   "id": "38acd87e",
   "metadata": {},
   "outputs": [],
   "source": [
    "common <- vhio_genes$genes[which(vhio_genes$genes %in% hartwig_genes$gene)]"
   ]
  },
  {
   "cell_type": "code",
   "execution_count": 10,
   "id": "f8c6b45a",
   "metadata": {},
   "outputs": [],
   "source": [
    "tcell <- (\n",
    "    hartwig_genes \n",
    "        %>% filter( gene %in% common) \n",
    "        %>% arrange(desc(cor_tcell)) \n",
    "        %>% select(gene, cor_tcell) \n",
    "        %>% head(8)\n",
    "        %>% pull(gene)\n",
    ")"
   ]
  },
  {
   "cell_type": "code",
   "execution_count": 11,
   "id": "6576d49f",
   "metadata": {},
   "outputs": [],
   "source": [
    "tgfb <- (\n",
    "    hartwig_genes \n",
    "        %>% filter( gene %in% common) \n",
    "        %>% select(gene, cor_tgfb) \n",
    "        %>% arrange(desc(cor_tgfb)) \n",
    "        %>% head(8)\n",
    "        %>% pull(gene)\n",
    ")"
   ]
  },
  {
   "cell_type": "code",
   "execution_count": 12,
   "id": "4fcdfa75",
   "metadata": {},
   "outputs": [],
   "source": [
    "prolif <- (\n",
    "hartwig_genes \n",
    "    %>% filter( gene %in% common, cor_prolif > .5) \n",
    "    %>% select(gene, cor_prolif) \n",
    "    %>% arrange(desc(cor_prolif)) \n",
    "    %>% head(8)\n",
    "    %>% pull(gene)\n",
    ")"
   ]
  }
 ],
 "metadata": {
  "kernelspec": {
   "display_name": "R",
   "language": "R",
   "name": "ir"
  },
  "language_info": {
   "codemirror_mode": "r",
   "file_extension": ".r",
   "mimetype": "text/x-r-source",
   "name": "R",
   "pygments_lexer": "r",
   "version": "3.6.1"
  }
 },
 "nbformat": 4,
 "nbformat_minor": 5
}
