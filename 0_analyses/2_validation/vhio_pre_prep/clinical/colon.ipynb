{
 "cells": [
  {
   "cell_type": "code",
   "execution_count": 2,
   "id": "1666bda7",
   "metadata": {},
   "outputs": [],
   "source": [
    "wd <- dirname(dirname(dirname(dirname(getwd()))))\n",
    "source(paste0(wd,\"/mission_control/treasure_map.R\"))\n",
    "library(tidyverse)\n",
    "\n",
    "I_DIR <- paste0(E_DIR, \"/val_hebron/clinical/raw/\")\n",
    "O_DIR <- paste0(E_DIR, \"/val_hebron/clinical/clean/\")"
   ]
  },
  {
   "cell_type": "markdown",
   "id": "32282de5",
   "metadata": {},
   "source": [
    "### 0 - Read the raw data"
   ]
  },
  {
   "cell_type": "code",
   "execution_count": 3,
   "id": "36fad5fb",
   "metadata": {},
   "outputs": [],
   "source": [
    "a <- read.csv( paste0(I_DIR, \"Machine_learning_models_IT_MSI_def_v1.csv\"), \n",
    "               sep = \";\",\n",
    "               stringsAsFactors = FALSE)"
   ]
  },
  {
   "cell_type": "markdown",
   "id": "935037e2",
   "metadata": {},
   "source": [
    "### 1 - Clean and Prepare"
   ]
  },
  {
   "cell_type": "markdown",
   "id": "2bbd4bbf",
   "metadata": {},
   "source": [
    "#### Consolidate names"
   ]
  },
  {
   "cell_type": "code",
   "execution_count": 5,
   "id": "9710bf04",
   "metadata": {},
   "outputs": [],
   "source": [
    "b <- \n",
    "a %>% transmute(\n",
    "    patient_id = sap,\n",
    "    clinical_age = Age.at.dx, \n",
    "    clinical_gender = gender, \n",
    "    biopsy_location,\n",
    "    treatment = IT_tto, \n",
    "    bor = best_response_IT, \n",
    "    trt_line = IT_line,\n",
    "    birth_date = birthdate,\n",
    "    date_crc_diagnosis,\n",
    "    biopsy_date, \n",
    "    trt_start_date = start_date, \n",
    "    trt_end_date = end_date,\n",
    "    os_date = date_last_follow_up,\n",
    "    os_status\n",
    ")"
   ]
  },
  {
   "cell_type": "markdown",
   "id": "5007f22c",
   "metadata": {},
   "source": [
    "#### Format Dates"
   ]
  },
  {
   "cell_type": "code",
   "execution_count": 6,
   "id": "48287567",
   "metadata": {},
   "outputs": [],
   "source": [
    "nice_date <- function(i) tryCatch(as.Date(i, tryFormats = c(\"%m/%d/%y\", \"%d/%m/%y\"), origin = \"12/30/1924\"))"
   ]
  },
  {
   "cell_type": "code",
   "execution_count": 7,
   "id": "5d67e1de",
   "metadata": {},
   "outputs": [
    {
     "name": "stdout",
     "output_type": "stream",
     "text": [
      "[1] \"trt_start_date\"\n",
      "[1] \"os_date\"\n"
     ]
    }
   ],
   "source": [
    "for( i in c(\"trt_start_date\", \"os_date\")){\n",
    "    print(i)\n",
    "    b[,paste0(i,\"_t\")] <- unlist(lapply(as.character(b[,i]), nice_date))\n",
    "}"
   ]
  },
  {
   "cell_type": "code",
   "execution_count": 8,
   "id": "11ad8af0",
   "metadata": {},
   "outputs": [],
   "source": [
    "b$os_days <- b$os_date_t - b$trt_start_date_t\n",
    "c <- b %>% select(-contains(\"date\"))"
   ]
  },
  {
   "cell_type": "markdown",
   "id": "803b0f53",
   "metadata": {},
   "source": [
    "#### Maps "
   ]
  },
  {
   "cell_type": "code",
   "execution_count": 9,
   "id": "3e0c41f7",
   "metadata": {},
   "outputs": [],
   "source": [
    "c$clinical_biopsy_location <- ifelse(c$biopsy_location %in% c(\"colon\", \"\", \"colon(endoscopy)\"), \"colon\", b$biopsy_location)\n",
    "c$clinical_pretreat <- ifelse(c$trt_line == 1, 0, 1)\n",
    "c$os_event <- ifelse(c$os_status == \"Alive\", 0, 1)\n",
    "c$clinical_recist <- c$bor\n",
    "c$bor <- ifelse(c$clinical_recist %in% c(\"CR\", \"PR\"), 1, 0)"
   ]
  },
  {
   "cell_type": "code",
   "execution_count": 10,
   "id": "60df5b32",
   "metadata": {},
   "outputs": [],
   "source": [
    "trt_map <- list(\n",
    "    \"atezolizumab\" = \"pdl\",\n",
    "    \"avelumab\" = \"pdl\",\n",
    "    \"anti-pdl\" = \"pdl\",\n",
    "    \"bintrafusp\" = \"pdl\",\n",
    "    \"durvalumab\" = \"pd\",\n",
    "    \"pembrolizumab\" = \"pd\", \n",
    "    \"nivolumab\" = \"pd\",\n",
    "    \"ipilimumab\" = \"ctla\", \n",
    "    \"regeneron\" = \"pd\",\n",
    "    \"amg404\" = \"pd\",\n",
    "    \"faz053\" = \"pdl\"\n",
    ")\n",
    "mechanism_map <- function(i){\n",
    "    if( grepl('atezolizumab',i) | grepl('faz053',i)){\n",
    "        'pdl'\n",
    "    } else {\n",
    "        'pd'\n",
    "    }\n",
    "}\n",
    "c$clinical_mechanism <-       unlist(lapply( tolower(c$treatment), function(i) mechanism_map(i))) \n",
    "c$clinical_tumor_location <- \"colon\""
   ]
  },
  {
   "cell_type": "markdown",
   "id": "7e2be4eb",
   "metadata": {},
   "source": [
    "### 2 - Select and Send it"
   ]
  },
  {
   "cell_type": "code",
   "execution_count": 11,
   "id": "7d0b1c41",
   "metadata": {},
   "outputs": [],
   "source": [
    "d <- c %>% select(patient_id, contains(\"clinical\"), bor, os_event, os_days, treatment)"
   ]
  },
  {
   "cell_type": "code",
   "execution_count": 12,
   "id": "443b4207",
   "metadata": {},
   "outputs": [],
   "source": [
    "saveRDS( d, paste0( O_DIR, \"colon.Rds\"))"
   ]
  }
 ],
 "metadata": {
  "kernelspec": {
   "display_name": "R",
   "language": "R",
   "name": "ir"
  },
  "language_info": {
   "codemirror_mode": "r",
   "file_extension": ".r",
   "mimetype": "text/x-r-source",
   "name": "R",
   "pygments_lexer": "r",
   "version": "3.6.1"
  }
 },
 "nbformat": 4,
 "nbformat_minor": 5
}
