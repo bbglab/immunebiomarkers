{
 "cells": [
  {
   "cell_type": "code",
   "execution_count": 1,
   "id": "b36126d9",
   "metadata": {},
   "outputs": [
    {
     "name": "stderr",
     "output_type": "stream",
     "text": [
      "Registered S3 method overwritten by 'rvest':\n",
      "  method            from\n",
      "  read_xml.response xml2\n",
      "── Attaching packages ────────────────────────────────────────────────────────────────────────────────────────────────────────────────────────────────────────────────────── tidyverse 1.2.1 ──\n",
      "✔ ggplot2 3.3.6     ✔ purrr   0.3.4\n",
      "✔ tibble  3.1.2     ✔ dplyr   1.0.6\n",
      "✔ tidyr   1.1.3     ✔ stringr 1.4.0\n",
      "✔ readr   1.3.1     ✔ forcats 0.5.1\n",
      "Warning message:\n",
      "“package ‘tibble’ was built under R version 3.6.3”Warning message:\n",
      "“package ‘tidyr’ was built under R version 3.6.3”Warning message:\n",
      "“package ‘purrr’ was built under R version 3.6.3”Warning message:\n",
      "“package ‘dplyr’ was built under R version 3.6.3”Warning message:\n",
      "“package ‘forcats’ was built under R version 3.6.3”── Conflicts ───────────────────────────────────────────────────────────────────────────────────────────────────────────────────────────────────────────────────────── tidyverse_conflicts() ──\n",
      "✖ dplyr::filter() masks stats::filter()\n",
      "✖ dplyr::lag()    masks stats::lag()\n"
     ]
    }
   ],
   "source": [
    "wd <- dirname(dirname(dirname(dirname(getwd()))))\n",
    "source(paste0(wd,\"/mission_control/treasure_map.R\"))\n",
    "library(tidyverse)\n",
    "\n",
    "I_DIR <- paste0(E_DIR, \"/val_hebron/clinical/raw/\")\n",
    "O_DIR <- paste0(E_DIR, \"/val_hebron/clinical/clean/\")"
   ]
  },
  {
   "cell_type": "markdown",
   "id": "ace878e7",
   "metadata": {},
   "source": [
    "### 0 - Read the data"
   ]
  },
  {
   "cell_type": "code",
   "execution_count": 2,
   "id": "408554f0",
   "metadata": {},
   "outputs": [],
   "source": [
    "a <- read.csv( paste0(I_DIR, \"V_Hebron_pulmon.csv\"), sep = \";\", skip = 1, stringsAsFactors = FALSE)"
   ]
  },
  {
   "cell_type": "markdown",
   "id": "5570a6dc",
   "metadata": {},
   "source": [
    "### 1 - Clean the data"
   ]
  },
  {
   "cell_type": "markdown",
   "id": "cea0d22c",
   "metadata": {},
   "source": [
    "#### Helpers"
   ]
  },
  {
   "cell_type": "code",
   "execution_count": 3,
   "id": "37a5b572",
   "metadata": {},
   "outputs": [],
   "source": [
    "trt_map <- list(\n",
    "    \"atezolizumab\" = \"pdl\",\n",
    "    \"atezoliumab\" = \"pdl\",\n",
    "    \"avelumab\" = \"pdl\",\n",
    "    \"anti-pdl\" = \"pdl\",\n",
    "    \"bintrafusp\" = \"pdl\",\n",
    "    \"durvalumab\" = \"pd\",\n",
    "    \"pembrolizumab\" = \"pd\", \n",
    "    \"nivolumab\" = \"pd\",\n",
    "    \"ipilimumab\" = \"ctla\",\n",
    "    \"cemiplimab\" = \"pd\"    \n",
    ")\n",
    "last_treatment <- function(i){\n",
    "    if( i[6] == 1){\n",
    "        \"6\"\n",
    "    } else if ( i[5] == 1 ){\n",
    "        \"5\"\n",
    "    } else if ( i[4] == 1 ){\n",
    "        \"4\"\n",
    "    } else if ( i[3] == 1 ){\n",
    "        \"3\"\n",
    "    } else if ( i[2] == 1 ){\n",
    "        \"2\"\n",
    "    } else if ( i[1] == 1 ){\n",
    "        \"1\"\n",
    "    }    \n",
    "}\n",
    "maker <- function( df, i ){\n",
    "    df_left <- df %>% select( -contains(\"TREAT\"),-contains(\"X\"))\n",
    "    df_right <- df %>% select( contains(as.character(i)), -contains(\"X\"))\n",
    "    colnames(df_right ) <- c(\"treatment\", \"trt_start_date\", \"trt_stop_date\", \"trt_stop_reason\", \"recist\")\n",
    "    cbind(df_left, df_right)\n",
    "}\n",
    "matcher <- function( i ) { sum(sapply(names(trt_map), grepl, tolower(i)))}\n",
    "\n",
    "pre_treated <- function(i) { ifelse(sum(i)> 1, 1, 0) }\n",
    "\n",
    "pinch <- function( i, k ){\n",
    "    pieces <- strsplit(i, \"/\")[[1]]\n",
    "    pieces[3] <- paste0(k,pieces[3])\n",
    "    paste( pieces, collapse = \"/\")\n",
    "}\n",
    "nice_date <- function(i) { \n",
    "    if( is.na(i)){\n",
    "        NA\n",
    "    } else if ( i %in% c(\"UNK\",\"\")) {\n",
    "        NA\n",
    "    } else if ( i == \"10apr2021\"){\n",
    "        as.Date(\"10-apr-21\", tryFormats = c(\"%m/%d/%Y\", \"%d-%b-%y\", \"%m/%d/%Y\")) \n",
    "    } else {\n",
    "    as.Date(i, tryFormats = c(\"%m/%d/%Y\", \"%d-%b-%y\", \"%m/%d/%Y\")) \n",
    "    }\n",
    "}"
   ]
  },
  {
   "cell_type": "markdown",
   "id": "2dd3337a",
   "metadata": {},
   "source": [
    "#### Create index of last applied immunotherapy\n",
    "- Derive which therapy was CPI\n",
    "- Derive pre-treatment field"
   ]
  },
  {
   "cell_type": "code",
   "execution_count": 4,
   "id": "a88661f9",
   "metadata": {},
   "outputs": [],
   "source": [
    "a[a$NHC == \"20860412\", \"TREATMENT.4\"] <- \"\"\n",
    "tmp <- a %>% select(contains(\"TREATMENT\"))\n",
    "tmp$idx1 <- unlist(lapply( tmp$TREATMENT1, matcher))\n",
    "tmp$idx2 <- unlist(lapply( tmp$TREATMENT2, matcher))\n",
    "tmp$idx3 <- unlist(lapply( tmp$TREATMENT3, matcher))\n",
    "tmp$idx4 <- unlist(lapply( tmp$TREATMENT.4, matcher))\n",
    "tmp$idx5 <- unlist(lapply( tmp$TREATMENT5, matcher))\n",
    "tmp$idx6 <- unlist(lapply( tmp$TREATMENT6, matcher))\n",
    "a$trts <-     apply(tmp %>% select(contains(\"idx\")), 1, last_treatment); \n",
    "#a$pretreat <- apply(tmp %>% select(contains(\"idx\")), 1, pre_treated)"
   ]
  },
  {
   "cell_type": "markdown",
   "id": "a22fdd59",
   "metadata": {},
   "source": [
    "#### Re-format DF to highlight most recent ICI treatment"
   ]
  },
  {
   "cell_type": "code",
   "execution_count": 5,
   "id": "5101c010",
   "metadata": {},
   "outputs": [],
   "source": [
    "b <- data.frame()\n",
    "for( i in as.character(seq(6))){\n",
    "    b <- rbind(b, maker( a %>% filter(trts == i), i ))\n",
    "}"
   ]
  },
  {
   "cell_type": "markdown",
   "id": "8bef4cdd",
   "metadata": {},
   "source": [
    "#### Dates\n",
    "- Age, OS Days, Check Biopsy vs Treatment"
   ]
  },
  {
   "cell_type": "code",
   "execution_count": 6,
   "id": "03ef66e5",
   "metadata": {},
   "outputs": [],
   "source": [
    "b$Date.Of.Birth <- unlist(lapply( as.character(b$Date.Of.Birth), pinch, \"19\" ))\n",
    "b$BIOPSY.DATE <- unlist(lapply( as.character(b$BIOPSY.DATE), pinch, \"20\" ))\n",
    "\n",
    "for( i in c(\"Date.Of.Birth\", \"BIOPSY.DATE\", \"trt_start_date\", \"DATE.OF.DEATH\")){\n",
    "    b[,paste0(i,\"_ct\")] <- unlist(lapply( as.character(b[,i]), nice_date))\n",
    "}"
   ]
  },
  {
   "cell_type": "code",
   "execution_count": 7,
   "id": "5814fecc",
   "metadata": {},
   "outputs": [],
   "source": [
    "b$DATE.OF.DEATH_ct <- ifelse(is.na(b$DATE.OF.DEATH), max(b$DATE.OF.DEATH_ct, na.rm = TRUE)+100, b$DATE.OF.DEATH_ct)\n",
    "b$clinical_age <- round((b$trt_start_date_ct - b$Date.Of.Birth_ct)/365)\n",
    "b$os_days <- b$DATE.OF.DEATH_ct - b$trt_start_date_ct\n",
    "b$biopsy_vs_trt <- b$trt_start_date_ct - b$BIOPSY.DATE_ct"
   ]
  },
  {
   "cell_type": "code",
   "execution_count": 8,
   "id": "1e2e9327",
   "metadata": {},
   "outputs": [],
   "source": [
    "c <- b %>% select(-contains(\"date\"))"
   ]
  },
  {
   "cell_type": "markdown",
   "id": "ff546d28",
   "metadata": {},
   "source": [
    "#### Formats "
   ]
  },
  {
   "cell_type": "code",
   "execution_count": 9,
   "id": "f6a47a3d",
   "metadata": {},
   "outputs": [],
   "source": [
    "d <- c %>% transmute(\n",
    "    patient_id = NHC, \n",
    "    clinical_age, \n",
    "    clinical_gender = GENDER,\n",
    "    clinical_biopsy_location = tolower(BIOPSY.LOCATION), \n",
    "    clinical_tumor_location = tolower(PRIMARY.TUMOR.LOCATION),\n",
    "    trts, \n",
    "    clinical_recist = recist, \n",
    "    os_event = LIVE.STATUS, \n",
    "    os_days,\n",
    "    treatment\n",
    ")\n",
    "d$clinical_pretreat <- ifelse(d$trts>1, 1, 0)\n",
    "d$bor <- ifelse(tolower(d$clinical_recist) %in% c(\"cr\", \"pr\"),1,0)\n",
    "d$os_event <- unlist(lapply( d$os_event, function(i) {\n",
    "    if( i == \"ALIVE\") {\n",
    "        0\n",
    "    } else if (i == \"EXITUS\") {\n",
    "        1\n",
    "    } else {\n",
    "        NA\n",
    "    }\n",
    "}))\n",
    "d <- d %>% select(-trts)\n",
    "d$clinical_mechanism <- \"pd\"\n",
    "d <- d %>% filter(!is.na(clinical_recist)); "
   ]
  },
  {
   "cell_type": "markdown",
   "id": "6017e3f4",
   "metadata": {},
   "source": [
    "### 2 - Send it!"
   ]
  },
  {
   "cell_type": "code",
   "execution_count": 10,
   "id": "a4a0a8d4",
   "metadata": {},
   "outputs": [],
   "source": [
    "saveRDS( d, paste0( O_DIR, \"lung.Rds\"))"
   ]
  }
 ],
 "metadata": {
  "kernelspec": {
   "display_name": "R",
   "language": "R",
   "name": "ir"
  },
  "language_info": {
   "codemirror_mode": "r",
   "file_extension": ".r",
   "mimetype": "text/x-r-source",
   "name": "R",
   "pygments_lexer": "r",
   "version": "3.6.1"
  }
 },
 "nbformat": 4,
 "nbformat_minor": 5
}
