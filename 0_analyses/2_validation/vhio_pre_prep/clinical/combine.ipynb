{
 "cells": [
  {
   "cell_type": "code",
   "execution_count": 14,
   "id": "1666bda7",
   "metadata": {},
   "outputs": [],
   "source": [
    "wd <- dirname(dirname(dirname(dirname(getwd()))))\n",
    "source(paste0(wd,\"/mission_control/treasure_map.R\"))\n",
    "library(tidyverse)\n",
    "\n",
    "I_DIR <- paste0(E_DIR, \"/val_hebron/clinical/clean/\")"
   ]
  },
  {
   "cell_type": "markdown",
   "id": "32282de5",
   "metadata": {},
   "source": [
    "### 0 - Read the data"
   ]
  },
  {
   "cell_type": "code",
   "execution_count": 22,
   "id": "36fad5fb",
   "metadata": {},
   "outputs": [],
   "source": [
    "lung <- readRDS( paste0(   I_DIR, \"lung.Rds\"))\n",
    "bladder <- readRDS( paste0(I_DIR, \"bladder.Rds\"))\n",
    "colon <- readRDS( paste0(I_DIR, \"colon.Rds\"))\n",
    "skin <- readRDS( paste0(I_DIR, \"skin.Rds\"))"
   ]
  },
  {
   "cell_type": "markdown",
   "id": "726b30c6",
   "metadata": {},
   "source": [
    "### 1 - Clean"
   ]
  },
  {
   "cell_type": "code",
   "execution_count": 23,
   "id": "b646bcd2",
   "metadata": {},
   "outputs": [],
   "source": [
    "colon$clinical_tumor_location <- \"MSI-CRC\""
   ]
  },
  {
   "cell_type": "code",
   "execution_count": 25,
   "id": "a882404d",
   "metadata": {},
   "outputs": [],
   "source": [
    "ready <- rbind(lung, bladder, colon, skin)\n",
    "ready$clinical_recist <- toupper(ready$clinical_recist)\n",
    "ready$clinical_gender <- tolower(ready$clinical_gender)"
   ]
  },
  {
   "cell_type": "code",
   "execution_count": 26,
   "id": "1cdcac95",
   "metadata": {},
   "outputs": [],
   "source": [
    "common_cols <- c(\"patient_id\", \"treatment\",\"clinical_age\", \"clinical_gender\", \"clinical_biopsy_location\",\n",
    "                 \"clinical_tumor_location\", \"clinical_mechanism\", \"clinical_recist\", \"clinical_pretreat\", \n",
    "                 \"bor\", \"os_event\", \"os_days\")\n",
    "ready <- ready[,common_cols]"
   ]
  },
  {
   "cell_type": "markdown",
   "id": "473219be",
   "metadata": {},
   "source": [
    "### 2 - Send it!"
   ]
  },
  {
   "cell_type": "code",
   "execution_count": 31,
   "id": "2266d57e",
   "metadata": {},
   "outputs": [],
   "source": [
    "saveRDS( ready, paste0( I_DIR, \"clinical_go.Rds\"))"
   ]
  }
 ],
 "metadata": {
  "kernelspec": {
   "display_name": "R",
   "language": "R",
   "name": "ir"
  },
  "language_info": {
   "codemirror_mode": "r",
   "file_extension": ".r",
   "mimetype": "text/x-r-source",
   "name": "R",
   "pygments_lexer": "r",
   "version": "3.6.1"
  }
 },
 "nbformat": 4,
 "nbformat_minor": 5
}
