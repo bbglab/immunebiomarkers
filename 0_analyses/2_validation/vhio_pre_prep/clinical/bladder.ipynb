{
 "cells": [
  {
   "cell_type": "code",
   "execution_count": 1,
   "id": "1666bda7",
   "metadata": {},
   "outputs": [
    {
     "name": "stderr",
     "output_type": "stream",
     "text": [
      "Registered S3 method overwritten by 'rvest':\n",
      "  method            from\n",
      "  read_xml.response xml2\n",
      "── Attaching packages ─────────────────────────────────────── tidyverse 1.2.1 ──\n",
      "✔ ggplot2 3.3.6     ✔ purrr   0.3.4\n",
      "✔ tibble  3.1.2     ✔ dplyr   1.0.6\n",
      "✔ tidyr   1.1.3     ✔ stringr 1.4.0\n",
      "✔ readr   1.3.1     ✔ forcats 0.5.1\n",
      "Warning message:\n",
      "“package ‘tibble’ was built under R version 3.6.3”Warning message:\n",
      "“package ‘tidyr’ was built under R version 3.6.3”Warning message:\n",
      "“package ‘purrr’ was built under R version 3.6.3”Warning message:\n",
      "“package ‘dplyr’ was built under R version 3.6.3”Warning message:\n",
      "“package ‘forcats’ was built under R version 3.6.3”── Conflicts ────────────────────────────────────────── tidyverse_conflicts() ──\n",
      "✖ dplyr::filter() masks stats::filter()\n",
      "✖ dplyr::lag()    masks stats::lag()\n"
     ]
    }
   ],
   "source": [
    "wd <- dirname(dirname(dirname(dirname(getwd()))))\n",
    "source(paste0(wd,\"/mission_control/treasure_map.R\"))\n",
    "library(tidyverse)\n",
    "\n",
    "I_DIR <- paste0(E_DIR, \"/val_hebron/clinical/raw/\")\n",
    "O_DIR <- paste0(E_DIR, \"/val_hebron/clinical/clean/\")"
   ]
  },
  {
   "cell_type": "markdown",
   "id": "32282de5",
   "metadata": {},
   "source": [
    "### 0 - Read raw data"
   ]
  },
  {
   "cell_type": "code",
   "execution_count": 2,
   "id": "36fad5fb",
   "metadata": {},
   "outputs": [],
   "source": [
    "a <- read.csv( paste0(I_DIR, \"llistat_pacients_mol_profiled_bladder.csv\"), \n",
    "               sep = \";\",\n",
    "               stringsAsFactors = FALSE)"
   ]
  },
  {
   "cell_type": "markdown",
   "id": "2bbd4bbf",
   "metadata": {},
   "source": [
    "### 1 - Cleaning"
   ]
  },
  {
   "cell_type": "code",
   "execution_count": 3,
   "id": "69d02a8d",
   "metadata": {},
   "outputs": [],
   "source": [
    "b <- a %>% transmute( \n",
    "            patient_id = NHC, \n",
    "            birth_date = Fecha.Nacimiento,\n",
    "            biopsy_date = Fecha.biopsia, \n",
    "            biopsy_location = Localización.biopsia,\n",
    "            tumor_location = Localización.primario.Tumor,\n",
    "            tumor_type = Tipo.de.tumor.primario, \n",
    "            trt1_start_date = Fecha.inicio.Tto,\n",
    "            trt1_end_date = Fecha.fin.Tto,\n",
    "            trt1_stop_reason = Suspensión.tratamiento, \n",
    "            trt1 = Esquema.Tto, \n",
    "            recist = RECIST,\n",
    "            recist_date = Fecha.RECIST, \n",
    "            last_date = Fecha.último.seguimiento...defunción,\n",
    "            os_event = Status\n",
    "    ) %>% filter(!grepl(\"general\", recist_date))"
   ]
  },
  {
   "cell_type": "code",
   "execution_count": 4,
   "id": "261a551a",
   "metadata": {},
   "outputs": [
    {
     "data": {
      "text/html": [
       "<table>\n",
       "<thead><tr><th scope=col>patient_id</th><th scope=col>birth_date</th><th scope=col>biopsy_date</th><th scope=col>biopsy_location</th><th scope=col>tumor_location</th><th scope=col>tumor_type</th><th scope=col>trt1_start_date</th><th scope=col>trt1_end_date</th><th scope=col>trt1_stop_reason</th><th scope=col>trt1</th><th scope=col>recist</th><th scope=col>recist_date</th><th scope=col>last_date</th><th scope=col>os_event</th></tr></thead>\n",
       "<tbody>\n",
       "\t<tr><td>20084415                       </td><td>18.04.1949                     </td><td>11.11.2020                     </td><td>hepatica                       </td><td>vejiga                         </td><td>carcinoma urotelial            </td><td>03.03.2020                     </td><td>10.10.2020                     </td><td>0                              </td><td>atezolizumab/enfortumab vedotin</td><td>1                              </td><td>18.05.2020                     </td><td>22.01.2021                     </td><td>1                              </td></tr>\n",
       "\t<tr><td>17327575                       </td><td>01.06.1950                     </td><td>06.08.2020                     </td><td>colón                          </td><td>vejiga                         </td><td>carcinoma urotelial            </td><td>21.04.2020                     </td><td>14.07.2020                     </td><td>0                              </td><td>atezolizumab                   </td><td>3                              </td><td>07.07.2020                     </td><td>27.12.2020                     </td><td>1                              </td></tr>\n",
       "\t<tr><td>11710531                       </td><td>07.07.1949                     </td><td>22.09.2016                     </td><td>vejiga                         </td><td>vejiga                         </td><td>carcinoma urotelial            </td><td>27.08.2018                     </td><td>20.10.2020                     </td><td>2                              </td><td>atezolizumab/cabozantinib      </td><td>0                              </td><td>31.12.2018                     </td><td>27.06.2021                     </td><td>1                              </td></tr>\n",
       "\t<tr><td>12584309                       </td><td>15.08.1961                     </td><td>08.10.2020                     </td><td>adenopatía                     </td><td>vejiga                         </td><td>carcinoma urotelial            </td><td>16.08.2021                     </td><td>13.09.2021                     </td><td>2                              </td><td>Bintrafusp                     </td><td>2                              </td><td>08.10.2021                     </td><td>25.10.2022                     </td><td>0                              </td></tr>\n",
       "\t<tr><td>15775641                       </td><td>01.09.1948                     </td><td>05.08.2020                     </td><td>vejiga                         </td><td>vejiga                         </td><td>carcinoma urotelial            </td><td>09.10.2020                     </td><td>01.02.2021                     </td><td>0                              </td><td>atezolizumab                   </td><td>3                              </td><td>04.02.2021                     </td><td>01.07.2021                     </td><td>1                              </td></tr>\n",
       "\t<tr><td>12449265                       </td><td>02.06.1951                     </td><td>31.07.2020                     </td><td>vejiga                         </td><td>vejiga                         </td><td>carcinoma urotelial            </td><td>16.09.2020                     </td><td>14.10.2020                     </td><td>2                              </td><td>Durvalumab/QT                  </td><td>1                              </td><td>13.01.2021                     </td><td>26.10.2022                     </td><td>0                              </td></tr>\n",
       "\t<tr><td>14104377                       </td><td>14.04.1945                     </td><td>12.08.2020                     </td><td>vejiga                         </td><td>vejiga                         </td><td>carcinoma urotelial            </td><td>25.05.2021                     </td><td>31.01.2022                     </td><td>2                              </td><td>Bintrafusp                     </td><td>1                              </td><td>22.07.2021                     </td><td>06.10.2022                     </td><td>0                              </td></tr>\n",
       "\t<tr><td>15630631                       </td><td>28.03.1953                     </td><td>22.09.2022                     </td><td>vejiga                         </td><td>vejiga                         </td><td>carcinoma urotelial            </td><td>03.11.2021                     </td><td>25.10.2022                     </td><td>3                              </td><td>Enfortumab/pembrolizumab       </td><td>1                              </td><td>05.01.2022                     </td><td>25.10.2022                     </td><td>0                              </td></tr>\n",
       "\t<tr><td>14866881                       </td><td>02.11.1945                     </td><td>18.05.2021                     </td><td>vejiga                         </td><td>vejiga                         </td><td>carcinoma urotelial            </td><td>13.01.2022                     </td><td>25.03.2022                     </td><td>0                              </td><td>anti-PDL/CD173                 </td><td>3                              </td><td>24.03.2022                     </td><td>27.10.2022                     </td><td>1                              </td></tr>\n",
       "\t<tr><td>14694847                       </td><td>21.01.1947                     </td><td>11.01.2021                     </td><td>ureter                         </td><td>vejiga                         </td><td>carcinoma urotelial            </td><td>10.05.2022                     </td><td>02.08.2022                     </td><td>0                              </td><td>Avelumab                       </td><td>3                              </td><td>08.09.2022                     </td><td>25.10.2022                     </td><td>0                              </td></tr>\n",
       "\t<tr><td>20683384                       </td><td>20.10.1951                     </td><td>01.05.2020                     </td><td>vejiga                         </td><td>vejiga                         </td><td>carcinoma urotelial            </td><td>01.08.2021                     </td><td>19.01.2022                     </td><td>0                              </td><td>Atezolizumab                   </td><td>3                              </td><td>25.01.2022                     </td><td>26.10.2022                     </td><td>0                              </td></tr>\n",
       "\t<tr><td>20689624                       </td><td>14.07.1956                     </td><td>29.12.2020                     </td><td>vejiga                         </td><td>vejiga                         </td><td>carcinoma urotelial            </td><td>07.10.2021                     </td><td>10.01.2022                     </td><td>0                              </td><td>Atezolizumab                   </td><td>3                              </td><td>24.01.2022                     </td><td>10.03.2022                     </td><td>1                              </td></tr>\n",
       "\t<tr><td>15264595                       </td><td>06.12.1958                     </td><td>18.01.2022                     </td><td>hígado                         </td><td>vejiga                         </td><td>carcinoma urotelial            </td><td>13.06.2022                     </td><td>24.10.2022                     </td><td>3                              </td><td>Avelumab                       </td><td>1                              </td><td>11.10.2022                     </td><td>24.10.2022                     </td><td>0                              </td></tr>\n",
       "\t<tr><td>16470184                       </td><td>09.06.1958                     </td><td>03.06.2017                     </td><td>vejiga                         </td><td>vejiga                         </td><td>carcinoma urotelial            </td><td>14.05.2018                     </td><td>11.03.2021                     </td><td>0                              </td><td>Pembrolizumab/ICOS             </td><td>1                              </td><td>19.10.2018                     </td><td>27.10.2022                     </td><td>0                              </td></tr>\n",
       "\t<tr><td>17721793                       </td><td>18.03.1966                     </td><td>26.05.2021                     </td><td>vejiga                         </td><td>vejiga                         </td><td>carcinoma urotelial            </td><td>24.02.2022                     </td><td>07.04.2021                     </td><td>0                              </td><td>Atezolizumab                   </td><td>3                              </td><td>25.04.2022                     </td><td>25.10.2022                     </td><td>0                              </td></tr>\n",
       "\t<tr><td>15074485                       </td><td>01.06.1941                     </td><td>17.01.2022                     </td><td>vejiga                         </td><td>vejiga                         </td><td>carcinoma urotelial            </td><td>19.07.2022                     </td><td>18.10.2022                     </td><td>3                              </td><td>Pembrolizumab/Futibatinib      </td><td>1                              </td><td>14.09.2022                     </td><td>18.10.2022                     </td><td>0                              </td></tr>\n",
       "\t<tr><td>19752837                       </td><td>24.02.1955                     </td><td>09.01.2019                     </td><td>pared abdominal                </td><td>vejiga                         </td><td>carcinoma urotelial            </td><td>23.02.2022                     </td><td>07.04.2022                     </td><td>0                              </td><td>Atezolizumab                   </td><td>3                              </td><td>14.04.2022                     </td><td>28.10.2022                     </td><td>0                              </td></tr>\n",
       "\t<tr><td>17850284                       </td><td>08.10.1955                     </td><td>30.07.2021                     </td><td>vejiga                         </td><td>vejiga                         </td><td>carcinoma urotelial            </td><td>25.01.2022                     </td><td>28.03.2022                     </td><td>0                              </td><td>Atezolizumab                   </td><td>3                              </td><td>07.04.2022                     </td><td>01.08.2022                     </td><td>1                              </td></tr>\n",
       "</tbody>\n",
       "</table>\n"
      ],
      "text/latex": [
       "\\begin{tabular}{r|llllllllllllll}\n",
       " patient\\_id & birth\\_date & biopsy\\_date & biopsy\\_location & tumor\\_location & tumor\\_type & trt1\\_start\\_date & trt1\\_end\\_date & trt1\\_stop\\_reason & trt1 & recist & recist\\_date & last\\_date & os\\_event\\\\\n",
       "\\hline\n",
       "\t 20084415                        & 18.04.1949                      & 11.11.2020                      & hepatica                        & vejiga                          & carcinoma urotelial             & 03.03.2020                      & 10.10.2020                      & 0                               & atezolizumab/enfortumab vedotin & 1                               & 18.05.2020                      & 22.01.2021                      & 1                              \\\\\n",
       "\t 17327575                        & 01.06.1950                      & 06.08.2020                      & colón                           & vejiga                          & carcinoma urotelial             & 21.04.2020                      & 14.07.2020                      & 0                               & atezolizumab                    & 3                               & 07.07.2020                      & 27.12.2020                      & 1                              \\\\\n",
       "\t 11710531                        & 07.07.1949                      & 22.09.2016                      & vejiga                          & vejiga                          & carcinoma urotelial             & 27.08.2018                      & 20.10.2020                      & 2                               & atezolizumab/cabozantinib       & 0                               & 31.12.2018                      & 27.06.2021                      & 1                              \\\\\n",
       "\t 12584309                        & 15.08.1961                      & 08.10.2020                      & adenopatía                      & vejiga                          & carcinoma urotelial             & 16.08.2021                      & 13.09.2021                      & 2                               & Bintrafusp                      & 2                               & 08.10.2021                      & 25.10.2022                      & 0                              \\\\\n",
       "\t 15775641                        & 01.09.1948                      & 05.08.2020                      & vejiga                          & vejiga                          & carcinoma urotelial             & 09.10.2020                      & 01.02.2021                      & 0                               & atezolizumab                    & 3                               & 04.02.2021                      & 01.07.2021                      & 1                              \\\\\n",
       "\t 12449265                        & 02.06.1951                      & 31.07.2020                      & vejiga                          & vejiga                          & carcinoma urotelial             & 16.09.2020                      & 14.10.2020                      & 2                               & Durvalumab/QT                   & 1                               & 13.01.2021                      & 26.10.2022                      & 0                              \\\\\n",
       "\t 14104377                        & 14.04.1945                      & 12.08.2020                      & vejiga                          & vejiga                          & carcinoma urotelial             & 25.05.2021                      & 31.01.2022                      & 2                               & Bintrafusp                      & 1                               & 22.07.2021                      & 06.10.2022                      & 0                              \\\\\n",
       "\t 15630631                        & 28.03.1953                      & 22.09.2022                      & vejiga                          & vejiga                          & carcinoma urotelial             & 03.11.2021                      & 25.10.2022                      & 3                               & Enfortumab/pembrolizumab        & 1                               & 05.01.2022                      & 25.10.2022                      & 0                              \\\\\n",
       "\t 14866881                        & 02.11.1945                      & 18.05.2021                      & vejiga                          & vejiga                          & carcinoma urotelial             & 13.01.2022                      & 25.03.2022                      & 0                               & anti-PDL/CD173                  & 3                               & 24.03.2022                      & 27.10.2022                      & 1                              \\\\\n",
       "\t 14694847                        & 21.01.1947                      & 11.01.2021                      & ureter                          & vejiga                          & carcinoma urotelial             & 10.05.2022                      & 02.08.2022                      & 0                               & Avelumab                        & 3                               & 08.09.2022                      & 25.10.2022                      & 0                              \\\\\n",
       "\t 20683384                        & 20.10.1951                      & 01.05.2020                      & vejiga                          & vejiga                          & carcinoma urotelial             & 01.08.2021                      & 19.01.2022                      & 0                               & Atezolizumab                    & 3                               & 25.01.2022                      & 26.10.2022                      & 0                              \\\\\n",
       "\t 20689624                        & 14.07.1956                      & 29.12.2020                      & vejiga                          & vejiga                          & carcinoma urotelial             & 07.10.2021                      & 10.01.2022                      & 0                               & Atezolizumab                    & 3                               & 24.01.2022                      & 10.03.2022                      & 1                              \\\\\n",
       "\t 15264595                        & 06.12.1958                      & 18.01.2022                      & hígado                          & vejiga                          & carcinoma urotelial             & 13.06.2022                      & 24.10.2022                      & 3                               & Avelumab                        & 1                               & 11.10.2022                      & 24.10.2022                      & 0                              \\\\\n",
       "\t 16470184                        & 09.06.1958                      & 03.06.2017                      & vejiga                          & vejiga                          & carcinoma urotelial             & 14.05.2018                      & 11.03.2021                      & 0                               & Pembrolizumab/ICOS              & 1                               & 19.10.2018                      & 27.10.2022                      & 0                              \\\\\n",
       "\t 17721793                        & 18.03.1966                      & 26.05.2021                      & vejiga                          & vejiga                          & carcinoma urotelial             & 24.02.2022                      & 07.04.2021                      & 0                               & Atezolizumab                    & 3                               & 25.04.2022                      & 25.10.2022                      & 0                              \\\\\n",
       "\t 15074485                        & 01.06.1941                      & 17.01.2022                      & vejiga                          & vejiga                          & carcinoma urotelial             & 19.07.2022                      & 18.10.2022                      & 3                               & Pembrolizumab/Futibatinib       & 1                               & 14.09.2022                      & 18.10.2022                      & 0                              \\\\\n",
       "\t 19752837                        & 24.02.1955                      & 09.01.2019                      & pared abdominal                 & vejiga                          & carcinoma urotelial             & 23.02.2022                      & 07.04.2022                      & 0                               & Atezolizumab                    & 3                               & 14.04.2022                      & 28.10.2022                      & 0                              \\\\\n",
       "\t 17850284                        & 08.10.1955                      & 30.07.2021                      & vejiga                          & vejiga                          & carcinoma urotelial             & 25.01.2022                      & 28.03.2022                      & 0                               & Atezolizumab                    & 3                               & 07.04.2022                      & 01.08.2022                      & 1                              \\\\\n",
       "\\end{tabular}\n"
      ],
      "text/markdown": [
       "\n",
       "| patient_id | birth_date | biopsy_date | biopsy_location | tumor_location | tumor_type | trt1_start_date | trt1_end_date | trt1_stop_reason | trt1 | recist | recist_date | last_date | os_event |\n",
       "|---|---|---|---|---|---|---|---|---|---|---|---|---|---|\n",
       "| 20084415                        | 18.04.1949                      | 11.11.2020                      | hepatica                        | vejiga                          | carcinoma urotelial             | 03.03.2020                      | 10.10.2020                      | 0                               | atezolizumab/enfortumab vedotin | 1                               | 18.05.2020                      | 22.01.2021                      | 1                               |\n",
       "| 17327575                        | 01.06.1950                      | 06.08.2020                      | colón                           | vejiga                          | carcinoma urotelial             | 21.04.2020                      | 14.07.2020                      | 0                               | atezolizumab                    | 3                               | 07.07.2020                      | 27.12.2020                      | 1                               |\n",
       "| 11710531                        | 07.07.1949                      | 22.09.2016                      | vejiga                          | vejiga                          | carcinoma urotelial             | 27.08.2018                      | 20.10.2020                      | 2                               | atezolizumab/cabozantinib       | 0                               | 31.12.2018                      | 27.06.2021                      | 1                               |\n",
       "| 12584309                        | 15.08.1961                      | 08.10.2020                      | adenopatía                      | vejiga                          | carcinoma urotelial             | 16.08.2021                      | 13.09.2021                      | 2                               | Bintrafusp                      | 2                               | 08.10.2021                      | 25.10.2022                      | 0                               |\n",
       "| 15775641                        | 01.09.1948                      | 05.08.2020                      | vejiga                          | vejiga                          | carcinoma urotelial             | 09.10.2020                      | 01.02.2021                      | 0                               | atezolizumab                    | 3                               | 04.02.2021                      | 01.07.2021                      | 1                               |\n",
       "| 12449265                        | 02.06.1951                      | 31.07.2020                      | vejiga                          | vejiga                          | carcinoma urotelial             | 16.09.2020                      | 14.10.2020                      | 2                               | Durvalumab/QT                   | 1                               | 13.01.2021                      | 26.10.2022                      | 0                               |\n",
       "| 14104377                        | 14.04.1945                      | 12.08.2020                      | vejiga                          | vejiga                          | carcinoma urotelial             | 25.05.2021                      | 31.01.2022                      | 2                               | Bintrafusp                      | 1                               | 22.07.2021                      | 06.10.2022                      | 0                               |\n",
       "| 15630631                        | 28.03.1953                      | 22.09.2022                      | vejiga                          | vejiga                          | carcinoma urotelial             | 03.11.2021                      | 25.10.2022                      | 3                               | Enfortumab/pembrolizumab        | 1                               | 05.01.2022                      | 25.10.2022                      | 0                               |\n",
       "| 14866881                        | 02.11.1945                      | 18.05.2021                      | vejiga                          | vejiga                          | carcinoma urotelial             | 13.01.2022                      | 25.03.2022                      | 0                               | anti-PDL/CD173                  | 3                               | 24.03.2022                      | 27.10.2022                      | 1                               |\n",
       "| 14694847                        | 21.01.1947                      | 11.01.2021                      | ureter                          | vejiga                          | carcinoma urotelial             | 10.05.2022                      | 02.08.2022                      | 0                               | Avelumab                        | 3                               | 08.09.2022                      | 25.10.2022                      | 0                               |\n",
       "| 20683384                        | 20.10.1951                      | 01.05.2020                      | vejiga                          | vejiga                          | carcinoma urotelial             | 01.08.2021                      | 19.01.2022                      | 0                               | Atezolizumab                    | 3                               | 25.01.2022                      | 26.10.2022                      | 0                               |\n",
       "| 20689624                        | 14.07.1956                      | 29.12.2020                      | vejiga                          | vejiga                          | carcinoma urotelial             | 07.10.2021                      | 10.01.2022                      | 0                               | Atezolizumab                    | 3                               | 24.01.2022                      | 10.03.2022                      | 1                               |\n",
       "| 15264595                        | 06.12.1958                      | 18.01.2022                      | hígado                          | vejiga                          | carcinoma urotelial             | 13.06.2022                      | 24.10.2022                      | 3                               | Avelumab                        | 1                               | 11.10.2022                      | 24.10.2022                      | 0                               |\n",
       "| 16470184                        | 09.06.1958                      | 03.06.2017                      | vejiga                          | vejiga                          | carcinoma urotelial             | 14.05.2018                      | 11.03.2021                      | 0                               | Pembrolizumab/ICOS              | 1                               | 19.10.2018                      | 27.10.2022                      | 0                               |\n",
       "| 17721793                        | 18.03.1966                      | 26.05.2021                      | vejiga                          | vejiga                          | carcinoma urotelial             | 24.02.2022                      | 07.04.2021                      | 0                               | Atezolizumab                    | 3                               | 25.04.2022                      | 25.10.2022                      | 0                               |\n",
       "| 15074485                        | 01.06.1941                      | 17.01.2022                      | vejiga                          | vejiga                          | carcinoma urotelial             | 19.07.2022                      | 18.10.2022                      | 3                               | Pembrolizumab/Futibatinib       | 1                               | 14.09.2022                      | 18.10.2022                      | 0                               |\n",
       "| 19752837                        | 24.02.1955                      | 09.01.2019                      | pared abdominal                 | vejiga                          | carcinoma urotelial             | 23.02.2022                      | 07.04.2022                      | 0                               | Atezolizumab                    | 3                               | 14.04.2022                      | 28.10.2022                      | 0                               |\n",
       "| 17850284                        | 08.10.1955                      | 30.07.2021                      | vejiga                          | vejiga                          | carcinoma urotelial             | 25.01.2022                      | 28.03.2022                      | 0                               | Atezolizumab                    | 3                               | 07.04.2022                      | 01.08.2022                      | 1                               |\n",
       "\n"
      ],
      "text/plain": [
       "   patient_id birth_date biopsy_date biopsy_location tumor_location\n",
       "1  20084415   18.04.1949 11.11.2020  hepatica        vejiga        \n",
       "2  17327575   01.06.1950 06.08.2020  colón           vejiga        \n",
       "3  11710531   07.07.1949 22.09.2016  vejiga          vejiga        \n",
       "4  12584309   15.08.1961 08.10.2020  adenopatía      vejiga        \n",
       "5  15775641   01.09.1948 05.08.2020  vejiga          vejiga        \n",
       "6  12449265   02.06.1951 31.07.2020  vejiga          vejiga        \n",
       "7  14104377   14.04.1945 12.08.2020  vejiga          vejiga        \n",
       "8  15630631   28.03.1953 22.09.2022  vejiga          vejiga        \n",
       "9  14866881   02.11.1945 18.05.2021  vejiga          vejiga        \n",
       "10 14694847   21.01.1947 11.01.2021  ureter          vejiga        \n",
       "11 20683384   20.10.1951 01.05.2020  vejiga          vejiga        \n",
       "12 20689624   14.07.1956 29.12.2020  vejiga          vejiga        \n",
       "13 15264595   06.12.1958 18.01.2022  hígado          vejiga        \n",
       "14 16470184   09.06.1958 03.06.2017  vejiga          vejiga        \n",
       "15 17721793   18.03.1966 26.05.2021  vejiga          vejiga        \n",
       "16 15074485   01.06.1941 17.01.2022  vejiga          vejiga        \n",
       "17 19752837   24.02.1955 09.01.2019  pared abdominal vejiga        \n",
       "18 17850284   08.10.1955 30.07.2021  vejiga          vejiga        \n",
       "   tumor_type          trt1_start_date trt1_end_date trt1_stop_reason\n",
       "1  carcinoma urotelial 03.03.2020      10.10.2020    0               \n",
       "2  carcinoma urotelial 21.04.2020      14.07.2020    0               \n",
       "3  carcinoma urotelial 27.08.2018      20.10.2020    2               \n",
       "4  carcinoma urotelial 16.08.2021      13.09.2021    2               \n",
       "5  carcinoma urotelial 09.10.2020      01.02.2021    0               \n",
       "6  carcinoma urotelial 16.09.2020      14.10.2020    2               \n",
       "7  carcinoma urotelial 25.05.2021      31.01.2022    2               \n",
       "8  carcinoma urotelial 03.11.2021      25.10.2022    3               \n",
       "9  carcinoma urotelial 13.01.2022      25.03.2022    0               \n",
       "10 carcinoma urotelial 10.05.2022      02.08.2022    0               \n",
       "11 carcinoma urotelial 01.08.2021      19.01.2022    0               \n",
       "12 carcinoma urotelial 07.10.2021      10.01.2022    0               \n",
       "13 carcinoma urotelial 13.06.2022      24.10.2022    3               \n",
       "14 carcinoma urotelial 14.05.2018      11.03.2021    0               \n",
       "15 carcinoma urotelial 24.02.2022      07.04.2021    0               \n",
       "16 carcinoma urotelial 19.07.2022      18.10.2022    3               \n",
       "17 carcinoma urotelial 23.02.2022      07.04.2022    0               \n",
       "18 carcinoma urotelial 25.01.2022      28.03.2022    0               \n",
       "   trt1                            recist recist_date last_date  os_event\n",
       "1  atezolizumab/enfortumab vedotin 1      18.05.2020  22.01.2021 1       \n",
       "2  atezolizumab                    3      07.07.2020  27.12.2020 1       \n",
       "3  atezolizumab/cabozantinib       0      31.12.2018  27.06.2021 1       \n",
       "4  Bintrafusp                      2      08.10.2021  25.10.2022 0       \n",
       "5  atezolizumab                    3      04.02.2021  01.07.2021 1       \n",
       "6  Durvalumab/QT                   1      13.01.2021  26.10.2022 0       \n",
       "7  Bintrafusp                      1      22.07.2021  06.10.2022 0       \n",
       "8  Enfortumab/pembrolizumab        1      05.01.2022  25.10.2022 0       \n",
       "9  anti-PDL/CD173                  3      24.03.2022  27.10.2022 1       \n",
       "10 Avelumab                        3      08.09.2022  25.10.2022 0       \n",
       "11 Atezolizumab                    3      25.01.2022  26.10.2022 0       \n",
       "12 Atezolizumab                    3      24.01.2022  10.03.2022 1       \n",
       "13 Avelumab                        1      11.10.2022  24.10.2022 0       \n",
       "14 Pembrolizumab/ICOS              1      19.10.2018  27.10.2022 0       \n",
       "15 Atezolizumab                    3      25.04.2022  25.10.2022 0       \n",
       "16 Pembrolizumab/Futibatinib       1      14.09.2022  18.10.2022 0       \n",
       "17 Atezolizumab                    3      14.04.2022  28.10.2022 0       \n",
       "18 Atezolizumab                    3      07.04.2022  01.08.2022 1       "
      ]
     },
     "metadata": {},
     "output_type": "display_data"
    }
   ],
   "source": [
    "b"
   ]
  },
  {
   "cell_type": "markdown",
   "id": "5007f22c",
   "metadata": {},
   "source": [
    "#### Format Dates"
   ]
  },
  {
   "cell_type": "code",
   "execution_count": 11,
   "id": "90c69fb8",
   "metadata": {},
   "outputs": [],
   "source": [
    "nice_date <- function(i) as.Date(i, tryFormats = c(\"%d.%m.%Y\", \"%d.%m.%y\"))"
   ]
  },
  {
   "cell_type": "code",
   "execution_count": 12,
   "id": "902f8468",
   "metadata": {},
   "outputs": [],
   "source": [
    "for( i in names( b %>% select(contains(\"date\")) )){\n",
    "    b[,paste0(i,\"_t\")] <- unlist(lapply(as.character(b[,i]), nice_date))\n",
    "}"
   ]
  },
  {
   "cell_type": "code",
   "execution_count": 14,
   "id": "e6201425",
   "metadata": {},
   "outputs": [],
   "source": [
    "c <- b %>% mutate(   \n",
    "                clinical_age = round((trt1_start_date_t - birth_date_t)/365),\n",
    "                os_days = last_date_t - trt1_start_date_t, \n",
    "                biopsy_vs_treat = biopsy_date_t - trt1_start_date_t\n",
    "        )"
   ]
  },
  {
   "cell_type": "markdown",
   "id": "51575839",
   "metadata": {},
   "source": [
    "#### Maps"
   ]
  },
  {
   "cell_type": "code",
   "execution_count": 15,
   "id": "51fb0741",
   "metadata": {},
   "outputs": [],
   "source": [
    "trt_map <- list(\n",
    "    \"atezolizumab\" = \"pdl\",\n",
    "    \"avelumab\" = \"pdl\",\n",
    "    \"anti-pdl\" = \"pdl\",\n",
    "    \"bintrafusp\" = \"pdl\",\n",
    "    \"durvalumab\" = \"pd\",\n",
    "    \"pembrolizumab\" = \"pd\"\n",
    ")\n",
    "location_map <- list(\n",
    "    \"vejiga\" = \"bladder\",\n",
    "    \"colón\" = \"colon\",\n",
    "    \"ureter\" = \"ureter\",\n",
    "    \"adenopatía\" = \"adenopathy\",\n",
    "    \"hepatica\" = \"liver\",\n",
    "    \"hígado\" = \"liver\",\n",
    "    \"pared abdominal\" = \"abdominal_wall\"\n",
    ")\n",
    "recist_map <- list(\n",
    "    \"4\" = \"UK\",\n",
    "    \"3\" = \"PD\",\n",
    "    \"2\" = \"SD\",\n",
    "    \"1\" = \"PR\",\n",
    "    \"0\" = \"CR\"\n",
    ")\n",
    "bor_map <- list(\n",
    "    \"4\" = NA,\n",
    "    \"3\" = 0,\n",
    "    \"2\" = 0,\n",
    "    \"1\" = 1,\n",
    "    \"0\" = 1\n",
    ")\n",
    "mechanism_map <- function(i){\n",
    "    if( grepl('atezolizumab',i) | grepl('avelumab',i) | grepl('anti-pdl',i) | grepl('bintrafusp',i)){\n",
    "        'pdl'\n",
    "    } else {\n",
    "        'pd'\n",
    "    }\n",
    "}"
   ]
  },
  {
   "cell_type": "code",
   "execution_count": 16,
   "id": "791eda74",
   "metadata": {},
   "outputs": [],
   "source": [
    "c$clinical_tumor_location <-  unlist(lapply(c$tumor_location, function(i) location_map[[i]]))\n",
    "c$clinical_biopsy_location <- unlist(lapply(c$biopsy_location, function(i) location_map[[i]]))\n",
    "c$clinical_mechanism <-       unlist(lapply( tolower(c$trt1), function(i) mechanism_map(i)))                                      \n",
    "c$clinical_recist <-          unlist(lapply( as.character(c$recist), function(i) recist_map[[i]]))\n",
    "c$bor <-                      unlist(lapply( as.character(c$recist), function(i) bor_map[[i]]))\n",
    "c$clinical_gender <- NA\n",
    "c$clinical_pretreat <- NA\n",
    "c$treatment <- c$trt1"
   ]
  },
  {
   "cell_type": "markdown",
   "id": "6b90cb37",
   "metadata": {},
   "source": [
    "### 2 - Clean and Send it"
   ]
  },
  {
   "cell_type": "code",
   "execution_count": 17,
   "id": "c5f50d11",
   "metadata": {},
   "outputs": [],
   "source": [
    "d <- c %>% select(patient_id, treatment, contains(\"clinical\"), bor, os_event, os_days)"
   ]
  },
  {
   "cell_type": "code",
   "execution_count": 18,
   "id": "b1642686",
   "metadata": {},
   "outputs": [],
   "source": [
    "saveRDS( d, paste0( O_DIR, \"bladder.Rds\"))"
   ]
  }
 ],
 "metadata": {
  "kernelspec": {
   "display_name": "R",
   "language": "R",
   "name": "ir"
  },
  "language_info": {
   "codemirror_mode": "r",
   "file_extension": ".r",
   "mimetype": "text/x-r-source",
   "name": "R",
   "pygments_lexer": "r",
   "version": "3.6.1"
  }
 },
 "nbformat": 4,
 "nbformat_minor": 5
}
