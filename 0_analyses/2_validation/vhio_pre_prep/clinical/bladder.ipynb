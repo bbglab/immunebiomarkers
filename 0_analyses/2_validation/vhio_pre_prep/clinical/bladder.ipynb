{
 "cells": [
  {
   "cell_type": "code",
   "execution_count": null,
   "id": "0",
   "metadata": {},
   "outputs": [],
   "source": [
    "wd <- dirname(dirname(dirname(dirname(getwd()))))\n",
    "source(paste0(wd,\"/mission_control/treasure_map.R\"))\n",
    "library(tidyverse)\n",
    "\n",
    "I_DIR <- paste0(E_DIR, \"/val_hebron/clinical/raw/\")\n",
    "O_DIR <- paste0(E_DIR, \"/val_hebron/clinical/clean/\")"
   ]
  },
  {
   "cell_type": "markdown",
   "id": "1",
   "metadata": {},
   "source": [
    "### 0 - Read raw data"
   ]
  },
  {
   "cell_type": "code",
   "execution_count": null,
   "id": "2",
   "metadata": {},
   "outputs": [],
   "source": [
    "a <- read.csv( paste0(I_DIR, \"llistat_pacients_mol_profiled_bladder.csv\"), \n",
    "               sep = \";\",\n",
    "               stringsAsFactors = FALSE)"
   ]
  },
  {
   "cell_type": "markdown",
   "id": "3",
   "metadata": {},
   "source": [
    "### 1 - Cleaning"
   ]
  },
  {
   "cell_type": "code",
   "execution_count": null,
   "id": "4",
   "metadata": {},
   "outputs": [],
   "source": [
    "b <- a %>% transmute( \n",
    "            patient_id = NHC, \n",
    "            birth_date = Fecha.Nacimiento,\n",
    "            biopsy_date = Fecha.biopsia, \n",
    "            biopsy_location = Localización.biopsia,\n",
    "            tumor_location = Localización.primario.Tumor,\n",
    "            tumor_type = Tipo.de.tumor.primario, \n",
    "            trt1_start_date = Fecha.inicio.Tto,\n",
    "            trt1_end_date = Fecha.fin.Tto,\n",
    "            trt1_stop_reason = Suspensión.tratamiento, \n",
    "            trt1 = Esquema.Tto, \n",
    "            recist = RECIST,\n",
    "            recist_date = Fecha.RECIST, \n",
    "            last_date = Fecha.último.seguimiento...defunción,\n",
    "            os_event = Status\n",
    "    ) %>% filter(!grepl(\"general\", recist_date))"
   ]
  },
  {
   "cell_type": "markdown",
   "id": "5",
   "metadata": {},
   "source": [
    "#### Format Dates"
   ]
  },
  {
   "cell_type": "code",
   "execution_count": null,
   "id": "6",
   "metadata": {},
   "outputs": [],
   "source": [
    "nice_date <- function(i) as.Date(i, tryFormats = c(\"%d.%m.%Y\", \"%d.%m.%y\"))"
   ]
  },
  {
   "cell_type": "code",
   "execution_count": null,
   "id": "7",
   "metadata": {},
   "outputs": [],
   "source": [
    "for( i in names( b %>% select(contains(\"date\")) )){\n",
    "    b[,paste0(i,\"_t\")] <- unlist(lapply(as.character(b[,i]), nice_date))\n",
    "}"
   ]
  },
  {
   "cell_type": "code",
   "execution_count": null,
   "id": "8",
   "metadata": {},
   "outputs": [],
   "source": [
    "c <- b %>% mutate(   \n",
    "                clinical_age = round((trt1_start_date_t - birth_date_t)/365),\n",
    "                os_days = last_date_t - trt1_start_date_t, \n",
    "                biopsy_vs_treat = biopsy_date_t - trt1_start_date_t\n",
    "        )"
   ]
  },
  {
   "cell_type": "markdown",
   "id": "9",
   "metadata": {},
   "source": [
    "#### Maps"
   ]
  },
  {
   "cell_type": "code",
   "execution_count": null,
   "id": "10",
   "metadata": {},
   "outputs": [],
   "source": [
    "trt_map <- list(\n",
    "    \"atezolizumab\" = \"pdl\",\n",
    "    \"avelumab\" = \"pdl\",\n",
    "    \"anti-pdl\" = \"pdl\",\n",
    "    \"bintrafusp\" = \"pdl\",\n",
    "    \"durvalumab\" = \"pd\",\n",
    "    \"pembrolizumab\" = \"pd\"\n",
    ")\n",
    "location_map <- list(\n",
    "    \"vejiga\" = \"bladder\",\n",
    "    \"colón\" = \"colon\",\n",
    "    \"ureter\" = \"ureter\",\n",
    "    \"adenopatía\" = \"adenopathy\",\n",
    "    \"hepatica\" = \"liver\",\n",
    "    \"hígado\" = \"liver\",\n",
    "    \"pared abdominal\" = \"abdominal_wall\"\n",
    ")\n",
    "recist_map <- list(\n",
    "    \"4\" = \"UK\",\n",
    "    \"3\" = \"PD\",\n",
    "    \"2\" = \"SD\",\n",
    "    \"1\" = \"PR\",\n",
    "    \"0\" = \"CR\"\n",
    ")\n",
    "bor_map <- list(\n",
    "    \"4\" = NA,\n",
    "    \"3\" = 0,\n",
    "    \"2\" = 0,\n",
    "    \"1\" = 1,\n",
    "    \"0\" = 1\n",
    ")\n",
    "mechanism_map <- function(i){\n",
    "    if( grepl('atezolizumab',i) | grepl('avelumab',i) | grepl('anti-pdl',i) | grepl('bintrafusp',i)){\n",
    "        'pdl'\n",
    "    } else {\n",
    "        'pd'\n",
    "    }\n",
    "}"
   ]
  },
  {
   "cell_type": "code",
   "execution_count": null,
   "id": "11",
   "metadata": {},
   "outputs": [],
   "source": [
    "c$clinical_tumor_location <-  unlist(lapply(c$tumor_location, function(i) location_map[[i]]))\n",
    "c$clinical_biopsy_location <- unlist(lapply(c$biopsy_location, function(i) location_map[[i]]))\n",
    "c$clinical_mechanism <-       unlist(lapply( tolower(c$trt1), function(i) mechanism_map(i)))                                      \n",
    "c$clinical_recist <-          unlist(lapply( as.character(c$recist), function(i) recist_map[[i]]))\n",
    "c$bor <-                      unlist(lapply( as.character(c$recist), function(i) bor_map[[i]]))\n",
    "c$clinical_gender <- NA\n",
    "c$clinical_pretreat <- NA\n",
    "c$treatment <- c$trt1"
   ]
  },
  {
   "cell_type": "markdown",
   "id": "12",
   "metadata": {},
   "source": [
    "### 2 - Clean and Send it"
   ]
  },
  {
   "cell_type": "code",
   "execution_count": null,
   "id": "13",
   "metadata": {},
   "outputs": [],
   "source": [
    "d <- c %>% select(patient_id, treatment, contains(\"clinical\"), bor, os_event, os_days)"
   ]
  },
  {
   "cell_type": "code",
   "execution_count": null,
   "id": "14",
   "metadata": {},
   "outputs": [],
   "source": [
    "saveRDS( d, paste0( O_DIR, \"bladder.Rds\"))"
   ]
  }
 ],
 "metadata": {
  "kernelspec": {
   "display_name": "R",
   "language": "R",
   "name": "ir"
  },
  "language_info": {
   "codemirror_mode": "r",
   "file_extension": ".r",
   "mimetype": "text/x-r-source",
   "name": "R",
   "pygments_lexer": "r",
   "version": "3.6.1"
  }
 },
 "nbformat": 4,
 "nbformat_minor": 5
}
