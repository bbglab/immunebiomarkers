{
 "cells": [
  {
   "cell_type": "code",
   "execution_count": 6,
   "id": "aabba5b7",
   "metadata": {},
   "outputs": [],
   "source": [
    "wd <- dirname(dirname(dirname(dirname(getwd()))))\n",
    "source(paste0(wd,\"/mission_control/treasure_map.R\"))\n",
    "library(tidyverse)\n",
    "\n",
    "I_DIR <- paste0(E_DIR, \"/val_hebron/clinical/raw/\")\n",
    "O_DIR <- paste0(E_DIR, \"/val_hebron/clinical/clean/\")"
   ]
  },
  {
   "cell_type": "markdown",
   "id": "b3d49521",
   "metadata": {},
   "source": [
    "### 0 - Read the raw data"
   ]
  },
  {
   "cell_type": "code",
   "execution_count": 7,
   "id": "286ab005",
   "metadata": {},
   "outputs": [],
   "source": [
    "a <- read.csv( paste0(I_DIR, \"llistat_pacients_mol_profiled_skin.csv\"), \n",
    "               sep = \";\",\n",
    "               stringsAsFactors = FALSE)"
   ]
  },
  {
   "cell_type": "markdown",
   "id": "fc061e77",
   "metadata": {},
   "source": [
    "### 1 - Clean"
   ]
  },
  {
   "cell_type": "code",
   "execution_count": 8,
   "id": "7a260d67",
   "metadata": {},
   "outputs": [],
   "source": [
    "patient1 <- list(\n",
    "    \"patient_id\" = \"15191395\",\n",
    "    \"date_of_birth\" = \"8/23/1944\",\n",
    "    \"clinical_gender\" = \"male\",\n",
    "    \"clinical_tumor_location\" = \"skin\",\n",
    "    \"clinical_biopsy_location\" = \"skin\",\n",
    "    \"clinical_recist\" = \"SD\",\n",
    "    \"clinical_mechanism\" = \"pd\",\n",
    "    \"clinical_pretreat\" = 0,\n",
    "    \"bor\" = 0,\n",
    "    \"os_event\" = 1,\n",
    "    \"treatment_start_date\" = \"4/1/2019\",\n",
    "    \"death_date\" = \"6/24/2021\",\n",
    "    \"treatment\" = \"cemiplimab\"\n",
    ")"
   ]
  },
  {
   "cell_type": "code",
   "execution_count": 9,
   "id": "721fe58e",
   "metadata": {},
   "outputs": [],
   "source": [
    "patient2 <- list(\n",
    "    \"patient_id\" = \"13978545\",\n",
    "    \"date_of_birth\" = \"1/7/1943\",\n",
    "    \"clinical_gender\" = \"female\",\n",
    "    \"clinical_tumor_location\" = \"skin\",\n",
    "    \"clinical_biopsy_location\" = \"skin\",\n",
    "    \"clinical_recist\" = \"PR\",\n",
    "    \"clinical_mechanism\" = \"pd\",\n",
    "    \"clinical_pretreat\" = 0,\n",
    "    \"bor\" = 1,\n",
    "    \"os_event\" = 0,\n",
    "    \"treatment_start_date\" = \"10/11/2018\",\n",
    "    \"death_date\" = \"6/24/2021\",\n",
    "    \"treatment\" = \"nivolumab + relatlimab\"\n",
    ")"
   ]
  },
  {
   "cell_type": "code",
   "execution_count": 10,
   "id": "e9819c6c",
   "metadata": {},
   "outputs": [],
   "source": [
    "b <- rbind( data.frame(patient1), data.frame(patient2))"
   ]
  },
  {
   "cell_type": "code",
   "execution_count": 11,
   "id": "609acbfd",
   "metadata": {},
   "outputs": [],
   "source": [
    "for( i in c(\"date_of_birth\", \"treatment_start_date\", \"death_date\")){\n",
    "    b[,paste0(i,\"_ct\")] <- unlist(lapply(b[,i], function(i) as.Date(i, tryFormats = c(\"%m/%d/%Y\"))))\n",
    "}\n",
    "b$clinical_age <- round((b$treatment_start_date_ct - b$date_of_birth_ct)/365)\n",
    "b$os_days <- b$death_date_ct - b$treatment_start_date_ct                                       "
   ]
  },
  {
   "cell_type": "code",
   "execution_count": 12,
   "id": "1fcc5cea",
   "metadata": {},
   "outputs": [],
   "source": [
    "c <- b %>% select(-contains(\"date\"))"
   ]
  },
  {
   "cell_type": "markdown",
   "id": "0e7e66d1",
   "metadata": {},
   "source": [
    "### 2 - Send it!"
   ]
  },
  {
   "cell_type": "code",
   "execution_count": 13,
   "id": "d870dbe9",
   "metadata": {},
   "outputs": [],
   "source": [
    "saveRDS( c, paste0( O_DIR, \"skin.Rds\"))"
   ]
  }
 ],
 "metadata": {
  "kernelspec": {
   "display_name": "R",
   "language": "R",
   "name": "ir"
  },
  "language_info": {
   "codemirror_mode": "r",
   "file_extension": ".r",
   "mimetype": "text/x-r-source",
   "name": "R",
   "pygments_lexer": "r",
   "version": "3.6.1"
  }
 },
 "nbformat": 4,
 "nbformat_minor": 5
}
