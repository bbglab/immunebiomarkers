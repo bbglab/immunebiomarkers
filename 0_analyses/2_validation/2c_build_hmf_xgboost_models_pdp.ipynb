{
 "cells": [
  {
   "cell_type": "code",
   "execution_count": null,
   "id": "0",
   "metadata": {},
   "outputs": [],
   "source": [
    "wd <- dirname(dirname(getwd()))\n",
    "source(paste0(wd,\"/mission_control/treasure_map.R\"))\n",
    "source(paste0(wd,\"/mission_control/helpers/xgboost/eval_help.R\"))\n",
    "source(paste0(wd,\"/mission_control/helpers/xgboost/paper_settings.R\"))\n",
    "source(paste0(wd,\"/mission_control/helpers/xgboost/validation_help.R\"))\n",
    "library(tidyverse)\n",
    "library(xgboost)"
   ]
  },
  {
   "cell_type": "markdown",
   "id": "1",
   "metadata": {},
   "source": [
    "### 0 - Get Data Ready"
   ]
  },
  {
   "cell_type": "code",
   "execution_count": null,
   "id": "2",
   "metadata": {},
   "outputs": [],
   "source": [
    "validation_ready <- readRDS( paste0(TMP_DIR, \"validation-hmf-go.Rds\") ) "
   ]
  },
  {
   "cell_type": "markdown",
   "id": "3",
   "metadata": {},
   "source": [
    "### 1 - Prep HMF data"
   ]
  },
  {
   "cell_type": "code",
   "execution_count": null,
   "id": "4",
   "metadata": {},
   "outputs": [],
   "source": [
    "hmf <- (\n",
    "validation_ready \n",
    "    %>% filter(Study == \"HMF-CPCT\") \n",
    "    %>% mutate_at(vars(\"tcell\",\"tgfb\",\"prolif\", \"pretreat\", \"tmb\"), scale)\n",
    "    %>% mutate(model_apply = tissue)\n",
    "    %>% drop_na(os, bor, tcell)\n",
    "    %>% select(\"patient_id\", \"bor\", \"os\", \"tissue\", \"tcell\",\"tgfb\",\"prolif\", \"pretreat\", \"tmb\")\n",
    ")"
   ]
  },
  {
   "cell_type": "markdown",
   "id": "5",
   "metadata": {},
   "source": [
    "#### Helpers for fitting"
   ]
  },
  {
   "cell_type": "code",
   "execution_count": null,
   "id": "6",
   "metadata": {},
   "outputs": [],
   "source": [
    "best_fit <- function(Y, X, hyper_grid = parameter_grid, model, base_model = NULL){\n",
    "    grid_fit(Y, X, hyper_grid, model, base_model)$best_model\n",
    "}"
   ]
  },
  {
   "cell_type": "markdown",
   "id": "7",
   "metadata": {},
   "source": [
    "### 2 - Build the five-factor model\n",
    "- Build K models for each tissue"
   ]
  },
  {
   "cell_type": "code",
   "execution_count": null,
   "id": "8",
   "metadata": {},
   "outputs": [],
   "source": [
    "set.seed(62220)\n",
    "K <- 1"
   ]
  },
  {
   "cell_type": "code",
   "execution_count": null,
   "id": "9",
   "metadata": {},
   "outputs": [],
   "source": [
    "dfs <- list()\n",
    "for( i in unique(hmf$tissue)){\n",
    "    dfs[[i]] <- hmf %>% filter(tissue == i)\n",
    "}"
   ]
  },
  {
   "cell_type": "markdown",
   "id": "10",
   "metadata": {},
   "source": [
    "### Overall Model"
   ]
  },
  {
   "cell_type": "code",
   "execution_count": null,
   "id": "11",
   "metadata": {},
   "outputs": [],
   "source": [
    "X <- as.matrix(hmf %>% select(\"tcell\",\"tgfb\",\"prolif\", \"pretreat\", \"tmb\"))\n",
    "pan_lr <- grid_fit(as.matrix(hmf$bor), X, parameter_grid, model = \"lr\")$best_model\n",
    "pan_os <- grid_fit(as.matrix(hmf$os), X, parameter_grid, model = \"os\")$best_model"
   ]
  },
  {
   "cell_type": "code",
   "execution_count": null,
   "id": "12",
   "metadata": {},
   "outputs": [],
   "source": [
    "pred_lr <- as.data.frame(predict(pan_lr, X, predcontrib = TRUE)) %>% mutate(mod = \"lr\", tissue = \"pan\", patient_id = hmf$patient_id)\n",
    "pred_os <- as.data.frame(predict(pan_os, X, predcontrib = TRUE)) %>% mutate(mod = \"os\", tissue = \"pan\", patient_id = hmf$patient_id)\n",
    "pan_pred <- rbind(pred_lr, pred_os)"
   ]
  },
  {
   "cell_type": "markdown",
   "id": "13",
   "metadata": {},
   "source": [
    "#### Tissue predictions"
   ]
  },
  {
   "cell_type": "code",
   "execution_count": null,
   "id": "14",
   "metadata": {},
   "outputs": [],
   "source": [
    "dfs <- list()\n",
    "for( i in unique(hmf$tissue)){\n",
    "    dfs[[i]] <- hmf %>% filter(tissue == i)\n",
    "}"
   ]
  },
  {
   "cell_type": "code",
   "execution_count": null,
   "id": "15",
   "metadata": {},
   "outputs": [],
   "source": [
    "pred_maker <- function(i){\n",
    "    df <- dfs[[i]]\n",
    "    Y_bor <- as.matrix( df$bor )\n",
    "    Y_os <- as.matrix(df$os)\n",
    "    X <- as.matrix( df %>% select(\"tcell\",\"tgfb\",\"prolif\", \"pretreat\", \"tmb\"))\n",
    "    mod_lr <- grid_fit(Y_bor, X, parameter_grid, model = \"lr\", base_model = pan_lr)$best_model\n",
    "    mod_os <- grid_fit(Y_os, X, parameter_grid, model = \"os\", base_model = pan_os)$best_model\n",
    "    pred_lr <- as.data.frame(predict(mod_lr, X, predcontrib = TRUE)) %>% mutate(mod = \"lr\", tissue = i, patient_id = df$patient_id)\n",
    "    pred_os <- as.data.frame(predict(mod_os, X, predcontrib = TRUE)) %>% mutate(mod = \"os\", tissue = i, patient_id = df$patient_id)\n",
    "    rbind(pred_lr, pred_os) \n",
    "}"
   ]
  },
  {
   "cell_type": "code",
   "execution_count": null,
   "id": "16",
   "metadata": {},
   "outputs": [],
   "source": [
    "preds <- list()"
   ]
  },
  {
   "cell_type": "code",
   "execution_count": null,
   "id": "17",
   "metadata": {},
   "outputs": [],
   "source": [
    "for( i in unique(hmf$tissue)){\n",
    "    print(i)\n",
    "    preds[[i]] <- pred_maker(i)\n",
    "}"
   ]
  },
  {
   "cell_type": "code",
   "execution_count": null,
   "id": "18",
   "metadata": {},
   "outputs": [],
   "source": [
    "vamonos <- rbind(do.call(\"rbind\", preds), pan_pred)"
   ]
  },
  {
   "cell_type": "markdown",
   "id": "19",
   "metadata": {},
   "source": [
    "### 3 - Send it"
   ]
  },
  {
   "cell_type": "code",
   "execution_count": null,
   "id": "20",
   "metadata": {},
   "outputs": [],
   "source": [
    "saveRDS( vamonos, paste0(TMP_DIR, \"validation-hmf-preds-pdp.Rds\"))"
   ]
  }
 ],
 "metadata": {
  "kernelspec": {
   "display_name": "R",
   "language": "R",
   "name": "ir"
  },
  "language_info": {
   "codemirror_mode": "r",
   "file_extension": ".r",
   "mimetype": "text/x-r-source",
   "name": "R",
   "pygments_lexer": "r",
   "version": "3.6.1"
  }
 },
 "nbformat": 4,
 "nbformat_minor": 5
}
