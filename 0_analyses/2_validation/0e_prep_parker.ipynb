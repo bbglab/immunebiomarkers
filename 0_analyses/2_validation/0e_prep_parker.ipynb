{
 "cells": [
  {
   "cell_type": "markdown",
   "id": "4a27c1ca",
   "metadata": {},
   "source": [
    "### Parker Validation\n",
    "- No imputation"
   ]
  },
  {
   "cell_type": "code",
   "execution_count": 1,
   "id": "868b0a65",
   "metadata": {},
   "outputs": [],
   "source": [
    "options(repr.matrix.max.cols=150, repr.matrix.max.rows=200)"
   ]
  },
  {
   "cell_type": "code",
   "execution_count": 2,
   "id": "b37b46ec",
   "metadata": {},
   "outputs": [
    {
     "name": "stderr",
     "output_type": "stream",
     "text": [
      "Registered S3 method overwritten by 'rvest':\n",
      "  method            from\n",
      "  read_xml.response xml2\n",
      "── Attaching packages ──────────────────────────────────────────────────────────────────────────────────────────────────────────────────────────────────────────────────────────────────────────── tidyverse 1.2.1 ──\n",
      "✔ ggplot2 3.3.6     ✔ purrr   0.3.4\n",
      "✔ tibble  3.1.2     ✔ dplyr   1.0.6\n",
      "✔ tidyr   1.1.3     ✔ stringr 1.4.0\n",
      "✔ readr   1.3.1     ✔ forcats 0.5.1\n",
      "Warning message:\n",
      "“package ‘tibble’ was built under R version 3.6.3”Warning message:\n",
      "“package ‘tidyr’ was built under R version 3.6.3”Warning message:\n",
      "“package ‘purrr’ was built under R version 3.6.3”Warning message:\n",
      "“package ‘dplyr’ was built under R version 3.6.3”Warning message:\n",
      "“package ‘forcats’ was built under R version 3.6.3”── Conflicts ─────────────────────────────────────────────────────────────────────────────────────────────────────────────────────────────────────────────────────────────────────────────── tidyverse_conflicts() ──\n",
      "✖ dplyr::filter() masks stats::filter()\n",
      "✖ dplyr::lag()    masks stats::lag()\n"
     ]
    }
   ],
   "source": [
    "wd <- dirname(dirname(getwd()))\n",
    "source(paste0(wd,\"/mission_control/treasure_map.R\"))\n",
    "source(paste0(wd,\"/mission_control/helpers/validation/settings.R\"))\n",
    "\n",
    "library(tidyverse)\n",
    "library(stringr)"
   ]
  },
  {
   "cell_type": "markdown",
   "id": "d7883998",
   "metadata": {},
   "source": [
    "#### Read data sets"
   ]
  },
  {
   "cell_type": "code",
   "execution_count": 3,
   "id": "5cea6a9f",
   "metadata": {},
   "outputs": [],
   "source": [
    "I_DIR <- paste0(E_DIR, \"parker_melanoma/\")\n",
    "clinical <- read.csv( paste0(I_DIR, \"Clinical/Subjects-CancerCell-MORRISON1-metadata.tsv\"), sep = \"\\t\")\n",
    "somatic <- read.csv( paste0(I_DIR, \"WES/WES-CancerCell-MORRISON1-metadata.tsv\"), sep = \"\\t\") \n",
    "rna <- read.csv( paste0(I_DIR, \"RNASeq/data/RNA-CancerCell-MORRISON1-combat_batch_corrected-logcpm-all_samples.tsv\"), sep = \"\\t\")\n",
    "#rna <- read.csv( paste0(I_DIR, \"RNASeq/data/RNA-CancerCell-MORRISON1-no_batch_correction-logcpm-all_samples.tsv\"), sep = \"\\t\")\n",
    "rna_link <- read.csv( paste0(I_DIR,\"RNASeq/RNA-CancerCell-MORRISON1-metadata.tsv\"), sep = \"\\t\") #%>% transmute(sample.id, patient_id = subject.id)"
   ]
  },
  {
   "cell_type": "markdown",
   "id": "630975c4",
   "metadata": {},
   "source": [
    "#### 0 - Clean clinical data"
   ]
  },
  {
   "cell_type": "code",
   "execution_count": 4,
   "id": "e3207db6",
   "metadata": {},
   "outputs": [],
   "source": [
    "binary_response <- function( recist ){\n",
    "    recist = as.character(recist)\n",
    "    if( recist %in% c(\"CR\",\"PR\")){\n",
    "        1\n",
    "    } else if ( recist %in% c(\"SD\", \"PD\")){\n",
    "        0\n",
    "    } else {\n",
    "        NA\n",
    "    }\n",
    "}"
   ]
  },
  {
   "cell_type": "code",
   "execution_count": 5,
   "id": "02d4a7ad",
   "metadata": {},
   "outputs": [],
   "source": [
    "clinical$bor <- unlist(lapply( as.character(clinical$\"bor\"), binary_response))"
   ]
  },
  {
   "cell_type": "code",
   "execution_count": 6,
   "id": "89a16cfd",
   "metadata": {},
   "outputs": [],
   "source": [
    "clinical_go <- (\n",
    "    clinical\n",
    "        %>% filter(! treatment.regimen.name %in% c(\"CTLA4\", \"PD1-to-CTLA4\"),\n",
    "                   !cohort %in% c(\"064\", \"va\") ### stated not pd1 in paper\n",
    "                  )\n",
    "        %>% transmute(\n",
    "          patient_id = subject.id, \n",
    "          bor,\n",
    "          os_days = os,   \n",
    "          os = NA, \n",
    "          os_event = NA, \n",
    "          age = subject.age, \n",
    "          gender = subject.sex,\n",
    "          tissue = \"skin\", \n",
    "          tissue_full = sample.tumor.type,\n",
    "          pretreat = ifelse(previous.treatment == \"naive\", 0, 1),\n",
    "          pretreat_comp = NA,\n",
    "          Study = \"PARKER\",\n",
    "          cohort = cohort,\n",
    "          extra = treatment.regimen.name, \n",
    "          extra2 = meddra.disease.preferred.name\n",
    "        )\n",
    ")"
   ]
  },
  {
   "cell_type": "markdown",
   "id": "aa81b407",
   "metadata": {},
   "source": [
    "#### 1 - Somatic data"
   ]
  },
  {
   "cell_type": "code",
   "execution_count": 7,
   "id": "3cb3bdcb",
   "metadata": {},
   "outputs": [],
   "source": [
    "somatic_go <- (\n",
    "    somatic\n",
    "        %>% filter(! treatment.regimen.name %in% c(\"CTLA4\", \"PD1-to-CTLA4\", \"CTLA4-to-PD1\"), #, \"PD1-to-CTLA4\", \"CTLA4-to-PD1\"\n",
    "                  grepl(\"pre\",timepoint.id)\n",
    "                   )\n",
    "        %>% drop_na(tmb)\n",
    "        %>% transmute(\n",
    "            patient_id = subject.id,\n",
    "            tmb = log(tmb + 1), \n",
    "            purity\n",
    "        )\n",
    ")"
   ]
  },
  {
   "cell_type": "markdown",
   "id": "3ec1b9a7",
   "metadata": {},
   "source": [
    "#### 2 - RNA data"
   ]
  },
  {
   "cell_type": "markdown",
   "id": "a703fcf7",
   "metadata": {},
   "source": [
    "- Data to share"
   ]
  },
  {
   "cell_type": "code",
   "execution_count": 8,
   "id": "060c4805",
   "metadata": {},
   "outputs": [],
   "source": [
    "share <- data.frame(t(rna %>% column_to_rownames(\"gene.hgnc.symbol\")))\n",
    "saveRDS( share, paste0(REF_DIR, \"rna_parker.Rds\") )"
   ]
  },
  {
   "cell_type": "markdown",
   "id": "cb80f199",
   "metadata": {},
   "source": [
    "- Gene sets"
   ]
  },
  {
   "cell_type": "code",
   "execution_count": 9,
   "id": "f5f4c08e",
   "metadata": {},
   "outputs": [],
   "source": [
    "rna_link <- rna_link %>% transmute(sample.id, patient_id = subject.id)"
   ]
  },
  {
   "cell_type": "code",
   "execution_count": 10,
   "id": "97f1485a",
   "metadata": {},
   "outputs": [],
   "source": [
    "rna_clean <- (\n",
    "    rownames_to_column(\n",
    "        data.frame(\n",
    "            t(column_to_rownames(data.frame(rna %>% filter( gene.hgnc.symbol %in% unlist(gene_sets) )), \"gene.hgnc.symbol\")\n",
    "        )\n",
    "    ), \"sample.id\")\n",
    ")"
   ]
  },
  {
   "cell_type": "code",
   "execution_count": 11,
   "id": "fa595332",
   "metadata": {},
   "outputs": [],
   "source": [
    "rna_clean$tcell  <- apply(rna_clean %>% select( any_of(gene_sets$clusters$tcell)),1,mean)\n",
    "rna_clean$prolif <- apply(rna_clean %>% select( any_of(gene_sets$clusters$prolif)),1,mean)\n",
    "rna_clean$tgfb   <- apply(rna_clean %>% select( any_of(gene_sets$clusters$tgfb)),1,mean)\n",
    "\n",
    "rna_clean$tcell_cluster5  <- apply(rna_clean %>% select( any_of(gene_sets$clusters5$tcell)),1,mean)\n",
    "rna_clean$prolif_cluster5 <- apply(rna_clean %>% select( any_of(gene_sets$clusters5$prolif)),1,mean)\n",
    "rna_clean$tgfb_cluster5   <- apply(rna_clean %>% select( any_of(gene_sets$clusters5$tgfb)),1,mean)\n",
    "\n",
    "rna_clean$tcell_set  <- apply(rna_clean %>% select( any_of(gene_sets$sets1$tcell)),1,mean)\n",
    "rna_clean$prolif_set <- apply(rna_clean %>% select( any_of(gene_sets$sets1$prolif)),1,mean)\n",
    "rna_clean$tgfb_set   <- apply(rna_clean %>% select( any_of(gene_sets$sets1$tgfb)),1,mean)\n",
    "\n",
    "rna_clean$pdl1   <- apply(rna_clean %>% select( CD274 ),1,mean)"
   ]
  },
  {
   "cell_type": "code",
   "execution_count": 12,
   "id": "27ff8ec9",
   "metadata": {},
   "outputs": [],
   "source": [
    "rna_go <- rna_clean %>% select(sample.id, tcell, prolif, tgfb, tcell_cluster5, prolif_cluster5, tgfb_cluster5, tcell_set, prolif_set, tgfb_set, pdl1)"
   ]
  },
  {
   "cell_type": "markdown",
   "id": "45aab4a3",
   "metadata": {},
   "source": [
    "#### 3 - Combined"
   ]
  },
  {
   "cell_type": "code",
   "execution_count": 13,
   "id": "364923ae",
   "metadata": {},
   "outputs": [],
   "source": [
    "parker_go <- (\n",
    "    clinical_go \n",
    "        %>% left_join( somatic_go, by , by = \"patient_id\") \n",
    "        %>% left_join( rna_link, by = \"patient_id\") \n",
    "        %>% left_join( rna_go, by = \"sample.id\")\n",
    "        %>% filter( !grepl(\"_on_\", sample.id),  !grepl(\"_ON_\", sample.id), !grepl(\"EDT\", sample.id)) \n",
    ")"
   ]
  },
  {
   "cell_type": "markdown",
   "id": "2f0007d3",
   "metadata": {},
   "source": [
    "### 4 - Send it!"
   ]
  },
  {
   "cell_type": "code",
   "execution_count": 14,
   "id": "b3f4316b",
   "metadata": {},
   "outputs": [],
   "source": [
    "saveRDS( parker_go, paste0( TMP_DIR, \"validation-parker-go.Rds\"))"
   ]
  }
 ],
 "metadata": {
  "kernelspec": {
   "display_name": "R",
   "language": "R",
   "name": "ir"
  },
  "language_info": {
   "codemirror_mode": "r",
   "file_extension": ".r",
   "mimetype": "text/x-r-source",
   "name": "R",
   "pygments_lexer": "r",
   "version": "3.6.1"
  }
 },
 "nbformat": 4,
 "nbformat_minor": 5
}
