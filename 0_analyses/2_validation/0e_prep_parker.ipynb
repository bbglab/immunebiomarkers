{
 "cells": [
  {
   "cell_type": "markdown",
   "id": "0",
   "metadata": {},
   "source": [
    "### Parker Validation"
   ]
  },
  {
   "cell_type": "code",
   "execution_count": null,
   "id": "1",
   "metadata": {},
   "outputs": [],
   "source": [
    "options(repr.matrix.max.cols=150, repr.matrix.max.rows=200)"
   ]
  },
  {
   "cell_type": "code",
   "execution_count": null,
   "id": "2",
   "metadata": {},
   "outputs": [],
   "source": [
    "wd <- dirname(dirname(getwd()))\n",
    "source(paste0(wd,\"/mission_control/treasure_map.R\"))\n",
    "source(paste0(wd,\"/mission_control/helpers/validation/settings.R\"))\n",
    "\n",
    "library(tidyverse)\n",
    "library(stringr)"
   ]
  },
  {
   "cell_type": "markdown",
   "id": "3",
   "metadata": {},
   "source": [
    "#### Read data sets"
   ]
  },
  {
   "cell_type": "code",
   "execution_count": null,
   "id": "4",
   "metadata": {},
   "outputs": [],
   "source": [
    "I_DIR <- paste0(E_DIR, \"parker_melanoma/\")\n",
    "clinical <- read.csv( paste0(I_DIR, \"Clinical/Subjects-CancerCell-MORRISON1-metadata.tsv\"), sep = \"\\t\")\n",
    "somatic <- read.csv( paste0(I_DIR, \"WES/WES-CancerCell-MORRISON1-metadata.tsv\"), sep = \"\\t\") \n",
    "rna <- read.csv( paste0(I_DIR, \"RNASeq/data/RNA-CancerCell-MORRISON1-combat_batch_corrected-logcpm-all_samples.tsv\"), sep = \"\\t\")\n",
    "rna_link <- read.csv( paste0(I_DIR,\"RNASeq/RNA-CancerCell-MORRISON1-metadata.tsv\"), sep = \"\\t\") #%>% transmute(sample.id, patient_id = subject.id)"
   ]
  },
  {
   "cell_type": "markdown",
   "id": "5",
   "metadata": {},
   "source": [
    "#### 0 - Clean clinical data"
   ]
  },
  {
   "cell_type": "code",
   "execution_count": null,
   "id": "6",
   "metadata": {},
   "outputs": [],
   "source": [
    "binary_response <- function( recist ){\n",
    "    recist = as.character(recist)\n",
    "    if( recist %in% c(\"CR\",\"PR\")){ 1 } \n",
    "    else if ( recist %in% c(\"SD\", \"PD\")){ 0 } \n",
    "    else { NA }\n",
    "}"
   ]
  },
  {
   "cell_type": "code",
   "execution_count": null,
   "id": "7",
   "metadata": {},
   "outputs": [],
   "source": [
    "clinical$bor <- unlist(lapply( as.character(clinical$\"bor\"), binary_response))"
   ]
  },
  {
   "cell_type": "code",
   "execution_count": null,
   "id": "8",
   "metadata": {},
   "outputs": [],
   "source": [
    "clinical_go <-\n",
    "clinical %>% \n",
    "  filter(! treatment.regimen.name %in% c(\"CTLA4\", \"PD1-to-CTLA4\"), \n",
    "         !cohort %in% c(\"064\", \"va\")) %>% ### stated not pd1 in paper\n",
    "  transmute(\n",
    "    patient_id = subject.id, \n",
    "    bor,\n",
    "    os_days = os,   \n",
    "    os = NA, \n",
    "    os_event = NA, \n",
    "    age = subject.age, \n",
    "    gender = subject.sex,\n",
    "    tissue = \"skin\", \n",
    "    tissue_full = sample.tumor.type,\n",
    "    pretreat = ifelse(previous.treatment == \"naive\", 0, 1),\n",
    "    pretreat_comp = NA,\n",
    "    Study = \"PARKER\",\n",
    "    cohort = cohort,\n",
    "    extra = treatment.regimen.name, \n",
    "    extra2 = meddra.disease.preferred.name)"
   ]
  },
  {
   "cell_type": "markdown",
   "id": "9",
   "metadata": {},
   "source": [
    "#### 1 - Somatic data"
   ]
  },
  {
   "cell_type": "code",
   "execution_count": null,
   "id": "10",
   "metadata": {},
   "outputs": [],
   "source": [
    "somatic_go <-\n",
    "somatic %>% \n",
    "  filter(! treatment.regimen.name %in% c(\"CTLA4\", \"PD1-to-CTLA4\", \"CTLA4-to-PD1\"), #, \"PD1-to-CTLA4\", \"CTLA4-to-PD1\"\n",
    "        grepl(\"pre\",timepoint.id)) %>% \n",
    "  drop_na(tmb) %>% \n",
    "  transmute( patient_id = subject.id, tmb = log(tmb + 1), purity)"
   ]
  },
  {
   "cell_type": "markdown",
   "id": "11",
   "metadata": {},
   "source": [
    "#### 2 - RNA data"
   ]
  },
  {
   "cell_type": "markdown",
   "id": "12",
   "metadata": {},
   "source": [
    "- Data to share"
   ]
  },
  {
   "cell_type": "code",
   "execution_count": null,
   "id": "13",
   "metadata": {},
   "outputs": [],
   "source": [
    "share <- data.frame(t(rna %>% column_to_rownames(\"gene.hgnc.symbol\")))\n",
    "saveRDS( share, paste0(TMP_DIR, \"rna_parker.Rds\") )"
   ]
  },
  {
   "cell_type": "markdown",
   "id": "14",
   "metadata": {},
   "source": [
    "- Gene sets"
   ]
  },
  {
   "cell_type": "code",
   "execution_count": null,
   "id": "15",
   "metadata": {},
   "outputs": [],
   "source": [
    "rna_link <- rna_link %>% transmute(sample.id, patient_id = subject.id)"
   ]
  },
  {
   "cell_type": "code",
   "execution_count": null,
   "id": "16",
   "metadata": {},
   "outputs": [],
   "source": [
    "rna_clean <-\n",
    "rownames_to_column(\n",
    "    data.frame(\n",
    "        t(column_to_rownames(data.frame(rna %>% filter( gene.hgnc.symbol %in% unlist(gene_sets) )), \"gene.hgnc.symbol\")\n",
    "    )), \"sample.id\")"
   ]
  },
  {
   "cell_type": "code",
   "execution_count": null,
   "id": "17",
   "metadata": {},
   "outputs": [],
   "source": [
    "rna_clean$tcell  <- apply(rna_clean %>% select( any_of(gene_sets$clusters$tcell)),1,mean)\n",
    "rna_clean$prolif <- apply(rna_clean %>% select( any_of(gene_sets$clusters$prolif)),1,mean)\n",
    "rna_clean$tgfb   <- apply(rna_clean %>% select( any_of(gene_sets$clusters$tgfb)),1,mean)\n",
    "\n",
    "rna_clean$tcell_cluster5  <- apply(rna_clean %>% select( any_of(gene_sets$clusters5$tcell)),1,mean)\n",
    "rna_clean$prolif_cluster5 <- apply(rna_clean %>% select( any_of(gene_sets$clusters5$prolif)),1,mean)\n",
    "rna_clean$tgfb_cluster5   <- apply(rna_clean %>% select( any_of(gene_sets$clusters5$tgfb)),1,mean)\n",
    "\n",
    "rna_clean$tcell_set  <- apply(rna_clean %>% select( any_of(gene_sets$sets1$tcell)),1,mean)\n",
    "rna_clean$prolif_set <- apply(rna_clean %>% select( any_of(gene_sets$sets1$prolif)),1,mean)\n",
    "rna_clean$tgfb_set   <- apply(rna_clean %>% select( any_of(gene_sets$sets1$tgfb)),1,mean)\n",
    "\n",
    "rna_clean$pdl1   <- apply(rna_clean %>% select( CD274 ),1,mean)"
   ]
  },
  {
   "cell_type": "code",
   "execution_count": null,
   "id": "18",
   "metadata": {},
   "outputs": [],
   "source": [
    "rna_go <- rna_clean %>% select(sample.id, tcell, prolif, tgfb, tcell_cluster5, prolif_cluster5, tgfb_cluster5, tcell_set, prolif_set, tgfb_set, pdl1)"
   ]
  },
  {
   "cell_type": "markdown",
   "id": "19",
   "metadata": {},
   "source": [
    "#### 3 - Combined"
   ]
  },
  {
   "cell_type": "code",
   "execution_count": null,
   "id": "20",
   "metadata": {},
   "outputs": [],
   "source": [
    "parker_go <-\n",
    "clinical_go %>% \n",
    "  left_join( somatic_go, by , by = \"patient_id\") %>% \n",
    "  left_join( rna_link, by = \"patient_id\") %>% \n",
    "  left_join( rna_go, by = \"sample.id\") %>% \n",
    "  filter( !grepl(\"_on_\", sample.id),  !grepl(\"_ON_\", sample.id), !grepl(\"EDT\", sample.id)) "
   ]
  },
  {
   "cell_type": "markdown",
   "id": "21",
   "metadata": {},
   "source": [
    "### 4 - Send it!"
   ]
  },
  {
   "cell_type": "code",
   "execution_count": null,
   "id": "22",
   "metadata": {},
   "outputs": [],
   "source": [
    "saveRDS( parker_go, paste0( TMP_DIR, \"validation-parker-go.Rds\"))"
   ]
  }
 ],
 "metadata": {
  "kernelspec": {
   "display_name": "R",
   "language": "R",
   "name": "ir"
  },
  "language_info": {
   "codemirror_mode": "r",
   "file_extension": ".r",
   "mimetype": "text/x-r-source",
   "name": "R",
   "pygments_lexer": "r",
   "version": "3.6.1"
  }
 },
 "nbformat": 4,
 "nbformat_minor": 5
}
