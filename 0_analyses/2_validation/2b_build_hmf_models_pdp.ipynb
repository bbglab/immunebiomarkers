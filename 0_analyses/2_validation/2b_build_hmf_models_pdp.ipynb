{
 "cells": [
  {
   "cell_type": "code",
   "execution_count": 1,
   "id": "38cbd344",
   "metadata": {},
   "outputs": [
    {
     "name": "stderr",
     "output_type": "stream",
     "text": [
      "Registered S3 method overwritten by 'rvest':\n",
      "  method            from\n",
      "  read_xml.response xml2\n",
      "── Attaching packages ─────────────────────────────────────────────────────────────── tidyverse 1.2.1 ──\n",
      "✔ ggplot2 3.3.6     ✔ purrr   0.3.4\n",
      "✔ tibble  3.1.2     ✔ dplyr   1.0.6\n",
      "✔ tidyr   1.1.3     ✔ stringr 1.4.0\n",
      "✔ readr   1.3.1     ✔ forcats 0.5.1\n",
      "Warning message:\n",
      "“package ‘tibble’ was built under R version 3.6.3”Warning message:\n",
      "“package ‘tidyr’ was built under R version 3.6.3”Warning message:\n",
      "“package ‘purrr’ was built under R version 3.6.3”Warning message:\n",
      "“package ‘dplyr’ was built under R version 3.6.3”Warning message:\n",
      "“package ‘forcats’ was built under R version 3.6.3”── Conflicts ────────────────────────────────────────────────────────────────── tidyverse_conflicts() ──\n",
      "✖ dplyr::filter() masks stats::filter()\n",
      "✖ dplyr::lag()    masks stats::lag()\n",
      "\n",
      "Attaching package: ‘xgboost’\n",
      "\n",
      "The following object is masked from ‘package:dplyr’:\n",
      "\n",
      "    slice\n",
      "\n"
     ]
    }
   ],
   "source": [
    "wd <- dirname(dirname(getwd()))\n",
    "source(paste0(wd,\"/mission_control/treasure_map.R\"))\n",
    "source(paste0(wd,\"/mission_control/helpers/xgboost/eval_help.R\"))\n",
    "source(paste0(wd,\"/mission_control/helpers/xgboost/paper_settings.R\"))\n",
    "source(paste0(wd,\"/mission_control/helpers/xgboost/validation_help.R\"))\n",
    "library(tidyverse)\n",
    "library(xgboost)"
   ]
  },
  {
   "cell_type": "markdown",
   "id": "c9d92d3b",
   "metadata": {},
   "source": [
    "### 0 - Get Data Ready"
   ]
  },
  {
   "cell_type": "code",
   "execution_count": 2,
   "id": "f75138fe",
   "metadata": {},
   "outputs": [],
   "source": [
    "validation_ready <- readRDS( paste0(TMP_DIR, \"validation-hmf-go.Rds\") ) "
   ]
  },
  {
   "cell_type": "markdown",
   "id": "4e790d03",
   "metadata": {},
   "source": [
    "### 1 - Prep HMF data"
   ]
  },
  {
   "cell_type": "code",
   "execution_count": 150,
   "id": "12499322",
   "metadata": {},
   "outputs": [],
   "source": [
    "hmf <- (\n",
    "validation_ready \n",
    "    %>% filter(Study == \"HMF-CPCT\") \n",
    "    %>% mutate_at(vars(\"tcell\",\"tgfb\",\"prolif\", \"pretreat\", \"tmb\"), scale)\n",
    "    %>% mutate(model_apply = tissue)\n",
    "    %>% drop_na(os, bor, tcell)\n",
    "    %>% select(\"patient_id\", \"bor\", \"os\", \"tissue\", \"tcell\",\"tgfb\",\"prolif\", \"pretreat\", \"tmb\")\n",
    ")"
   ]
  },
  {
   "cell_type": "markdown",
   "id": "8a7e9799",
   "metadata": {},
   "source": [
    "#### Helpers for fitting"
   ]
  },
  {
   "cell_type": "code",
   "execution_count": 151,
   "id": "aff649ba",
   "metadata": {},
   "outputs": [],
   "source": [
    "best_fit <- function(Y, X, hyper_grid = parameter_grid, model, base_model = NULL){\n",
    "    grid_fit(Y, X, hyper_grid, model, base_model)$best_model\n",
    "}"
   ]
  },
  {
   "cell_type": "markdown",
   "id": "9819b27d",
   "metadata": {},
   "source": [
    "### 2 - Build the five-factor model\n",
    "- Build K models for each tissue"
   ]
  },
  {
   "cell_type": "code",
   "execution_count": 152,
   "id": "dbb80c7d",
   "metadata": {},
   "outputs": [],
   "source": [
    "set.seed(62220)\n",
    "K <- 1"
   ]
  },
  {
   "cell_type": "code",
   "execution_count": 153,
   "id": "98e77a0c",
   "metadata": {},
   "outputs": [],
   "source": [
    "dfs <- list()\n",
    "for( i in unique(hmf$tissue)){\n",
    "    dfs[[i]] <- hmf %>% filter(tissue == i)\n",
    "}"
   ]
  },
  {
   "cell_type": "markdown",
   "id": "8befde55",
   "metadata": {},
   "source": [
    "### Overall Model"
   ]
  },
  {
   "cell_type": "code",
   "execution_count": 155,
   "id": "22a18ba1",
   "metadata": {},
   "outputs": [],
   "source": [
    "X <- as.matrix(hmf %>% select(\"tcell\",\"tgfb\",\"prolif\", \"pretreat\", \"tmb\"))\n",
    "pan_lr <- grid_fit(as.matrix(hmf$bor), X, parameter_grid, model = \"lr\")$best_model\n",
    "pan_os <- grid_fit(as.matrix(hmf$os), X, parameter_grid, model = \"os\")$best_model"
   ]
  },
  {
   "cell_type": "code",
   "execution_count": 172,
   "id": "3db3ce20",
   "metadata": {},
   "outputs": [],
   "source": [
    "pred_lr <- as.data.frame(predict(pan_lr, X, predcontrib = TRUE)) %>% mutate(mod = \"lr\", tissue = \"pan\", patient_id = hmf$patient_id)\n",
    "pred_os <- as.data.frame(predict(pan_os, X, predcontrib = TRUE)) %>% mutate(mod = \"os\", tissue = \"pan\", patient_id = hmf$patient_id)\n",
    "pan_pred <- rbind(pred_lr, pred_os)"
   ]
  },
  {
   "cell_type": "markdown",
   "id": "d1a82730",
   "metadata": {},
   "source": [
    "#### Tissue predictions"
   ]
  },
  {
   "cell_type": "code",
   "execution_count": 173,
   "id": "5afda557",
   "metadata": {},
   "outputs": [],
   "source": [
    "dfs <- list()\n",
    "for( i in unique(hmf$tissue)){\n",
    "    dfs[[i]] <- hmf %>% filter(tissue == i)\n",
    "}"
   ]
  },
  {
   "cell_type": "code",
   "execution_count": 174,
   "id": "4fb66686",
   "metadata": {},
   "outputs": [],
   "source": [
    "pred_maker <- function(i){\n",
    "    df <- dfs[[i]]\n",
    "    Y_bor <- as.matrix( df$bor )\n",
    "    Y_os <- as.matrix(df$os)\n",
    "    X <- as.matrix( df %>% select(\"tcell\",\"tgfb\",\"prolif\", \"pretreat\", \"tmb\"))\n",
    "    mod_lr <- grid_fit(Y_bor, X, parameter_grid, model = \"lr\", base_model = pan_lr)$best_model\n",
    "    mod_os <- grid_fit(Y_os, X, parameter_grid, model = \"os\", base_model = pan_os)$best_model\n",
    "    pred_lr <- as.data.frame(predict(mod_lr, X, predcontrib = TRUE)) %>% mutate(mod = \"lr\", tissue = i, patient_id = df$patient_id)\n",
    "    pred_os <- as.data.frame(predict(mod_os, X, predcontrib = TRUE)) %>% mutate(mod = \"os\", tissue = i, patient_id = df$patient_id)\n",
    "    rbind(pred_lr, pred_os) \n",
    "}"
   ]
  },
  {
   "cell_type": "code",
   "execution_count": 175,
   "id": "19c32eb6",
   "metadata": {},
   "outputs": [],
   "source": [
    "preds <- list()"
   ]
  },
  {
   "cell_type": "code",
   "execution_count": 176,
   "id": "cf1569e5",
   "metadata": {},
   "outputs": [
    {
     "name": "stdout",
     "output_type": "stream",
     "text": [
      "[1] \"lung\"\n",
      "[1] \"skin\"\n",
      "[1] \"other\"\n",
      "[1] \"bladder\"\n"
     ]
    }
   ],
   "source": [
    "for( i in unique(hmf$tissue)){\n",
    "    print(i)\n",
    "    preds[[i]] <- pred_maker(i)\n",
    "}"
   ]
  },
  {
   "cell_type": "code",
   "execution_count": 178,
   "id": "65d7c5f9",
   "metadata": {},
   "outputs": [],
   "source": [
    "vamonos <- rbind(do.call(\"rbind\", preds), pan_pred)"
   ]
  },
  {
   "cell_type": "markdown",
   "id": "45cc2675",
   "metadata": {},
   "source": [
    "### 3 - Send it"
   ]
  },
  {
   "cell_type": "code",
   "execution_count": 179,
   "id": "a86b61e5",
   "metadata": {},
   "outputs": [],
   "source": [
    "saveRDS( vamonos, paste0(TMP_DIR, \"validation-hmf-preds-pdp.Rds\"))"
   ]
  }
 ],
 "metadata": {
  "kernelspec": {
   "display_name": "R",
   "language": "R",
   "name": "ir"
  },
  "language_info": {
   "codemirror_mode": "r",
   "file_extension": ".r",
   "mimetype": "text/x-r-source",
   "name": "R",
   "pygments_lexer": "r",
   "version": "3.6.1"
  }
 },
 "nbformat": 4,
 "nbformat_minor": 5
}
