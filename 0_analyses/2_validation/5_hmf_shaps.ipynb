{
 "cells": [
  {
   "cell_type": "code",
   "execution_count": 1,
   "id": "3a235e86",
   "metadata": {},
   "outputs": [
    {
     "name": "stderr",
     "output_type": "stream",
     "text": [
      "Registered S3 method overwritten by 'rvest':\n",
      "  method            from\n",
      "  read_xml.response xml2\n",
      "── Attaching packages ─────────────────────────────────────────────────────────────────────────────────────────────────────────────────────────────────────────────────────────────────────────────────────────────────────── tidyverse 1.2.1 ──\n",
      "✔ ggplot2 3.3.6     ✔ purrr   0.3.4\n",
      "✔ tibble  3.1.2     ✔ dplyr   1.0.6\n",
      "✔ tidyr   1.1.3     ✔ stringr 1.4.0\n",
      "✔ readr   1.3.1     ✔ forcats 0.5.1\n",
      "Warning message:\n",
      "“package ‘tibble’ was built under R version 3.6.3”Warning message:\n",
      "“package ‘tidyr’ was built under R version 3.6.3”Warning message:\n",
      "“package ‘purrr’ was built under R version 3.6.3”Warning message:\n",
      "“package ‘dplyr’ was built under R version 3.6.3”Warning message:\n",
      "“package ‘forcats’ was built under R version 3.6.3”── Conflicts ────────────────────────────────────────────────────────────────────────────────────────────────────────────────────────────────────────────────────────────────────────────────────────────────────────── tidyverse_conflicts() ──\n",
      "✖ dplyr::filter() masks stats::filter()\n",
      "✖ dplyr::lag()    masks stats::lag()\n",
      "\n",
      "Attaching package: ‘xgboost’\n",
      "\n",
      "The following object is masked from ‘package:dplyr’:\n",
      "\n",
      "    slice\n",
      "\n",
      "Loading required package: prodlim\n"
     ]
    }
   ],
   "source": [
    "wd <- dirname(dirname(getwd()))\n",
    "source(paste0(wd,\"/mission_control/treasure_map.R\"))\n",
    "source(paste0(wd,\"/mission_control/helpers/xgboost/eval_help.R\"))\n",
    "source(paste0(wd,\"/mission_control/helpers/xgboost/paper_settings.R\"))\n",
    "source(paste0(wd,\"/mission_control/helpers/xgboost/shapley_help.R\"))\n",
    "\n",
    "library(tidyverse)\n",
    "library(xgboost)\n",
    "library(survival)\n",
    "library(survcomp)"
   ]
  },
  {
   "cell_type": "markdown",
   "id": "e33eae47",
   "metadata": {},
   "source": [
    "### 0 - Read HMF prepped data"
   ]
  },
  {
   "cell_type": "code",
   "execution_count": 2,
   "id": "a1284366",
   "metadata": {},
   "outputs": [],
   "source": [
    "cpi <- (\n",
    "    readRDS(paste0(TMP_DIR, \"validation-hmf-go.Rds\")) \n",
    "        %>% drop_na(os, bor)\n",
    "        %>% mutate_at(vars(\"tmb\", \"tcell\",\"tgfb\",\"prolif\",\"pretreat\", \"purity\"), scale) \n",
    ")"
   ]
  },
  {
   "cell_type": "code",
   "execution_count": 3,
   "id": "671ae572",
   "metadata": {},
   "outputs": [],
   "source": [
    "model_features <- c(\"tmb\", \"tcell\", \"prolif\", \"tgfb\", \"pretreat\", \"purity\")"
   ]
  },
  {
   "cell_type": "markdown",
   "id": "b2c2d22a",
   "metadata": {},
   "source": [
    "### 1 - Make builder data structure for data storage"
   ]
  },
  {
   "cell_type": "code",
   "execution_count": 4,
   "id": "34354886",
   "metadata": {},
   "outputs": [],
   "source": [
    "builder <- function( df ){\n",
    "    files <- list()\n",
    "    files[['X']] =  as.matrix( df %>% select(all_of(model_features)))\n",
    "    files[['id']] = df %>% select(patient_id, age, gender, bor)\n",
    "    files[['complete_id']] = df %>% drop_na(tcell) %>% pull(patient_id)\n",
    "    files[['Y_lr']] = df %>% pull(bor)\n",
    "    files[['Y_os']] = df %>% pull(os)\n",
    "    files\n",
    "}"
   ]
  },
  {
   "cell_type": "code",
   "execution_count": 5,
   "id": "44a24eb7",
   "metadata": {},
   "outputs": [],
   "source": [
    "store <- list()\n",
    "store[['all']] <- builder( cpi )\n",
    "for (i in unique(cpi %>% pull(tissue))) store[[i]] <- builder( cpi %>% filter(tissue == i) )"
   ]
  },
  {
   "cell_type": "markdown",
   "id": "9007aa6b",
   "metadata": {},
   "source": [
    "### 2 - Fit and Store Models\n",
    "- First fit Pan-Cancer Model\n",
    "- Then fit tissue specific models with Pan-Cancer as the base"
   ]
  },
  {
   "cell_type": "code",
   "execution_count": 6,
   "id": "64eda340",
   "metadata": {},
   "outputs": [
    {
     "name": "stdout",
     "output_type": "stream",
     "text": [
      "[1] \"lung\"\n",
      "[1] \"skin\"\n",
      "[1] \"other\"\n",
      "[1] \"bladder\"\n"
     ]
    }
   ],
   "source": [
    "store[['all']][['mod_lr']] <- grid_fit( store[['all']]$Y_lr, \n",
    "                                        store[['all']]$X, \n",
    "                                        parameter_grid, \n",
    "                                        model = \"lr\" )$best_model \n",
    "store[['all']][['mod_os']] <- grid_fit( store[['all']]$Y_os, \n",
    "                                        store[['all']]$X, \n",
    "                                        parameter_grid, \n",
    "                                        model = \"os\" )$best_model\n",
    "\n",
    "for (i in unique(cpi %>% pull(tissue))) {\n",
    "    print(i)\n",
    "    flush.console()\n",
    "    store[[i]][['mod_lr']] <- grid_fit( store[[i]]$Y_lr, \n",
    "                                        store[[i]]$X, \n",
    "                                        parameter_grid, \n",
    "                                        model = \"lr\", \n",
    "                                        base_model = store[['all']][['mod_lr']])$best_model \n",
    "    store[[i]][['mod_os']] <- grid_fit( store[[i]]$Y_os, \n",
    "                                        store[[i]]$X, \n",
    "                                        parameter_grid, \n",
    "                                        model = \"os\",\n",
    "                                        base_model = store[['all']][['mod_os']]\n",
    "                                      )$best_model \n",
    "}"
   ]
  },
  {
   "cell_type": "markdown",
   "id": "a7de08ee",
   "metadata": {},
   "source": [
    "### 3 - Store Shaps"
   ]
  },
  {
   "cell_type": "code",
   "execution_count": 7,
   "id": "2f394b6d",
   "metadata": {},
   "outputs": [],
   "source": [
    "shap_binder <- function( i, model = \"lr\" ){\n",
    "\n",
    "    goods <- store[[i]]\n",
    "    X <- goods$X\n",
    "    \n",
    "    if( model == \"lr\"){\n",
    "        mod <- goods$mod_lr\n",
    "    } else {\n",
    "        mod <- goods$mod_os\n",
    "    }    \n",
    "    \n",
    "    ### extract Shapleys\n",
    "    shaps <- data.frame( predict( mod , X, predcontrib = TRUE) )\n",
    "    shaps$pred <- predict( mod , X, predcontrib = FALSE) \n",
    "    shaps$model <- i\n",
    "    shaps$patient_id <- goods$id$patient_id\n",
    "    shaps$age <- goods$id$age\n",
    "    shaps$gender <- goods$id$gender\n",
    "    shaps$response <- goods$id$response\n",
    "\n",
    "    shaps %>% select(patient_id, model, everything())\n",
    "}"
   ]
  },
  {
   "cell_type": "code",
   "execution_count": 8,
   "id": "eb03cd9b",
   "metadata": {},
   "outputs": [
    {
     "name": "stdout",
     "output_type": "stream",
     "text": [
      "[1] \"all\"\n",
      "[1] \"lung\"\n",
      "[1] \"skin\"\n",
      "[1] \"other\"\n",
      "[1] \"bladder\"\n"
     ]
    }
   ],
   "source": [
    "for (i in names(store)) {\n",
    "    print(i)\n",
    "    flush.console()\n",
    "    store[[i]][['shaps_lr']] <- shap_binder(i,\"lr\")\n",
    "    store[[i]][['shaps_os']] <- shap_binder(i,\"os\")\n",
    "}"
   ]
  },
  {
   "cell_type": "markdown",
   "id": "baf70835",
   "metadata": {},
   "source": [
    "### 4 - Format Data for Output plots"
   ]
  },
  {
   "cell_type": "code",
   "execution_count": 9,
   "id": "fc713fa6",
   "metadata": {},
   "outputs": [],
   "source": [
    "name_map <- list( \"tmb\" = \"TMB\", \n",
    "                  \"tcell\" = \"T-cell\", \n",
    "                  \"prolif\" = \"Proliferation\", \n",
    "                  \"tgfb\" = \"TGFB\", \n",
    "                  \"pretreat\" = \"Prior Systemic Therapy\",\n",
    "                  \"purity\" = \"Purity\")"
   ]
  },
  {
   "cell_type": "code",
   "execution_count": 10,
   "id": "4e804195",
   "metadata": {},
   "outputs": [],
   "source": [
    "chunker <- function( dataset, model, feature){\n",
    "    \n",
    "    goods <- store[[dataset]]\n",
    "    X <- goods$X\n",
    "    if( model == \"lr\"){\n",
    "        shaps <- goods$shaps_lr\n",
    "    } else {\n",
    "        shaps <- goods$shaps_os\n",
    "    }\n",
    "    \n",
    "    chunk <- data.frame( scaled_feature = X[,feature], shap_feature = shaps[,feature])\n",
    "    chunk$feature <- name_map[[feature]]\n",
    "    chunk$model <- model\n",
    "    chunk$dataset <- dataset\n",
    "    chunk$patient_id <- shaps$patient_id\n",
    "    chunk$age <- shaps$age\n",
    "    chunk$gender <- shaps$gender\n",
    "    chunk$pred <- shaps$pred\n",
    "    chunk$response <- shaps$response\n",
    "\n",
    "    chunk %>% select( model, dataset, feature, everything())\n",
    "}"
   ]
  },
  {
   "cell_type": "code",
   "execution_count": 11,
   "id": "64c3eca3",
   "metadata": {},
   "outputs": [
    {
     "name": "stdout",
     "output_type": "stream",
     "text": [
      "[1] \"os\"\n",
      "[1] \"lr\"\n"
     ]
    }
   ],
   "source": [
    "p1 <- data.frame()\n",
    "for ( model in c(\"os\", \"lr\") ) {\n",
    "    print(model)\n",
    "    for ( dataset in names(store) ) {\n",
    "        for ( feature in model_features)  {\n",
    "            p1 <- rbind(p1, chunker(dataset, model, feature))\n",
    "        }\n",
    "    }\n",
    "}"
   ]
  },
  {
   "cell_type": "code",
   "execution_count": 12,
   "id": "593247d0",
   "metadata": {},
   "outputs": [],
   "source": [
    "ready <- p1 %>% group_by( dataset ) %>% arrange(scaled_feature) %>% ungroup()\n",
    "ready$dataset <- str_to_title(ready$dataset)\n",
    "ready$dataset <- ifelse( ready$dataset == \"All\", \"Pan-Cancer (base-model)\", ready$dataset)\n",
    "ready$dataset <- factor(\n",
    "    ready$dataset,\n",
    "    levels = c(\"Pan-Cancer (base-model)\", \"Skin\", \"Lung\", \"Bladder\", \"Other\")\n",
    ")\n",
    "ready$feature <- factor(\n",
    "    ready$feature,\n",
    "    levels = c(\"T-cell\", \"TMB\", \"Prior Systemic Therapy\", \"TGFB\", \"Proliferation\", \"Purity\")\n",
    ")"
   ]
  },
  {
   "cell_type": "code",
   "execution_count": 13,
   "id": "8253fbdb",
   "metadata": {},
   "outputs": [
    {
     "name": "stdout",
     "output_type": "stream",
     "text": [
      "[1] \"worked\"\n"
     ]
    }
   ],
   "source": [
    "print(\"worked\")"
   ]
  },
  {
   "cell_type": "markdown",
   "id": "b4125796",
   "metadata": {},
   "source": [
    "### 5 - Send it!"
   ]
  },
  {
   "cell_type": "code",
   "execution_count": 14,
   "id": "8c9067af",
   "metadata": {},
   "outputs": [],
   "source": [
    "saveRDS( ready, paste0(TMP_DIR, \"validation-hmf-shaps.Rds\") )"
   ]
  }
 ],
 "metadata": {
  "kernelspec": {
   "display_name": "R",
   "language": "R",
   "name": "ir"
  },
  "language_info": {
   "codemirror_mode": "r",
   "file_extension": ".r",
   "mimetype": "text/x-r-source",
   "name": "R",
   "pygments_lexer": "r",
   "version": "3.6.1"
  }
 },
 "nbformat": 4,
 "nbformat_minor": 5
}
