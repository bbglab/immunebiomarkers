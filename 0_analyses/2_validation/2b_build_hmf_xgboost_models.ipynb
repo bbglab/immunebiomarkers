{
 "cells": [
  {
   "cell_type": "code",
   "execution_count": null,
   "id": "0",
   "metadata": {},
   "outputs": [],
   "source": [
    "wd <- dirname(dirname(getwd()))\n",
    "source(paste0(wd,\"/mission_control/treasure_map.R\"))\n",
    "source(paste0(wd,\"/mission_control/helpers/xgboost/eval_help.R\"))\n",
    "source(paste0(wd,\"/mission_control/helpers/xgboost/paper_settings.R\"))\n",
    "source(paste0(wd,\"/mission_control/helpers/xgboost/validation_help.R\"))\n",
    "library(tidyverse)\n",
    "library(xgboost)"
   ]
  },
  {
   "cell_type": "markdown",
   "id": "1",
   "metadata": {},
   "source": [
    "### 0 - Get Data Ready"
   ]
  },
  {
   "cell_type": "code",
   "execution_count": null,
   "id": "2",
   "metadata": {},
   "outputs": [],
   "source": [
    "validation_ready <- readRDS( paste0(TMP_DIR, \"validation-hmf-go.Rds\") ) "
   ]
  },
  {
   "cell_type": "markdown",
   "id": "3",
   "metadata": {},
   "source": [
    "### 1 - Prep HMF data"
   ]
  },
  {
   "cell_type": "code",
   "execution_count": null,
   "id": "4",
   "metadata": {},
   "outputs": [],
   "source": [
    "hmf <- (\n",
    "    validation_ready \n",
    "        %>% filter(Study == \"HMF-CPCT\") \n",
    "        %>% mutate_at(vars(\"tcell\",\"tgfb\",\"prolif\",\"pdl1\", \"pretreat\", \"pretreat_comp\", \"purity\"), scale) \n",
    "        %>% mutate(tmb_bin = ifelse(exp(tmb)-1 > 10, 1, 0), model_apply = tissue)\n",
    "        %>% drop_na(os, bor)\n",
    ")"
   ]
  },
  {
   "cell_type": "markdown",
   "id": "5",
   "metadata": {},
   "source": [
    "#### Helpers for fitting"
   ]
  },
  {
   "cell_type": "code",
   "execution_count": null,
   "id": "6",
   "metadata": {},
   "outputs": [],
   "source": [
    "builder <- function( df, model_features ){\n",
    "    files <- list()\n",
    "    files[['X']] =  as.matrix( df %>% select(all_of(model_features)))\n",
    "    files[['id']] = df %>% pull(patient_id)\n",
    "    files[['complete_id']] = df %>% drop_na(tcell) %>% pull(patient_id)\n",
    "    files[['Y_lr']] = df %>% pull(bor)\n",
    "    files[['Y_os']] = df %>% pull(os)\n",
    "    files\n",
    "}"
   ]
  },
  {
   "cell_type": "code",
   "execution_count": null,
   "id": "7",
   "metadata": {},
   "outputs": [],
   "source": [
    "best_fit <- function(Y, X, hyper_grid = parameter_grid, model, base_model = NULL){\n",
    "    grid_fit(Y, X, hyper_grid, model, base_model)$best_model\n",
    "}"
   ]
  },
  {
   "cell_type": "markdown",
   "id": "8",
   "metadata": {},
   "source": [
    "### 2 - Build the models\n",
    "- Build K models for each tissue"
   ]
  },
  {
   "cell_type": "code",
   "execution_count": null,
   "id": "9",
   "metadata": {},
   "outputs": [],
   "source": [
    "set.seed(62220)\n",
    "K <- 1"
   ]
  },
  {
   "cell_type": "code",
   "execution_count": null,
   "id": "10",
   "metadata": {},
   "outputs": [],
   "source": [
    "mods <- list()\n",
    "\n",
    "for( i in seq(K) ){\n",
    "    \n",
    "    hmf_models <- list()\n",
    "    for( model in names(models)) {\n",
    "\n",
    "        print(model); flush.console()\n",
    "\n",
    "        #### Strore base data structure\n",
    "        s <- list()\n",
    "        s$all <- builder( hmf, models[[model]] )\n",
    "        for (j in unique( hmf %>% pull(model_apply))) { \n",
    "            s[[j]] <- builder( hmf %>% filter(model_apply == j), models[[model]] )\n",
    "        }\n",
    "        #### Fit overall models \n",
    "        s$all$mod_lr <- best_fit( Y = s$all$Y_lr, X = s$all$X, model = \"lr\", base_model = NULL ) \n",
    "        s$all$mod_os <- best_fit( Y = s$all$Y_os, X = s$all$X, model = \"os\", base_model = NULL )\n",
    "\n",
    "        #### Tissue specific models guided by overall model\n",
    "        for (k in unique(hmf$tissue)) {\n",
    "            s[[k]][['mod_lr']] <- best_fit( s[[k]]$Y_lr, s[[k]]$X, model = \"lr\", base_model = s$all$mod_lr)\n",
    "            s[[k]][['mod_os']] <- best_fit( s[[k]]$Y_os, s[[k]]$X, model = \"os\", base_model = s$all$mod_os) \n",
    "            }        \n",
    "        ### save model\n",
    "        hmf_models[[model]] <- s\n",
    "    }    \n",
    "    ### save as repition model i\n",
    "    mods[[as.character(i)]] <- hmf_models\n",
    "}"
   ]
  },
  {
   "cell_type": "markdown",
   "id": "11",
   "metadata": {},
   "source": [
    "### 3 - Send it"
   ]
  },
  {
   "cell_type": "code",
   "execution_count": null,
   "id": "12",
   "metadata": {},
   "outputs": [],
   "source": [
    "saveRDS( mods, paste0(TMP_DIR, \"validation-hmf-models.Rds\"))"
   ]
  }
 ],
 "metadata": {
  "kernelspec": {
   "display_name": "R",
   "language": "R",
   "name": "ir"
  },
  "language_info": {
   "codemirror_mode": "r",
   "file_extension": ".r",
   "mimetype": "text/x-r-source",
   "name": "R",
   "pygments_lexer": "r",
   "version": "3.6.1"
  }
 },
 "nbformat": 4,
 "nbformat_minor": 5
}
