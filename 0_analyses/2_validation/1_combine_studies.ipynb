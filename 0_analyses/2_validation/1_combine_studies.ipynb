{
 "cells": [
  {
   "cell_type": "code",
   "execution_count": 1,
   "id": "e80d61d8",
   "metadata": {},
   "outputs": [
    {
     "name": "stderr",
     "output_type": "stream",
     "text": [
      "Registered S3 method overwritten by 'rvest':\n",
      "  method            from\n",
      "  read_xml.response xml2\n",
      "── Attaching packages ──────────────────────────────────────────────────────────────────────────────────────────────────────────────────────────────────────────────── tidyverse 1.2.1 ──\n",
      "✔ ggplot2 3.3.6     ✔ purrr   0.3.4\n",
      "✔ tibble  3.1.2     ✔ dplyr   1.0.6\n",
      "✔ tidyr   1.1.3     ✔ stringr 1.4.0\n",
      "✔ readr   1.3.1     ✔ forcats 0.5.1\n",
      "Warning message:\n",
      "“package ‘tibble’ was built under R version 3.6.3”Warning message:\n",
      "“package ‘tidyr’ was built under R version 3.6.3”Warning message:\n",
      "“package ‘purrr’ was built under R version 3.6.3”Warning message:\n",
      "“package ‘dplyr’ was built under R version 3.6.3”Warning message:\n",
      "“package ‘forcats’ was built under R version 3.6.3”── Conflicts ─────────────────────────────────────────────────────────────────────────────────────────────────────────────────────────────────────────────────── tidyverse_conflicts() ──\n",
      "✖ dplyr::filter() masks stats::filter()\n",
      "✖ dplyr::lag()    masks stats::lag()\n"
     ]
    }
   ],
   "source": [
    "wd <- dirname(dirname(getwd()))\n",
    "source(paste0(wd,\"/mission_control/treasure_map.R\"))\n",
    "library(tidyverse)"
   ]
  },
  {
   "cell_type": "markdown",
   "id": "5c6ed86a",
   "metadata": {},
   "source": [
    "### 0 - Read individual studies "
   ]
  },
  {
   "cell_type": "code",
   "execution_count": 2,
   "id": "382ff6a7",
   "metadata": {},
   "outputs": [],
   "source": [
    "hmf <- readRDS(paste0(TMP_DIR, \"validation-hmf-go.Rds\")) %>% mutate(extra = \"bbg_cluster\", extra2 = NA)\n",
    "vhio <- readRDS(paste0(TMP_DIR, \"validation-vhio-go.Rds\")) %>% mutate(extra = NA, extra2 = NA)\n",
    "inspire <- readRDS(paste0(TMP_DIR, \"validation-inspire-go.Rds\")) %>% mutate(extra = NA, extra2 = NA)\n",
    "mariathan <- readRDS(paste0(TMP_DIR, \"validation-mariathan-go.Rds\"))\n",
    "ravi <- readRDS(paste0(TMP_DIR, \"validation-ravi-go.Rds\"))\n",
    "parker <- readRDS(paste0(TMP_DIR, \"validation-parker-go.Rds\"))\n",
    "lyon <- readRDS(paste0(TMP_DIR, \"validation-lyon-go.Rds\"))"
   ]
  },
  {
   "cell_type": "markdown",
   "id": "dbff719f",
   "metadata": {},
   "source": [
    "### 1 Curate"
   ]
  },
  {
   "cell_type": "markdown",
   "id": "fc640d15",
   "metadata": {},
   "source": [
    "#### Update Tissues"
   ]
  },
  {
   "cell_type": "code",
   "execution_count": 3,
   "id": "502b2b7e",
   "metadata": {},
   "outputs": [],
   "source": [
    "tissue_update <- function(i) {\n",
    "        if( i == \"D: Melanoma\"){\n",
    "            \"skin\"\n",
    "        } else if (i == \"A: Head and Neck\") {\n",
    "            \"hncc\"\n",
    "        } else if (i == \"E: Mixed\") {\n",
    "            \"other\"\n",
    "        } else if (i == \"B: Breast\"){\n",
    "            \"breast\"\n",
    "        } else if (i == \"C: Ovary\"){\n",
    "            \"ovary\"\n",
    "        }\n",
    "}\n",
    "inspire$tissue_full <- unlist(lapply(inspire$tissue, tissue_update))\n",
    "\n",
    "inspire <- (\n",
    "    inspire \n",
    "        %>% mutate(\n",
    "            tissue = ifelse( tissue_full == \"skin\", \"skin\", \"other\"),\n",
    "            model_apply = ifelse( tissue_full == \"skin\", \"skin\", \"all\"),\n",
    "            cohort = \"all\"\n",
    "        )\n",
    ")"
   ]
  },
  {
   "cell_type": "code",
   "execution_count": 4,
   "id": "927fa94e",
   "metadata": {},
   "outputs": [],
   "source": [
    "vhio <- (\n",
    "    vhio \n",
    "      %>% mutate(\n",
    "        model_apply =  ifelse( tissue == \"Colon\", \"all\", tolower(tissue)),\n",
    "        cohort = \"all\",\n",
    "        purity = NA,\n",
    "        tcell_set = tcell, \n",
    "        prolif_set = prolif,\n",
    "        tgfb_set = tgfb,\n",
    "        tcell_cluster5 = tcell, \n",
    "        prolif_cluster5 = prolif,\n",
    "        tgfb_cluster5 = tgfb,  \n",
    "    )\n",
    ")"
   ]
  },
  {
   "cell_type": "code",
   "execution_count": 5,
   "id": "b9a0dc9e",
   "metadata": {},
   "outputs": [],
   "source": [
    "hmf <- hmf %>% mutate( model_apply = tissue, cohort = \"all\")"
   ]
  },
  {
   "cell_type": "code",
   "execution_count": 6,
   "id": "865ba2fb",
   "metadata": {},
   "outputs": [],
   "source": [
    "mariathan <- mariathan %>% mutate( model_apply = \"bladder\", cohort = \"all\")"
   ]
  },
  {
   "cell_type": "code",
   "execution_count": 7,
   "id": "9d076470",
   "metadata": {},
   "outputs": [],
   "source": [
    "ravi <- ravi %>% mutate( model_apply = \"lung\", cohort = \"all\")"
   ]
  },
  {
   "cell_type": "code",
   "execution_count": 8,
   "id": "cddd8128",
   "metadata": {},
   "outputs": [],
   "source": [
    "parker <- parker %>% mutate( model_apply = \"skin\") %>% select(-sample.id)"
   ]
  },
  {
   "cell_type": "code",
   "execution_count": 9,
   "id": "9d061320",
   "metadata": {},
   "outputs": [],
   "source": [
    "lyon <- lyon %>% mutate( model_apply = ifelse(tissue == \"lung\", \"lung\", \"all\"))"
   ]
  },
  {
   "cell_type": "markdown",
   "id": "3e7abd25",
   "metadata": {},
   "source": [
    "### 2 - Combine + Cleaner"
   ]
  },
  {
   "cell_type": "code",
   "execution_count": 10,
   "id": "b70df732",
   "metadata": {},
   "outputs": [
    {
     "name": "stderr",
     "output_type": "stream",
     "text": [
      "Warning message in mask$eval_all_mutate(quo):\n",
      "“NAs introduced by coercion”"
     ]
    }
   ],
   "source": [
    "validation_ready <- (\n",
    "    rbind(vhio, inspire, hmf, mariathan, ravi , parker, lyon)\n",
    "        %>% mutate(\n",
    "            tissue = tolower(tissue),\n",
    "            tmb_bin = ifelse(exp(tmb)-1 > 10, 1, 0),\n",
    "            complete = !is.na(tmb) & !is.na(pretreat) & !is.na(tcell),\n",
    "            complete_dna = !is.na(tmb),\n",
    "            complete_rna = !is.na(tcell),\n",
    "            complete_pretreat = !is.na(pretreat), \n",
    "            qc = NA,\n",
    "            tcell = as.numeric(tcell),\n",
    "            prolif = as.numeric(prolif),\n",
    "            tgfb = as.numeric(tgfb),\n",
    "            tcell_cluster5 = as.numeric(tcell_cluster5),\n",
    "            prolif_cluster5 = as.numeric(prolif_cluster5),\n",
    "            tgfb_cluster5 = as.numeric(tgfb_cluster5),\n",
    "            tcell_set = as.numeric(tcell_set),\n",
    "            prolif_set = as.numeric(prolif_set),\n",
    "            tgfb_set = as.numeric(tgfb_set),\n",
    "            purity = as.numeric(purity)\n",
    "        )\n",
    ")"
   ]
  },
  {
   "cell_type": "markdown",
   "id": "43a18166",
   "metadata": {},
   "source": [
    "### 3 - Add imputations, and study-cohort groups"
   ]
  },
  {
   "cell_type": "code",
   "execution_count": 11,
   "id": "a0d6d48e",
   "metadata": {},
   "outputs": [],
   "source": [
    "validation_go <- (\n",
    "  validation_ready \n",
    "    %>% group_by(Study) \n",
    "    %>% mutate_at(vars(all_of(c(\"tmb\", \"tcell\", \"tgfb\", \"prolif\", \"tcell_set\", \"prolif_set\", \"tgfb_set\",\"pretreat\"))), scale)\n",
    "    %>% ungroup()\n",
    "    %>% mutate(study_tissue_cohort = paste0(Study,\"-\", tissue, \"-\", cohort))\n",
    "    %>% group_by(Study, tissue)\n",
    "    %>% mutate(\n",
    "               pretreat=ifelse(is.na(pretreat),mean(pretreat,na.rm=TRUE),pretreat),\n",
    "               tmb=ifelse(is.na(tmb),median(tmb,na.rm=TRUE),tmb), \n",
    "               tcell=ifelse(is.na(tcell),median(tcell,na.rm=TRUE),tcell),\n",
    "               tgfb=ifelse(is.na(tgfb),median(tgfb,na.rm=TRUE),tgfb),\n",
    "               prolif=ifelse(is.na(prolif),median(prolif,na.rm=TRUE),prolif)\n",
    "              )\n",
    "    %>% ungroup()\n",
    "    %>% mutate( \n",
    "            pretreat = ifelse(pretreat == \"NaN\", mean(pretreat), pretreat),\n",
    "            pretreat = ifelse(is.na(pretreat),mean(pretreat,na.rm=TRUE),pretreat),\n",
    "            tmb= ifelse(is.na(tmb),median(tmb,na.rm=TRUE),tmb)\n",
    "    )\n",
    "    %>% mutate(Study_cohort = ifelse(Study == \"HMF-CPCT\", paste0(Study,\"-\", tissue), Study))\n",
    "    %>% mutate(Study_cohort = ifelse(Study %in% c(\"Lyon\", \"PARKER\"), paste0(Study,\"-\", cohort), Study_cohort))\n",
    ")"
   ]
  },
  {
   "cell_type": "markdown",
   "id": "1662c404",
   "metadata": {},
   "source": [
    "#### Add more groupings for Overall runs"
   ]
  },
  {
   "cell_type": "code",
   "execution_count": 12,
   "id": "e03bb394",
   "metadata": {},
   "outputs": [],
   "source": [
    "validation_go <- (\n",
    " validation_go %>% bind_rows(\n",
    "    validation_go %>% filter( !grepl(\"HMF-CPCT\", Study)) %>% mutate(Study_cohort = \"External Studies\"),\n",
    "    validation_go %>% filter( grepl(\"PARKER\", Study_cohort)) %>% mutate(Study_cohort = \"PARKER\"),\n",
    "    validation_go %>% filter( grepl(\"Lyon\", Study_cohort)) %>% mutate(Study_cohort = \"Lyon\"),\n",
    "    validation_go %>% filter( Study == \"HMF-CPCT\") %>% mutate(Study_cohort = \"HMF-CPCT\")\n",
    ") %>% filter(os_days > 0)\n",
    "  %>% unique() \n",
    "  %>% mutate(purity = as.numeric(purity))\n",
    ")"
   ]
  },
  {
   "cell_type": "code",
   "execution_count": 16,
   "id": "6281698d",
   "metadata": {},
   "outputs": [
    {
     "data": {
      "text/plain": [
       "\n",
       "External Studies         HMF-CPCT HMF-CPCT-bladder    HMF-CPCT-lung \n",
       "            1480              479               88              110 \n",
       "  HMF-CPCT-other    HMF-CPCT-skin          INSPIRE             Lyon \n",
       "              90              191               76              315 \n",
       "     Lyon-159067      Lyon-161537      Lyon-162519      Lyon-162520 \n",
       "             102               82               39               92 \n",
       "       MARIATHAN           PARKER       PARKER-038       PARKER-067 \n",
       "             348              315               63               38 \n",
       "     PARKER-gide       PARKER-liu             RAVI             VHIO \n",
       "              72              142              352               74 "
      ]
     },
     "metadata": {},
     "output_type": "display_data"
    }
   ],
   "source": [
    "table(validation_go$Study_cohort)"
   ]
  },
  {
   "cell_type": "markdown",
   "id": "87a62531",
   "metadata": {},
   "source": [
    "### 3 - Send it\n",
    "- This is where data is moved to HMF cluster "
   ]
  },
  {
   "cell_type": "code",
   "execution_count": 13,
   "id": "a8d9eb43",
   "metadata": {},
   "outputs": [],
   "source": [
    "saveRDS(validation_ready, paste0(TMP_DIR, \"validation-ready.Rds\"))\n",
    "saveRDS(validation_go, paste0(TMP_DIR, \"validation-go.Rds\"))"
   ]
  }
 ],
 "metadata": {
  "kernelspec": {
   "display_name": "R",
   "language": "R",
   "name": "ir"
  },
  "language_info": {
   "codemirror_mode": "r",
   "file_extension": ".r",
   "mimetype": "text/x-r-source",
   "name": "R",
   "pygments_lexer": "r",
   "version": "3.6.1"
  }
 },
 "nbformat": 4,
 "nbformat_minor": 5
}
