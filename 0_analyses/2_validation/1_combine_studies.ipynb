{
 "cells": [
  {
   "cell_type": "code",
   "execution_count": null,
   "id": "0",
   "metadata": {},
   "outputs": [],
   "source": [
    "wd <- dirname(dirname(getwd()))\n",
    "source(paste0(wd,\"/mission_control/treasure_map.R\"))\n",
    "library(tidyverse)"
   ]
  },
  {
   "cell_type": "markdown",
   "id": "1",
   "metadata": {},
   "source": [
    "### 0 - Read individual studies "
   ]
  },
  {
   "cell_type": "code",
   "execution_count": null,
   "id": "2",
   "metadata": {},
   "outputs": [],
   "source": [
    "hmf <- readRDS(paste0(TMP_DIR, \"validation-hmf-go.Rds\")) %>% mutate(extra = \"bbg_cluster\", extra2 = NA)\n",
    "vhio <- readRDS(paste0(TMP_DIR, \"validation-vhio-go.Rds\")) %>% mutate(extra = NA, extra2 = NA)\n",
    "inspire <- readRDS(paste0(TMP_DIR, \"validation-inspire-go.Rds\")) %>% mutate(extra = NA, extra2 = NA)\n",
    "mariathan <- readRDS(paste0(TMP_DIR, \"validation-mariathan-go.Rds\"))\n",
    "ravi <- readRDS(paste0(TMP_DIR, \"validation-ravi-go.Rds\"))\n",
    "parker <- readRDS(paste0(TMP_DIR, \"validation-parker-go.Rds\"))\n",
    "lyon <- readRDS(paste0(TMP_DIR, \"validation-lyon-go.Rds\"))"
   ]
  },
  {
   "cell_type": "markdown",
   "id": "3",
   "metadata": {},
   "source": [
    "### 1 Curate"
   ]
  },
  {
   "cell_type": "markdown",
   "id": "4",
   "metadata": {},
   "source": [
    "#### Update Tissues"
   ]
  },
  {
   "cell_type": "code",
   "execution_count": null,
   "id": "5",
   "metadata": {},
   "outputs": [],
   "source": [
    "tissue_update <- function(i) {\n",
    "        if( i == \"D: Melanoma\"){ \"skin\"} \n",
    "        else if (i == \"A: Head and Neck\") { \"hncc\" } \n",
    "        else if (i == \"E: Mixed\") { \"other\" } \n",
    "        else if (i == \"B: Breast\"){ \"breast\" } \n",
    "        else if (i == \"C: Ovary\"){ \"ovary\" }\n",
    "}\n",
    "inspire$tissue_full <- unlist(lapply(inspire$tissue, tissue_update))\n",
    "\n",
    "inspire <- \n",
    "inspire %>% \n",
    "    mutate(tissue = ifelse( tissue_full == \"skin\", \"skin\", \"other\"),\n",
    "           model_apply = ifelse( tissue_full == \"skin\", \"skin\", \"all\"),\n",
    "           cohort = \"all\")"
   ]
  },
  {
   "cell_type": "code",
   "execution_count": null,
   "id": "6",
   "metadata": {},
   "outputs": [],
   "source": [
    "vhio <-\n",
    "vhio %>% mutate(\n",
    "    model_apply =  ifelse( tissue == \"Colon\", \"all\", tolower(tissue)),\n",
    "    cohort = \"all\",\n",
    "    purity = NA,\n",
    "    tcell_set = tcell, \n",
    "    prolif_set = prolif,\n",
    "    tgfb_set = tgfb,\n",
    "    tcell_cluster5 = tcell, \n",
    "    prolif_cluster5 = prolif,\n",
    "    tgfb_cluster5 = tgfb)"
   ]
  },
  {
   "cell_type": "code",
   "execution_count": null,
   "id": "7",
   "metadata": {},
   "outputs": [],
   "source": [
    "hmf <- hmf %>% mutate( model_apply = tissue, cohort = \"all\")"
   ]
  },
  {
   "cell_type": "code",
   "execution_count": null,
   "id": "8",
   "metadata": {},
   "outputs": [],
   "source": [
    "mariathan <- mariathan %>% mutate( model_apply = \"bladder\", cohort = \"all\")"
   ]
  },
  {
   "cell_type": "code",
   "execution_count": null,
   "id": "9",
   "metadata": {},
   "outputs": [],
   "source": [
    "ravi <- ravi %>% mutate( model_apply = \"lung\", cohort = \"all\")"
   ]
  },
  {
   "cell_type": "code",
   "execution_count": null,
   "id": "10",
   "metadata": {},
   "outputs": [],
   "source": [
    "parker <- parker %>% mutate( model_apply = \"skin\") %>% select(-sample.id)"
   ]
  },
  {
   "cell_type": "code",
   "execution_count": null,
   "id": "11",
   "metadata": {},
   "outputs": [],
   "source": [
    "lyon <- lyon %>% mutate( model_apply = ifelse(tissue == \"lung\", \"lung\", \"all\"))"
   ]
  },
  {
   "cell_type": "markdown",
   "id": "12",
   "metadata": {},
   "source": [
    "### 2 - Combine + Cleaner"
   ]
  },
  {
   "cell_type": "code",
   "execution_count": null,
   "id": "13",
   "metadata": {},
   "outputs": [],
   "source": [
    "validation_ready <-\n",
    "rbind(vhio, inspire, hmf, mariathan, ravi , parker, lyon) %>% \n",
    "    mutate(\n",
    "        tissue = tolower(tissue),\n",
    "        tmb_bin = ifelse(exp(tmb)-1 > 10, 1, 0),\n",
    "        complete = !is.na(tmb) & !is.na(pretreat) & !is.na(tcell),\n",
    "        complete_dna = !is.na(tmb),\n",
    "        complete_rna = !is.na(tcell),\n",
    "        complete_pretreat = !is.na(pretreat), \n",
    "        qc = NA,\n",
    "        tcell = as.numeric(tcell),\n",
    "        prolif = as.numeric(prolif),\n",
    "        tgfb = as.numeric(tgfb),\n",
    "        tcell_cluster5 = as.numeric(tcell_cluster5),\n",
    "        prolif_cluster5 = as.numeric(prolif_cluster5),\n",
    "        tgfb_cluster5 = as.numeric(tgfb_cluster5),\n",
    "        tcell_set = as.numeric(tcell_set),\n",
    "        prolif_set = as.numeric(prolif_set),\n",
    "        tgfb_set = as.numeric(tgfb_set),\n",
    "        purity = as.numeric(purity))"
   ]
  },
  {
   "cell_type": "markdown",
   "id": "14",
   "metadata": {},
   "source": [
    "### 3 - Add imputations, and study-cohort groups"
   ]
  },
  {
   "cell_type": "code",
   "execution_count": null,
   "id": "15",
   "metadata": {},
   "outputs": [],
   "source": [
    "validation_go <- \n",
    "validation_ready %>% \n",
    "  group_by(Study) %>% \n",
    "  mutate_at(vars(all_of(c(\"tmb\", \"tcell\", \"tgfb\", \"prolif\", \"tcell_set\", \"prolif_set\", \"tgfb_set\",\"pretreat\"))), scale) %>% \n",
    "  ungroup() %>% \n",
    "  mutate(study_tissue_cohort = paste0(Study,\"-\", tissue, \"-\", cohort)) %>% \n",
    "  group_by(Study, tissue) %>% \n",
    "  mutate(\n",
    "   pretreat=ifelse(is.na(pretreat),mean(pretreat,na.rm=TRUE),pretreat),\n",
    "   tmb=ifelse(is.na(tmb),median(tmb,na.rm=TRUE),tmb), \n",
    "   tcell=ifelse(is.na(tcell),median(tcell,na.rm=TRUE),tcell),\n",
    "   tgfb=ifelse(is.na(tgfb),median(tgfb,na.rm=TRUE),tgfb),\n",
    "   prolif=ifelse(is.na(prolif),median(prolif,na.rm=TRUE),prolif)\n",
    "  ) %>% \n",
    "  ungroup() %>% \n",
    "  mutate( \n",
    "    pretreat = ifelse(pretreat == \"NaN\", mean(pretreat), pretreat),\n",
    "    pretreat = ifelse(is.na(pretreat),mean(pretreat,na.rm=TRUE),pretreat),\n",
    "    tmb= ifelse(is.na(tmb),median(tmb,na.rm=TRUE),tmb)\n",
    "  ) %>% \n",
    "  mutate(Study_cohort = ifelse(Study == \"HMF-CPCT\", paste0(Study,\"-\", tissue), Study)) %>% \n",
    "  mutate(Study_cohort = ifelse(Study %in% c(\"Lyon\", \"PARKER\"), paste0(Study,\"-\", cohort), Study_cohort))"
   ]
  },
  {
   "cell_type": "markdown",
   "id": "16",
   "metadata": {},
   "source": [
    "#### Add more groupings for Overall runs"
   ]
  },
  {
   "cell_type": "code",
   "execution_count": null,
   "id": "17",
   "metadata": {},
   "outputs": [],
   "source": [
    "validation_go <- \n",
    "validation_go %>% \n",
    "  bind_rows(\n",
    "  validation_go %>% filter( !grepl(\"HMF-CPCT\", Study)) %>% mutate(Study_cohort = \"External Studies\"),\n",
    "  validation_go %>% filter( grepl(\"PARKER\", Study_cohort)) %>% mutate(Study_cohort = \"PARKER\"),\n",
    "  validation_go %>% filter( grepl(\"Lyon\", Study_cohort)) %>% mutate(Study_cohort = \"Lyon\"),\n",
    "  validation_go %>% filter( Study == \"HMF-CPCT\") %>% mutate(Study_cohort = \"HMF-CPCT\")) %>% \n",
    "  filter(os_days > 0) %>% \n",
    "  unique() %>% \n",
    "  mutate(purity = as.numeric(purity))"
   ]
  },
  {
   "cell_type": "markdown",
   "id": "18",
   "metadata": {},
   "source": [
    "### 3 - Send it\n",
    "- This is where data is moved to HMF cluster "
   ]
  },
  {
   "cell_type": "code",
   "execution_count": null,
   "id": "19",
   "metadata": {},
   "outputs": [],
   "source": [
    "saveRDS(validation_ready, paste0(TMP_DIR, \"validation-ready.Rds\"))\n",
    "saveRDS(validation_go, paste0(TMP_DIR, \"validation-go.Rds\"))"
   ]
  }
 ],
 "metadata": {
  "kernelspec": {
   "display_name": "R",
   "language": "R",
   "name": "ir"
  },
  "language_info": {
   "codemirror_mode": "r",
   "file_extension": ".r",
   "mimetype": "text/x-r-source",
   "name": "R",
   "pygments_lexer": "r",
   "version": "3.6.1"
  }
 },
 "nbformat": 4,
 "nbformat_minor": 5
}
