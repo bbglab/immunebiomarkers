{
 "cells": [
  {
   "cell_type": "code",
   "execution_count": 1,
   "id": "d9d8e30d",
   "metadata": {},
   "outputs": [
    {
     "name": "stderr",
     "output_type": "stream",
     "text": [
      "Registered S3 method overwritten by 'rvest':\n",
      "  method            from\n",
      "  read_xml.response xml2\n",
      "── Attaching packages ──────────────────────────────────────────────────────────────────────────────────────────────────────────────────────────────────────────────────────────────────────────── tidyverse 1.2.1 ──\n",
      "✔ ggplot2 3.3.6     ✔ purrr   0.3.4\n",
      "✔ tibble  3.1.2     ✔ dplyr   1.0.6\n",
      "✔ tidyr   1.1.3     ✔ stringr 1.4.0\n",
      "✔ readr   1.3.1     ✔ forcats 0.5.1\n",
      "Warning message:\n",
      "“package ‘tibble’ was built under R version 3.6.3”Warning message:\n",
      "“package ‘tidyr’ was built under R version 3.6.3”Warning message:\n",
      "“package ‘purrr’ was built under R version 3.6.3”Warning message:\n",
      "“package ‘dplyr’ was built under R version 3.6.3”Warning message:\n",
      "“package ‘forcats’ was built under R version 3.6.3”── Conflicts ─────────────────────────────────────────────────────────────────────────────────────────────────────────────────────────────────────────────────────────────────────────────── tidyverse_conflicts() ──\n",
      "✖ dplyr::filter() masks stats::filter()\n",
      "✖ dplyr::lag()    masks stats::lag()\n"
     ]
    }
   ],
   "source": [
    "wd <- dirname(dirname(getwd()))\n",
    "source(paste0(wd,\"/mission_control/treasure_map.R\"))\n",
    "\n",
    "library(tidyverse)"
   ]
  },
  {
   "cell_type": "code",
   "execution_count": 2,
   "id": "59726d53",
   "metadata": {},
   "outputs": [],
   "source": [
    "CLIN_DIR <- paste0(E_DIR, \"/val_hebron/clinical/clean/\")\n",
    "RNA_DIR <- paste0(E_DIR, \"/val_hebron/rna/clean/\")\n",
    "TMB_DIR <- paste0(E_DIR, \"/val_hebron/somatic/clean/\")\n",
    "ANNOT_DIR <- paste0(E_DIR, \"/val_hebron/rna/raw/\")\n",
    "O_DIR <- paste0(E_DIR, \"/val_hebron/all_ready/\")"
   ]
  },
  {
   "cell_type": "markdown",
   "id": "c9d92d3b",
   "metadata": {},
   "source": [
    "### 0 - Read Data Files"
   ]
  },
  {
   "cell_type": "code",
   "execution_count": 3,
   "id": "ab1e7a57",
   "metadata": {},
   "outputs": [],
   "source": [
    "clinical <- readRDS( paste0(CLIN_DIR, \"clinical_go.Rds\"))\n",
    "somatic <-  readRDS( paste0(TMB_DIR,  \"tmb_go.Rds\"))\n",
    "rna <-      readRDS( paste0(RNA_DIR,  \"rna_go.Rds\"))\n",
    "annotations <- read.csv( paste0(ANNOT_DIR, \"annotations_share.csv\"), sep = \";\", stringsAsFactors = FALSE)"
   ]
  },
  {
   "cell_type": "markdown",
   "id": "24cb03c3",
   "metadata": {},
   "source": [
    "### 1 - Combine everything"
   ]
  },
  {
   "cell_type": "code",
   "execution_count": 4,
   "id": "3c59a35d",
   "metadata": {},
   "outputs": [],
   "source": [
    "vhio_data <- \n",
    "(\n",
    "clinical \n",
    "    %>% inner_join( rna, by = \"patient_id\")\n",
    "    %>% left_join( annotations, by = \"LAB.ID\")\n",
    "    %>% left_join( somatic, by = \"LAB.ID\")\n",
    ")"
   ]
  },
  {
   "cell_type": "code",
   "execution_count": 5,
   "id": "bd6c47ab",
   "metadata": {},
   "outputs": [],
   "source": [
    "vhio_select <- (\n",
    "    vhio_data \n",
    "        %>% transmute( \n",
    "            patient_id, \n",
    "            bor,\n",
    "            os = ifelse( os_event == 0, -os_days, os_days),\n",
    "            os_event,\n",
    "            os_days,\n",
    "            age = clinical_age, \n",
    "            gender = clinical_gender, \n",
    "            tissue = Cohort.x,\n",
    "            tissue_full = Cohort.x, \n",
    "            tmb, \n",
    "            tcell,\n",
    "            prolif, \n",
    "            tgfb,\n",
    "            pdl1, \n",
    "            pretreat = clinical_pretreat,\n",
    "            pretreat_comp = NA,\n",
    "            purity = NA,\n",
    "            Study = \"VHIO\"\n",
    "        ) %>% drop_na(os_days)\n",
    "          %>% group_by(tissue)\n",
    "          %>% mutate(tmb=ifelse(is.na(tmb),median(tmb,na.rm=TRUE),tmb))  ### add median imputation\n",
    "          %>% ungroup()\n",
    ")"
   ]
  },
  {
   "cell_type": "markdown",
   "id": "f47e1e62",
   "metadata": {},
   "source": [
    "### 2 - Send it"
   ]
  },
  {
   "cell_type": "code",
   "execution_count": 6,
   "id": "eede7500",
   "metadata": {},
   "outputs": [],
   "source": [
    "saveRDS( vhio_select, paste0(TMP_DIR, \"validation-vhio-go.Rds\"))"
   ]
  }
 ],
 "metadata": {
  "kernelspec": {
   "display_name": "R",
   "language": "R",
   "name": "ir"
  },
  "language_info": {
   "codemirror_mode": "r",
   "file_extension": ".r",
   "mimetype": "text/x-r-source",
   "name": "R",
   "pygments_lexer": "r",
   "version": "3.6.1"
  }
 },
 "nbformat": 4,
 "nbformat_minor": 5
}
