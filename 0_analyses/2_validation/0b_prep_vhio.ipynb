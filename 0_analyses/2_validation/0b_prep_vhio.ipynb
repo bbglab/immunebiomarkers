{
 "cells": [
  {
   "cell_type": "code",
   "execution_count": null,
   "id": "0",
   "metadata": {},
   "outputs": [],
   "source": [
    "wd <- dirname(dirname(getwd()))\n",
    "source(paste0(wd,\"/mission_control/treasure_map.R\"))\n",
    "\n",
    "library(tidyverse)"
   ]
  },
  {
   "cell_type": "code",
   "execution_count": null,
   "id": "1",
   "metadata": {},
   "outputs": [],
   "source": [
    "CLIN_DIR <- paste0(E_DIR, \"/val_hebron/clinical/clean/\")\n",
    "RNA_DIR <- paste0(E_DIR, \"/val_hebron/rna/clean/\")\n",
    "TMB_DIR <- paste0(E_DIR, \"/val_hebron/somatic/clean/\")\n",
    "ANNOT_DIR <- paste0(E_DIR, \"/val_hebron/rna/raw/\")\n",
    "O_DIR <- paste0(E_DIR, \"/val_hebron/all_ready/\")"
   ]
  },
  {
   "cell_type": "markdown",
   "id": "2",
   "metadata": {},
   "source": [
    "### 0 - Read Data Files"
   ]
  },
  {
   "cell_type": "code",
   "execution_count": null,
   "id": "3",
   "metadata": {},
   "outputs": [],
   "source": [
    "clinical <- readRDS( paste0(CLIN_DIR, \"clinical_go.Rds\"))\n",
    "somatic <-  readRDS( paste0(TMB_DIR,  \"tmb_go.Rds\"))\n",
    "rna <-      readRDS( paste0(RNA_DIR,  \"rna_go.Rds\"))\n",
    "annotations <- read.csv( paste0(ANNOT_DIR, \"annotations_share.csv\"), sep = \";\", stringsAsFactors = FALSE)"
   ]
  },
  {
   "cell_type": "markdown",
   "id": "4",
   "metadata": {},
   "source": [
    "### 1 - Combine everything"
   ]
  },
  {
   "cell_type": "code",
   "execution_count": null,
   "id": "5",
   "metadata": {},
   "outputs": [],
   "source": [
    "vhio_data <- \n",
    "clinical %>% \n",
    "  inner_join( rna, by = \"patient_id\") %>% \n",
    "  left_join( annotations, by = \"LAB.ID\") %>% \n",
    "  left_join( somatic, by = \"LAB.ID\")"
   ]
  },
  {
   "cell_type": "code",
   "execution_count": null,
   "id": "6",
   "metadata": {},
   "outputs": [],
   "source": [
    "vhio_select <-\n",
    "vhio_data %>% \n",
    "  transmute( \n",
    "    patient_id, \n",
    "    bor,\n",
    "    os = ifelse( os_event == 0, -os_days, os_days),\n",
    "    os_event,\n",
    "    os_days,\n",
    "    age = clinical_age, \n",
    "    gender = clinical_gender, \n",
    "    tissue = Cohort.x,\n",
    "    tissue_full = Cohort.x, \n",
    "    tmb, \n",
    "    tcell,\n",
    "    prolif, \n",
    "    tgfb,\n",
    "    pdl1, \n",
    "    pretreat = clinical_pretreat,\n",
    "    pretreat_comp = NA,\n",
    "    purity = NA,\n",
    "    Study = \"VHIO\") %>% \n",
    "  drop_na(os_days) %>% \n",
    "  group_by(tissue) %>% \n",
    "  mutate(tmb=ifelse(is.na(tmb),median(tmb,na.rm=TRUE),tmb)) %>% ### add median imputation \n",
    "  ungroup()"
   ]
  },
  {
   "cell_type": "markdown",
   "id": "7",
   "metadata": {},
   "source": [
    "### 2 - Send it"
   ]
  },
  {
   "cell_type": "code",
   "execution_count": null,
   "id": "8",
   "metadata": {},
   "outputs": [],
   "source": [
    "saveRDS( vhio_select, paste0(TMP_DIR, \"validation-vhio-go.Rds\"))"
   ]
  }
 ],
 "metadata": {
  "kernelspec": {
   "display_name": "R",
   "language": "R",
   "name": "ir"
  },
  "language_info": {
   "codemirror_mode": "r",
   "file_extension": ".r",
   "mimetype": "text/x-r-source",
   "name": "R",
   "pygments_lexer": "r",
   "version": "3.6.1"
  }
 },
 "nbformat": 4,
 "nbformat_minor": 5
}
