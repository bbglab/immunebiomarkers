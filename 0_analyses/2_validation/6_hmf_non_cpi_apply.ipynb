{
 "cells": [
  {
   "cell_type": "code",
   "execution_count": 1,
   "id": "f2065753",
   "metadata": {},
   "outputs": [],
   "source": [
    "wd <- dirname(dirname(getwd()))\n",
    "source(paste0(wd,\"/mission_control/treasure_map.R\"))\n",
    "source(paste0(wd,\"/mission_control/helpers/xgboost/eval_help.R\"))\n",
    "source(paste0(wd,\"/mission_control/helpers/xgboost/paper_settings.R\"))\n",
    "source(paste0(wd,\"/mission_control/helpers/xgboost/validation_help.R\"))"
   ]
  },
  {
   "cell_type": "code",
   "execution_count": 2,
   "id": "d617bfd5",
   "metadata": {},
   "outputs": [
    {
     "name": "stderr",
     "output_type": "stream",
     "text": [
      "Registered S3 method overwritten by 'rvest':\n",
      "  method            from\n",
      "  read_xml.response xml2\n",
      "── Attaching packages ────────────────────────────────────────────────────────────────────────────────────────────────────────────────────────────────────────────────────────────────────────── tidyverse 1.2.1 ──\n",
      "✔ ggplot2 3.3.6     ✔ purrr   0.3.4\n",
      "✔ tibble  3.1.2     ✔ dplyr   1.0.6\n",
      "✔ tidyr   1.1.3     ✔ stringr 1.4.0\n",
      "✔ readr   1.3.1     ✔ forcats 0.5.1\n",
      "Warning message:\n",
      "“package ‘tibble’ was built under R version 3.6.3”Warning message:\n",
      "“package ‘tidyr’ was built under R version 3.6.3”Warning message:\n",
      "“package ‘purrr’ was built under R version 3.6.3”Warning message:\n",
      "“package ‘dplyr’ was built under R version 3.6.3”Warning message:\n",
      "“package ‘forcats’ was built under R version 3.6.3”── Conflicts ───────────────────────────────────────────────────────────────────────────────────────────────────────────────────────────────────────────────────────────────────────────── tidyverse_conflicts() ──\n",
      "✖ dplyr::filter() masks stats::filter()\n",
      "✖ dplyr::lag()    masks stats::lag()\n",
      "\n",
      "Attaching package: ‘xgboost’\n",
      "\n",
      "The following object is masked from ‘package:dplyr’:\n",
      "\n",
      "    slice\n",
      "\n"
     ]
    }
   ],
   "source": [
    "library(tidyverse)\n",
    "library(xgboost)"
   ]
  },
  {
   "cell_type": "markdown",
   "id": "e33eae47",
   "metadata": {},
   "source": [
    "### 0 - Read in prepared data sets"
   ]
  },
  {
   "cell_type": "code",
   "execution_count": 3,
   "id": "a1284366",
   "metadata": {},
   "outputs": [],
   "source": [
    "validation_ready <- readRDS(paste0(TMP_DIR, \"validation-hmf-go.Rds\"))\n",
    "hmf_models <- readRDS(paste0(TMP_DIR, \"validation-hmf-models.Rds\"))"
   ]
  },
  {
   "cell_type": "markdown",
   "id": "3a5568d7",
   "metadata": {},
   "source": [
    "### 1 - Apply to HMF non-CPI"
   ]
  },
  {
   "cell_type": "code",
   "execution_count": 4,
   "id": "e009272f",
   "metadata": {},
   "outputs": [],
   "source": [
    "hmf_non_cpi <- (\n",
    "    readRDS(paste0(TMP_DIR, \"validation-hmf-noncpi-go.Rds\")) \n",
    "        %>% drop_na(tcell)\n",
    "        %>% select(-Y_best_response_binary, -Survival_os_event, -Survival_time_to_os_event, -Filter_meta_responseMeasured)\n",
    "        %>% mutate( model_apply = ifelse(tissue!=\"other\",tissue, \"all\")) \n",
    "        %>% mutate_at(vars(\"tcell\",\"tgfb\",\"prolif\", \"pretreat\", \"purity\"), scale)\n",
    "        %>% mutate(\n",
    "              tcell = as.numeric(tcell),\n",
    "              prolif = as.numeric(prolif), \n",
    "              pretreat = as.numeric(pretreat),\n",
    "              tgfb = as.numeric(tgfb), \n",
    "              pdl1 = as.numeric(pdl1), \n",
    "              purity = as.numeric(purity)#,pretreat_comp = as.numeric(pretreat_comp)\n",
    "        )\n",
    ")"
   ]
  },
  {
   "cell_type": "code",
   "execution_count": 5,
   "id": "42fca660",
   "metadata": {},
   "outputs": [],
   "source": [
    "apply_hmf_mods <- function(df, model, features){\n",
    "    model_features <- models[[features]]\n",
    "    mod_lr <- hmf_models[['1']][[features]][[model]][\"mod_lr\"]$mod_lr\n",
    "    mod_os <- hmf_models[['1']][[features]][[model]][\"mod_os\"]$mod_os\n",
    "    if (nrow(df) > 0) {\n",
    "        X <- as.matrix(df %>% select(all_of(model_features)))\n",
    "        get_preds_X(X, df %>% pull(patient_id), mod_lr, mod_os)\n",
    "    }\n",
    "}"
   ]
  },
  {
   "cell_type": "code",
   "execution_count": 6,
   "id": "757e740b",
   "metadata": {},
   "outputs": [],
   "source": [
    "non_cpi_hmf_preds <- data.frame()\n",
    "for (j in c(\"all\", \"bladder\", \"lung\", \"skin\")){\n",
    "    df_go <- hmf_non_cpi %>% filter(model_apply == j)\n",
    "    preds_i <- apply_hmf_mods( df_go, model = j, features = \"five_latent_purity\")\n",
    "    preds_i$model <- \"five_latent_purity\"\n",
    "    non_cpi_hmf_preds <- bind_rows(non_cpi_hmf_preds, preds_i)\n",
    "}"
   ]
  },
  {
   "cell_type": "code",
   "execution_count": 7,
   "id": "f4bde6e6",
   "metadata": {},
   "outputs": [],
   "source": [
    "non_cpi <- hmf_non_cpi %>% inner_join(non_cpi_hmf_preds, by = \"patient_id\") \n",
    "non_cpi$Study <- 'HMF'\n",
    "non_cpi$cpi <- FALSE"
   ]
  },
  {
   "cell_type": "markdown",
   "id": "6da1ad0d",
   "metadata": {},
   "source": [
    "### 2 - Add prediction groups "
   ]
  },
  {
   "cell_type": "code",
   "execution_count": 8,
   "id": "db830b9b",
   "metadata": {},
   "outputs": [],
   "source": [
    "non_cpi$pred_os2 <- ifelse( non_cpi$pred_os > 3, 3.1, non_cpi$pred_os)\n",
    "non_cpi$lr_gp <-  cut( non_cpi$pred_lr,  breaks = c(0,.1,.5,    1) , labels = c(\"Low\", \"Medium\", \"High\"))\n",
    "non_cpi$os_gp <-  cut( non_cpi$pred_os2,  breaks = c(0,.5,1.5,   20) , labels = c(\"Low\", \"Medium\", \"High\"))"
   ]
  },
  {
   "cell_type": "markdown",
   "id": "1bd457c9",
   "metadata": {},
   "source": [
    "### 6 - Send it"
   ]
  },
  {
   "cell_type": "code",
   "execution_count": 9,
   "id": "a2b91d64",
   "metadata": {},
   "outputs": [],
   "source": [
    "saveRDS( non_cpi, paste0(TMP_DIR, \"validation-non-cpi.Rds\") )"
   ]
  }
 ],
 "metadata": {
  "kernelspec": {
   "display_name": "R",
   "language": "R",
   "name": "ir"
  },
  "language_info": {
   "codemirror_mode": "r",
   "file_extension": ".r",
   "mimetype": "text/x-r-source",
   "name": "R",
   "pygments_lexer": "r",
   "version": "3.6.1"
  }
 },
 "nbformat": 4,
 "nbformat_minor": 5
}
