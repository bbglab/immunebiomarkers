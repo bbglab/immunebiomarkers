{
 "cells": [
  {
   "cell_type": "code",
   "execution_count": null,
   "id": "0",
   "metadata": {},
   "outputs": [],
   "source": [
    "wd <- dirname(dirname(getwd()))\n",
    "source(paste0(wd,\"/mission_control/treasure_map.R\"))\n",
    "source(paste0(wd,\"/mission_control/helpers/xgboost/eval_help.R\"))\n",
    "source(paste0(wd,\"/mission_control/helpers/xgboost/paper_settings.R\"))\n",
    "source(paste0(wd,\"/mission_control/helpers/xgboost/validation_help.R\"))"
   ]
  },
  {
   "cell_type": "code",
   "execution_count": null,
   "id": "1",
   "metadata": {},
   "outputs": [],
   "source": [
    "library(tidyverse)\n",
    "library(xgboost)"
   ]
  },
  {
   "cell_type": "markdown",
   "id": "2",
   "metadata": {},
   "source": [
    "### 0 - Read in prepared data sets"
   ]
  },
  {
   "cell_type": "code",
   "execution_count": null,
   "id": "3",
   "metadata": {},
   "outputs": [],
   "source": [
    "validation_ready <- readRDS(paste0(TMP_DIR, \"validation-hmf-go.Rds\"))"
   ]
  },
  {
   "cell_type": "markdown",
   "id": "4",
   "metadata": {},
   "source": [
    "### 1 - HMF CPCT cross-validation\n",
    "- CPI patients"
   ]
  },
  {
   "cell_type": "code",
   "execution_count": null,
   "id": "5",
   "metadata": {},
   "outputs": [],
   "source": [
    "set.seed(62220)"
   ]
  },
  {
   "cell_type": "code",
   "execution_count": null,
   "id": "6",
   "metadata": {},
   "outputs": [],
   "source": [
    "hmf <- validation_ready %>% drop_na(os, bor)"
   ]
  },
  {
   "cell_type": "code",
   "execution_count": null,
   "id": "7",
   "metadata": {},
   "outputs": [],
   "source": [
    "hmf_loo_cv <- data.frame()\n",
    "Y_base <- hmf %>% select(all_of(c(\"patient_id\", \"tissue\", \"bor\", \"os\")))\n",
    "\n",
    "for( i in c(\"five_latent_purity\")){\n",
    "    X_base <- hmf %>% select(all_of(c(\"patient_id\", \"tissue\", models[[i]])))\n",
    "    hmf_loo_cv <- run_loo_cv(Y_base, X_base)\n",
    "    hmf_loo_cv$model <- i\n",
    "}"
   ]
  },
  {
   "cell_type": "markdown",
   "id": "8",
   "metadata": {},
   "source": [
    "### 5 - Add prediction groups "
   ]
  },
  {
   "cell_type": "code",
   "execution_count": null,
   "id": "9",
   "metadata": {},
   "outputs": [],
   "source": [
    "hmf_loo_cv$pred_os2 <- ifelse( hmf_loo_cv$pred_os > 3, 3.1, hmf_loo_cv$pred_os)\n",
    "hmf_loo_cv$lr_gp <-  cut( hmf_loo_cv$pred_lr,  breaks = c(0,.1,.5,    1) , labels = c(\"Low\", \"Medium\", \"High\"))\n",
    "hmf_loo_cv$os_gp <-  cut( hmf_loo_cv$pred_os2,  breaks = c(0,.5,1.5,   20) , labels = c(\"Low\", \"Medium\", \"High\"))"
   ]
  },
  {
   "cell_type": "markdown",
   "id": "10",
   "metadata": {},
   "source": [
    "### 6 - Send it"
   ]
  },
  {
   "cell_type": "code",
   "execution_count": null,
   "id": "11",
   "metadata": {},
   "outputs": [],
   "source": [
    "saveRDS( hmf_loo_cv, paste0(TMP_DIR, \"validation-loo-cv.Rds\") )"
   ]
  }
 ],
 "metadata": {
  "kernelspec": {
   "display_name": "R",
   "language": "R",
   "name": "ir"
  },
  "language_info": {
   "codemirror_mode": "r",
   "file_extension": ".r",
   "mimetype": "text/x-r-source",
   "name": "R",
   "pygments_lexer": "r",
   "version": "3.6.1"
  }
 },
 "nbformat": 4,
 "nbformat_minor": 5
}
