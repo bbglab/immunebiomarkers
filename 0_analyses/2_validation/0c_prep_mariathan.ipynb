{
 "cells": [
  {
   "cell_type": "markdown",
   "id": "52f0508f",
   "metadata": {},
   "source": [
    "### Validation Mariathan\n",
    "- No imputation added here"
   ]
  },
  {
   "cell_type": "code",
   "execution_count": 1,
   "id": "868b0a65",
   "metadata": {},
   "outputs": [],
   "source": [
    "options(repr.matrix.max.cols=150, repr.matrix.max.rows=200)"
   ]
  },
  {
   "cell_type": "code",
   "execution_count": 2,
   "id": "b37b46ec",
   "metadata": {},
   "outputs": [
    {
     "name": "stderr",
     "output_type": "stream",
     "text": [
      "Warning message:\n",
      "“package ‘dplyr’ was built under R version 3.6.3”\n",
      "Attaching package: ‘dplyr’\n",
      "\n",
      "The following objects are masked from ‘package:stats’:\n",
      "\n",
      "    filter, lag\n",
      "\n",
      "The following objects are masked from ‘package:base’:\n",
      "\n",
      "    intersect, setdiff, setequal, union\n",
      "\n",
      "Registered S3 method overwritten by 'rvest':\n",
      "  method            from\n",
      "  read_xml.response xml2\n",
      "── Attaching packages ──────────────────────────────────────────────────────────────────────────────────────────────────────────────────────────────────────────────────────────────────────────── tidyverse 1.2.1 ──\n",
      "✔ ggplot2 3.3.6     ✔ readr   1.3.1\n",
      "✔ tibble  3.1.2     ✔ purrr   0.3.4\n",
      "✔ tidyr   1.1.3     ✔ forcats 0.5.1\n",
      "Warning message:\n",
      "“package ‘tibble’ was built under R version 3.6.3”Warning message:\n",
      "“package ‘tidyr’ was built under R version 3.6.3”Warning message:\n",
      "“package ‘purrr’ was built under R version 3.6.3”Warning message:\n",
      "“package ‘forcats’ was built under R version 3.6.3”── Conflicts ─────────────────────────────────────────────────────────────────────────────────────────────────────────────────────────────────────────────────────────────────────────────── tidyverse_conflicts() ──\n",
      "✖ dplyr::filter() masks stats::filter()\n",
      "✖ dplyr::lag()    masks stats::lag()\n"
     ]
    }
   ],
   "source": [
    "wd <- dirname(dirname(getwd()))\n",
    "source(paste0(wd,\"/mission_control/treasure_map.R\"))\n",
    "source(paste0(wd,\"/mission_control/helpers/validation/settings.R\"))\n",
    "\n",
    "library(dplyr)\n",
    "library(stringr)\n",
    "library(tidyverse)\n",
    "\n",
    "I_DIR <- paste0(E_DIR, \"/mariathan/\")"
   ]
  },
  {
   "cell_type": "code",
   "execution_count": 3,
   "id": "5cea6a9f",
   "metadata": {},
   "outputs": [],
   "source": [
    "oo <- readRDS( paste0(I_DIR,\"cds_extract.RData\"))\n",
    "ff <- readRDS( paste0(I_DIR, \"fmone_extract.RData\"))"
   ]
  },
  {
   "cell_type": "markdown",
   "id": "d38c3b2d",
   "metadata": {},
   "source": [
    "### 0 - Curate clinical data"
   ]
  },
  {
   "cell_type": "code",
   "execution_count": 4,
   "id": "6dfe7d2e",
   "metadata": {},
   "outputs": [],
   "source": [
    "clinical <- oo$pData_df"
   ]
  },
  {
   "cell_type": "code",
   "execution_count": 5,
   "id": "d87d5355",
   "metadata": {},
   "outputs": [],
   "source": [
    "binary_response <- function( recist ){\n",
    "    if( recist %in% c(\"CR\",\"PR\")){\n",
    "        1\n",
    "    } else if ( recist %in% c(\"SD\", \"PD\")){\n",
    "        0\n",
    "    } else {\n",
    "        NA\n",
    "    }\n",
    "}"
   ]
  },
  {
   "cell_type": "code",
   "execution_count": 6,
   "id": "84114788",
   "metadata": {},
   "outputs": [],
   "source": [
    "clinical <- tibble::rownames_to_column(clinical, \"patient_id\")\n",
    "clinical$bor <- unlist(lapply( as.character(clinical$\"Best Confirmed Overall Response\"), binary_response))\n",
    "clinical$ecog <- as.numeric(clinical$\"Baseline ECOG Score\" > 0)\n",
    "#clinical$pretreat <- ifelse( clinical$\"Sample collected pre-platinum\" == \"N\", 1, 0 )\n",
    "clinical$os_days <- clinical$os * 365/12\n",
    "clinical$os_event <- ifelse(clinical$censOS == 1, 1, 0)\n",
    "clinical$os <- ifelse(clinical$os_event == 1, clinical$os_days, -clinical$os_days)\n",
    "clinical$tmb <- clinical$\"FMOne mutation burden per MB\"\n",
    "clinical$ip <- clinical$\"Immune phenotype\"\n",
    "clinical$plat <- clinical$\"Received platinum\"\n",
    "clinical$sample_age <- clinical$\"Sample age\""
   ]
  },
  {
   "cell_type": "code",
   "execution_count": 7,
   "id": "3edf8a50",
   "metadata": {},
   "outputs": [],
   "source": [
    "clinical_go <- (\n",
    "    clinical\n",
    "        %>% transmute(\n",
    "          patient_id, \n",
    "          bor,\n",
    "          os, \n",
    "          os_event, \n",
    "          os_days, \n",
    "          age = NA, \n",
    "          gender = Sex,\n",
    "          tissue = \"bladder\", \n",
    "          tissue_full = Tissue,\n",
    "          tmb = log(tmb+1),\n",
    "          pretreat = NA,\n",
    "          pretreat_comp = NA,\n",
    "          purity = ip,\n",
    "          Study = \"MARIATHAN\",\n",
    "          extra = ecog, \n",
    "          extra2 = sample_age\n",
    "        )\n",
    ")"
   ]
  },
  {
   "cell_type": "markdown",
   "id": "4a4b9712",
   "metadata": {},
   "source": [
    "### 1 - Format Expression Data\n",
    "- Compute t-cell, proliferation, tgfb, pdl1"
   ]
  },
  {
   "cell_type": "code",
   "execution_count": 8,
   "id": "0964d06c",
   "metadata": {},
   "outputs": [],
   "source": [
    "df_tmp <- as.data.frame(t(oo$cds))"
   ]
  },
  {
   "cell_type": "markdown",
   "id": "8475a551",
   "metadata": {},
   "source": [
    "- RNA data to share"
   ]
  },
  {
   "cell_type": "code",
   "execution_count": 9,
   "id": "2ad0c2ff",
   "metadata": {},
   "outputs": [],
   "source": [
    "share <- data.frame(\n",
    "    t(data.frame(t(df_tmp)) \n",
    "        %>% rownames_to_column(\"entrez_id\")\n",
    "        %>% inner_join( oo$fData %>% select(entrez_id, Symbol), by = \"entrez_id\")\n",
    "        %>% filter(! Symbol %in% c(\"\", \"CSNK1E\")) %>% drop_na(Symbol)\n",
    "        %>% select(-entrez_id)\n",
    "        %>% column_to_rownames(\"Symbol\")\n",
    "    )    \n",
    ")\n",
    "saveRDS( share, paste0(REF_DIR, \"rna_mariathasan.Rds\"))"
   ]
  },
  {
   "cell_type": "markdown",
   "id": "d5cc463e",
   "metadata": {},
   "source": [
    "- Compute t-cell, proliferation, tgfb, pdl1"
   ]
  },
  {
   "cell_type": "code",
   "execution_count": 10,
   "id": "4c38ebae",
   "metadata": {},
   "outputs": [],
   "source": [
    "genes <- unlist(gene_sets)\n",
    "symbols <- oo$fData[which(oo$fData$Symbol %in% genes),]\n",
    "df_tmp<- as.data.frame(oo$cds)[which(rownames(as.data.frame(oo$cds))%in% symbols$entrez_id),]\n",
    "rna <- as.data.frame(t(df_tmp))"
   ]
  },
  {
   "cell_type": "code",
   "execution_count": 11,
   "id": "d80c8629",
   "metadata": {},
   "outputs": [],
   "source": [
    "colnames(rna) <- oo$fData %>% filter(entrez_id %in% colnames(rna)) %>% pull(symbol)\n",
    "rna <- rna %>% mutate_at(colnames(rna), ~(log(.+1) %>% as.vector))\n",
    "rna <- tibble::rownames_to_column(rna, \"patient_id\")"
   ]
  },
  {
   "cell_type": "code",
   "execution_count": 12,
   "id": "ee942462",
   "metadata": {},
   "outputs": [
    {
     "data": {
      "text/html": [
       "<ol class=list-inline>\n",
       "\t<li>'sets1'</li>\n",
       "\t<li>'clusters'</li>\n",
       "\t<li>'clusters5'</li>\n",
       "\t<li>'clusters10'</li>\n",
       "</ol>\n"
      ],
      "text/latex": [
       "\\begin{enumerate*}\n",
       "\\item 'sets1'\n",
       "\\item 'clusters'\n",
       "\\item 'clusters5'\n",
       "\\item 'clusters10'\n",
       "\\end{enumerate*}\n"
      ],
      "text/markdown": [
       "1. 'sets1'\n",
       "2. 'clusters'\n",
       "3. 'clusters5'\n",
       "4. 'clusters10'\n",
       "\n",
       "\n"
      ],
      "text/plain": [
       "[1] \"sets1\"      \"clusters\"   \"clusters5\"  \"clusters10\""
      ]
     },
     "metadata": {},
     "output_type": "display_data"
    }
   ],
   "source": [
    "names(gene_sets)"
   ]
  },
  {
   "cell_type": "code",
   "execution_count": 13,
   "id": "dee40e2a",
   "metadata": {},
   "outputs": [],
   "source": [
    "rna$tcell <-  apply(rna %>% select( any_of(gene_sets$clusters$tcell)),1,mean)  \n",
    "rna$prolif <- apply(rna %>% select( any_of(gene_sets$clusters$prolif)),1,mean) \n",
    "rna$tgfb <-   apply(rna %>% select( any_of(gene_sets$clusters$tgfb)),1,mean) \n",
    "\n",
    "rna$tcell_cluster5 <-  apply(rna %>% select( any_of(gene_sets$clusters5$tcell)),1,mean)  \n",
    "rna$prolif_cluster5 <- apply(rna %>% select( any_of(gene_sets$clusters5$prolif)),1,mean) \n",
    "rna$tgfb_cluster5 <-   apply(rna %>% select( any_of(gene_sets$clusters5$tgfb)),1,mean) \n",
    "\n",
    "rna$tcell_set <-  apply(rna %>% select( any_of(gene_sets$sets1$tcell)),1,mean)  \n",
    "rna$prolif_set <- apply(rna %>% select( any_of(gene_sets$sets1$prolif)),1,mean) \n",
    "rna$tgfb_set <-   apply(rna %>% select( any_of(gene_sets$sets1$tgfb)),1,mean) \n",
    "\n",
    "rna$pdl1 <-   apply(rna %>% select( CD274),1,mean) "
   ]
  },
  {
   "cell_type": "code",
   "execution_count": 14,
   "id": "a5faf868",
   "metadata": {},
   "outputs": [],
   "source": [
    "rna_go <- rna %>% select( patient_id, tcell, prolif, tgfb, tcell_cluster5, prolif_cluster5, tgfb_cluster5, tcell_set, prolif_set, tgfb_set, pdl1)"
   ]
  },
  {
   "cell_type": "markdown",
   "id": "921877a6",
   "metadata": {},
   "source": [
    "### 2 - Combine"
   ]
  },
  {
   "cell_type": "code",
   "execution_count": 15,
   "id": "77593469",
   "metadata": {},
   "outputs": [],
   "source": [
    "mariathan_go <- clinical_go %>% left_join(rna_go, by = \"patient_id\")"
   ]
  },
  {
   "cell_type": "markdown",
   "id": "2f0007d3",
   "metadata": {},
   "source": [
    "### 3 - Send it!"
   ]
  },
  {
   "cell_type": "code",
   "execution_count": 16,
   "id": "b3f4316b",
   "metadata": {},
   "outputs": [],
   "source": [
    "saveRDS( mariathan_go, paste0( TMP_DIR, \"validation-mariathan-go.Rds\"))"
   ]
  }
 ],
 "metadata": {
  "kernelspec": {
   "display_name": "R",
   "language": "R",
   "name": "ir"
  },
  "language_info": {
   "codemirror_mode": "r",
   "file_extension": ".r",
   "mimetype": "text/x-r-source",
   "name": "R",
   "pygments_lexer": "r",
   "version": "3.6.1"
  }
 },
 "nbformat": 4,
 "nbformat_minor": 5
}
