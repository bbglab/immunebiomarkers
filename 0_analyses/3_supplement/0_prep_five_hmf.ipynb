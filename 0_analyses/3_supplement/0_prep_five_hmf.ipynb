{
 "cells": [
  {
   "cell_type": "code",
   "execution_count": 1,
   "id": "27d76a4e",
   "metadata": {},
   "outputs": [
    {
     "name": "stderr",
     "output_type": "stream",
     "text": [
      "Registered S3 method overwritten by 'rvest':\n",
      "  method            from\n",
      "  read_xml.response xml2\n",
      "── Attaching packages ────────────────────────────────────────────────────────────────────────────────────────────────────────────────────────────────────────────────────────────────────────────────────────────────── tidyverse 1.2.1 ──\n",
      "✔ ggplot2 3.3.6     ✔ purrr   0.3.4\n",
      "✔ tibble  3.1.2     ✔ dplyr   1.0.6\n",
      "✔ tidyr   1.1.3     ✔ stringr 1.4.0\n",
      "✔ readr   1.3.1     ✔ forcats 0.5.1\n",
      "Warning message:\n",
      "“package ‘tibble’ was built under R version 3.6.3”Warning message:\n",
      "“package ‘tidyr’ was built under R version 3.6.3”Warning message:\n",
      "“package ‘purrr’ was built under R version 3.6.3”Warning message:\n",
      "“package ‘dplyr’ was built under R version 3.6.3”Warning message:\n",
      "“package ‘forcats’ was built under R version 3.6.3”── Conflicts ───────────────────────────────────────────────────────────────────────────────────────────────────────────────────────────────────────────────────────────────────────────────────────────────────── tidyverse_conflicts() ──\n",
      "✖ dplyr::filter() masks stats::filter()\n",
      "✖ dplyr::lag()    masks stats::lag()\n"
     ]
    }
   ],
   "source": [
    "wd <- dirname(dirname(getwd()))\n",
    "source(paste0(wd,\"/mission_control/treasure_map.R\"))\n",
    "library(tidyverse)"
   ]
  },
  {
   "cell_type": "markdown",
   "id": "cd0581f4",
   "metadata": {},
   "source": [
    "### 0 - Read prepared CPI data set"
   ]
  },
  {
   "cell_type": "code",
   "execution_count": 2,
   "id": "de9133df",
   "metadata": {},
   "outputs": [],
   "source": [
    "cpi <- readRDS(paste0(I_DIR, \"cpi_go.Rds\"))"
   ]
  },
  {
   "cell_type": "code",
   "execution_count": 3,
   "id": "03704101",
   "metadata": {},
   "outputs": [],
   "source": [
    "#cpi %>% select(contains(\"pretreat_comp\"))"
   ]
  },
  {
   "cell_type": "markdown",
   "id": "d6010f35",
   "metadata": {},
   "source": [
    "### 1 - Extract and Format columns"
   ]
  },
  {
   "cell_type": "code",
   "execution_count": 4,
   "id": "33277cae",
   "metadata": {},
   "outputs": [],
   "source": [
    "tmb_features <- c(\"somatic_TMB\", \"somatic_TMB_clonal\", \"somatic_TMB_indel\", \"somatic_TMB_frameshift\", \"somatic_TMB_subclonal\")\n",
    "tcell_features <- c(\"isofox_gene_set_t_cell_effector\", \"isofox_gene_set_t_cell_gep_18\", \"isofox_gene_set_cyt\", \"isofox_CD8A\", \"isofox_CXCL9\")\n",
    "tgfb_features <- c(\"isofox_gene_set_Pan_TBRS\", \"isofox_gene_set_F_TBRS\", \"isofox_gene_set_mariathan_EMT2\", \"isofox_TGFB1\",\"isofox_COL4A1\")\n",
    "prolif_features <- c(\"isofox_gene_set_prolif\", \"isofox_gene_set_mariathan_Cell_cycle\", \"isofox_gene_set_mariathan_DNA_replication\",  \"isofox_TOP2A\", \"isofox_CDK1\")\n",
    "cor_features <- c(tmb_features, tcell_features, tgfb_features, prolif_features)"
   ]
  },
  {
   "cell_type": "code",
   "execution_count": 5,
   "id": "2a1cbdf4",
   "metadata": {},
   "outputs": [],
   "source": [
    "#cor_features"
   ]
  },
  {
   "cell_type": "code",
   "execution_count": 6,
   "id": "9d95e926",
   "metadata": {},
   "outputs": [],
   "source": [
    "ready <- (\n",
    "    cpi %>% \n",
    "    transmute(\n",
    "        bor = Y_best_response_binary,\n",
    "        bor_measured = Filter_meta_responseMeasured,\n",
    "        pfs_event = Survival_pfs_event, \n",
    "        pfs_days = Survival_time_to_pfs_event, \n",
    "        os_event = Survival_os_event, \n",
    "        os_days = Survival_time_to_os_event,\n",
    "        pan = \"Pan-Cancer\", \n",
    "        tissue, \n",
    "        biopsy,\n",
    "        purity, \n",
    "        tmb, \n",
    "        tcell, \n",
    "        prolif, \n",
    "        tgfb,\n",
    "        pretreat,\n",
    "        \n",
    "        ### Add pretreatment features ### \n",
    "        pretreat_comp,\n",
    "        time_since_last_treatment_years = ifelse( pretreat_comp == 3650, NA, pretreat_comp/365),\n",
    "        overall_pretreat = clinical_pre_treated,\n",
    "        radio = clinical_meta_hasRadiotherapyPreTreatment,\n",
    "        chemo = clinical_pre_contains_Chemotherapy, \n",
    "        hormonal = clinical_pre_contains_Hormonal, \n",
    "        immuno = clinical_pre_contains_Immunotherapy,\n",
    "        targeted = clinical_pre_contains_Targeted,\n",
    "        \n",
    "        ### nice features for correlation plots \n",
    "        TMB = somatic_TMB, \n",
    "        \"TMB clonal\" = somatic_TMB_clonal,\n",
    "        \"TMB Indels\" = somatic_TMB_indel, \n",
    "        \"TMB frameshift\" = somatic_TMB_frameshift, \n",
    "        \"TMB sub-clonal\" = somatic_TMB_subclonal,\n",
    "        \n",
    "        \"T-cell Effector\" = isofox_gene_set_t_cell_effector, \n",
    "        \"GEP 18\" = isofox_gene_set_t_cell_gep_18, \n",
    "        \"CYT\" = isofox_gene_set_cyt, \n",
    "        \"CD8A\" = isofox_CD8A, \n",
    "        \"CXCL9\" = isofox_CXCL9,\n",
    "        \n",
    "        \"Pan-TBRS\" = isofox_gene_set_Pan_TBRS, \n",
    "        \"F-TBRS\" = isofox_gene_set_F_TBRS, \n",
    "        \"EMT2\" = isofox_gene_set_mariathan_EMT2, \n",
    "        \"TGFB1\" = isofox_TGFB1, \n",
    "        \"COL4A1\" = isofox_COL4A1,\n",
    "      \n",
    "        \"Proliferation\" = isofox_gene_set_prolif, \n",
    "        \"Cell Cycle\" = isofox_gene_set_mariathan_Cell_cycle, \n",
    "        \"DNA Replication\" = isofox_gene_set_mariathan_DNA_replication, \n",
    "        \"TOP2A\" = isofox_TOP2A, \n",
    "        \"CDK1\" = isofox_CDK1\n",
    "    ) \n",
    ")"
   ]
  },
  {
   "cell_type": "markdown",
   "id": "9b058150",
   "metadata": {},
   "source": [
    "#### Nice formatting for plots "
   ]
  },
  {
   "cell_type": "code",
   "execution_count": 7,
   "id": "3d1a00ea",
   "metadata": {},
   "outputs": [],
   "source": [
    "ready$bor <- ifelse( ready$bor_measured != \"Yes\", NA, ready$bor)\n",
    "ready$response_group <- ifelse(ready$bor == 1, \"Responders\", \"Non-Responders\")\n",
    "ready$tissue <- str_to_title(ready$tissue)\n",
    "ready$tissue <- factor(ready$tissue, levels = c(\"Skin\",\"Lung\",\"Bladder\",\"Other\"))\n",
    "ready$biopsy <- str_to_title(ready$biopsy)"
   ]
  },
  {
   "cell_type": "markdown",
   "id": "364704fd",
   "metadata": {},
   "source": [
    "#### Group factors "
   ]
  },
  {
   "cell_type": "code",
   "execution_count": 8,
   "id": "6a32aabc",
   "metadata": {},
   "outputs": [],
   "source": [
    "tcell_tertiles <- quantile(ready$tcell, probs = c(.33,.66), na.rm = TRUE)\n",
    "ready$pretreat2 <- factor(ifelse(ready$pretreat == 1, \"Systemic Pretreatment\", \"No Systemic Pretreatment\"), levels = c(\"No Systemic Pretreatment\", \"Systemic Pretreatment\"))\n",
    "ready$tcell2 <- factor( ifelse( ready$tcell > median(ready$tcell, na.rm = TRUE), \"T-cell High\", \"T-cell Low\"), levels = c(\"T-cell Low\", \"T-cell High\"))\n",
    "ready$tcell3 <- cut(ready$tcell, c(0, tcell_tertiles[1],tcell_tertiles[2], 1000), labels = c(\"T-cell Low\", \"T-cell Medium\", \"T-cell High\"))\n",
    "ready$tgfb2 <- factor( ifelse( ready$tgfb > median(ready$tgfb, na.rm = TRUE), \"TGFB High\", \"TGFB Low\"), levels = c(\"TGFB Low\", \"TGFB High\"))\n",
    "ready$prolif2 <- factor( ifelse(ready$prolif > median(ready$prolif, na.rm = TRUE), \"Proliferation High\", \"Proliferation Low\"), levels = c(\"Proliferation Low\", \"Proliferation High\"))\n",
    "ready$tmb2 <- factor( ifelse(exp(ready$tmb)> 11, \"TMB High\", \"TMB Low\"), levels = c(\"TMB Low\", \"TMB High\"))\n",
    "ready$purity2 <- factor( ifelse(ready$purity > median(ready$purity), \"Purity High\", \"Purity Low\"), levels = c(\"Purity High\", \"Purity Low\"))"
   ]
  },
  {
   "cell_type": "markdown",
   "id": "444870a1",
   "metadata": {},
   "source": [
    "#### Pretreatment multiple column"
   ]
  },
  {
   "cell_type": "code",
   "execution_count": 9,
   "id": "3be5bac5",
   "metadata": {},
   "outputs": [],
   "source": [
    "ready$multi <- apply(ready %>% select(chemo, hormonal, immuno, targeted), 1, sum)"
   ]
  },
  {
   "cell_type": "markdown",
   "id": "8543777f",
   "metadata": {},
   "source": [
    "### 2 - Send it"
   ]
  },
  {
   "cell_type": "code",
   "execution_count": 11,
   "id": "be8b5b6a",
   "metadata": {},
   "outputs": [],
   "source": [
    "saveRDS( ready, paste0( TMP_DIR, 'supplement-five.Rds'))\n",
    "saveRDS( ready %>% select(bor, pfs_event, os_event, tissue, biopsy, tcell), paste0( FIG_FINAL_DIR, '0_prep_five_hmf_summary_table.Rds'))"
   ]
  }
 ],
 "metadata": {
  "kernelspec": {
   "display_name": "R",
   "language": "R",
   "name": "ir"
  },
  "language_info": {
   "codemirror_mode": "r",
   "file_extension": ".r",
   "mimetype": "text/x-r-source",
   "name": "R",
   "pygments_lexer": "r",
   "version": "3.6.1"
  }
 },
 "nbformat": 4,
 "nbformat_minor": 5
}
