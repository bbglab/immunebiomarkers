{
 "cells": [
  {
   "cell_type": "code",
   "execution_count": 16,
   "id": "a1e67442",
   "metadata": {},
   "outputs": [],
   "source": [
    "library(dplyr)"
   ]
  },
  {
   "cell_type": "code",
   "execution_count": 1,
   "id": "3815c632",
   "metadata": {},
   "outputs": [],
   "source": [
    "wd <- dirname(dirname(getwd()))\n",
    "source(paste0(wd,\"/mission_control/treasure_map.R\"))"
   ]
  },
  {
   "cell_type": "code",
   "execution_count": 6,
   "id": "6b69a891",
   "metadata": {},
   "outputs": [],
   "source": [
    "five <- readRDS(paste0( TMP_DIR, \"five_factor_responders.rds\"))\n",
    "tmb <- readRDS(paste0( TMP_DIR, \"tmb_responders.rds\"))"
   ]
  },
  {
   "cell_type": "code",
   "execution_count": 15,
   "id": "5d51d0d0",
   "metadata": {},
   "outputs": [],
   "source": [
    "write.csv( rbind( tmb %>% rename(lr_gp = tmb_high) , five ), file = paste0(TMP_DIR, \"compare.csv\"))"
   ]
  },
  {
   "cell_type": "code",
   "execution_count": 17,
   "id": "0044daad",
   "metadata": {},
   "outputs": [
    {
     "data": {
      "text/html": [
       "'/workspace/projects/immune_biomarkers/data/tmp2/compare.csv'"
      ],
      "text/latex": [
       "'/workspace/projects/immune\\_biomarkers/data/tmp2/compare.csv'"
      ],
      "text/markdown": [
       "'/workspace/projects/immune_biomarkers/data/tmp2/compare.csv'"
      ],
      "text/plain": [
       "[1] \"/workspace/projects/immune_biomarkers/data/tmp2/compare.csv\""
      ]
     },
     "metadata": {},
     "output_type": "display_data"
    }
   ],
   "source": [
    "paste0(TMP_DIR, \"compare.csv\")"
   ]
  }
 ],
 "metadata": {
  "kernelspec": {
   "display_name": "R",
   "language": "R",
   "name": "ir"
  },
  "language_info": {
   "codemirror_mode": "r",
   "file_extension": ".r",
   "mimetype": "text/x-r-source",
   "name": "R",
   "pygments_lexer": "r",
   "version": "3.6.1"
  }
 },
 "nbformat": 4,
 "nbformat_minor": 5
}
