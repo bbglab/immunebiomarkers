{
 "cells": [
  {
   "cell_type": "code",
   "execution_count": 1,
   "id": "07aa7381",
   "metadata": {},
   "outputs": [
    {
     "name": "stderr",
     "output_type": "stream",
     "text": [
      "Registered S3 method overwritten by 'rvest':\n",
      "  method            from\n",
      "  read_xml.response xml2\n",
      "── Attaching packages ──────────────────────────────────────────────────────────────────────────────────────────────────────────────────────────────────────────────────────────────────────────────────────────────── tidyverse 1.2.1 ──\n",
      "✔ ggplot2 3.3.6     ✔ purrr   0.3.4\n",
      "✔ tibble  3.1.2     ✔ dplyr   1.0.6\n",
      "✔ tidyr   1.1.3     ✔ stringr 1.4.0\n",
      "✔ readr   1.3.1     ✔ forcats 0.5.1\n",
      "Warning message:\n",
      "“package ‘tibble’ was built under R version 3.6.3”Warning message:\n",
      "“package ‘tidyr’ was built under R version 3.6.3”Warning message:\n",
      "“package ‘purrr’ was built under R version 3.6.3”Warning message:\n",
      "“package ‘dplyr’ was built under R version 3.6.3”Warning message:\n",
      "“package ‘forcats’ was built under R version 3.6.3”── Conflicts ─────────────────────────────────────────────────────────────────────────────────────────────────────────────────────────────────────────────────────────────────────────────────────────────────── tidyverse_conflicts() ──\n",
      "✖ dplyr::filter() masks stats::filter()\n",
      "✖ dplyr::lag()    masks stats::lag()\n"
     ]
    }
   ],
   "source": [
    "wd <- dirname(dirname(getwd()))\n",
    "source(paste0(wd,\"/mission_control/treasure_map.R\"))\n",
    "source(paste0(wd,\"/mission_control/helpers/figures/exhaustive_settings.R\"))\n",
    "source(paste0(wd,\"/mission_control/helpers/exhaustive_study/exhaustive_help.R\"))\n",
    "source(paste0(wd,\"/mission_control/helpers/exhaustive_study/extensions_help.R\"))\n",
    "\n",
    "library(survival)\n",
    "library(dplyr)\n",
    "library(tidyr)\n",
    "library(ggplot2)\n",
    "library(ggrepel)\n",
    "library(stringr)"
   ]
  },
  {
   "cell_type": "code",
   "execution_count": 2,
   "id": "d74e9c2e",
   "metadata": {},
   "outputs": [],
   "source": [
    "cpi <- readRDS(paste0(I_DIR, \"cpi_go.Rds\")); \n",
    "non_cpi <- readRDS(paste0(TMP_DIR, \"validation-hmf-noncpi-go.Rds\")); "
   ]
  },
  {
   "cell_type": "markdown",
   "id": "3f259b15",
   "metadata": {},
   "source": [
    "## 0 - Prepare"
   ]
  },
  {
   "cell_type": "code",
   "execution_count": 3,
   "id": "6c56460d",
   "metadata": {},
   "outputs": [],
   "source": [
    "features <- c( \"Y_best_response_binary\", \"Survival_os_event\", \"Survival_time_to_os_event\", \n",
    "                \"Filter_meta_responseMeasured\", \n",
    "                \"tissue\", \"tmb\", \"tcell\", \"prolif\", \"tgfb\", \"pretreat\")"
   ]
  },
  {
   "cell_type": "code",
   "execution_count": 4,
   "id": "fb36d06c",
   "metadata": {},
   "outputs": [],
   "source": [
    "cpi <- cpi %>% select(all_of(features)) %>% mutate(Treatment = \"Immunotherapy\")\n",
    "non_cpi <- non_cpi %>% select(all_of(features)) %>% mutate(Treatment = \"Non-Immunotherapy\")"
   ]
  },
  {
   "cell_type": "markdown",
   "id": "19bcc227",
   "metadata": {},
   "source": [
    "### Divide into CPI-non CPI + Prep"
   ]
  },
  {
   "cell_type": "code",
   "execution_count": 5,
   "id": "841a772e",
   "metadata": {},
   "outputs": [],
   "source": [
    "scale_the_data2 <- function (df) {\n",
    "    col_types <- sapply(df, typeof)\n",
    "    responses <- colnames(df %>% select(Y_best_response_binary, contains(\"Surv\")))\n",
    "    step1 <- col_types[which(col_types != \"character\")]\n",
    "    step2 <- names(step1[-which(names(step1) %in% responses)])\n",
    "    df <- df %>% mutate_at(vars(all_of(step2)), ~(scale(.) %>% as.vector))\n",
    "    df\n",
    "}"
   ]
  },
  {
   "cell_type": "code",
   "execution_count": 6,
   "id": "54e4b9a8",
   "metadata": {},
   "outputs": [],
   "source": [
    "cpi_scaled <- create_CPI_data_store2(         scale_the_data2(cpi),     cpi %>% pull(Treatment ))\n",
    "non_cpi_scaled <- create_CPI_data_store2( scale_the_data2(non_cpi), non_cpi %>% pull(Treatment ))"
   ]
  },
  {
   "cell_type": "markdown",
   "id": "7d9adfa1",
   "metadata": {},
   "source": [
    "## 1 - Run"
   ]
  },
  {
   "cell_type": "code",
   "execution_count": 7,
   "id": "5fe43a04",
   "metadata": {},
   "outputs": [],
   "source": [
    "features <- c(\"tmb\", \"prolif\", \"tgfb\", \"tcell\", \"pretreat\")"
   ]
  },
  {
   "cell_type": "code",
   "execution_count": 8,
   "id": "e27449ad",
   "metadata": {},
   "outputs": [
    {
     "name": "stdout",
     "output_type": "stream",
     "text": [
      "[1] \"CPI\"\n"
     ]
    }
   ],
   "source": [
    "print(\"CPI\")\n",
    "stats_cpi <- data.frame()\n",
    "for (model in names(cpi_scaled)){\n",
    "    \n",
    "    boom <- cpi_scaled[[model]];        \n",
    "    for(i in names(boom)) assign(i,boom[[i]])\n",
    "    \n",
    "    model_type <- args_map[[model]][1]; \n",
    "    response <- args_map[[model]][2]\n",
    "   \n",
    "    for (feature in features){\n",
    "            stats_i <- get_stats2( response, feature, \"all_adj\", \"continuous\", model_type, type = \"extension\" )\n",
    "            stats_cpi <- rbind( stats_cpi, stats_i )\n",
    "    }\n",
    "}\n",
    "stats_cpi$group = \"CPI\""
   ]
  },
  {
   "cell_type": "code",
   "execution_count": 9,
   "id": "461a01f3",
   "metadata": {},
   "outputs": [
    {
     "name": "stdout",
     "output_type": "stream",
     "text": [
      "[1] \"Non-CPI\"\n",
      "[1] \"tmb\"\n",
      "[1] \"prolif\"\n",
      "[1] \"tgfb\"\n",
      "[1] \"tcell\"\n",
      "[1] \"pretreat\"\n",
      "[1] \"tmb\"\n",
      "[1] \"prolif\"\n",
      "[1] \"tgfb\"\n",
      "[1] \"tcell\"\n",
      "[1] \"pretreat\"\n"
     ]
    }
   ],
   "source": [
    "print(\"Non-CPI\")\n",
    "stats_non_cpi <- data.frame()\n",
    "for (model in names(non_cpi_scaled)){\n",
    "    \n",
    "    boom <- non_cpi_scaled[[model]]\n",
    "    for(i in names(boom)) assign(i,boom[[i]])\n",
    "    \n",
    "    model_type <- args_map[[model]][1]\n",
    "    response <- args_map[[model]][2]\n",
    "   \n",
    "    for (feature in features){\n",
    "            print(feature)\n",
    "            flush.console()\n",
    "            stats_i <- get_stats2( response, feature, \"all_adj\", \"continuous\", model_type )\n",
    "            stats_non_cpi <- rbind( stats_non_cpi, stats_i )\n",
    "    }\n",
    "}\n",
    "stats_non_cpi$group = \"Non-CPI\""
   ]
  },
  {
   "cell_type": "markdown",
   "id": "aa3f097b",
   "metadata": {},
   "source": [
    "## 2 Format Stats"
   ]
  },
  {
   "cell_type": "code",
   "execution_count": 10,
   "id": "6d067456",
   "metadata": {},
   "outputs": [],
   "source": [
    "stats <- rbind(stats_cpi, stats_non_cpi)\n",
    "stats$feature <- as.character(stats$feature)\n",
    "stats$dataset <- as.character(stats$dataset)\n",
    "stats <- stats %>% mutate( log10_p = -log10(p_val) )\n",
    "stats$plot_est <- ifelse(stats$model_type == \"response\", exp(stats$est), 1/exp(stats$est))\n",
    "stats$nice_response <- ifelse(stats$model_type == \"response\", \"BOR\", \"Overall Survival\")"
   ]
  },
  {
   "cell_type": "markdown",
   "id": "eafd0bd2",
   "metadata": {},
   "source": [
    "#### Maps"
   ]
  },
  {
   "cell_type": "code",
   "execution_count": 11,
   "id": "407b4816",
   "metadata": {},
   "outputs": [],
   "source": [
    "stats$clean_feature <- sapply(stats$feature, function(i) ifelse( i %in% names(name_map), name_map[[i]], i))"
   ]
  },
  {
   "cell_type": "code",
   "execution_count": 12,
   "id": "2d88eed5",
   "metadata": {},
   "outputs": [],
   "source": [
    "saveRDS( stats, paste0(TMP_DIR, \"supplement-five-extension.Rds\"))"
   ]
  }
 ],
 "metadata": {
  "kernelspec": {
   "display_name": "R",
   "language": "R",
   "name": "ir"
  },
  "language_info": {
   "codemirror_mode": "r",
   "file_extension": ".r",
   "mimetype": "text/x-r-source",
   "name": "R",
   "pygments_lexer": "r",
   "version": "3.6.1"
  }
 },
 "nbformat": 4,
 "nbformat_minor": 5
}
