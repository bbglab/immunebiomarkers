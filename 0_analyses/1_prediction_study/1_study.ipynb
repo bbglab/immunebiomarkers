{
 "cells": [
  {
   "cell_type": "code",
   "execution_count": null,
   "id": "0",
   "metadata": {},
   "outputs": [],
   "source": [
    "wd <- dirname(dirname(getwd()))\n",
    "source(paste0(wd,\"/mission_control/treasure_map.R\"))\n",
    "source(paste0(wd,\"/mission_control/helpers/xgboost/eval_help.R\"))\n",
    "source(paste0(wd,\"/mission_control/helpers/xgboost/paper_settings.R\"))\n",
    "\n",
    "library(xgboost)\n",
    "library(tidyverse)\n",
    "library(survival)\n",
    "library(pROC)\n",
    "library(caret)\n",
    "library(survcomp)"
   ]
  },
  {
   "cell_type": "markdown",
   "id": "1",
   "metadata": {},
   "source": [
    "### 0 - Read in prepped data"
   ]
  },
  {
   "cell_type": "code",
   "execution_count": null,
   "id": "2",
   "metadata": {},
   "outputs": [],
   "source": [
    "eval_ready <- readRDS(paste0(TMP_DIR, \"xg-eval-prep.Rds\"))"
   ]
  },
  {
   "cell_type": "markdown",
   "id": "3",
   "metadata": {},
   "source": [
    "#### Settings for eval"
   ]
  },
  {
   "cell_type": "code",
   "execution_count": null,
   "id": "4",
   "metadata": {},
   "outputs": [],
   "source": [
    "args <- commandArgs(trailing = TRUE) ##\n",
    "#args <- list(\"pfs\", \"latent_vhio\", \"true\")\n",
    "model <- args[[1]]\n",
    "features <- args[[2]]\n",
    "purity <- args[[3]]\n",
    "model_features <- unname(unlist(model_features[features]))\n",
    "if( purity == \"true\") {\n",
    "    model_features <- c(model_features, \"purity\")\n",
    "}\n",
    "parameter_grid <- get_parameter_grid(features)"
   ]
  },
  {
   "cell_type": "code",
   "execution_count": null,
   "id": "5",
   "metadata": {},
   "outputs": [],
   "source": [
    "base_tissue <- \"all\"\n",
    "N <- 1000\n",
    "K <- 5"
   ]
  },
  {
   "cell_type": "markdown",
   "id": "6",
   "metadata": {},
   "source": [
    "### 1 - Run it"
   ]
  },
  {
   "cell_type": "code",
   "execution_count": null,
   "id": "7",
   "metadata": {},
   "outputs": [],
   "source": [
    "set.seed(622)"
   ]
  },
  {
   "cell_type": "code",
   "execution_count": null,
   "id": "8",
   "metadata": {},
   "outputs": [],
   "source": [
    "evals <- data.frame()\n",
    "\n",
    "for (j in seq(N)) {\n",
    "    print(j); flush.console()\n",
    "    oo <- evaluate2(  eval_ready, \n",
    "                      model = model, \n",
    "                      parameter_grid = parameter_grid, \n",
    "                      model_features = model_features, \n",
    "                      complete = TRUE, \n",
    "                      base_tissue = base_tissue, \n",
    "                      folds = K ); \n",
    "\n",
    "    if (!is.null(oo)){\n",
    "        eval_i <- data.frame(oo$evals) %>% tibble::rownames_to_column(var = \"tissue\"); \n",
    "        eval_i$model <- model; \n",
    "        eval_i$rep <- j; \n",
    "        eval_i$complete <- TRUE; \n",
    "        eval_i$features <- features\n",
    "        evals <- rbind(evals, eval_i)\n",
    "    }\n",
    "}\n",
    "evals$base_tissue <- base_tissue\n",
    "evals$purity <- purity"
   ]
  },
  {
   "cell_type": "markdown",
   "id": "9",
   "metadata": {},
   "source": [
    "### 2 - Send it!"
   ]
  },
  {
   "cell_type": "code",
   "execution_count": null,
   "id": "10",
   "metadata": {},
   "outputs": [],
   "source": [
    "O_DIR <- paste0(TMP_DIR,'pred_study/')\n",
    "ifelse(!dir.exists(O_DIR), dir.create(O_DIR), FALSE)"
   ]
  },
  {
   "cell_type": "code",
   "execution_count": null,
   "id": "11",
   "metadata": {},
   "outputs": [],
   "source": [
    "saveRDS(evals,paste0( O_DIR, \"xg-eval-results-\",model,\"-\",features, \"-\", purity,\".Rds\" ))"
   ]
  }
 ],
 "metadata": {
  "kernelspec": {
   "display_name": "R",
   "language": "R",
   "name": "ir"
  },
  "language_info": {
   "codemirror_mode": "r",
   "file_extension": ".r",
   "mimetype": "text/x-r-source",
   "name": "R",
   "pygments_lexer": "r",
   "version": "3.6.1"
  }
 },
 "nbformat": 4,
 "nbformat_minor": 5
}
