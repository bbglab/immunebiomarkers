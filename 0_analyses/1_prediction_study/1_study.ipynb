{
 "cells": [
  {
   "cell_type": "code",
   "execution_count": 1,
   "id": "c470375e",
   "metadata": {},
   "outputs": [
    {
     "name": "stderr",
     "output_type": "stream",
     "text": [
      "Registered S3 method overwritten by 'rvest':\n",
      "  method            from\n",
      "  read_xml.response xml2\n",
      "── Attaching packages ──────────────────────────────────────────────────────────────────────────────────────────────────────────── tidyverse 1.2.1 ──\n",
      "✔ ggplot2 3.3.6     ✔ purrr   0.3.4\n",
      "✔ tibble  3.1.2     ✔ dplyr   1.0.6\n",
      "✔ tidyr   1.1.3     ✔ stringr 1.4.0\n",
      "✔ readr   1.3.1     ✔ forcats 0.5.1\n",
      "Warning message:\n",
      "“package ‘tibble’ was built under R version 3.6.3”Warning message:\n",
      "“package ‘tidyr’ was built under R version 3.6.3”Warning message:\n",
      "“package ‘purrr’ was built under R version 3.6.3”Warning message:\n",
      "“package ‘dplyr’ was built under R version 3.6.3”Warning message:\n",
      "“package ‘forcats’ was built under R version 3.6.3”── Conflicts ─────────────────────────────────────────────────────────────────────────────────────────────────────────────── tidyverse_conflicts() ──\n",
      "✖ dplyr::filter() masks stats::filter()\n",
      "✖ dplyr::lag()    masks stats::lag()\n",
      "✖ dplyr::slice()  masks xgboost::slice()\n",
      "Type 'citation(\"pROC\")' for a citation.\n",
      "\n",
      "Attaching package: ‘pROC’\n",
      "\n",
      "The following objects are masked from ‘package:stats’:\n",
      "\n",
      "    cov, smooth, var\n",
      "\n",
      "Loading required package: lattice\n",
      "\n",
      "Attaching package: ‘caret’\n",
      "\n",
      "The following object is masked from ‘package:survival’:\n",
      "\n",
      "    cluster\n",
      "\n",
      "The following object is masked from ‘package:purrr’:\n",
      "\n",
      "    lift\n",
      "\n",
      "Loading required package: prodlim\n"
     ]
    }
   ],
   "source": [
    "wd <- dirname(dirname(getwd()))\n",
    "source(paste0(wd,\"/mission_control/treasure_map.R\"))\n",
    "source(paste0(wd,\"/mission_control/helpers/xgboost/eval_help.R\"))\n",
    "source(paste0(wd,\"/mission_control/helpers/xgboost/paper_settings.R\"))\n",
    "\n",
    "library(xgboost)\n",
    "library(tidyverse)\n",
    "library(survival)\n",
    "library(pROC)\n",
    "library(caret)\n",
    "library(survcomp)"
   ]
  },
  {
   "cell_type": "markdown",
   "id": "166af01d",
   "metadata": {},
   "source": [
    "### 0 - Read in prepped data"
   ]
  },
  {
   "cell_type": "code",
   "execution_count": 2,
   "id": "7ff7fc88",
   "metadata": {},
   "outputs": [],
   "source": [
    "eval_ready <- readRDS(paste0(TMP_DIR, \"xg-eval-prep.Rds\"))"
   ]
  },
  {
   "cell_type": "markdown",
   "id": "3b21377b",
   "metadata": {},
   "source": [
    "#### Settings for eval"
   ]
  },
  {
   "cell_type": "code",
   "execution_count": 13,
   "id": "b6a07863",
   "metadata": {},
   "outputs": [
    {
     "ename": "ERROR",
     "evalue": "Error in args[[2]]: subscript out of bounds\n",
     "output_type": "error",
     "traceback": [
      "Error in args[[2]]: subscript out of bounds\nTraceback:\n"
     ]
    }
   ],
   "source": [
    "args <- commandArgs(trailing = TRUE) ##\n",
    "#args <- list(\"pfs\", \"latent_vhio\", \"true\")\n",
    "model <- args[[1]]\n",
    "features <- args[[2]]\n",
    "purity <- args[[3]]\n",
    "model_features <- unname(unlist(model_features[features]))\n",
    "if( purity == \"true\") {\n",
    "    model_features <- c(model_features, \"purity\")\n",
    "}\n",
    "parameter_grid <- get_parameter_grid(features)"
   ]
  },
  {
   "cell_type": "code",
   "execution_count": 4,
   "id": "50a42f54",
   "metadata": {},
   "outputs": [
    {
     "data": {
      "text/plain": [
       "NULL"
      ]
     },
     "metadata": {},
     "output_type": "display_data"
    }
   ],
   "source": [
    "names(model_features)"
   ]
  },
  {
   "cell_type": "code",
   "execution_count": 5,
   "id": "a3666fc7",
   "metadata": {},
   "outputs": [
    {
     "name": "stdout",
     "output_type": "stream",
     "text": [
      "[1] \"pfs\"\n",
      "[1] \"latent_vhio\"\n",
      "   eta max_depth min_child_weight subsample colsample_bytree optimal_trees\n",
      "1 0.05         1                5      0.75                1             0\n",
      "  error\n",
      "1     0\n"
     ]
    }
   ],
   "source": [
    "print(model); \n",
    "print(features);\n",
    "print(parameter_grid)"
   ]
  },
  {
   "cell_type": "code",
   "execution_count": 6,
   "id": "22b6610d",
   "metadata": {},
   "outputs": [],
   "source": [
    "base_tissue <- \"all\"\n",
    "N <- 1000\n",
    "K <- 5"
   ]
  },
  {
   "cell_type": "markdown",
   "id": "b2b1399c",
   "metadata": {},
   "source": [
    "### 1 - Run it"
   ]
  },
  {
   "cell_type": "code",
   "execution_count": 7,
   "id": "a37a7512",
   "metadata": {},
   "outputs": [],
   "source": [
    "set.seed(622)"
   ]
  },
  {
   "cell_type": "code",
   "execution_count": 8,
   "id": "a9bc9e6c",
   "metadata": {},
   "outputs": [
    {
     "name": "stdout",
     "output_type": "stream",
     "text": [
      "[1] 1\n"
     ]
    }
   ],
   "source": [
    "evals <- data.frame()\n",
    "\n",
    "for (j in seq(N)) {\n",
    "    print(j)\n",
    "    oo <- evaluate2(  eval_ready, \n",
    "                      model = model, \n",
    "                      parameter_grid = parameter_grid, \n",
    "                      model_features = model_features, \n",
    "                      complete = TRUE, \n",
    "                      base_tissue = base_tissue, \n",
    "                      folds = K ); \n",
    "\n",
    "    if (!is.null(oo)){\n",
    "        eval_i <- data.frame(oo$evals) %>% tibble::rownames_to_column(var = \"tissue\"); \n",
    "        eval_i$model <- model; \n",
    "        eval_i$rep <- j; \n",
    "        eval_i$complete <- TRUE; \n",
    "        eval_i$features <- features\n",
    "        evals <- rbind(evals, eval_i)\n",
    "    }\n",
    "}\n",
    "evals$base_tissue <- base_tissue\n",
    "evals$purity <- purity"
   ]
  },
  {
   "cell_type": "markdown",
   "id": "7a8bed0e",
   "metadata": {},
   "source": [
    "### 2 - Send it!"
   ]
  },
  {
   "cell_type": "code",
   "execution_count": 10,
   "id": "64bf1b77",
   "metadata": {},
   "outputs": [],
   "source": [
    "saveRDS(evals,paste0(TMP_DIR,paste0( \"pred_study/xg-eval-results-\",model,\"-\",features, \"-\", purity,\".Rds\" ) ))"
   ]
  }
 ],
 "metadata": {
  "kernelspec": {
   "display_name": "R",
   "language": "R",
   "name": "ir"
  },
  "language_info": {
   "codemirror_mode": "r",
   "file_extension": ".r",
   "mimetype": "text/x-r-source",
   "name": "R",
   "pygments_lexer": "r",
   "version": "3.6.1"
  }
 },
 "nbformat": 4,
 "nbformat_minor": 5
}
