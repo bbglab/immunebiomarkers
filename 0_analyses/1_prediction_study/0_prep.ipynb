{
 "cells": [
  {
   "cell_type": "markdown",
   "id": "eb5e31e9",
   "metadata": {},
   "source": [
    "### Prepare Data Sets for XGBoost"
   ]
  },
  {
   "cell_type": "code",
   "execution_count": 1,
   "id": "dc3e3be2",
   "metadata": {},
   "outputs": [
    {
     "name": "stderr",
     "output_type": "stream",
     "text": [
      "Registered S3 method overwritten by 'rvest':\n",
      "  method            from\n",
      "  read_xml.response xml2\n",
      "── Attaching packages ──────────────────────────────────────────────────────────────────────────────────────────────────────────── tidyverse 1.2.1 ──\n",
      "✔ ggplot2 3.3.6     ✔ purrr   0.3.4\n",
      "✔ tibble  3.1.2     ✔ dplyr   1.0.6\n",
      "✔ tidyr   1.1.3     ✔ stringr 1.4.0\n",
      "✔ readr   1.3.1     ✔ forcats 0.5.1\n",
      "Warning message:\n",
      "“package ‘tibble’ was built under R version 3.6.3”Warning message:\n",
      "“package ‘tidyr’ was built under R version 3.6.3”Warning message:\n",
      "“package ‘purrr’ was built under R version 3.6.3”Warning message:\n",
      "“package ‘dplyr’ was built under R version 3.6.3”Warning message:\n",
      "“package ‘forcats’ was built under R version 3.6.3”── Conflicts ─────────────────────────────────────────────────────────────────────────────────────────────────────────────── tidyverse_conflicts() ──\n",
      "✖ dplyr::filter() masks stats::filter()\n",
      "✖ dplyr::lag()    masks stats::lag()\n"
     ]
    }
   ],
   "source": [
    "wd <- dirname(dirname(getwd()))\n",
    "source(paste0(wd,\"/mission_control/treasure_map.R\"))\n",
    "library(fastDummies)\n",
    "library(tidyverse)"
   ]
  },
  {
   "cell_type": "markdown",
   "id": "e9348fc5",
   "metadata": {},
   "source": [
    "### 0 - Read data CPI study data"
   ]
  },
  {
   "cell_type": "code",
   "execution_count": 2,
   "id": "0282063d",
   "metadata": {},
   "outputs": [],
   "source": [
    "all <- readRDS(paste0(I_DIR, \"cpi_go.Rds\")) %>% mutate(tmb_bin = as.numeric(exp(somatic_summary_tmbPerMb)-1 > 10)) "
   ]
  },
  {
   "cell_type": "code",
   "execution_count": 4,
   "id": "9b847f4e",
   "metadata": {},
   "outputs": [],
   "source": [
    "response_tissue <- c(\n",
    "                     \"Y_best_response_binary\", \n",
    "                     \"Survival_pfs_event\",\n",
    "                     \"Survival_time_to_pfs_event\", \n",
    "                     \"Survival_os_event\",\n",
    "                     \"Survival_time_to_os_event\", \n",
    "                     \"pfs\", \n",
    "                     \"os\", \n",
    "                     \"tissue\",\n",
    "                     \"Filter_meta_responseMeasured\"\n",
    "                    )"
   ]
  },
  {
   "cell_type": "code",
   "execution_count": 5,
   "id": "0cbddc7f",
   "metadata": {},
   "outputs": [],
   "source": [
    "clinical_features <- c( \"pretreat\",\n",
    "                        \"pretreat_comp\",\n",
    "                        \"clinical_pre_treated\",\n",
    "                        \"clinical_meta_hasSystemicPreTreatment2\",\n",
    "                        \"age\",\n",
    "                        \"clinical_biopsy_distal_proximal\",\n",
    "                        \"clinical_cpi_mechanism3\",\n",
    "                        \"hla_lilac_del_hla\",\n",
    "                        \"cnv_summary_wholeGenomeDuplication\",\n",
    "                        \"sv_summary_svTumorMutationalBurden\", \n",
    "                        \"purity\"\n",
    "                    )"
   ]
  },
  {
   "cell_type": "code",
   "execution_count": 6,
   "id": "46e1216b",
   "metadata": {},
   "outputs": [],
   "source": [
    "genomic_features <- c( \"tmb_bin\", \"tmb\", \"tcell\", \"prolif\", \"tgfb\", \"pdl1\" )"
   ]
  },
  {
   "cell_type": "code",
   "execution_count": 7,
   "id": "ee3d7cfd",
   "metadata": {},
   "outputs": [],
   "source": [
    "latent_features <- c(\n",
    "       \"somatic_TMB_clonal\",\n",
    "       \"somatic_TMB_vhio\",\n",
    "       \"somatic_TMB_exome\",\n",
    "       \"isofox_gene_set_t_cell_effector\", \n",
    "       \"isofox_gene_set_prolif\", \n",
    "       \"isofox_gene_set_Pan_TBRS\",\n",
    "       \"isofox_gene_set_t_cell_gep_18\",\n",
    "       \"isofox_gene_set_mariathan_Cell_cycle\", \n",
    "       \"isofox_gene_set_mariathan_EMT2\",\n",
    "       \"isofox_gene_set_vhio_tgfb\",\n",
    "       \"isofox_gene_set_vhio_prolif\", \n",
    "       \"isofox_gene_set_vhio_tcell\"\n",
    ")"
   ]
  },
  {
   "cell_type": "code",
   "execution_count": 8,
   "id": "8d144ba1",
   "metadata": {},
   "outputs": [],
   "source": [
    "all$pfs <- ifelse( all$Survival_pfs_event == 0,   \n",
    "                  -all$Survival_time_to_pfs_event,     \n",
    "                   all$Survival_time_to_pfs_event)\n",
    "all$os <- ifelse(  all$Survival_os_event == 0, \n",
    "                  -all$Survival_time_to_os_event, \n",
    "                   all$Survival_time_to_os_event)\n",
    "\n",
    "mini <- (\n",
    "    all %>% column_to_rownames('sampleId')\n",
    "        %>% select( all_of(response_tissue),   all_of(genomic_features), \n",
    "                    all_of(clinical_features), all_of(latent_features) )\n",
    "        %>% rename( response = Y_best_response_binary)\n",
    ")"
   ]
  },
  {
   "cell_type": "markdown",
   "id": "f8040120",
   "metadata": {},
   "source": [
    "### 1 - Create data structures for XGBoost study "
   ]
  },
  {
   "cell_type": "code",
   "execution_count": 9,
   "id": "0a21fa95",
   "metadata": {},
   "outputs": [],
   "source": [
    "builder <- function( mini ){\n",
    "\n",
    "    xg_lr <- ( mini \n",
    "              %>% select(-pfs,-os, \n",
    "                         -Survival_pfs_event, -Survival_time_to_pfs_event, \n",
    "                         -Survival_os_event, -Survival_time_to_os_event)\n",
    "              %>% filter(Filter_meta_responseMeasured == \"Yes\")\n",
    "              %>% select(-Filter_meta_responseMeasured)\n",
    "              %>% drop_na(response))\n",
    "\n",
    "    xg_pfs <- ( mini \n",
    "              %>% select(-response, -os, -Survival_os_event, -Survival_time_to_os_event) \n",
    "              %>% rename( event_status = Survival_pfs_event, \n",
    "                          time_to_event = Survival_time_to_pfs_event)\n",
    "              %>% select(-Filter_meta_responseMeasured) \n",
    "              %>% drop_na(pfs))\n",
    "\n",
    "    xg_os <- ( mini \n",
    "              %>% select(-response, -pfs, -Survival_pfs_event, -Survival_time_to_pfs_event) \n",
    "              %>% rename( event_status = Survival_os_event, \n",
    "                          time_to_event = Survival_time_to_os_event)\n",
    "              %>% select(-Filter_meta_responseMeasured)\n",
    "              %>% drop_na(os))\n",
    "    \n",
    "    ### storage closet ### \n",
    "    eval_closet <- list()\n",
    "    eval_closet[['lr']][['df']] <- xg_lr\n",
    "    eval_closet[['lr']][['gps']] <- apply(data.frame( xg_lr$response, \n",
    "                                                      xg_lr$tissue, \n",
    "                                                      is.na(xg_lr$tcell)), \n",
    "                                            1, function(i) paste0(i[1],\"-\",i[2],\"-\",i[3]))\n",
    "\n",
    "    eval_closet[['pfs']][['df']] <- xg_pfs\n",
    "    eval_closet[['pfs']][['gps']] <- apply(data.frame(xg_pfs$event_status, \n",
    "                                                            xg_pfs$tissue, \n",
    "                                                      is.na(xg_pfs$tcell)), \n",
    "                                            1, function(i) paste0(i[1],\"-\",i[2],\"-\",i[3]))                                   \n",
    "                                            \n",
    "    eval_closet[['os']][['df']] <- xg_os\n",
    "    eval_closet[['os']][['gps']] <- apply(data.frame(xg_os$event_status, xg_os$tissue, is.na(xg_os$tcell)), \n",
    "                                            1, function(i) paste0(i[1],\"-\",i[2],\"-\",i[3]))                                                                           \n",
    "    \n",
    "    eval_closet\n",
    "}"
   ]
  },
  {
   "cell_type": "markdown",
   "id": "90641636",
   "metadata": {},
   "source": [
    "### Run it! Voila"
   ]
  },
  {
   "cell_type": "code",
   "execution_count": 10,
   "id": "f74a58a0",
   "metadata": {},
   "outputs": [],
   "source": [
    "saveRDS( builder(mini), paste0(TMP_DIR, \"xg-eval-prep.Rds\"))"
   ]
  }
 ],
 "metadata": {
  "kernelspec": {
   "display_name": "R",
   "language": "R",
   "name": "ir"
  },
  "language_info": {
   "codemirror_mode": "r",
   "file_extension": ".r",
   "mimetype": "text/x-r-source",
   "name": "R",
   "pygments_lexer": "r",
   "version": "3.6.1"
  }
 },
 "nbformat": 4,
 "nbformat_minor": 5
}
