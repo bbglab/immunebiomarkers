{
 "cells": [
  {
   "cell_type": "code",
   "execution_count": null,
   "id": "0",
   "metadata": {},
   "outputs": [],
   "source": [
    "wd <- dirname(dirname(getwd()))\n",
    "source(paste0(wd,\"/mission_control/treasure_map.R\"))\n",
    "library(fastDummies)\n",
    "library(tidyverse)"
   ]
  },
  {
   "cell_type": "markdown",
   "id": "1",
   "metadata": {},
   "source": [
    "### 0 - Goal is to prepare data for XGBoost study"
   ]
  },
  {
   "cell_type": "markdown",
   "id": "2",
   "metadata": {},
   "source": [
    "- Read prepared data"
   ]
  },
  {
   "cell_type": "code",
   "execution_count": null,
   "id": "3",
   "metadata": {},
   "outputs": [],
   "source": [
    "all <- readRDS(paste0(I_DIR, \"cpi_go.Rds\")) %>% mutate(tmb_bin = as.numeric(exp(somatic_summary_tmbPerMb)-1 > 10)) "
   ]
  },
  {
   "cell_type": "code",
   "execution_count": null,
   "id": "4",
   "metadata": {},
   "outputs": [],
   "source": [
    "response_tissue <- c(\"Y_best_response_binary\", \n",
    "                     \"Survival_pfs_event\",\n",
    "                     \"Survival_time_to_pfs_event\", \n",
    "                     \"Survival_os_event\",\n",
    "                     \"Survival_time_to_os_event\", \n",
    "                     \"pfs\", \n",
    "                     \"os\", \n",
    "                     \"tissue\",\n",
    "                     \"Filter_meta_responseMeasured\")"
   ]
  },
  {
   "cell_type": "code",
   "execution_count": null,
   "id": "5",
   "metadata": {},
   "outputs": [],
   "source": [
    "clinical_features <- c( \"pretreat\",\n",
    "                        \"pretreat_comp\",\n",
    "                        \"clinical_pre_treated\",\n",
    "                        \"clinical_meta_hasSystemicPreTreatment2\",\n",
    "                        \"age\",\n",
    "                        \"clinical_biopsy_distal_proximal\",\n",
    "                        \"clinical_cpi_mechanism3\",\n",
    "                        \"hla_lilac_del_hla\",\n",
    "                        \"cnv_summary_wholeGenomeDuplication\",\n",
    "                        \"sv_summary_svTumorMutationalBurden\", \n",
    "                        \"purity\")"
   ]
  },
  {
   "cell_type": "code",
   "execution_count": null,
   "id": "6",
   "metadata": {},
   "outputs": [],
   "source": [
    "genomic_features <- c( \"tmb_bin\", \"tmb\", \"tcell\", \"prolif\", \"tgfb\", \"pdl1\" )"
   ]
  },
  {
   "cell_type": "code",
   "execution_count": null,
   "id": "7",
   "metadata": {},
   "outputs": [],
   "source": [
    "latent_features <- c(\"somatic_TMB_clonal\",\n",
    "                     \"somatic_TMB_vhio\",\n",
    "                     \"somatic_TMB_exome\",\n",
    "                     \"isofox_gene_set_t_cell_effector\", \n",
    "                     \"isofox_gene_set_prolif\", \n",
    "                     \"isofox_gene_set_Pan_TBRS\",\n",
    "                     \"isofox_gene_set_t_cell_gep_18\",\n",
    "                     \"isofox_gene_set_mariathan_Cell_cycle\", \n",
    "                     \"isofox_gene_set_mariathan_EMT2\",\n",
    "                     \"isofox_gene_set_vhio_tgfb\",\n",
    "                     \"isofox_gene_set_vhio_prolif\", \n",
    "                     \"isofox_gene_set_vhio_tcell\")"
   ]
  },
  {
   "cell_type": "code",
   "execution_count": null,
   "id": "8",
   "metadata": {},
   "outputs": [],
   "source": [
    "all$pfs <- ifelse( all$Survival_pfs_event == 0,   \n",
    "                  -all$Survival_time_to_pfs_event,     \n",
    "                   all$Survival_time_to_pfs_event)\n",
    "all$os <- ifelse(  all$Survival_os_event == 0, \n",
    "                  -all$Survival_time_to_os_event, \n",
    "                   all$Survival_time_to_os_event)\n",
    "\n",
    "mini <- (\n",
    "    all %>% column_to_rownames('sampleId')\n",
    "        %>% select( all_of(response_tissue),   all_of(genomic_features), \n",
    "                    all_of(clinical_features), all_of(latent_features) )\n",
    "        %>% rename( response = Y_best_response_binary)\n",
    ")"
   ]
  },
  {
   "cell_type": "markdown",
   "id": "9",
   "metadata": {},
   "source": [
    "### 1 - Create data structures for XGBoost study "
   ]
  },
  {
   "cell_type": "code",
   "execution_count": null,
   "id": "10",
   "metadata": {},
   "outputs": [],
   "source": [
    "builder <- function( mini ){\n",
    "\n",
    "    xg_lr <- ( mini \n",
    "              %>% select(-pfs,-os, \n",
    "                         -Survival_pfs_event, -Survival_time_to_pfs_event, \n",
    "                         -Survival_os_event, -Survival_time_to_os_event)\n",
    "              %>% filter(Filter_meta_responseMeasured == \"Yes\")\n",
    "              %>% select(-Filter_meta_responseMeasured)\n",
    "              %>% drop_na(response))\n",
    "\n",
    "    xg_pfs <- ( mini \n",
    "              %>% select(-response, -os, -Survival_os_event, -Survival_time_to_os_event) \n",
    "              %>% rename( event_status = Survival_pfs_event, \n",
    "                          time_to_event = Survival_time_to_pfs_event)\n",
    "              %>% select(-Filter_meta_responseMeasured) \n",
    "              %>% drop_na(pfs))\n",
    "\n",
    "    xg_os <- ( mini \n",
    "              %>% select(-response, -pfs, -Survival_pfs_event, -Survival_time_to_pfs_event) \n",
    "              %>% rename( event_status = Survival_os_event, \n",
    "                          time_to_event = Survival_time_to_os_event)\n",
    "              %>% select(-Filter_meta_responseMeasured)\n",
    "              %>% drop_na(os))\n",
    "    \n",
    "    ### storage closet ### \n",
    "    eval_closet <- list()\n",
    "    eval_closet[['lr']][['df']] <- xg_lr\n",
    "    eval_closet[['lr']][['gps']] <- apply(data.frame( xg_lr$response, xg_lr$tissue, is.na(xg_lr$tcell)), 1, \n",
    "                                          function(i) paste0(i[1],\"-\",i[2],\"-\",i[3]))\n",
    "\n",
    "    eval_closet[['pfs']][['df']] <- xg_pfs\n",
    "    eval_closet[['pfs']][['gps']] <- apply(data.frame(xg_pfs$event_status, xg_pfs$tissue, is.na(xg_pfs$tcell)), 1, \n",
    "                                           function(i) paste0(i[1],\"-\",i[2],\"-\",i[3]))                                   \n",
    "                                            \n",
    "    eval_closet[['os']][['df']] <- xg_os\n",
    "    eval_closet[['os']][['gps']] <- apply(data.frame(xg_os$event_status, xg_os$tissue, is.na(xg_os$tcell)), 1, \n",
    "                                          function(i) paste0(i[1],\"-\",i[2],\"-\",i[3]))                                                                           \n",
    "    \n",
    "    eval_closet\n",
    "}"
   ]
  },
  {
   "cell_type": "markdown",
   "id": "11",
   "metadata": {},
   "source": [
    "### Run it! Voila"
   ]
  },
  {
   "cell_type": "code",
   "execution_count": null,
   "id": "12",
   "metadata": {},
   "outputs": [],
   "source": [
    "saveRDS( builder(mini), paste0(TMP_DIR, \"xg-eval-prep.Rds\"))"
   ]
  }
 ],
 "metadata": {
  "kernelspec": {
   "display_name": "R",
   "language": "R",
   "name": "ir"
  },
  "language_info": {
   "codemirror_mode": "r",
   "file_extension": ".r",
   "mimetype": "text/x-r-source",
   "name": "R",
   "pygments_lexer": "r",
   "version": "3.6.1"
  }
 },
 "nbformat": 4,
 "nbformat_minor": 5
}
